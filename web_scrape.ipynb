{
 "cells": [
  {
   "cell_type": "code",
   "execution_count": 1,
   "metadata": {},
   "outputs": [
    {
     "name": "stderr",
     "output_type": "stream",
     "text": [
      "/Users/thomassullivan/opt/anaconda3/lib/python3.9/site-packages/scipy/__init__.py:146: UserWarning: A NumPy version >=1.16.5 and <1.23.0 is required for this version of SciPy (detected version 1.26.4\n",
      "  warnings.warn(f\"A NumPy version >={np_minversion} and <{np_maxversion}\"\n"
     ]
    }
   ],
   "source": [
    "import numpy as np\n",
    "import pandas as pd\n",
    "import matplotlib.pyplot as plt\n",
    "import seaborn as sns\n",
    "import requests\n",
    "from bs4 import BeautifulSoup\n",
    "import time\n",
    "import plotly.express as px\n",
    "import plotly.graph_objects as go\n",
    "from plotly.subplots import make_subplots\n",
    "import math"
   ]
  },
  {
   "cell_type": "markdown",
   "metadata": {},
   "source": [
    "### Example of scraping 2024 stats"
   ]
  },
  {
   "cell_type": "code",
   "execution_count": 48,
   "metadata": {},
   "outputs": [
    {
     "data": {
      "text/html": [
       "<div>\n",
       "<style scoped>\n",
       "    .dataframe tbody tr th:only-of-type {\n",
       "        vertical-align: middle;\n",
       "    }\n",
       "\n",
       "    .dataframe tbody tr th {\n",
       "        vertical-align: top;\n",
       "    }\n",
       "\n",
       "    .dataframe thead th {\n",
       "        text-align: right;\n",
       "    }\n",
       "</style>\n",
       "<table border=\"1\" class=\"dataframe\">\n",
       "  <thead>\n",
       "    <tr style=\"text-align: right;\">\n",
       "      <th></th>\n",
       "      <th>Pos</th>\n",
       "      <th>Player</th>\n",
       "      <th>Tm</th>\n",
       "      <th>Age</th>\n",
       "      <th>Yrs</th>\n",
       "      <th>G</th>\n",
       "      <th>GS</th>\n",
       "      <th>Cmp</th>\n",
       "      <th>PsAtt</th>\n",
       "      <th>PsYds</th>\n",
       "      <th>...</th>\n",
       "      <th>Att</th>\n",
       "      <th>RshYds</th>\n",
       "      <th>RshTD</th>\n",
       "      <th>Rec</th>\n",
       "      <th>RecYds</th>\n",
       "      <th>RecTD</th>\n",
       "      <th>Solo</th>\n",
       "      <th>Sk</th>\n",
       "      <th>Int</th>\n",
       "      <th>All-pro teams</th>\n",
       "    </tr>\n",
       "  </thead>\n",
       "  <tbody>\n",
       "    <tr>\n",
       "      <th>0</th>\n",
       "      <td>QB</td>\n",
       "      <td>Lamar Jackson</td>\n",
       "      <td>BAL</td>\n",
       "      <td>27</td>\n",
       "      <td>6</td>\n",
       "      <td>17</td>\n",
       "      <td>17</td>\n",
       "      <td>316</td>\n",
       "      <td>474</td>\n",
       "      <td>4172</td>\n",
       "      <td>...</td>\n",
       "      <td>139</td>\n",
       "      <td>915</td>\n",
       "      <td>4</td>\n",
       "      <td>0</td>\n",
       "      <td>0</td>\n",
       "      <td>0</td>\n",
       "      <td>0</td>\n",
       "      <td>0.0</td>\n",
       "      <td>0</td>\n",
       "      <td>FW: 1st Tm All-Conf., AP: 1st Tm, FW: 1st Tm, ...</td>\n",
       "    </tr>\n",
       "    <tr>\n",
       "      <th>1</th>\n",
       "      <td>QB</td>\n",
       "      <td>Jared Goff</td>\n",
       "      <td>DET</td>\n",
       "      <td>30</td>\n",
       "      <td>8</td>\n",
       "      <td>17</td>\n",
       "      <td>17</td>\n",
       "      <td>390</td>\n",
       "      <td>539</td>\n",
       "      <td>4629</td>\n",
       "      <td>...</td>\n",
       "      <td>35</td>\n",
       "      <td>56</td>\n",
       "      <td>0</td>\n",
       "      <td>1</td>\n",
       "      <td>7</td>\n",
       "      <td>1</td>\n",
       "      <td>0</td>\n",
       "      <td>0.0</td>\n",
       "      <td>0</td>\n",
       "      <td>FW: 1st Tm All-Conf.</td>\n",
       "    </tr>\n",
       "    <tr>\n",
       "      <th>2</th>\n",
       "      <td>QB</td>\n",
       "      <td>Josh Allen</td>\n",
       "      <td>BUF</td>\n",
       "      <td>28</td>\n",
       "      <td>6</td>\n",
       "      <td>17</td>\n",
       "      <td>17</td>\n",
       "      <td>307</td>\n",
       "      <td>483</td>\n",
       "      <td>3731</td>\n",
       "      <td>...</td>\n",
       "      <td>102</td>\n",
       "      <td>531</td>\n",
       "      <td>12</td>\n",
       "      <td>0</td>\n",
       "      <td>7</td>\n",
       "      <td>1</td>\n",
       "      <td>0</td>\n",
       "      <td>0.0</td>\n",
       "      <td>0</td>\n",
       "      <td>AP: 2nd Tm</td>\n",
       "    </tr>\n",
       "    <tr>\n",
       "      <th>3</th>\n",
       "      <td>QB</td>\n",
       "      <td>Joe Burrow</td>\n",
       "      <td>CIN</td>\n",
       "      <td>28</td>\n",
       "      <td>4</td>\n",
       "      <td>17</td>\n",
       "      <td>17</td>\n",
       "      <td>460</td>\n",
       "      <td>652</td>\n",
       "      <td>4918</td>\n",
       "      <td>...</td>\n",
       "      <td>42</td>\n",
       "      <td>201</td>\n",
       "      <td>2</td>\n",
       "      <td>0</td>\n",
       "      <td>0</td>\n",
       "      <td>0</td>\n",
       "      <td>0</td>\n",
       "      <td>0.0</td>\n",
       "      <td>0</td>\n",
       "      <td>PFF: 2nd Tm</td>\n",
       "    </tr>\n",
       "    <tr>\n",
       "      <th>4</th>\n",
       "      <td>RB</td>\n",
       "      <td>Saquon Barkley</td>\n",
       "      <td>PHI</td>\n",
       "      <td>27</td>\n",
       "      <td>6</td>\n",
       "      <td>16</td>\n",
       "      <td>16</td>\n",
       "      <td>0</td>\n",
       "      <td>0</td>\n",
       "      <td>0</td>\n",
       "      <td>...</td>\n",
       "      <td>345</td>\n",
       "      <td>2005</td>\n",
       "      <td>13</td>\n",
       "      <td>33</td>\n",
       "      <td>278</td>\n",
       "      <td>2</td>\n",
       "      <td>0</td>\n",
       "      <td>0.0</td>\n",
       "      <td>0</td>\n",
       "      <td>FW: 1st Tm All-Conf., AP: 1st Tm, FW: 1st Tm, ...</td>\n",
       "    </tr>\n",
       "    <tr>\n",
       "      <th>5</th>\n",
       "      <td>RB</td>\n",
       "      <td>Derrick Henry</td>\n",
       "      <td>BAL</td>\n",
       "      <td>30</td>\n",
       "      <td>8</td>\n",
       "      <td>17</td>\n",
       "      <td>17</td>\n",
       "      <td>0</td>\n",
       "      <td>0</td>\n",
       "      <td>0</td>\n",
       "      <td>...</td>\n",
       "      <td>325</td>\n",
       "      <td>1921</td>\n",
       "      <td>16</td>\n",
       "      <td>19</td>\n",
       "      <td>193</td>\n",
       "      <td>2</td>\n",
       "      <td>0</td>\n",
       "      <td>0.0</td>\n",
       "      <td>0</td>\n",
       "      <td>FW: 1st Tm All-Conf., AP: 2nd Tm, FW: 1st Tm, ...</td>\n",
       "    </tr>\n",
       "    <tr>\n",
       "      <th>6</th>\n",
       "      <td>RB</td>\n",
       "      <td>Jahmyr Gibbs</td>\n",
       "      <td>DET</td>\n",
       "      <td>22</td>\n",
       "      <td>1</td>\n",
       "      <td>17</td>\n",
       "      <td>4</td>\n",
       "      <td>0</td>\n",
       "      <td>0</td>\n",
       "      <td>0</td>\n",
       "      <td>...</td>\n",
       "      <td>250</td>\n",
       "      <td>1412</td>\n",
       "      <td>16</td>\n",
       "      <td>52</td>\n",
       "      <td>517</td>\n",
       "      <td>4</td>\n",
       "      <td>0</td>\n",
       "      <td>0.0</td>\n",
       "      <td>0</td>\n",
       "      <td>FW: 1st Tm All-Conf.</td>\n",
       "    </tr>\n",
       "    <tr>\n",
       "      <th>7</th>\n",
       "      <td>FB</td>\n",
       "      <td>Kyle Juszczyk</td>\n",
       "      <td>SFO</td>\n",
       "      <td>33</td>\n",
       "      <td>11</td>\n",
       "      <td>17</td>\n",
       "      <td>15</td>\n",
       "      <td>0</td>\n",
       "      <td>0</td>\n",
       "      <td>0</td>\n",
       "      <td>...</td>\n",
       "      <td>5</td>\n",
       "      <td>26</td>\n",
       "      <td>1</td>\n",
       "      <td>19</td>\n",
       "      <td>200</td>\n",
       "      <td>2</td>\n",
       "      <td>0</td>\n",
       "      <td>0.0</td>\n",
       "      <td>0</td>\n",
       "      <td>AP: 2nd Tm, NFLPA: 1st Tm</td>\n",
       "    </tr>\n",
       "    <tr>\n",
       "      <th>8</th>\n",
       "      <td>FB</td>\n",
       "      <td>Patrick Ricard</td>\n",
       "      <td>BAL</td>\n",
       "      <td>30</td>\n",
       "      <td>7</td>\n",
       "      <td>17</td>\n",
       "      <td>6</td>\n",
       "      <td>0</td>\n",
       "      <td>0</td>\n",
       "      <td>0</td>\n",
       "      <td>...</td>\n",
       "      <td>0</td>\n",
       "      <td>0</td>\n",
       "      <td>0</td>\n",
       "      <td>3</td>\n",
       "      <td>22</td>\n",
       "      <td>1</td>\n",
       "      <td>0</td>\n",
       "      <td>0.0</td>\n",
       "      <td>0</td>\n",
       "      <td>AP: 1st Tm</td>\n",
       "    </tr>\n",
       "    <tr>\n",
       "      <th>9</th>\n",
       "      <td>WR</td>\n",
       "      <td>Justin Jefferson</td>\n",
       "      <td>MIN</td>\n",
       "      <td>25</td>\n",
       "      <td>4</td>\n",
       "      <td>17</td>\n",
       "      <td>17</td>\n",
       "      <td>1</td>\n",
       "      <td>1</td>\n",
       "      <td>22</td>\n",
       "      <td>...</td>\n",
       "      <td>1</td>\n",
       "      <td>3</td>\n",
       "      <td>0</td>\n",
       "      <td>103</td>\n",
       "      <td>1533</td>\n",
       "      <td>10</td>\n",
       "      <td>0</td>\n",
       "      <td>0.0</td>\n",
       "      <td>0</td>\n",
       "      <td>FW: 1st Tm All-Conf., AP: 1st Tm, FW: 1st Tm, ...</td>\n",
       "    </tr>\n",
       "  </tbody>\n",
       "</table>\n",
       "<p>10 rows × 22 columns</p>\n",
       "</div>"
      ],
      "text/plain": [
       "  Pos            Player   Tm Age Yrs   G  GS  Cmp PsAtt PsYds  ...  Att  \\\n",
       "0  QB     Lamar Jackson  BAL  27   6  17  17  316   474  4172  ...  139   \n",
       "1  QB        Jared Goff  DET  30   8  17  17  390   539  4629  ...   35   \n",
       "2  QB        Josh Allen  BUF  28   6  17  17  307   483  3731  ...  102   \n",
       "3  QB        Joe Burrow  CIN  28   4  17  17  460   652  4918  ...   42   \n",
       "4  RB    Saquon Barkley  PHI  27   6  16  16    0     0     0  ...  345   \n",
       "5  RB     Derrick Henry  BAL  30   8  17  17    0     0     0  ...  325   \n",
       "6  RB      Jahmyr Gibbs  DET  22   1  17   4    0     0     0  ...  250   \n",
       "7  FB     Kyle Juszczyk  SFO  33  11  17  15    0     0     0  ...    5   \n",
       "8  FB    Patrick Ricard  BAL  30   7  17   6    0     0     0  ...    0   \n",
       "9  WR  Justin Jefferson  MIN  25   4  17  17    1     1    22  ...    1   \n",
       "\n",
       "  RshYds RshTD  Rec RecYds RecTD Solo   Sk Int  \\\n",
       "0    915     4    0      0     0    0  0.0   0   \n",
       "1     56     0    1      7     1    0  0.0   0   \n",
       "2    531    12    0      7     1    0  0.0   0   \n",
       "3    201     2    0      0     0    0  0.0   0   \n",
       "4   2005    13   33    278     2    0  0.0   0   \n",
       "5   1921    16   19    193     2    0  0.0   0   \n",
       "6   1412    16   52    517     4    0  0.0   0   \n",
       "7     26     1   19    200     2    0  0.0   0   \n",
       "8      0     0    3     22     1    0  0.0   0   \n",
       "9      3     0  103   1533    10    0  0.0   0   \n",
       "\n",
       "                                       All-pro teams  \n",
       "0  FW: 1st Tm All-Conf., AP: 1st Tm, FW: 1st Tm, ...  \n",
       "1                               FW: 1st Tm All-Conf.  \n",
       "2                                         AP: 2nd Tm  \n",
       "3                                        PFF: 2nd Tm  \n",
       "4  FW: 1st Tm All-Conf., AP: 1st Tm, FW: 1st Tm, ...  \n",
       "5  FW: 1st Tm All-Conf., AP: 2nd Tm, FW: 1st Tm, ...  \n",
       "6                               FW: 1st Tm All-Conf.  \n",
       "7                          AP: 2nd Tm, NFLPA: 1st Tm  \n",
       "8                                         AP: 1st Tm  \n",
       "9  FW: 1st Tm All-Conf., AP: 1st Tm, FW: 1st Tm, ...  \n",
       "\n",
       "[10 rows x 22 columns]"
      ]
     },
     "execution_count": 48,
     "metadata": {},
     "output_type": "execute_result"
    }
   ],
   "source": [
    "# url of 2024 all pro team\n",
    "url = \"https://www.pro-football-reference.com/years/2024/allpro.htm\"\n",
    "response = requests.get(url)\n",
    "\n",
    "# initiate BeautifulSoup html parser\n",
    "soup = BeautifulSoup(response.content, 'html.parser')\n",
    "table = soup.find('table', {'id': 'all_pro'}) # find the appropriate table\n",
    "header_row = table.find_all('tr')[0] # header row is first row of table\n",
    "column_headers = [th.text.strip() for th in header_row.find_all('th')] # strip for specific column title\n",
    "data_rows = table.find_all('tr')[1:] # data for individual rows\n",
    "\n",
    "data = []\n",
    "\n",
    "# iterate through data rows and append data to the list\n",
    "for row in data_rows:\n",
    "    pos = row.find('th').text.strip()  # Extract the position from the <th> element\n",
    "    row_data = [td.text.strip() for td in row.find_all('td')] # all other data points in that row\n",
    "    row_data.insert(0, pos) # add position as first position of list\n",
    "    data.append(row_data) \n",
    "\n",
    "# create a Pandas DataFrame from list\n",
    "df = pd.DataFrame(data, columns=column_headers[:])\n",
    "# rename duplicate column titles\n",
    "df.columns.values[8] = \"PsAtt\"\n",
    "df.columns.values[9] = \"PsYds\"\n",
    "df.columns.values[10] = \"PsTD\"\n",
    "df.columns.values[11] = \"PsInt\"\n",
    "df.columns.values[13] = \"RshYds\"\n",
    "df.columns.values[14] = \"RshTD\"\n",
    "df.columns.values[16] = \"RecYds\"\n",
    "df.columns.values[17] = \"RecTD\"\n",
    "df.fillna(0, inplace=True) # na occurs when a player has 0 years of experience\n",
    "df.head(10)"
   ]
  },
  {
   "cell_type": "code",
   "execution_count": 47,
   "metadata": {},
   "outputs": [
    {
     "name": "stdout",
     "output_type": "stream",
     "text": [
      "<class 'pandas.core.frame.DataFrame'>\n",
      "RangeIndex: 90 entries, 0 to 89\n",
      "Data columns (total 22 columns):\n",
      " #   Column         Non-Null Count  Dtype  \n",
      "---  ------         --------------  -----  \n",
      " 0   Pos            90 non-null     object \n",
      " 1   Player         90 non-null     object \n",
      " 2   Tm             90 non-null     object \n",
      " 3   Age            90 non-null     int64  \n",
      " 4   Yrs            87 non-null     float64\n",
      " 5   G              90 non-null     int64  \n",
      " 6   GS             90 non-null     int64  \n",
      " 7   PsAtt          90 non-null     int64  \n",
      " 8   PsYds          90 non-null     int64  \n",
      " 9   PsTD           90 non-null     int64  \n",
      " 10  PsInt          90 non-null     int64  \n",
      " 11  Int            90 non-null     object \n",
      " 12  RshYds         90 non-null     object \n",
      " 13  RshTD          90 non-null     object \n",
      " 14  TD             90 non-null     object \n",
      " 15  RecYds         90 non-null     object \n",
      " 16  RecTD          90 non-null     object \n",
      " 17  TD             90 non-null     object \n",
      " 18  Solo           90 non-null     object \n",
      " 19  Sk             90 non-null     object \n",
      " 20  Int            90 non-null     object \n",
      " 21  All-pro teams  90 non-null     object \n",
      "dtypes: float64(1), int64(7), object(14)\n",
      "memory usage: 15.6+ KB\n"
     ]
    }
   ],
   "source": [
    "df.info()"
   ]
  },
  {
   "cell_type": "markdown",
   "metadata": {},
   "source": [
    "#### clean up column data types"
   ]
  },
  {
   "cell_type": "code",
   "execution_count": 49,
   "metadata": {},
   "outputs": [
    {
     "name": "stdout",
     "output_type": "stream",
     "text": [
      "<class 'pandas.core.frame.DataFrame'>\n",
      "RangeIndex: 90 entries, 0 to 89\n",
      "Data columns (total 22 columns):\n",
      " #   Column         Non-Null Count  Dtype  \n",
      "---  ------         --------------  -----  \n",
      " 0   Pos            90 non-null     object \n",
      " 1   Player         90 non-null     object \n",
      " 2   Tm             90 non-null     object \n",
      " 3   Age            90 non-null     int64  \n",
      " 4   Yrs            87 non-null     float64\n",
      " 5   G              90 non-null     int64  \n",
      " 6   GS             90 non-null     int64  \n",
      " 7   Cmp            90 non-null     int64  \n",
      " 8   PsAtt          90 non-null     int64  \n",
      " 9   PsYds          90 non-null     int64  \n",
      " 10  PsTD           90 non-null     int64  \n",
      " 11  PsInt          90 non-null     int64  \n",
      " 12  Att            90 non-null     int64  \n",
      " 13  RshYds         90 non-null     int64  \n",
      " 14  RshTD          90 non-null     int64  \n",
      " 15  Rec            90 non-null     int64  \n",
      " 16  RecYds         90 non-null     int64  \n",
      " 17  RecTD          90 non-null     int64  \n",
      " 18  Solo           90 non-null     int64  \n",
      " 19  Sk             90 non-null     float64\n",
      " 20  Int            90 non-null     int64  \n",
      " 21  All-pro teams  90 non-null     object \n",
      "dtypes: float64(2), int64(16), object(4)\n",
      "memory usage: 15.6+ KB\n"
     ]
    }
   ],
   "source": [
    "cat_cols = [\"Pos\", \"Player\", \"Tm\", \"All-pro teams\"] # not converted to ints\n",
    "num_cols = [col for col in df.columns if col not in cat_cols]\n",
    "for col in num_cols:\n",
    "    df[col] = pd.to_numeric(df[col], errors='coerce')\n",
    "df.info()\n"
   ]
  },
  {
   "cell_type": "code",
   "execution_count": 29,
   "metadata": {},
   "outputs": [
    {
     "data": {
      "text/html": [
       "<div>\n",
       "<style scoped>\n",
       "    .dataframe tbody tr th:only-of-type {\n",
       "        vertical-align: middle;\n",
       "    }\n",
       "\n",
       "    .dataframe tbody tr th {\n",
       "        vertical-align: top;\n",
       "    }\n",
       "\n",
       "    .dataframe thead th {\n",
       "        text-align: right;\n",
       "    }\n",
       "</style>\n",
       "<table border=\"1\" class=\"dataframe\">\n",
       "  <thead>\n",
       "    <tr style=\"text-align: right;\">\n",
       "      <th></th>\n",
       "      <th>Player</th>\n",
       "      <th>Tm</th>\n",
       "      <th>Age</th>\n",
       "      <th>Yrs</th>\n",
       "      <th>G</th>\n",
       "      <th>GS</th>\n",
       "      <th>Cmp</th>\n",
       "      <th>PsAtt</th>\n",
       "      <th>PsYds</th>\n",
       "      <th>PsTD</th>\n",
       "      <th>...</th>\n",
       "      <th>Att</th>\n",
       "      <th>RshYds</th>\n",
       "      <th>RshTD</th>\n",
       "      <th>Rec</th>\n",
       "      <th>RecYds</th>\n",
       "      <th>RecTD</th>\n",
       "      <th>Solo</th>\n",
       "      <th>Sk</th>\n",
       "      <th>Int</th>\n",
       "      <th>All-pro teams</th>\n",
       "    </tr>\n",
       "  </thead>\n",
       "  <tbody>\n",
       "    <tr>\n",
       "      <th>85</th>\n",
       "      <td>Derius Davis</td>\n",
       "      <td>LAC</td>\n",
       "      <td>24</td>\n",
       "      <td>1.0</td>\n",
       "      <td>15</td>\n",
       "      <td>2</td>\n",
       "      <td>0</td>\n",
       "      <td>0</td>\n",
       "      <td>0</td>\n",
       "      <td>0</td>\n",
       "      <td>...</td>\n",
       "      <td>12</td>\n",
       "      <td>39</td>\n",
       "      <td>0</td>\n",
       "      <td>13</td>\n",
       "      <td>112</td>\n",
       "      <td>2</td>\n",
       "      <td>0</td>\n",
       "      <td>0.0</td>\n",
       "      <td>0</td>\n",
       "      <td>FW: 1st Tm All-Conf.</td>\n",
       "    </tr>\n",
       "    <tr>\n",
       "      <th>86</th>\n",
       "      <td>Austin Ekeler</td>\n",
       "      <td>WAS</td>\n",
       "      <td>29</td>\n",
       "      <td>7.0</td>\n",
       "      <td>12</td>\n",
       "      <td>6</td>\n",
       "      <td>0</td>\n",
       "      <td>0</td>\n",
       "      <td>0</td>\n",
       "      <td>0</td>\n",
       "      <td>...</td>\n",
       "      <td>77</td>\n",
       "      <td>367</td>\n",
       "      <td>4</td>\n",
       "      <td>35</td>\n",
       "      <td>366</td>\n",
       "      <td>0</td>\n",
       "      <td>0</td>\n",
       "      <td>0.0</td>\n",
       "      <td>0</td>\n",
       "      <td>AP: 2nd Tm</td>\n",
       "    </tr>\n",
       "    <tr>\n",
       "      <th>87</th>\n",
       "      <td>Brenden Schooler</td>\n",
       "      <td>NWE</td>\n",
       "      <td>27</td>\n",
       "      <td>2.0</td>\n",
       "      <td>17</td>\n",
       "      <td>0</td>\n",
       "      <td>0</td>\n",
       "      <td>0</td>\n",
       "      <td>0</td>\n",
       "      <td>0</td>\n",
       "      <td>...</td>\n",
       "      <td>0</td>\n",
       "      <td>0</td>\n",
       "      <td>0</td>\n",
       "      <td>0</td>\n",
       "      <td>0</td>\n",
       "      <td>0</td>\n",
       "      <td>9</td>\n",
       "      <td>2.0</td>\n",
       "      <td>0</td>\n",
       "      <td>FW: 1st Tm All-Conf., AP: 1st Tm, FW: 1st Tm, ...</td>\n",
       "    </tr>\n",
       "    <tr>\n",
       "      <th>88</th>\n",
       "      <td>J.T. Gray</td>\n",
       "      <td>NOR</td>\n",
       "      <td>28</td>\n",
       "      <td>6.0</td>\n",
       "      <td>17</td>\n",
       "      <td>0</td>\n",
       "      <td>0</td>\n",
       "      <td>0</td>\n",
       "      <td>0</td>\n",
       "      <td>0</td>\n",
       "      <td>...</td>\n",
       "      <td>0</td>\n",
       "      <td>0</td>\n",
       "      <td>0</td>\n",
       "      <td>0</td>\n",
       "      <td>0</td>\n",
       "      <td>0</td>\n",
       "      <td>12</td>\n",
       "      <td>0.0</td>\n",
       "      <td>0</td>\n",
       "      <td>FW: 1st Tm All-Conf., AP: 2nd Tm, PFF: 1st Tm</td>\n",
       "    </tr>\n",
       "    <tr>\n",
       "      <th>89</th>\n",
       "      <td>Miles Killebrew</td>\n",
       "      <td>PIT</td>\n",
       "      <td>31</td>\n",
       "      <td>8.0</td>\n",
       "      <td>17</td>\n",
       "      <td>0</td>\n",
       "      <td>0</td>\n",
       "      <td>1</td>\n",
       "      <td>0</td>\n",
       "      <td>0</td>\n",
       "      <td>...</td>\n",
       "      <td>0</td>\n",
       "      <td>0</td>\n",
       "      <td>0</td>\n",
       "      <td>0</td>\n",
       "      <td>0</td>\n",
       "      <td>0</td>\n",
       "      <td>8</td>\n",
       "      <td>0.0</td>\n",
       "      <td>0</td>\n",
       "      <td>NFLPA: 1st Tm</td>\n",
       "    </tr>\n",
       "  </tbody>\n",
       "</table>\n",
       "<p>5 rows × 21 columns</p>\n",
       "</div>"
      ],
      "text/plain": [
       "              Player   Tm  Age  Yrs   G  GS  Cmp  PsAtt  PsYds  PsTD  ...  \\\n",
       "85      Derius Davis  LAC   24  1.0  15   2    0      0      0     0  ...   \n",
       "86     Austin Ekeler  WAS   29  7.0  12   6    0      0      0     0  ...   \n",
       "87  Brenden Schooler  NWE   27  2.0  17   0    0      0      0     0  ...   \n",
       "88         J.T. Gray  NOR   28  6.0  17   0    0      0      0     0  ...   \n",
       "89   Miles Killebrew  PIT   31  8.0  17   0    0      1      0     0  ...   \n",
       "\n",
       "    Att  RshYds  RshTD  Rec  RecYds  RecTD  Solo   Sk  Int  \\\n",
       "85   12      39      0   13     112      2     0  0.0    0   \n",
       "86   77     367      4   35     366      0     0  0.0    0   \n",
       "87    0       0      0    0       0      0     9  2.0    0   \n",
       "88    0       0      0    0       0      0    12  0.0    0   \n",
       "89    0       0      0    0       0      0     8  0.0    0   \n",
       "\n",
       "                                        All-pro teams  \n",
       "85                               FW: 1st Tm All-Conf.  \n",
       "86                                         AP: 2nd Tm  \n",
       "87  FW: 1st Tm All-Conf., AP: 1st Tm, FW: 1st Tm, ...  \n",
       "88      FW: 1st Tm All-Conf., AP: 2nd Tm, PFF: 1st Tm  \n",
       "89                                      NFLPA: 1st Tm  \n",
       "\n",
       "[5 rows x 21 columns]"
      ]
     },
     "execution_count": 29,
     "metadata": {},
     "output_type": "execute_result"
    }
   ],
   "source": [
    "df.tail()"
   ]
  },
  {
   "cell_type": "markdown",
   "metadata": {},
   "source": [
    "### scrape all-pro data from last 25 years"
   ]
  },
  {
   "cell_type": "code",
   "execution_count": 2,
   "metadata": {},
   "outputs": [],
   "source": [
    "def year_scrape(yr):\n",
    "    url = f\"https://www.pro-football-reference.com/years/{yr}/allpro.htm\"\n",
    "    response = requests.get(url)\n",
    "\n",
    "    # initiate BeautifulSoup html parser\n",
    "    soup = BeautifulSoup(response.content, 'html.parser')\n",
    "    table = soup.find('table', {'id': 'all_pro'}) # find the appropriate table\n",
    "    header_row = table.find_all('tr')[0] # header row is first row of table\n",
    "    column_headers = [th.text.strip() for th in header_row.find_all('th')] # strip for specific column title\n",
    "    data_rows = table.find_all('tr')[1:] # data for individual rows\n",
    "\n",
    "    data = []\n",
    "\n",
    "    # iterate through data rows and append data to the list\n",
    "    for row in data_rows:\n",
    "        pos = row.find('th').text.strip()  # Extract the position from the <th> element\n",
    "        row_data = [td.text.strip() for td in row.find_all('td')] # all other data points in that row\n",
    "        row_data.insert(0, pos) # add position as first position of list\n",
    "        data.append(row_data) \n",
    "\n",
    "    # create a Pandas DataFrame from list\n",
    "    df = pd.DataFrame(data, columns=column_headers[:])\n",
    "    # rename duplicate column titles\n",
    "    df.columns.values[8] = \"PsAtt\"\n",
    "    df.columns.values[9] = \"PsYds\"\n",
    "    df.columns.values[10] = \"PsTD\"\n",
    "    df.columns.values[11] = \"PsInt\"\n",
    "    df.columns.values[13] = \"RshYds\"\n",
    "    df.columns.values[14] = \"RshTD\"\n",
    "    df.columns.values[16] = \"RecYds\"\n",
    "    df.columns.values[17] = \"RecTD\"\n",
    "    df.fillna(0, inplace=True) # na occurs when a player has 0 years of experience\n",
    "\n",
    "    cat_cols = [\"Pos\", \"Player\", \"Tm\", \"All-pro teams\"] # not converted to ints\n",
    "    num_cols = [col for col in df.columns if col not in cat_cols]\n",
    "    for col in num_cols:\n",
    "        df[col] = pd.to_numeric(df[col], errors='coerce')\n",
    "    df[\"Year\"] = yr\n",
    "    \n",
    "    return df\n",
    "        "
   ]
  },
  {
   "cell_type": "code",
   "execution_count": 3,
   "metadata": {},
   "outputs": [
    {
     "data": {
      "text/html": [
       "<div>\n",
       "<style scoped>\n",
       "    .dataframe tbody tr th:only-of-type {\n",
       "        vertical-align: middle;\n",
       "    }\n",
       "\n",
       "    .dataframe tbody tr th {\n",
       "        vertical-align: top;\n",
       "    }\n",
       "\n",
       "    .dataframe thead th {\n",
       "        text-align: right;\n",
       "    }\n",
       "</style>\n",
       "<table border=\"1\" class=\"dataframe\">\n",
       "  <thead>\n",
       "    <tr style=\"text-align: right;\">\n",
       "      <th></th>\n",
       "      <th>Pos</th>\n",
       "      <th>Player</th>\n",
       "      <th>Tm</th>\n",
       "      <th>Age</th>\n",
       "      <th>Yrs</th>\n",
       "      <th>G</th>\n",
       "      <th>GS</th>\n",
       "      <th>Cmp</th>\n",
       "      <th>PsAtt</th>\n",
       "      <th>PsYds</th>\n",
       "      <th>...</th>\n",
       "      <th>RshYds</th>\n",
       "      <th>RshTD</th>\n",
       "      <th>Rec</th>\n",
       "      <th>RecYds</th>\n",
       "      <th>RecTD</th>\n",
       "      <th>Solo</th>\n",
       "      <th>Sk</th>\n",
       "      <th>Int</th>\n",
       "      <th>All-pro teams</th>\n",
       "      <th>Year</th>\n",
       "    </tr>\n",
       "  </thead>\n",
       "  <tbody>\n",
       "    <tr>\n",
       "      <th>0</th>\n",
       "      <td>QB</td>\n",
       "      <td>Peyton Manning</td>\n",
       "      <td>IND</td>\n",
       "      <td>24</td>\n",
       "      <td>2.0</td>\n",
       "      <td>16</td>\n",
       "      <td>16</td>\n",
       "      <td>357</td>\n",
       "      <td>571</td>\n",
       "      <td>4413</td>\n",
       "      <td>...</td>\n",
       "      <td>116</td>\n",
       "      <td>1</td>\n",
       "      <td>0</td>\n",
       "      <td>0</td>\n",
       "      <td>0</td>\n",
       "      <td>NaN</td>\n",
       "      <td>0.0</td>\n",
       "      <td>0</td>\n",
       "      <td>AP: 2nd Tm</td>\n",
       "      <td>2000</td>\n",
       "    </tr>\n",
       "    <tr>\n",
       "      <th>1</th>\n",
       "      <td>TE</td>\n",
       "      <td>Frank Wycheck</td>\n",
       "      <td>TEN</td>\n",
       "      <td>29</td>\n",
       "      <td>7.0</td>\n",
       "      <td>16</td>\n",
       "      <td>16</td>\n",
       "      <td>2</td>\n",
       "      <td>2</td>\n",
       "      <td>53</td>\n",
       "      <td>...</td>\n",
       "      <td>0</td>\n",
       "      <td>0</td>\n",
       "      <td>70</td>\n",
       "      <td>636</td>\n",
       "      <td>4</td>\n",
       "      <td>0.0</td>\n",
       "      <td>0.0</td>\n",
       "      <td>0</td>\n",
       "      <td>AP: 2nd Tm</td>\n",
       "      <td>2000</td>\n",
       "    </tr>\n",
       "    <tr>\n",
       "      <th>2</th>\n",
       "      <td>T</td>\n",
       "      <td>Kyle Turley</td>\n",
       "      <td>NOR</td>\n",
       "      <td>25</td>\n",
       "      <td>2.0</td>\n",
       "      <td>16</td>\n",
       "      <td>16</td>\n",
       "      <td>0</td>\n",
       "      <td>0</td>\n",
       "      <td>0</td>\n",
       "      <td>...</td>\n",
       "      <td>0</td>\n",
       "      <td>0</td>\n",
       "      <td>1</td>\n",
       "      <td>16</td>\n",
       "      <td>0</td>\n",
       "      <td>NaN</td>\n",
       "      <td>0.0</td>\n",
       "      <td>0</td>\n",
       "      <td>AP: 1st Tm</td>\n",
       "      <td>2000</td>\n",
       "    </tr>\n",
       "    <tr>\n",
       "      <th>3</th>\n",
       "      <td>G</td>\n",
       "      <td>Ruben Brown</td>\n",
       "      <td>BUF</td>\n",
       "      <td>28</td>\n",
       "      <td>5.0</td>\n",
       "      <td>16</td>\n",
       "      <td>16</td>\n",
       "      <td>0</td>\n",
       "      <td>0</td>\n",
       "      <td>0</td>\n",
       "      <td>...</td>\n",
       "      <td>0</td>\n",
       "      <td>0</td>\n",
       "      <td>0</td>\n",
       "      <td>0</td>\n",
       "      <td>0</td>\n",
       "      <td>0.0</td>\n",
       "      <td>0.0</td>\n",
       "      <td>0</td>\n",
       "      <td>AP: 2nd Tm</td>\n",
       "      <td>2000</td>\n",
       "    </tr>\n",
       "    <tr>\n",
       "      <th>4</th>\n",
       "      <td>C</td>\n",
       "      <td>Kevin Mawae</td>\n",
       "      <td>NYJ</td>\n",
       "      <td>29</td>\n",
       "      <td>6.0</td>\n",
       "      <td>16</td>\n",
       "      <td>16</td>\n",
       "      <td>0</td>\n",
       "      <td>0</td>\n",
       "      <td>0</td>\n",
       "      <td>...</td>\n",
       "      <td>0</td>\n",
       "      <td>0</td>\n",
       "      <td>0</td>\n",
       "      <td>0</td>\n",
       "      <td>0</td>\n",
       "      <td>0.0</td>\n",
       "      <td>0.0</td>\n",
       "      <td>0</td>\n",
       "      <td>AP: 2nd Tm, FW: 1st Tm</td>\n",
       "      <td>2000</td>\n",
       "    </tr>\n",
       "    <tr>\n",
       "      <th>...</th>\n",
       "      <td>...</td>\n",
       "      <td>...</td>\n",
       "      <td>...</td>\n",
       "      <td>...</td>\n",
       "      <td>...</td>\n",
       "      <td>...</td>\n",
       "      <td>...</td>\n",
       "      <td>...</td>\n",
       "      <td>...</td>\n",
       "      <td>...</td>\n",
       "      <td>...</td>\n",
       "      <td>...</td>\n",
       "      <td>...</td>\n",
       "      <td>...</td>\n",
       "      <td>...</td>\n",
       "      <td>...</td>\n",
       "      <td>...</td>\n",
       "      <td>...</td>\n",
       "      <td>...</td>\n",
       "      <td>...</td>\n",
       "      <td>...</td>\n",
       "    </tr>\n",
       "    <tr>\n",
       "      <th>2113</th>\n",
       "      <td>KR</td>\n",
       "      <td>Derius Davis</td>\n",
       "      <td>LAC</td>\n",
       "      <td>24</td>\n",
       "      <td>1.0</td>\n",
       "      <td>15</td>\n",
       "      <td>2</td>\n",
       "      <td>0</td>\n",
       "      <td>0</td>\n",
       "      <td>0</td>\n",
       "      <td>...</td>\n",
       "      <td>39</td>\n",
       "      <td>0</td>\n",
       "      <td>13</td>\n",
       "      <td>112</td>\n",
       "      <td>2</td>\n",
       "      <td>0.0</td>\n",
       "      <td>0.0</td>\n",
       "      <td>0</td>\n",
       "      <td>FW: 1st Tm All-Conf.</td>\n",
       "      <td>2024</td>\n",
       "    </tr>\n",
       "    <tr>\n",
       "      <th>2114</th>\n",
       "      <td>KR</td>\n",
       "      <td>Austin Ekeler</td>\n",
       "      <td>WAS</td>\n",
       "      <td>29</td>\n",
       "      <td>7.0</td>\n",
       "      <td>12</td>\n",
       "      <td>6</td>\n",
       "      <td>0</td>\n",
       "      <td>0</td>\n",
       "      <td>0</td>\n",
       "      <td>...</td>\n",
       "      <td>367</td>\n",
       "      <td>4</td>\n",
       "      <td>35</td>\n",
       "      <td>366</td>\n",
       "      <td>0</td>\n",
       "      <td>0.0</td>\n",
       "      <td>0.0</td>\n",
       "      <td>0</td>\n",
       "      <td>AP: 2nd Tm</td>\n",
       "      <td>2024</td>\n",
       "    </tr>\n",
       "    <tr>\n",
       "      <th>2115</th>\n",
       "      <td>ST</td>\n",
       "      <td>Brenden Schooler</td>\n",
       "      <td>NWE</td>\n",
       "      <td>27</td>\n",
       "      <td>2.0</td>\n",
       "      <td>17</td>\n",
       "      <td>0</td>\n",
       "      <td>0</td>\n",
       "      <td>0</td>\n",
       "      <td>0</td>\n",
       "      <td>...</td>\n",
       "      <td>0</td>\n",
       "      <td>0</td>\n",
       "      <td>0</td>\n",
       "      <td>0</td>\n",
       "      <td>0</td>\n",
       "      <td>9.0</td>\n",
       "      <td>2.0</td>\n",
       "      <td>0</td>\n",
       "      <td>FW: 1st Tm All-Conf., AP: 1st Tm, FW: 1st Tm, ...</td>\n",
       "      <td>2024</td>\n",
       "    </tr>\n",
       "    <tr>\n",
       "      <th>2116</th>\n",
       "      <td>ST</td>\n",
       "      <td>J.T. Gray</td>\n",
       "      <td>NOR</td>\n",
       "      <td>28</td>\n",
       "      <td>6.0</td>\n",
       "      <td>17</td>\n",
       "      <td>0</td>\n",
       "      <td>0</td>\n",
       "      <td>0</td>\n",
       "      <td>0</td>\n",
       "      <td>...</td>\n",
       "      <td>0</td>\n",
       "      <td>0</td>\n",
       "      <td>0</td>\n",
       "      <td>0</td>\n",
       "      <td>0</td>\n",
       "      <td>12.0</td>\n",
       "      <td>0.0</td>\n",
       "      <td>0</td>\n",
       "      <td>FW: 1st Tm All-Conf., AP: 2nd Tm, PFF: 1st Tm</td>\n",
       "      <td>2024</td>\n",
       "    </tr>\n",
       "    <tr>\n",
       "      <th>2117</th>\n",
       "      <td>ST</td>\n",
       "      <td>Miles Killebrew</td>\n",
       "      <td>PIT</td>\n",
       "      <td>31</td>\n",
       "      <td>8.0</td>\n",
       "      <td>17</td>\n",
       "      <td>0</td>\n",
       "      <td>0</td>\n",
       "      <td>1</td>\n",
       "      <td>0</td>\n",
       "      <td>...</td>\n",
       "      <td>0</td>\n",
       "      <td>0</td>\n",
       "      <td>0</td>\n",
       "      <td>0</td>\n",
       "      <td>0</td>\n",
       "      <td>8.0</td>\n",
       "      <td>0.0</td>\n",
       "      <td>0</td>\n",
       "      <td>NFLPA: 1st Tm</td>\n",
       "      <td>2024</td>\n",
       "    </tr>\n",
       "  </tbody>\n",
       "</table>\n",
       "<p>2118 rows × 23 columns</p>\n",
       "</div>"
      ],
      "text/plain": [
       "     Pos            Player   Tm  Age  Yrs   G  GS  Cmp  PsAtt  PsYds  ...  \\\n",
       "0     QB    Peyton Manning  IND   24  2.0  16  16  357    571   4413  ...   \n",
       "1     TE     Frank Wycheck  TEN   29  7.0  16  16    2      2     53  ...   \n",
       "2      T       Kyle Turley  NOR   25  2.0  16  16    0      0      0  ...   \n",
       "3      G       Ruben Brown  BUF   28  5.0  16  16    0      0      0  ...   \n",
       "4      C       Kevin Mawae  NYJ   29  6.0  16  16    0      0      0  ...   \n",
       "...   ..               ...  ...  ...  ...  ..  ..  ...    ...    ...  ...   \n",
       "2113  KR      Derius Davis  LAC   24  1.0  15   2    0      0      0  ...   \n",
       "2114  KR     Austin Ekeler  WAS   29  7.0  12   6    0      0      0  ...   \n",
       "2115  ST  Brenden Schooler  NWE   27  2.0  17   0    0      0      0  ...   \n",
       "2116  ST         J.T. Gray  NOR   28  6.0  17   0    0      0      0  ...   \n",
       "2117  ST   Miles Killebrew  PIT   31  8.0  17   0    0      1      0  ...   \n",
       "\n",
       "      RshYds  RshTD  Rec  RecYds  RecTD  Solo   Sk  Int  \\\n",
       "0        116      1    0       0      0   NaN  0.0    0   \n",
       "1          0      0   70     636      4   0.0  0.0    0   \n",
       "2          0      0    1      16      0   NaN  0.0    0   \n",
       "3          0      0    0       0      0   0.0  0.0    0   \n",
       "4          0      0    0       0      0   0.0  0.0    0   \n",
       "...      ...    ...  ...     ...    ...   ...  ...  ...   \n",
       "2113      39      0   13     112      2   0.0  0.0    0   \n",
       "2114     367      4   35     366      0   0.0  0.0    0   \n",
       "2115       0      0    0       0      0   9.0  2.0    0   \n",
       "2116       0      0    0       0      0  12.0  0.0    0   \n",
       "2117       0      0    0       0      0   8.0  0.0    0   \n",
       "\n",
       "                                          All-pro teams  Year  \n",
       "0                                            AP: 2nd Tm  2000  \n",
       "1                                            AP: 2nd Tm  2000  \n",
       "2                                            AP: 1st Tm  2000  \n",
       "3                                            AP: 2nd Tm  2000  \n",
       "4                                AP: 2nd Tm, FW: 1st Tm  2000  \n",
       "...                                                 ...   ...  \n",
       "2113                               FW: 1st Tm All-Conf.  2024  \n",
       "2114                                         AP: 2nd Tm  2024  \n",
       "2115  FW: 1st Tm All-Conf., AP: 1st Tm, FW: 1st Tm, ...  2024  \n",
       "2116      FW: 1st Tm All-Conf., AP: 2nd Tm, PFF: 1st Tm  2024  \n",
       "2117                                      NFLPA: 1st Tm  2024  \n",
       "\n",
       "[2118 rows x 23 columns]"
      ]
     },
     "execution_count": 3,
     "metadata": {},
     "output_type": "execute_result"
    }
   ],
   "source": [
    "yrs = list(range(2000,2025))\n",
    "df_list = []\n",
    "for year in yrs:\n",
    "    yr_df = year_scrape(year)\n",
    "    df_list.append(yr_df)\n",
    "\n",
    "all_pro_df = pd.concat(df_list, ignore_index=True)\n",
    "\n",
    "all_pro_df"
   ]
  },
  {
   "cell_type": "markdown",
   "metadata": {},
   "source": [
    "#### clean up dataframe for positional analysis"
   ]
  },
  {
   "cell_type": "code",
   "execution_count": 6,
   "metadata": {},
   "outputs": [
    {
     "name": "stdout",
     "output_type": "stream",
     "text": [
      "<class 'pandas.core.frame.DataFrame'>\n",
      "RangeIndex: 2118 entries, 0 to 2117\n",
      "Data columns (total 23 columns):\n",
      " #   Column         Non-Null Count  Dtype  \n",
      "---  ------         --------------  -----  \n",
      " 0   Pos            2118 non-null   object \n",
      " 1   Player         2118 non-null   object \n",
      " 2   Tm             2118 non-null   object \n",
      " 3   Age            2118 non-null   int64  \n",
      " 4   Yrs            2017 non-null   float64\n",
      " 5   G              2118 non-null   int64  \n",
      " 6   GS             2118 non-null   int64  \n",
      " 7   Cmp            2118 non-null   int64  \n",
      " 8   PsAtt          2118 non-null   int64  \n",
      " 9   PsYds          2118 non-null   int64  \n",
      " 10  PsTD           2118 non-null   int64  \n",
      " 11  PsInt          2118 non-null   int64  \n",
      " 12  Att            2118 non-null   int64  \n",
      " 13  RshYds         2118 non-null   int64  \n",
      " 14  RshTD          2118 non-null   int64  \n",
      " 15  Rec            2118 non-null   int64  \n",
      " 16  RecYds         2118 non-null   int64  \n",
      " 17  RecTD          2118 non-null   int64  \n",
      " 18  Solo           2003 non-null   float64\n",
      " 19  Sk             2118 non-null   float64\n",
      " 20  Int            2118 non-null   int64  \n",
      " 21  All-pro teams  2118 non-null   object \n",
      " 22  Year           2118 non-null   int64  \n",
      "dtypes: float64(3), int64(16), object(4)\n",
      "memory usage: 380.7+ KB\n"
     ]
    }
   ],
   "source": [
    "all_pro_df.info()"
   ]
  },
  {
   "cell_type": "code",
   "execution_count": 4,
   "metadata": {},
   "outputs": [
    {
     "data": {
      "text/plain": [
       "array(['QB', 'TE', 'T', 'G', 'C', 'DE', 'DT', 'OLB', 'MLB', 'CB', 'S',\n",
       "       'P', 'RDE', 'RCB', 'WR', 'LG', 'LT', 'K', 'FS', 'RLB', 'RDT', 'SS',\n",
       "       'RB', 'LOLB', 'LDT', 'LCB', 'DB', 'RG', 'LLB', 'LB', 'ILB', 'LDE',\n",
       "       'KR', 'ROLB', 'RT', 'RILB', 'LT/LG', 'FB', 'LILB', 'NT', 'LDT/RDT',\n",
       "       'PR', 'ST', 'PK', 'RET', 'LS', 'EDGE', 'OT', 'FLEX', 'DL',\n",
       "       'FLEX-O', 'FLEX-D'], dtype=object)"
      ]
     },
     "execution_count": 4,
     "metadata": {},
     "output_type": "execute_result"
    }
   ],
   "source": [
    "all_pro_df['Pos'].unique()"
   ]
  },
  {
   "cell_type": "code",
   "execution_count": 5,
   "metadata": {},
   "outputs": [],
   "source": [
    "# clean up position column\n",
    "# dictionary to group similar positions together\n",
    "pos_dict = {\n",
    "    # tackles\n",
    "    'RT': 'T', 'LT': 'T', 'OT': 'T',\n",
    "    # guards\n",
    "    'RG': 'G', 'LG': 'G', 'LT/LG': 'G',\n",
    "    # DT\n",
    "    'RDT': 'DT', 'LDT': 'DT', 'NT': 'DT', 'LDT/RDT': 'DT','DL': 'DT', \n",
    "    # DE/edge\n",
    "    'DE': 'EDGE', 'OLB': 'EDGE', 'RDE': 'EDGE', 'LDE': 'EDGE', 'LOLB': 'EDGE', 'ROLB': 'EDGE',\n",
    "    # linebackers\n",
    "    'MLB': 'LB', 'ILB': 'LB', 'LLB': 'LB', 'RLB': 'LB', 'RILB': 'LB', 'LILB': 'LB',\n",
    "    # safety\n",
    "    'FS': 'S', 'SS': 'S', 'FLEX-D': 'S',\n",
    "    # cornerback\n",
    "    'DB': 'CB', 'RCB': 'CB', 'LCB': 'CB',\n",
    "    # kickers\n",
    "    'PK': 'K',\n",
    "    # returner\n",
    "    'KR': 'RET', 'PR': 'RET',\n",
    "    # cordarrelle patterson \n",
    "    'FLEX-O': 'RB'\n",
    "}\n",
    "# replace to common value in dataframe\n",
    "all_pro_df['Pos'] = all_pro_df['Pos'].replace(pos_dict)\n",
    "# special cases where player's position was FLEX\n",
    "all_pro_df.loc[(all_pro_df['Player'] == 'Christian McCaffrey') & (all_pro_df['Year']==2018), 'Pos'] = 'RB'\n",
    "all_pro_df.loc[(all_pro_df['Player'] == 'Alvin Kamara') & (all_pro_df['Year']==2018), 'Pos'] = 'RB'\n",
    "all_pro_df.loc[(all_pro_df['Player'] == 'Austin Ekeler') & (all_pro_df['Year']==2019), 'Pos'] = 'RB'\n",
    "all_pro_df.loc[(all_pro_df['Player'] == 'Allen Robinson') & (all_pro_df['Year']==2020), 'Pos'] = 'WR'\n",
    "all_pro_df.loc[(all_pro_df['Player'] == 'Puka Nacua') & (all_pro_df['Year']==2024), 'Pos'] = 'WR'\n",
    "all_pro_df.loc[(all_pro_df['Player'] == 'Drake London') & (all_pro_df['Year']==2024), 'Pos'] = 'WR'"
   ]
  },
  {
   "cell_type": "code",
   "execution_count": 6,
   "metadata": {},
   "outputs": [
    {
     "data": {
      "text/plain": [
       "array(['QB', 'TE', 'T', 'G', 'C', 'EDGE', 'DT', 'LB', 'CB', 'S', 'P',\n",
       "       'WR', 'K', 'RB', 'RET', 'FB', 'ST', 'LS'], dtype=object)"
      ]
     },
     "execution_count": 6,
     "metadata": {},
     "output_type": "execute_result"
    }
   ],
   "source": [
    "all_pro_df['Pos'].unique()"
   ]
  },
  {
   "cell_type": "code",
   "execution_count": 7,
   "metadata": {},
   "outputs": [],
   "source": [
    "all_pro_df.to_csv('all_pro_data.csv')"
   ]
  },
  {
   "cell_type": "code",
   "execution_count": 2,
   "metadata": {},
   "outputs": [
    {
     "data": {
      "text/html": [
       "<div>\n",
       "<style scoped>\n",
       "    .dataframe tbody tr th:only-of-type {\n",
       "        vertical-align: middle;\n",
       "    }\n",
       "\n",
       "    .dataframe tbody tr th {\n",
       "        vertical-align: top;\n",
       "    }\n",
       "\n",
       "    .dataframe thead th {\n",
       "        text-align: right;\n",
       "    }\n",
       "</style>\n",
       "<table border=\"1\" class=\"dataframe\">\n",
       "  <thead>\n",
       "    <tr style=\"text-align: right;\">\n",
       "      <th></th>\n",
       "      <th>count</th>\n",
       "      <th>mean</th>\n",
       "      <th>std</th>\n",
       "      <th>min</th>\n",
       "      <th>25%</th>\n",
       "      <th>50%</th>\n",
       "      <th>75%</th>\n",
       "      <th>max</th>\n",
       "    </tr>\n",
       "    <tr>\n",
       "      <th>Pos</th>\n",
       "      <th></th>\n",
       "      <th></th>\n",
       "      <th></th>\n",
       "      <th></th>\n",
       "      <th></th>\n",
       "      <th></th>\n",
       "      <th></th>\n",
       "      <th></th>\n",
       "    </tr>\n",
       "  </thead>\n",
       "  <tbody>\n",
       "    <tr>\n",
       "      <th>RET</th>\n",
       "      <td>96.0</td>\n",
       "      <td>25.583</td>\n",
       "      <td>3.029</td>\n",
       "      <td>21.0</td>\n",
       "      <td>23.0</td>\n",
       "      <td>25.0</td>\n",
       "      <td>28.00</td>\n",
       "      <td>33.0</td>\n",
       "    </tr>\n",
       "    <tr>\n",
       "      <th>CB</th>\n",
       "      <td>176.0</td>\n",
       "      <td>26.693</td>\n",
       "      <td>3.066</td>\n",
       "      <td>21.0</td>\n",
       "      <td>24.0</td>\n",
       "      <td>26.0</td>\n",
       "      <td>29.00</td>\n",
       "      <td>35.0</td>\n",
       "    </tr>\n",
       "    <tr>\n",
       "      <th>RB</th>\n",
       "      <td>135.0</td>\n",
       "      <td>25.615</td>\n",
       "      <td>2.489</td>\n",
       "      <td>21.0</td>\n",
       "      <td>24.0</td>\n",
       "      <td>25.0</td>\n",
       "      <td>27.00</td>\n",
       "      <td>34.0</td>\n",
       "    </tr>\n",
       "    <tr>\n",
       "      <th>ST</th>\n",
       "      <td>83.0</td>\n",
       "      <td>26.867</td>\n",
       "      <td>3.196</td>\n",
       "      <td>21.0</td>\n",
       "      <td>24.5</td>\n",
       "      <td>26.0</td>\n",
       "      <td>29.00</td>\n",
       "      <td>36.0</td>\n",
       "    </tr>\n",
       "    <tr>\n",
       "      <th>S</th>\n",
       "      <td>160.0</td>\n",
       "      <td>27.125</td>\n",
       "      <td>3.209</td>\n",
       "      <td>21.0</td>\n",
       "      <td>25.0</td>\n",
       "      <td>27.0</td>\n",
       "      <td>29.00</td>\n",
       "      <td>39.0</td>\n",
       "    </tr>\n",
       "    <tr>\n",
       "      <th>DT</th>\n",
       "      <td>152.0</td>\n",
       "      <td>27.303</td>\n",
       "      <td>2.812</td>\n",
       "      <td>22.0</td>\n",
       "      <td>25.0</td>\n",
       "      <td>27.0</td>\n",
       "      <td>29.00</td>\n",
       "      <td>35.0</td>\n",
       "    </tr>\n",
       "    <tr>\n",
       "      <th>EDGE</th>\n",
       "      <td>248.0</td>\n",
       "      <td>27.185</td>\n",
       "      <td>2.852</td>\n",
       "      <td>21.0</td>\n",
       "      <td>25.0</td>\n",
       "      <td>27.0</td>\n",
       "      <td>29.00</td>\n",
       "      <td>35.0</td>\n",
       "    </tr>\n",
       "    <tr>\n",
       "      <th>LB</th>\n",
       "      <td>172.0</td>\n",
       "      <td>27.244</td>\n",
       "      <td>3.307</td>\n",
       "      <td>21.0</td>\n",
       "      <td>25.0</td>\n",
       "      <td>27.0</td>\n",
       "      <td>29.00</td>\n",
       "      <td>37.0</td>\n",
       "    </tr>\n",
       "    <tr>\n",
       "      <th>WR</th>\n",
       "      <td>175.0</td>\n",
       "      <td>26.834</td>\n",
       "      <td>3.025</td>\n",
       "      <td>21.0</td>\n",
       "      <td>25.0</td>\n",
       "      <td>27.0</td>\n",
       "      <td>29.00</td>\n",
       "      <td>40.0</td>\n",
       "    </tr>\n",
       "    <tr>\n",
       "      <th>TE</th>\n",
       "      <td>69.0</td>\n",
       "      <td>27.435</td>\n",
       "      <td>3.247</td>\n",
       "      <td>22.0</td>\n",
       "      <td>25.0</td>\n",
       "      <td>27.0</td>\n",
       "      <td>30.00</td>\n",
       "      <td>36.0</td>\n",
       "    </tr>\n",
       "    <tr>\n",
       "      <th>T</th>\n",
       "      <td>161.0</td>\n",
       "      <td>28.050</td>\n",
       "      <td>3.259</td>\n",
       "      <td>21.0</td>\n",
       "      <td>26.0</td>\n",
       "      <td>28.0</td>\n",
       "      <td>30.00</td>\n",
       "      <td>36.0</td>\n",
       "    </tr>\n",
       "    <tr>\n",
       "      <th>G</th>\n",
       "      <td>144.0</td>\n",
       "      <td>28.424</td>\n",
       "      <td>3.072</td>\n",
       "      <td>22.0</td>\n",
       "      <td>26.0</td>\n",
       "      <td>28.0</td>\n",
       "      <td>30.00</td>\n",
       "      <td>39.0</td>\n",
       "    </tr>\n",
       "    <tr>\n",
       "      <th>FB</th>\n",
       "      <td>40.0</td>\n",
       "      <td>29.150</td>\n",
       "      <td>3.585</td>\n",
       "      <td>23.0</td>\n",
       "      <td>26.0</td>\n",
       "      <td>29.0</td>\n",
       "      <td>31.25</td>\n",
       "      <td>37.0</td>\n",
       "    </tr>\n",
       "    <tr>\n",
       "      <th>C</th>\n",
       "      <td>79.0</td>\n",
       "      <td>28.582</td>\n",
       "      <td>3.536</td>\n",
       "      <td>21.0</td>\n",
       "      <td>26.0</td>\n",
       "      <td>29.0</td>\n",
       "      <td>31.00</td>\n",
       "      <td>37.0</td>\n",
       "    </tr>\n",
       "    <tr>\n",
       "      <th>K</th>\n",
       "      <td>71.0</td>\n",
       "      <td>30.056</td>\n",
       "      <td>4.576</td>\n",
       "      <td>22.0</td>\n",
       "      <td>27.0</td>\n",
       "      <td>30.0</td>\n",
       "      <td>32.00</td>\n",
       "      <td>44.0</td>\n",
       "    </tr>\n",
       "    <tr>\n",
       "      <th>P</th>\n",
       "      <td>72.0</td>\n",
       "      <td>28.750</td>\n",
       "      <td>3.179</td>\n",
       "      <td>22.0</td>\n",
       "      <td>27.0</td>\n",
       "      <td>29.0</td>\n",
       "      <td>31.00</td>\n",
       "      <td>36.0</td>\n",
       "    </tr>\n",
       "    <tr>\n",
       "      <th>QB</th>\n",
       "      <td>70.0</td>\n",
       "      <td>30.771</td>\n",
       "      <td>4.798</td>\n",
       "      <td>22.0</td>\n",
       "      <td>27.0</td>\n",
       "      <td>30.0</td>\n",
       "      <td>34.00</td>\n",
       "      <td>44.0</td>\n",
       "    </tr>\n",
       "    <tr>\n",
       "      <th>LS</th>\n",
       "      <td>15.0</td>\n",
       "      <td>31.467</td>\n",
       "      <td>3.563</td>\n",
       "      <td>27.0</td>\n",
       "      <td>28.5</td>\n",
       "      <td>30.0</td>\n",
       "      <td>34.50</td>\n",
       "      <td>37.0</td>\n",
       "    </tr>\n",
       "  </tbody>\n",
       "</table>\n",
       "</div>"
      ],
      "text/plain": [
       "      count    mean    std   min   25%   50%    75%   max\n",
       "Pos                                                      \n",
       "RET    96.0  25.583  3.029  21.0  23.0  25.0  28.00  33.0\n",
       "CB    176.0  26.693  3.066  21.0  24.0  26.0  29.00  35.0\n",
       "RB    135.0  25.615  2.489  21.0  24.0  25.0  27.00  34.0\n",
       "ST     83.0  26.867  3.196  21.0  24.5  26.0  29.00  36.0\n",
       "S     160.0  27.125  3.209  21.0  25.0  27.0  29.00  39.0\n",
       "DT    152.0  27.303  2.812  22.0  25.0  27.0  29.00  35.0\n",
       "EDGE  248.0  27.185  2.852  21.0  25.0  27.0  29.00  35.0\n",
       "LB    172.0  27.244  3.307  21.0  25.0  27.0  29.00  37.0\n",
       "WR    175.0  26.834  3.025  21.0  25.0  27.0  29.00  40.0\n",
       "TE     69.0  27.435  3.247  22.0  25.0  27.0  30.00  36.0\n",
       "T     161.0  28.050  3.259  21.0  26.0  28.0  30.00  36.0\n",
       "G     144.0  28.424  3.072  22.0  26.0  28.0  30.00  39.0\n",
       "FB     40.0  29.150  3.585  23.0  26.0  29.0  31.25  37.0\n",
       "C      79.0  28.582  3.536  21.0  26.0  29.0  31.00  37.0\n",
       "K      71.0  30.056  4.576  22.0  27.0  30.0  32.00  44.0\n",
       "P      72.0  28.750  3.179  22.0  27.0  29.0  31.00  36.0\n",
       "QB     70.0  30.771  4.798  22.0  27.0  30.0  34.00  44.0\n",
       "LS     15.0  31.467  3.563  27.0  28.5  30.0  34.50  37.0"
      ]
     },
     "execution_count": 2,
     "metadata": {},
     "output_type": "execute_result"
    }
   ],
   "source": [
    "# df = all_pro_df\n",
    "df = pd.read_csv('all_pro_data.csv')\n",
    "round(df.groupby('Pos')['Age'].describe().sort_values(by='25%'), 3)"
   ]
  },
  {
   "cell_type": "code",
   "execution_count": 3,
   "metadata": {},
   "outputs": [
    {
     "data": {
      "application/vnd.plotly.v1+json": {
       "config": {
        "plotlyServerURL": "https://plot.ly"
       },
       "data": [
        {
         "alignmentgroup": "True",
         "customdata": [
          [
           "Peyton Manning",
           2000
          ],
          [
           "Frank Wycheck",
           2000
          ],
          [
           "Kyle Turley",
           2000
          ],
          [
           "Ruben Brown",
           2000
          ],
          [
           "Kevin Mawae",
           2000
          ],
          [
           "Rob Burnett",
           2000
          ],
          [
           "Keith Hamilton",
           2000
          ],
          [
           "Jessie Armstead",
           2000
          ],
          [
           "Randall Godfrey",
           2000
          ],
          [
           "Stephen Boyd",
           2000
          ],
          [
           "Sam Cowart",
           2000
          ],
          [
           "Charles Woodson",
           2000
          ],
          [
           "Blaine Bishop",
           2000
          ],
          [
           "Shane Lechler",
           2000
          ],
          [
           "Chris Gardocki",
           2000
          ],
          [
           "Jason Taylor",
           2000
          ],
          [
           "Sam Madison",
           2000
          ],
          [
           "Derrick Mason",
           2000
          ],
          [
           "Bruce Matthews",
           2000
          ],
          [
           "Samari Rolle",
           2000
          ],
          [
           "Randy Moss",
           2000
          ],
          [
           "Jonathan Ogden",
           2000
          ],
          [
           "Matt Stover",
           2000
          ],
          [
           "Darren Sharper",
           2000
          ],
          [
           "Junior Seau",
           2000
          ],
          [
           "Warren Sapp",
           2000
          ],
          [
           "John Lynch",
           2000
          ],
          [
           "Ray Lewis",
           2000
          ],
          [
           "Tony Gonzalez",
           2000
          ],
          [
           "La'Roi Glover",
           2000
          ],
          [
           "Rich Gannon",
           2000
          ],
          [
           "Marshall Faulk",
           2000
          ],
          [
           "Hugh Douglas",
           2000
          ],
          [
           "Derrick Brooks",
           2000
          ],
          [
           "Larry Allen",
           2000
          ],
          [
           "Marvin Harrison",
           2000
          ],
          [
           "Eddie George",
           2000
          ],
          [
           "Tom Nalen",
           2000
          ],
          [
           "Az-Zahir Hakim",
           2000
          ],
          [
           "Orlando Pace",
           2000
          ],
          [
           "Edgerrin James",
           2000
          ],
          [
           "Willie Roaf",
           2000
          ],
          [
           "Michael Bates",
           2000
          ],
          [
           "Darren Bennett",
           2000
          ],
          [
           "Terrell Owens",
           2000
          ],
          [
           "Jeremiah Trotter",
           2000
          ],
          [
           "Mo Lewis",
           2000
          ],
          [
           "Sam Adams",
           2000
          ],
          [
           "Trace Armstrong",
           2000
          ],
          [
           "Champ Bailey",
           2000
          ],
          [
           "Martin Gramatica",
           2000
          ],
          [
           "Chad Lewis",
           2000
          ],
          [
           "Steve Wisniewski",
           2000
          ],
          [
           "Robert Smith",
           2000
          ],
          [
           "Darrick Vaughn",
           2000
          ],
          [
           "Rod Smith",
           2000
          ],
          [
           "Rod Woodson",
           2000
          ],
          [
           "Brad Hopkins",
           2000
          ],
          [
           "Trevor Pryce",
           2000
          ],
          [
           "Scott Player",
           2000
          ],
          [
           "Ron Stone",
           2000
          ],
          [
           "Matt Birk",
           2000
          ],
          [
           "Daunte Culpepper",
           2000
          ],
          [
           "Keith Mitchell",
           2000
          ],
          [
           "Desmond Howard",
           2000
          ],
          [
           "Larry Izzo",
           2000
          ],
          [
           "Joe Johnson",
           2000
          ],
          [
           "Troy Vincent",
           2000
          ],
          [
           "Brock Marion",
           2000
          ],
          [
           "Brett Favre",
           2001
          ],
          [
           "Ernie Conwell",
           2001
          ],
          [
           "James Williams",
           2001
          ],
          [
           "Lincoln Kennedy",
           2001
          ],
          [
           "Adam Timmerman",
           2001
          ],
          [
           "Jeff Hartings",
           2001
          ],
          [
           "Jason Taylor",
           2001
          ],
          [
           "Ted Washington",
           2001
          ],
          [
           "Trevor Pryce",
           2001
          ],
          [
           "Kendrell Bell",
           2001
          ],
          [
           "Zach Thomas",
           2001
          ],
          [
           "Jeremiah Trotter",
           2001
          ],
          [
           "Ronde Barber",
           2001
          ],
          [
           "Charles Woodson",
           2001
          ],
          [
           "Mike Brown",
           2001
          ],
          [
           "Sammy Knight",
           2001
          ],
          [
           "Kevin Mawae",
           2001
          ],
          [
           "Jamir Miller",
           2001
          ],
          [
           "John Abraham",
           2001
          ],
          [
           "Orlando Pace",
           2001
          ],
          [
           "Warren Sapp",
           2001
          ],
          [
           "Todd Sauerbrun",
           2001
          ],
          [
           "Steve Smith Sr.",
           2001
          ],
          [
           "Michael Strahan",
           2001
          ],
          [
           "Brian Urlacher",
           2001
          ],
          [
           "Kurt Warner",
           2001
          ],
          [
           "Aeneas Williams",
           2001
          ],
          [
           "Terrell Owens",
           2001
          ],
          [
           "Tony Gonzalez",
           2001
          ],
          [
           "Marshall Faulk",
           2001
          ],
          [
           "Alan Faneca",
           2001
          ],
          [
           "David Akers",
           2001
          ],
          [
           "Brian Dawkins",
           2001
          ],
          [
           "Larry Allen",
           2001
          ],
          [
           "David Boston",
           2001
          ],
          [
           "Curtis Martin",
           2001
          ],
          [
           "Jonathan Ogden",
           2001
          ],
          [
           "Ray Lewis",
           2001
          ],
          [
           "Jason Gildon",
           2001
          ],
          [
           "Jermaine Lewis",
           2001
          ],
          [
           "John Lynch",
           2001
          ],
          [
           "Troy Brown",
           2001
          ],
          [
           "Sam Adams",
           2001
          ],
          [
           "Larry Whigham",
           2001
          ],
          [
           "Rodney Harrison",
           2001
          ],
          [
           "Priest Holmes",
           2001
          ],
          [
           "Walter Jones",
           2001
          ],
          [
           "Marvin Harrison",
           2001
          ],
          [
           "Sam Madison",
           2001
          ],
          [
           "LaVar Arrington",
           2001
          ],
          [
           "Shane Lechler",
           2001
          ],
          [
           "Derrick Brooks",
           2001
          ],
          [
           "Ray Brown",
           2001
          ],
          [
           "Jason Elam",
           2001
          ],
          [
           "Bryant Young",
           2001
          ],
          [
           "Marcellus Wiley",
           2001
          ],
          [
           "Rod Smith",
           2001
          ],
          [
           "Ahman Green",
           2001
          ],
          [
           "Troy Vincent",
           2001
          ],
          [
           "Ian Gold",
           2001
          ],
          [
           "Will Shields",
           2001
          ],
          [
           "Rich Gannon",
           2001
          ],
          [
           "Olin Kreutz",
           2001
          ],
          [
           "Chris Samuels",
           2001
          ],
          [
           "Darrien Gordon",
           2001
          ],
          [
           "John Randle",
           2001
          ],
          [
           "Robert Porcher",
           2001
          ],
          [
           "Wesley Walls",
           2001
          ],
          [
           "Deltha O'Neal",
           2001
          ],
          [
           "Lawyer Milloy",
           2001
          ],
          [
           "LaDainian Tomlinson",
           2002
          ],
          [
           "Fred Beasley",
           2002
          ],
          [
           "Eric Moulds",
           2002
          ],
          [
           "Jerry Rice",
           2002
          ],
          [
           "Willie Roaf",
           2002
          ],
          [
           "Ruben Brown",
           2002
          ],
          [
           "Barret Robbins",
           2002
          ],
          [
           "Michael Strahan",
           2002
          ],
          [
           "Kris Jenkins",
           2002
          ],
          [
           "Chris Hovan",
           2002
          ],
          [
           "Julian Peterson",
           2002
          ],
          [
           "Donnie Edwards",
           2002
          ],
          [
           "Keith Brooking",
           2002
          ],
          [
           "Ronde Barber",
           2002
          ],
          [
           "John Lynch",
           2002
          ],
          [
           "Dante Hall",
           2002
          ],
          [
           "Todd Sauerbrun",
           2002
          ],
          [
           "Ricky Williams",
           2002
          ],
          [
           "Brian Urlacher",
           2002
          ],
          [
           "Jason Taylor",
           2002
          ],
          [
           "Patrick Surtain",
           2002
          ],
          [
           "Will Shields",
           2002
          ],
          [
           "Warren Sapp",
           2002
          ],
          [
           "Simeon Rice",
           2002
          ],
          [
           "Joey Porter",
           2002
          ],
          [
           "Terrell Owens",
           2002
          ],
          [
           "Jonathan Ogden",
           2002
          ],
          [
           "Derrick Brooks",
           2002
          ],
          [
           "Brian Dawkins",
           2002
          ],
          [
           "Alan Faneca",
           2002
          ],
          [
           "Rich Gannon",
           2002
          ],
          [
           "Michael Lewis",
           2002
          ],
          [
           "Marvin Harrison",
           2002
          ],
          [
           "Priest Holmes",
           2002
          ],
          [
           "La'Roi Glover",
           2002
          ],
          [
           "Tony Gonzalez",
           2002
          ],
          [
           "Kevin Mawae",
           2002
          ],
          [
           "Adam Vinatieri",
           2002
          ],
          [
           "Santana Moss",
           2002
          ],
          [
           "Rod Woodson",
           2002
          ],
          [
           "Darren Sharper",
           2002
          ],
          [
           "Bobby Taylor",
           2002
          ],
          [
           "David Akers",
           2002
          ],
          [
           "Tra Thomas",
           2002
          ],
          [
           "Aaron Glenn",
           2002
          ],
          [
           "Troy Vincent",
           2002
          ],
          [
           "Zach Thomas",
           2002
          ],
          [
           "Lincoln Kennedy",
           2002
          ],
          [
           "Walter Jones",
           2002
          ],
          [
           "Jeremy Shockey",
           2002
          ],
          [
           "Fred McAfee",
           2002
          ],
          [
           "Hines Ward",
           2002
          ],
          [
           "Chris Hanson",
           2002
          ],
          [
           "Keith Bulluck",
           2002
          ],
          [
           "Jermane Mayberry",
           2002
          ],
          [
           "Brett Favre",
           2002
          ],
          [
           "Hugh Douglas",
           2002
          ],
          [
           "Jeremy Newberry",
           2002
          ],
          [
           "LaVar Arrington",
           2002
          ],
          [
           "Tiki Barber",
           2002
          ],
          [
           "Randy Moss",
           2002
          ],
          [
           "Chad Morton",
           2002
          ],
          [
           "Deuce McAllister",
           2002
          ],
          [
           "John Abraham",
           2002
          ],
          [
           "Lance Schulters",
           2002
          ],
          [
           "Richard Seymour",
           2002
          ],
          [
           "Ron Stone",
           2002
          ],
          [
           "Larry Izzo",
           2002
          ],
          [
           "Gary Walker",
           2002
          ],
          [
           "Steve McNair",
           2003
          ],
          [
           "LaDainian Tomlinson",
           2003
          ],
          [
           "Fred Beasley",
           2003
          ],
          [
           "Hines Ward",
           2003
          ],
          [
           "Todd Heap",
           2003
          ],
          [
           "Willie Anderson",
           2003
          ],
          [
           "Simeon Rice",
           2003
          ],
          [
           "Derrick Brooks",
           2003
          ],
          [
           "Zach Thomas",
           2003
          ],
          [
           "Tedy Bruschi",
           2003
          ],
          [
           "Chris McAlister",
           2003
          ],
          [
           "Shane Lechler",
           2003
          ],
          [
           "Torry Holt",
           2003
          ],
          [
           "Jonathan Ogden",
           2003
          ],
          [
           "Richard Seymour",
           2003
          ],
          [
           "Julian Peterson",
           2003
          ],
          [
           "Will Shields",
           2003
          ],
          [
           "Peyton Manning",
           2003
          ],
          [
           "Ray Lewis",
           2003
          ],
          [
           "Jamal Lewis",
           2003
          ],
          [
           "Michael Strahan",
           2003
          ],
          [
           "Steve Hutchinson",
           2003
          ],
          [
           "Priest Holmes",
           2003
          ],
          [
           "Mike Vanderjagt",
           2003
          ],
          [
           "Roy Williams",
           2003
          ],
          [
           "Kris Jenkins",
           2003
          ],
          [
           "Tony Gonzalez",
           2003
          ],
          [
           "Dante Hall",
           2003
          ],
          [
           "Ed Reed",
           2003
          ],
          [
           "Randy Moss",
           2003
          ],
          [
           "Keith Bulluck",
           2003
          ],
          [
           "Willie Roaf",
           2003
          ],
          [
           "Orlando Pace",
           2003
          ],
          [
           "Tom Nalen",
           2003
          ],
          [
           "Leonard Little",
           2003
          ],
          [
           "Ty Law",
           2003
          ],
          [
           "Todd Sauerbrun",
           2003
          ],
          [
           "Jerry Azumah",
           2003
          ],
          [
           "Patrick Surtain",
           2003
          ],
          [
           "Champ Bailey",
           2003
          ],
          [
           "Matt Birk",
           2003
          ],
          [
           "Marvin Harrison",
           2003
          ],
          [
           "Alex Bannister",
           2003
          ],
          [
           "Rodney Harrison",
           2003
          ],
          [
           "LaVar Arrington",
           2003
          ],
          [
           "Marco Rivera",
           2003
          ],
          [
           "Alan Faneca",
           2003
          ],
          [
           "Dwight Freeney",
           2003
          ],
          [
           "La'Roi Glover",
           2003
          ],
          [
           "Jeff Wilkins",
           2003
          ],
          [
           "Chad Johnson",
           2003
          ],
          [
           "Marcus Stroud",
           2003
          ],
          [
           "Dat Nguyen",
           2003
          ],
          [
           "Tony Parrish",
           2003
          ],
          [
           "Brian Westbrook",
           2003
          ],
          [
           "Craig Hentrich",
           2003
          ],
          [
           "Adalius Thomas",
           2003
          ],
          [
           "Ahman Green",
           2003
          ],
          [
           "Walter Jones",
           2003
          ],
          [
           "Brett Favre",
           2003
          ],
          [
           "Takeo Spikes",
           2003
          ],
          [
           "Alge Crumpler",
           2003
          ],
          [
           "Dre' Bly",
           2003
          ],
          [
           "Deuce McAllister",
           2003
          ],
          [
           "Adewale Ogunleye",
           2003
          ],
          [
           "LaDainian Tomlinson",
           2004
          ],
          [
           "William Henderson",
           2004
          ],
          [
           "Tony Richardson",
           2004
          ],
          [
           "Hines Ward",
           2004
          ],
          [
           "Tony Gonzalez",
           2004
          ],
          [
           "Willie Anderson",
           2004
          ],
          [
           "Brian Waters",
           2004
          ],
          [
           "Jeff Hartings",
           2004
          ],
          [
           "Patrick Kerney",
           2004
          ],
          [
           "Jamal Williams",
           2004
          ],
          [
           "Shaun Rogers",
           2004
          ],
          [
           "Ray Lewis",
           2004
          ],
          [
           "Tedy Bruschi",
           2004
          ],
          [
           "Donnie Edwards",
           2004
          ],
          [
           "Ronde Barber",
           2004
          ],
          [
           "Rodney Harrison",
           2004
          ],
          [
           "Brad Maynard",
           2004
          ],
          [
           "Shane Lechler",
           2004
          ],
          [
           "Curtis Martin",
           2004
          ],
          [
           "Terrell Owens",
           2004
          ],
          [
           "Julius Peppers",
           2004
          ],
          [
           "Ed Reed",
           2004
          ],
          [
           "Richard Seymour",
           2004
          ],
          [
           "Kevin Williams",
           2004
          ],
          [
           "Takeo Spikes",
           2004
          ],
          [
           "Adam Vinatieri",
           2004
          ],
          [
           "Peyton Manning",
           2004
          ],
          [
           "Champ Bailey",
           2004
          ],
          [
           "Walter Jones",
           2004
          ],
          [
           "Brian Dawkins",
           2004
          ],
          [
           "Eddie Drummond",
           2004
          ],
          [
           "Antonio Gates",
           2004
          ],
          [
           "Dwight Freeney",
           2004
          ],
          [
           "James Farrior",
           2004
          ],
          [
           "Alan Faneca",
           2004
          ],
          [
           "Terrence McGee",
           2004
          ],
          [
           "Derrick Brooks",
           2004
          ],
          [
           "Muhsin Muhammad",
           2004
          ],
          [
           "Lito Sheppard",
           2004
          ],
          [
           "Willie Roaf",
           2004
          ],
          [
           "Shaun Alexander",
           2004
          ],
          [
           "Marvin Harrison",
           2004
          ],
          [
           "Edgerrin James",
           2004
          ],
          [
           "Chris McAlister",
           2004
          ],
          [
           "Kevin Mawae",
           2004
          ],
          [
           "Larry Izzo",
           2004
          ],
          [
           "Orlando Pace",
           2004
          ],
          [
           "David Akers",
           2004
          ],
          [
           "Will Shields",
           2004
          ],
          [
           "Bertrand Berry",
           2004
          ],
          [
           "Keith Brooking",
           2004
          ],
          [
           "Joey Porter",
           2004
          ],
          [
           "Troy Polamalu",
           2004
          ],
          [
           "Jonathan Ogden",
           2004
          ],
          [
           "Steve Hutchinson",
           2004
          ],
          [
           "Dan Morgan",
           2004
          ],
          [
           "Tiki Barber",
           2004
          ],
          [
           "Mitch Berger",
           2004
          ],
          [
           "Roderick Coleman",
           2004
          ],
          [
           "Daunte Culpepper",
           2004
          ],
          [
           "Chad Johnson",
           2004
          ],
          [
           "Olin Kreutz",
           2004
          ],
          [
           "Michael Lewis",
           2004
          ],
          [
           "Marcus Stroud",
           2004
          ],
          [
           "Ike Reese",
           2004
          ],
          [
           "Marco Rivera",
           2004
          ],
          [
           "B.J. Sams",
           2004
          ],
          [
           "Jason Witten",
           2004
          ],
          [
           "Shawn Springs",
           2004
          ],
          [
           "Tra Thomas",
           2004
          ],
          [
           "Jason Taylor",
           2004
          ],
          [
           "Tom Brady",
           2005
          ],
          [
           "LaDainian Tomlinson",
           2005
          ],
          [
           "Mack Strong",
           2005
          ],
          [
           "Lorenzo Neal",
           2005
          ],
          [
           "Jon Jansen",
           2005
          ],
          [
           "Brian Waters",
           2005
          ],
          [
           "Zach Thomas",
           2005
          ],
          [
           "Mike Peterson",
           2005
          ],
          [
           "Terrence McGee",
           2005
          ],
          [
           "Neil Rackers",
           2005
          ],
          [
           "Chad Johnson",
           2005
          ],
          [
           "Walter Jones",
           2005
          ],
          [
           "Brian Urlacher",
           2005
          ],
          [
           "Steve Hutchinson",
           2005
          ],
          [
           "Peyton Manning",
           2005
          ],
          [
           "Jerome Mathis",
           2005
          ],
          [
           "Brian Moorman",
           2005
          ],
          [
           "Troy Polamalu",
           2005
          ],
          [
           "Dwight Freeney",
           2005
          ],
          [
           "Champ Bailey",
           2005
          ],
          [
           "Shaun Alexander",
           2005
          ],
          [
           "Steve Smith Sr.",
           2005
          ],
          [
           "Alan Faneca",
           2005
          ],
          [
           "Antonio Gates",
           2005
          ],
          [
           "Darren Sharper",
           2005
          ],
          [
           "Olin Kreutz",
           2005
          ],
          [
           "Osi Umenyiora",
           2005
          ],
          [
           "Richard Seymour",
           2005
          ],
          [
           "Lance Briggs",
           2005
          ],
          [
           "Tiki Barber",
           2005
          ],
          [
           "Al Wilson",
           2005
          ],
          [
           "Jamal Williams",
           2005
          ],
          [
           "Willie Anderson",
           2005
          ],
          [
           "Michael Strahan",
           2005
          ],
          [
           "Willie Roaf",
           2005
          ],
          [
           "Cato June",
           2005
          ],
          [
           "Nathan Vasher",
           2005
          ],
          [
           "Deltha O'Neal",
           2005
          ],
          [
           "Roderick Coleman",
           2005
          ],
          [
           "Antwaan Randle El",
           2005
          ],
          [
           "Bob Sanders",
           2005
          ],
          [
           "Jeff Saturday",
           2005
          ],
          [
           "Derrick Brooks",
           2005
          ],
          [
           "Ronde Barber",
           2005
          ],
          [
           "David Tyree",
           2005
          ],
          [
           "Marcus Stroud",
           2005
          ],
          [
           "Shawne Merriman",
           2005
          ],
          [
           "B.J. Sams",
           2005
          ],
          [
           "Josh Bidwell",
           2005
          ],
          [
           "Joey Porter",
           2005
          ],
          [
           "Mike Brown",
           2005
          ],
          [
           "Derrick Burgess",
           2005
          ],
          [
           "Santana Moss",
           2005
          ],
          [
           "Shayne Graham",
           2005
          ],
          [
           "Larry Johnson",
           2005
          ],
          [
           "Will Shields",
           2005
          ],
          [
           "Marvin Harrison",
           2005
          ],
          [
           "Tommie Harris",
           2005
          ],
          [
           "Edgerrin James",
           2005
          ],
          [
           "Chris Cooley",
           2005
          ],
          [
           "Matt Hasselbeck",
           2005
          ],
          [
           "Reno Mahe",
           2005
          ],
          [
           "Hanik Milligan",
           2005
          ],
          [
           "Orlando Pace",
           2005
          ],
          [
           "Mike Wahle",
           2005
          ],
          [
           "Koren Robinson",
           2005
          ],
          [
           "Drew Brees",
           2006
          ],
          [
           "Peyton Manning",
           2006
          ],
          [
           "Larry Johnson",
           2006
          ],
          [
           "LaDainian Tomlinson",
           2006
          ],
          [
           "Steven Jackson",
           2006
          ],
          [
           "Frank Gore",
           2006
          ],
          [
           "Lorenzo Neal",
           2006
          ],
          [
           "Ovie Mughelli",
           2006
          ],
          [
           "Mike Karney",
           2006
          ],
          [
           "Chad Johnson",
           2006
          ],
          [
           "Marvin Harrison",
           2006
          ],
          [
           "Torry Holt",
           2006
          ],
          [
           "Donald Driver",
           2006
          ],
          [
           "Andre Johnson",
           2006
          ],
          [
           "Antonio Gates",
           2006
          ],
          [
           "Alge Crumpler",
           2006
          ],
          [
           "Tony Gonzalez",
           2006
          ],
          [
           "Walter Jones",
           2006
          ],
          [
           "Jammal Brown",
           2006
          ],
          [
           "Jonathan Ogden",
           2006
          ],
          [
           "Willie Anderson",
           2006
          ],
          [
           "Steve Hutchinson",
           2006
          ],
          [
           "Shawn Andrews",
           2006
          ],
          [
           "Alan Faneca",
           2006
          ],
          [
           "Will Shields",
           2006
          ],
          [
           "Olin Kreutz",
           2006
          ],
          [
           "Jeff Saturday",
           2006
          ],
          [
           "Jason Taylor",
           2006
          ],
          [
           "Julius Peppers",
           2006
          ],
          [
           "Aaron Kampman",
           2006
          ],
          [
           "Aaron Schobel",
           2006
          ],
          [
           "Kevin Williams",
           2006
          ],
          [
           "Jamal Williams",
           2006
          ],
          [
           "Richard Seymour",
           2006
          ],
          [
           "Tommie Harris",
           2006
          ],
          [
           "John Henderson",
           2006
          ],
          [
           "Shawne Merriman",
           2006
          ],
          [
           "Adalius Thomas",
           2006
          ],
          [
           "Lance Briggs",
           2006
          ],
          [
           "DeMarcus Ware",
           2006
          ],
          [
           "Al Wilson",
           2006
          ],
          [
           "Bart Scott",
           2006
          ],
          [
           "Brian Urlacher",
           2006
          ],
          [
           "Zach Thomas",
           2006
          ],
          [
           "Champ Bailey",
           2006
          ],
          [
           "Rashean Mathis",
           2006
          ],
          [
           "Lito Sheppard",
           2006
          ],
          [
           "Al Harris",
           2006
          ],
          [
           "Ronde Barber",
           2006
          ],
          [
           "Nnamdi Asomugha",
           2006
          ],
          [
           "Ed Reed",
           2006
          ],
          [
           "Adrian Wilson",
           2006
          ],
          [
           "Brian Dawkins",
           2006
          ],
          [
           "Kerry Rhodes",
           2006
          ],
          [
           "Matt Stover",
           2006
          ],
          [
           "Brian Moorman",
           2006
          ],
          [
           "Mat McBriar",
           2006
          ],
          [
           "Adam Jones",
           2006
          ],
          [
           "Devin Hester",
           2006
          ],
          [
           "Justin Miller",
           2006
          ],
          [
           "Brendon Ayanbadejo",
           2006
          ],
          [
           "Kassim Osgood",
           2006
          ],
          [
           "Robbie Gould",
           2006
          ],
          [
           "Nate Kaeding",
           2006
          ],
          [
           "Tom Brady",
           2007
          ],
          [
           "Brett Favre",
           2007
          ],
          [
           "LaDainian Tomlinson",
           2007
          ],
          [
           "Brian Westbrook",
           2007
          ],
          [
           "Adrian Peterson",
           2007
          ],
          [
           "Willie Parker",
           2007
          ],
          [
           "Fred Taylor",
           2007
          ],
          [
           "Lorenzo Neal",
           2007
          ],
          [
           "Tony Richardson",
           2007
          ],
          [
           "Randy Moss",
           2007
          ],
          [
           "Terrell Owens",
           2007
          ],
          [
           "Braylon Edwards",
           2007
          ],
          [
           "Reggie Wayne",
           2007
          ],
          [
           "Larry Fitzgerald",
           2007
          ],
          [
           "Wes Welker",
           2007
          ],
          [
           "Jason Witten",
           2007
          ],
          [
           "Antonio Gates",
           2007
          ],
          [
           "Tony Gonzalez",
           2007
          ],
          [
           "Walter Jones",
           2007
          ],
          [
           "Matt Light",
           2007
          ],
          [
           "Jason Peters",
           2007
          ],
          [
           "Flozell Adams",
           2007
          ],
          [
           "Steve Hutchinson",
           2007
          ],
          [
           "Logan Mankins",
           2007
          ],
          [
           "Alan Faneca",
           2007
          ],
          [
           "Shawn Andrews",
           2007
          ],
          [
           "Leonard Davis",
           2007
          ],
          [
           "Jeff Saturday",
           2007
          ],
          [
           "Matt Birk",
           2007
          ],
          [
           "Dan Koppen",
           2007
          ],
          [
           "Jared Allen",
           2007
          ],
          [
           "Patrick Kerney",
           2007
          ],
          [
           "Mario Williams",
           2007
          ],
          [
           "Aaron Kampman",
           2007
          ],
          [
           "Kyle Vanden Bosch",
           2007
          ],
          [
           "Kevin Williams",
           2007
          ],
          [
           "Albert Haynesworth",
           2007
          ],
          [
           "Vince Wilfork",
           2007
          ],
          [
           "Pat Williams",
           2007
          ],
          [
           "DeMarcus Ware",
           2007
          ],
          [
           "Mike Vrabel",
           2007
          ],
          [
           "James Harrison",
           2007
          ],
          [
           "Julian Peterson",
           2007
          ],
          [
           "Shawne Merriman",
           2007
          ],
          [
           "Lofa Tatupu",
           2007
          ],
          [
           "Nick Barnett",
           2007
          ],
          [
           "Patrick Willis",
           2007
          ],
          [
           "DeMeco Ryans",
           2007
          ],
          [
           "Asante Samuel",
           2007
          ],
          [
           "Antonio Cromartie",
           2007
          ],
          [
           "Marcus Trufant",
           2007
          ],
          [
           "Al Harris",
           2007
          ],
          [
           "Champ Bailey",
           2007
          ],
          [
           "Bob Sanders",
           2007
          ],
          [
           "Ed Reed",
           2007
          ],
          [
           "Darren Sharper",
           2007
          ],
          [
           "Jermaine Phillips",
           2007
          ],
          [
           "Troy Polamalu",
           2007
          ],
          [
           "Sean Taylor",
           2007
          ],
          [
           "Phil Dawson",
           2007
          ],
          [
           "Andy Lee",
           2007
          ],
          [
           "Shane Lechler",
           2007
          ],
          [
           "Roscoe Parrish",
           2007
          ],
          [
           "Devin Hester",
           2007
          ],
          [
           "Josh Cribbs",
           2007
          ],
          [
           "Kassim Osgood",
           2007
          ],
          [
           "Brendon Ayanbadejo",
           2007
          ],
          [
           "Rob Bironas",
           2007
          ],
          [
           "Kris Brown",
           2007
          ],
          [
           "Keith Bulluck",
           2007
          ],
          [
           "Kevin Mawae",
           2007
          ],
          [
           "Ty Warren",
           2007
          ],
          [
           "Leon Washington",
           2007
          ],
          [
           "Andre Gurode",
           2007
          ],
          [
           "Nick Folk",
           2007
          ],
          [
           "Peyton Manning",
           2008
          ],
          [
           "Drew Brees",
           2008
          ],
          [
           "Michael Turner",
           2008
          ],
          [
           "Adrian Peterson",
           2008
          ],
          [
           "Chris Johnson",
           2008
          ],
          [
           "Thomas Jones",
           2008
          ],
          [
           "DeAngelo Williams",
           2008
          ],
          [
           "Clinton Portis",
           2008
          ],
          [
           "Le'Ron McClain",
           2008
          ],
          [
           "Madison Hedgecock",
           2008
          ],
          [
           "Andre Johnson",
           2008
          ],
          [
           "Larry Fitzgerald",
           2008
          ],
          [
           "Wes Welker",
           2008
          ],
          [
           "Roddy White",
           2008
          ],
          [
           "Steve Smith Sr.",
           2008
          ],
          [
           "Tony Gonzalez",
           2008
          ],
          [
           "Jason Witten",
           2008
          ],
          [
           "Jordan Gross",
           2008
          ],
          [
           "Michael Roos",
           2008
          ],
          [
           "David Diehl",
           2008
          ],
          [
           "Ryan Clady",
           2008
          ],
          [
           "David Stewart",
           2008
          ],
          [
           "Jason Peters",
           2008
          ],
          [
           "Joe Thomas",
           2008
          ],
          [
           "Walter Jones",
           2008
          ],
          [
           "Steve Hutchinson",
           2008
          ],
          [
           "Chris Snee",
           2008
          ],
          [
           "Alan Faneca",
           2008
          ],
          [
           "Kris Dielman",
           2008
          ],
          [
           "Kevin Mawae",
           2008
          ],
          [
           "Shaun O'Hara",
           2008
          ],
          [
           "Justin Tuck",
           2008
          ],
          [
           "John Abraham",
           2008
          ],
          [
           "Mario Williams",
           2008
          ],
          [
           "Julius Peppers",
           2008
          ],
          [
           "Jared Allen",
           2008
          ],
          [
           "Robert Mathis",
           2008
          ],
          [
           "Albert Haynesworth",
           2008
          ],
          [
           "Kevin Williams",
           2008
          ],
          [
           "Kris Jenkins",
           2008
          ],
          [
           "Jay Ratliff",
           2008
          ],
          [
           "Haloti Ngata",
           2008
          ],
          [
           "James Harrison",
           2008
          ],
          [
           "DeMarcus Ware",
           2008
          ],
          [
           "Joey Porter",
           2008
          ],
          [
           "Lance Briggs",
           2008
          ],
          [
           "Terrell Suggs",
           2008
          ],
          [
           "Jon Beason",
           2008
          ],
          [
           "James Farrior",
           2008
          ],
          [
           "Ray Lewis",
           2008
          ],
          [
           "Patrick Willis",
           2008
          ],
          [
           "Nnamdi Asomugha",
           2008
          ],
          [
           "Cortland Finnegan",
           2008
          ],
          [
           "Charles Woodson",
           2008
          ],
          [
           "Antoine Winfield",
           2008
          ],
          [
           "Ed Reed",
           2008
          ],
          [
           "Troy Polamalu",
           2008
          ],
          [
           "Adrian Wilson",
           2008
          ],
          [
           "Nick Collins",
           2008
          ],
          [
           "Quintin Mikell",
           2008
          ],
          [
           "Shane Lechler",
           2008
          ],
          [
           "Donnie Jones",
           2008
          ],
          [
           "Johnnie Lee Higgins",
           2008
          ],
          [
           "Clifton Smith",
           2008
          ],
          [
           "Danieal Manning",
           2008
          ],
          [
           "Leodis McKelvin",
           2008
          ],
          [
           "Leon Washington",
           2008
          ],
          [
           "Brendon Ayanbadejo",
           2008
          ],
          [
           "Sean Morey",
           2008
          ],
          [
           "Stephen Gostkowski",
           2008
          ],
          [
           "Reggie Bush",
           2008
          ],
          [
           "John Carney",
           2008
          ],
          [
           "Peyton Manning",
           2009
          ],
          [
           "Drew Brees",
           2009
          ],
          [
           "Philip Rivers",
           2009
          ],
          [
           "Chris Johnson",
           2009
          ],
          [
           "Adrian Peterson",
           2009
          ],
          [
           "Steven Jackson",
           2009
          ],
          [
           "Maurice Jones-Drew",
           2009
          ],
          [
           "Ray Rice",
           2009
          ],
          [
           "Leonard Weaver",
           2009
          ],
          [
           "Lousaka Polite",
           2009
          ],
          [
           "Le'Ron McClain",
           2009
          ],
          [
           "Andre Johnson",
           2009
          ],
          [
           "Wes Welker",
           2009
          ],
          [
           "Larry Fitzgerald",
           2009
          ],
          [
           "Reggie Wayne",
           2009
          ],
          [
           "Vincent Jackson",
           2009
          ],
          [
           "Sidney Rice",
           2009
          ],
          [
           "Dallas Clark",
           2009
          ],
          [
           "Jason Witten",
           2009
          ],
          [
           "Vernon Davis",
           2009
          ],
          [
           "Antonio Gates",
           2009
          ],
          [
           "Joe Thomas",
           2009
          ],
          [
           "Ryan Clady",
           2009
          ],
          [
           "Jake Long",
           2009
          ],
          [
           "Jason Peters",
           2009
          ],
          [
           "Jon Stinchcomb",
           2009
          ],
          [
           "Michael Roos",
           2009
          ],
          [
           "Carl Nicks",
           2009
          ],
          [
           "Jahri Evans",
           2009
          ],
          [
           "Steve Hutchinson",
           2009
          ],
          [
           "Logan Mankins",
           2009
          ],
          [
           "Alan Faneca",
           2009
          ],
          [
           "Kris Dielman",
           2009
          ],
          [
           "Nick Mangold",
           2009
          ],
          [
           "Andre Gurode",
           2009
          ],
          [
           "Ryan Kalil",
           2009
          ],
          [
           "Steve Neal",
           2009
          ],
          [
           "Damien Woody",
           2009
          ],
          [
           "David Stewart",
           2009
          ],
          [
           "Dwight Freeney",
           2009
          ],
          [
           "Jared Allen",
           2009
          ],
          [
           "Justin Smith",
           2009
          ],
          [
           "Trent Cole",
           2009
          ],
          [
           "Mario Williams",
           2009
          ],
          [
           "Julius Peppers",
           2009
          ],
          [
           "Robert Mathis",
           2009
          ],
          [
           "Kevin Williams",
           2009
          ],
          [
           "Haloti Ngata",
           2009
          ],
          [
           "Jay Ratliff",
           2009
          ],
          [
           "Darnell Dockett",
           2009
          ],
          [
           "Jonathan Babineaux",
           2009
          ],
          [
           "Vince Wilfork",
           2009
          ],
          [
           "Kelly Gregg",
           2009
          ],
          [
           "Albert Haynesworth",
           2009
          ],
          [
           "DeMarcus Ware",
           2009
          ],
          [
           "Elvis Dumervil",
           2009
          ],
          [
           "LaMarr Woodley",
           2009
          ],
          [
           "Lance Briggs",
           2009
          ],
          [
           "Brian Cushing",
           2009
          ],
          [
           "James Harrison",
           2009
          ],
          [
           "Anthony Spencer",
           2009
          ],
          [
           "Daryl Smith",
           2009
          ],
          [
           "Jon Beason",
           2009
          ],
          [
           "David Harris",
           2009
          ],
          [
           "Patrick Willis",
           2009
          ],
          [
           "Ray Lewis",
           2009
          ],
          [
           "Darrelle Revis",
           2009
          ],
          [
           "Charles Woodson",
           2009
          ],
          [
           "Asante Samuel",
           2009
          ],
          [
           "Nnamdi Asomugha",
           2009
          ],
          [
           "Leon Hall",
           2009
          ],
          [
           "Dominique Rodgers-Cromartie",
           2009
          ],
          [
           "George Wilson",
           2009
          ],
          [
           "Reed Doughty",
           2009
          ],
          [
           "Darren Sharper",
           2009
          ],
          [
           "Adrian Wilson",
           2009
          ],
          [
           "Brian Dawkins",
           2009
          ],
          [
           "Ed Reed",
           2009
          ],
          [
           "Jairus Byrd",
           2009
          ],
          [
           "Nick Collins",
           2009
          ],
          [
           "Sebastian Janikowski",
           2009
          ],
          [
           "Rob Bironas",
           2009
          ],
          [
           "Shane Lechler",
           2009
          ],
          [
           "Andy Lee",
           2009
          ],
          [
           "Donnie Jones",
           2009
          ],
          [
           "Ben Graham",
           2009
          ],
          [
           "DeSean Jackson",
           2009
          ],
          [
           "Josh Cribbs",
           2009
          ],
          [
           "Percy Harvin",
           2009
          ],
          [
           "Stefan Logan",
           2009
          ],
          [
           "Kassim Osgood",
           2009
          ],
          [
           "Tim Shaw",
           2009
          ],
          [
           "Heath Farwell",
           2009
          ],
          [
           "Kroy Biermann",
           2009
          ],
          [
           "Nate Kaeding",
           2009
          ],
          [
           "David Akers",
           2009
          ],
          [
           "Patrick Crayton",
           2009
          ],
          [
           "Brandon Marshall",
           2009
          ],
          [
           "Jeff Saturday",
           2009
          ],
          [
           "Chris Snee",
           2009
          ],
          [
           "Tom Brady",
           2010
          ],
          [
           "Matt Ryan",
           2010
          ],
          [
           "Michael Vick",
           2010
          ],
          [
           "Aaron Rodgers",
           2010
          ],
          [
           "Jamaal Charles",
           2010
          ],
          [
           "Arian Foster",
           2010
          ],
          [
           "Maurice Jones-Drew",
           2010
          ],
          [
           "Adrian Peterson",
           2010
          ],
          [
           "Michael Turner",
           2010
          ],
          [
           "Ovie Mughelli",
           2010
          ],
          [
           "Vonta Leach",
           2010
          ],
          [
           "Greg Jones",
           2010
          ],
          [
           "Roddy White",
           2010
          ],
          [
           "Andre Johnson",
           2010
          ],
          [
           "Reggie Wayne",
           2010
          ],
          [
           "Brandon Lloyd",
           2010
          ],
          [
           "Calvin Johnson",
           2010
          ],
          [
           "Dwayne Bowe",
           2010
          ],
          [
           "Jason Witten",
           2010
          ],
          [
           "Antonio Gates",
           2010
          ],
          [
           "Marcedes Lewis",
           2010
          ],
          [
           "Andrew Whitworth",
           2010
          ],
          [
           "Jake Long",
           2010
          ],
          [
           "Joe Thomas",
           2010
          ],
          [
           "Jason Peters",
           2010
          ],
          [
           "Jordan Gross",
           2010
          ],
          [
           "Sebastian Vollmer",
           2010
          ],
          [
           "Wade Smith",
           2010
          ],
          [
           "Jahri Evans",
           2010
          ],
          [
           "Chris Snee",
           2010
          ],
          [
           "Carl Nicks",
           2010
          ],
          [
           "Logan Mankins",
           2010
          ],
          [
           "Kris Dielman",
           2010
          ],
          [
           "Brian Waters",
           2010
          ],
          [
           "Nick Mangold",
           2010
          ],
          [
           "Matt Birk",
           2010
          ],
          [
           "Scott Wells",
           2010
          ],
          [
           "Maurkice Pouncey",
           2010
          ],
          [
           "Josh Sitton",
           2010
          ],
          [
           "Harvey Dahl",
           2010
          ],
          [
           "Kareem McKenzie",
           2010
          ],
          [
           "Marshal Yanda",
           2010
          ],
          [
           "Julius Peppers",
           2010
          ],
          [
           "John Abraham",
           2010
          ],
          [
           "Justin Tuck",
           2010
          ],
          [
           "Trent Cole",
           2010
          ],
          [
           "Justin Smith",
           2010
          ],
          [
           "Dwight Freeney",
           2010
          ],
          [
           "Robert Mathis",
           2010
          ],
          [
           "Osi Umenyiora",
           2010
          ],
          [
           "Charles Johnson",
           2010
          ],
          [
           "Haloti Ngata",
           2010
          ],
          [
           "Ndamukong Suh",
           2010
          ],
          [
           "Kyle Williams",
           2010
          ],
          [
           "Vince Wilfork",
           2010
          ],
          [
           "B.J. Raji",
           2010
          ],
          [
           "Antonio Garay",
           2010
          ],
          [
           "Kevin Williams",
           2010
          ],
          [
           "James Harrison",
           2010
          ],
          [
           "Clay Matthews",
           2010
          ],
          [
           "Cameron Wake",
           2010
          ],
          [
           "Tamba Hali",
           2010
          ],
          [
           "DeMarcus Ware",
           2010
          ],
          [
           "Patrick Willis",
           2010
          ],
          [
           "Lawrence Timmons",
           2010
          ],
          [
           "Ray Lewis",
           2010
          ],
          [
           "Jerod Mayo",
           2010
          ],
          [
           "Brian Urlacher",
           2010
          ],
          [
           "Darrelle Revis",
           2010
          ],
          [
           "Asante Samuel",
           2010
          ],
          [
           "Nnamdi Asomugha",
           2010
          ],
          [
           "Devin McCourty",
           2010
          ],
          [
           "Champ Bailey",
           2010
          ],
          [
           "Brandon Flowers",
           2010
          ],
          [
           "Tramon Williams",
           2010
          ],
          [
           "Charles Woodson",
           2010
          ],
          [
           "Antoine Winfield",
           2010
          ],
          [
           "Troy Polamalu",
           2010
          ],
          [
           "Ed Reed",
           2010
          ],
          [
           "Michael Huff",
           2010
          ],
          [
           "Quintin Mikell",
           2010
          ],
          [
           "Nick Collins",
           2010
          ],
          [
           "Antrel Rolle",
           2010
          ],
          [
           "Eric Weddle",
           2010
          ],
          [
           "Michael Griffin",
           2010
          ],
          [
           "Chris Harris",
           2010
          ],
          [
           "Malcolm Jenkins",
           2010
          ],
          [
           "Darren Sharper",
           2010
          ],
          [
           "David Akers",
           2010
          ],
          [
           "Rob Bironas",
           2010
          ],
          [
           "Shane Lechler",
           2010
          ],
          [
           "Mat McBriar",
           2010
          ],
          [
           "Devin Hester",
           2010
          ],
          [
           "Marc Mariani",
           2010
          ],
          [
           "Leon Washington",
           2010
          ],
          [
           "Brad Smith",
           2010
          ],
          [
           "Eric Weems",
           2010
          ],
          [
           "Corey Graham",
           2010
          ],
          [
           "Montell Owens",
           2010
          ],
          [
           "T.J. Ward",
           2010
          ],
          [
           "Billy Cundiff",
           2010
          ],
          [
           "Matt Bryant",
           2010
          ],
          [
           "Aaron Rodgers",
           2011
          ],
          [
           "Tom Brady",
           2011
          ],
          [
           "Drew Brees",
           2011
          ],
          [
           "Maurice Jones-Drew",
           2011
          ],
          [
           "LeSean McCoy",
           2011
          ],
          [
           "Ray Rice",
           2011
          ],
          [
           "Marshawn Lynch",
           2011
          ],
          [
           "Arian Foster",
           2011
          ],
          [
           "Vonta Leach",
           2011
          ],
          [
           "John Kuhn",
           2011
          ],
          [
           "Jed Collins",
           2011
          ],
          [
           "Wes Welker",
           2011
          ],
          [
           "Calvin Johnson",
           2011
          ],
          [
           "Larry Fitzgerald",
           2011
          ],
          [
           "Victor Cruz",
           2011
          ],
          [
           "Mike Wallace",
           2011
          ],
          [
           "Jordy Nelson",
           2011
          ],
          [
           "Steve Smith Sr.",
           2011
          ],
          [
           "Rob Gronkowski",
           2011
          ],
          [
           "Jimmy Graham",
           2011
          ],
          [
           "Jason Peters",
           2011
          ],
          [
           "Joe Thomas",
           2011
          ],
          [
           "Michael Roos",
           2011
          ],
          [
           "Duane Brown",
           2011
          ],
          [
           "Joe Staley",
           2011
          ],
          [
           "Evan Mathis",
           2011
          ],
          [
           "Carl Nicks",
           2011
          ],
          [
           "Jahri Evans",
           2011
          ],
          [
           "Marshal Yanda",
           2011
          ],
          [
           "Brian Waters",
           2011
          ],
          [
           "Logan Mankins",
           2011
          ],
          [
           "Maurkice Pouncey",
           2011
          ],
          [
           "Nick Mangold",
           2011
          ],
          [
           "Chris Myers",
           2011
          ],
          [
           "Ryan Kalil",
           2011
          ],
          [
           "Josh Sitton",
           2011
          ],
          [
           "Tyron Smith",
           2011
          ],
          [
           "Bryan Bulaga",
           2011
          ],
          [
           "Jared Allen",
           2011
          ],
          [
           "Jason Pierre-Paul",
           2011
          ],
          [
           "Jason Babin",
           2011
          ],
          [
           "Ray McDonald",
           2011
          ],
          [
           "Andre Carter",
           2011
          ],
          [
           "Elvis Dumervil",
           2011
          ],
          [
           "J.J. Watt",
           2011
          ],
          [
           "Trent Cole",
           2011
          ],
          [
           "Calais Campbell",
           2011
          ],
          [
           "Justin Smith",
           2011
          ],
          [
           "Haloti Ngata",
           2011
          ],
          [
           "Geno Atkins",
           2011
          ],
          [
           "Ndamukong Suh",
           2011
          ],
          [
           "Brodrick Bunkley",
           2011
          ],
          [
           "Vince Wilfork",
           2011
          ],
          [
           "Jay Ratliff",
           2011
          ],
          [
           "Richard Seymour",
           2011
          ],
          [
           "Alan Branch",
           2011
          ],
          [
           "Sione Pouha",
           2011
          ],
          [
           "DeMarcus Ware",
           2011
          ],
          [
           "Terrell Suggs",
           2011
          ],
          [
           "Von Miller",
           2011
          ],
          [
           "Cameron Wake",
           2011
          ],
          [
           "Daryl Smith",
           2011
          ],
          [
           "Clay Matthews",
           2011
          ],
          [
           "Tamba Hali",
           2011
          ],
          [
           "Erin Henderson",
           2011
          ],
          [
           "Sean Weatherspoon",
           2011
          ],
          [
           "NaVorro Bowman",
           2011
          ],
          [
           "Derrick Johnson",
           2011
          ],
          [
           "Ray Lewis",
           2011
          ],
          [
           "Stephen Tulloch",
           2011
          ],
          [
           "London Fletcher",
           2011
          ],
          [
           "Patrick Willis",
           2011
          ],
          [
           "Brian Cushing",
           2011
          ],
          [
           "Darrelle Revis",
           2011
          ],
          [
           "Johnathan Joseph",
           2011
          ],
          [
           "Charles Woodson",
           2011
          ],
          [
           "Cortland Finnegan",
           2011
          ],
          [
           "Carlos Rogers",
           2011
          ],
          [
           "Lardarius Webb",
           2011
          ],
          [
           "Chris Gamble",
           2011
          ],
          [
           "Adrian Wilson",
           2011
          ],
          [
           "Jairus Byrd",
           2011
          ],
          [
           "Troy Polamalu",
           2011
          ],
          [
           "Eric Weddle",
           2011
          ],
          [
           "Earl Thomas",
           2011
          ],
          [
           "Ed Reed",
           2011
          ],
          [
           "Dashon Goldson",
           2011
          ],
          [
           "Andy Lee",
           2011
          ],
          [
           "Shane Lechler",
           2011
          ],
          [
           "Patrick Peterson",
           2011
          ],
          [
           "Josh Cribbs",
           2011
          ],
          [
           "Joe McKnight",
           2011
          ],
          [
           "Darren Sproles",
           2011
          ],
          [
           "Devin Hester",
           2011
          ],
          [
           "Matthew Slater",
           2011
          ],
          [
           "Heath Farwell",
           2011
          ],
          [
           "Corey Graham",
           2011
          ],
          [
           "David Akers",
           2011
          ],
          [
           "Sebastian Janikowski",
           2011
          ],
          [
           "Peyton Manning",
           2012
          ],
          [
           "Tom Brady",
           2012
          ],
          [
           "Aaron Rodgers",
           2012
          ],
          [
           "Adrian Peterson",
           2012
          ],
          [
           "Marshawn Lynch",
           2012
          ],
          [
           "Arian Foster",
           2012
          ],
          [
           "Jamaal Charles",
           2012
          ],
          [
           "C.J. Spiller",
           2012
          ],
          [
           "Alfred Morris",
           2012
          ],
          [
           "Vonta Leach",
           2012
          ],
          [
           "Marcel Reece",
           2012
          ],
          [
           "Jerome Felton",
           2012
          ],
          [
           "Calvin Johnson",
           2012
          ],
          [
           "Brandon Marshall",
           2012
          ],
          [
           "Andre Johnson",
           2012
          ],
          [
           "Reggie Wayne",
           2012
          ],
          [
           "A.J. Green",
           2012
          ],
          [
           "Vincent Jackson",
           2012
          ],
          [
           "Rob Gronkowski",
           2012
          ],
          [
           "Jason Witten",
           2012
          ],
          [
           "Tony Gonzalez",
           2012
          ],
          [
           "Ryan Clady",
           2012
          ],
          [
           "Duane Brown",
           2012
          ],
          [
           "Joe Thomas",
           2012
          ],
          [
           "Joe Staley",
           2012
          ],
          [
           "Russell Okung",
           2012
          ],
          [
           "Evan Mathis",
           2012
          ],
          [
           "Mike Iupati",
           2012
          ],
          [
           "Marshal Yanda",
           2012
          ],
          [
           "Jahri Evans",
           2012
          ],
          [
           "Logan Mankins",
           2012
          ],
          [
           "John Sullivan",
           2012
          ],
          [
           "Maurkice Pouncey",
           2012
          ],
          [
           "Max Unger",
           2012
          ],
          [
           "Chris Myers",
           2012
          ],
          [
           "Alex Boone",
           2012
          ],
          [
           "Andre Smith",
           2012
          ],
          [
           "Sebastian Vollmer",
           2012
          ],
          [
           "J.J. Watt",
           2012
          ],
          [
           "Cameron Wake",
           2012
          ],
          [
           "Julius Peppers",
           2012
          ],
          [
           "Jared Allen",
           2012
          ],
          [
           "Geno Atkins",
           2012
          ],
          [
           "Vince Wilfork",
           2012
          ],
          [
           "Justin Smith",
           2012
          ],
          [
           "Gerald McCoy",
           2012
          ],
          [
           "Muhammad Wilkerson",
           2012
          ],
          [
           "Ndamukong Suh",
           2012
          ],
          [
           "Haloti Ngata",
           2012
          ],
          [
           "Von Miller",
           2012
          ],
          [
           "Aldon Smith",
           2012
          ],
          [
           "Jerod Mayo",
           2012
          ],
          [
           "DeMarcus Ware",
           2012
          ],
          [
           "Clay Matthews",
           2012
          ],
          [
           "Kevin Burnett",
           2012
          ],
          [
           "Ahmad Brooks",
           2012
          ],
          [
           "Chad Greenway",
           2012
          ],
          [
           "NaVorro Bowman",
           2012
          ],
          [
           "Daryl Washington",
           2012
          ],
          [
           "London Fletcher",
           2012
          ],
          [
           "Bobby Wagner",
           2012
          ],
          [
           "Patrick Willis",
           2012
          ],
          [
           "Derrick Johnson",
           2012
          ],
          [
           "Charles Tillman",
           2012
          ],
          [
           "Richard Sherman",
           2012
          ],
          [
           "Casey Hayward",
           2012
          ],
          [
           "Champ Bailey",
           2012
          ],
          [
           "Antonio Cromartie",
           2012
          ],
          [
           "Tim Jennings",
           2012
          ],
          [
           "Antoine Winfield",
           2012
          ],
          [
           "Reshad Jones",
           2012
          ],
          [
           "Devin McCourty",
           2012
          ],
          [
           "Earl Thomas",
           2012
          ],
          [
           "Jairus Byrd",
           2012
          ],
          [
           "Eric Weddle",
           2012
          ],
          [
           "Dashon Goldson",
           2012
          ],
          [
           "Andy Lee",
           2012
          ],
          [
           "Thomas Morstead",
           2012
          ],
          [
           "Dustin Colquitt",
           2012
          ],
          [
           "Leodis McKelvin",
           2012
          ],
          [
           "Dwayne Harris",
           2012
          ],
          [
           "Jacoby Jones",
           2012
          ],
          [
           "Leon Washington",
           2012
          ],
          [
           "David Wilson",
           2012
          ],
          [
           "Matthew Slater",
           2012
          ],
          [
           "Ashlee Palmer",
           2012
          ],
          [
           "Lorenzo Alexander",
           2012
          ],
          [
           "Johnson Bademosi",
           2012
          ],
          [
           "Blair Walsh",
           2012
          ],
          [
           "Phil Dawson",
           2012
          ],
          [
           "Peyton Manning",
           2013
          ],
          [
           "Drew Brees",
           2013
          ],
          [
           "Philip Rivers",
           2013
          ],
          [
           "LeSean McCoy",
           2013
          ],
          [
           "Jamaal Charles",
           2013
          ],
          [
           "Ryan Mathews",
           2013
          ],
          [
           "Matt Forte",
           2013
          ],
          [
           "Eddie Lacy",
           2013
          ],
          [
           "Adrian Peterson",
           2013
          ],
          [
           "Mike Tolbert",
           2013
          ],
          [
           "Anthony Sherman",
           2013
          ],
          [
           "Marcel Reece",
           2013
          ],
          [
           "Calvin Johnson",
           2013
          ],
          [
           "Josh Gordon",
           2013
          ],
          [
           "Antonio Brown",
           2013
          ],
          [
           "Brandon Marshall",
           2013
          ],
          [
           "Jordy Nelson",
           2013
          ],
          [
           "Demaryius Thomas",
           2013
          ],
          [
           "Anquan Boldin",
           2013
          ],
          [
           "Andre Johnson",
           2013
          ],
          [
           "A.J. Green",
           2013
          ],
          [
           "Jimmy Graham",
           2013
          ],
          [
           "Jordan Cameron",
           2013
          ],
          [
           "Vernon Davis",
           2013
          ],
          [
           "Trent Williams",
           2013
          ],
          [
           "Joe Thomas",
           2013
          ],
          [
           "Joe Staley",
           2013
          ],
          [
           "Jason Peters",
           2013
          ],
          [
           "Tyron Smith",
           2013
          ],
          [
           "Branden Albert",
           2013
          ],
          [
           "Evan Mathis",
           2013
          ],
          [
           "Louis Vasquez",
           2013
          ],
          [
           "Logan Mankins",
           2013
          ],
          [
           "Marshal Yanda",
           2013
          ],
          [
           "Josh Sitton",
           2013
          ],
          [
           "Jahri Evans",
           2013
          ],
          [
           "Ryan Kalil",
           2013
          ],
          [
           "Alex Mack",
           2013
          ],
          [
           "Jason Kelce",
           2013
          ],
          [
           "Larry Warford",
           2013
          ],
          [
           "Phil Loadholt",
           2013
          ],
          [
           "Zach Strief",
           2013
          ],
          [
           "J.J. Watt",
           2013
          ],
          [
           "Robert Quinn",
           2013
          ],
          [
           "Greg Hardy",
           2013
          ],
          [
           "Cameron Wake",
           2013
          ],
          [
           "Mario Williams",
           2013
          ],
          [
           "Gerald McCoy",
           2013
          ],
          [
           "Ndamukong Suh",
           2013
          ],
          [
           "Kyle Williams",
           2013
          ],
          [
           "Jurrell Casey",
           2013
          ],
          [
           "Dontari Poe",
           2013
          ],
          [
           "Muhammad Wilkerson",
           2013
          ],
          [
           "Justin Smith",
           2013
          ],
          [
           "Marcell Dareus",
           2013
          ],
          [
           "Robert Mathis",
           2013
          ],
          [
           "Lavonte David",
           2013
          ],
          [
           "Ahmad Brooks",
           2013
          ],
          [
           "Justin Houston",
           2013
          ],
          [
           "Tamba Hali",
           2013
          ],
          [
           "NaVorro Bowman",
           2013
          ],
          [
           "Karlos Dansby",
           2013
          ],
          [
           "Luke Kuechly",
           2013
          ],
          [
           "Vontaze Burfict",
           2013
          ],
          [
           "Patrick Willis",
           2013
          ],
          [
           "Thomas Davis",
           2013
          ],
          [
           "Richard Sherman",
           2013
          ],
          [
           "Patrick Peterson",
           2013
          ],
          [
           "Joe Haden",
           2013
          ],
          [
           "Brent Grimes",
           2013
          ],
          [
           "Tyrann Mathieu",
           2013
          ],
          [
           "Darrelle Revis",
           2013
          ],
          [
           "Chris Harris Jr.",
           2013
          ],
          [
           "Aqib Talib",
           2013
          ],
          [
           "Alterraun Verner",
           2013
          ],
          [
           "Eric Berry",
           2013
          ],
          [
           "Earl Thomas",
           2013
          ],
          [
           "Devin McCourty",
           2013
          ],
          [
           "Donte Whitner",
           2013
          ],
          [
           "Eric Weddle",
           2013
          ],
          [
           "T.J. Ward",
           2013
          ],
          [
           "Antrel Rolle",
           2013
          ],
          [
           "Kam Chancellor",
           2013
          ],
          [
           "Jairus Byrd",
           2013
          ],
          [
           "Nick Folk",
           2013
          ],
          [
           "Matt Prater",
           2013
          ],
          [
           "Johnny Hekker",
           2013
          ],
          [
           "Brandon Fields",
           2013
          ],
          [
           "Thomas Morstead",
           2013
          ],
          [
           "Dexter McCluster",
           2013
          ],
          [
           "Golden Tate",
           2013
          ],
          [
           "Cordarrelle Patterson",
           2013
          ],
          [
           "Quintin Demps",
           2013
          ],
          [
           "Justin Bethel",
           2013
          ],
          [
           "Matthew Slater",
           2013
          ],
          [
           "Jeremy Lane",
           2013
          ],
          [
           "Justin Tucker",
           2013
          ],
          [
           "Stephen Hauschka",
           2013
          ],
          [
           "Aaron Rodgers",
           2014
          ],
          [
           "Tom Brady",
           2014
          ],
          [
           "Tony Romo",
           2014
          ],
          [
           "Ben Roethlisberger",
           2014
          ],
          [
           "Le'Veon Bell",
           2014
          ],
          [
           "DeMarco Murray",
           2014
          ],
          [
           "Marshawn Lynch",
           2014
          ],
          [
           "Justin Forsett",
           2014
          ],
          [
           "Anthony Sherman",
           2014
          ],
          [
           "John Kuhn",
           2014
          ],
          [
           "Bruce Miller",
           2014
          ],
          [
           "Antonio Brown",
           2014
          ],
          [
           "Dez Bryant",
           2014
          ],
          [
           "Jordy Nelson",
           2014
          ],
          [
           "Odell Beckham Jr.",
           2014
          ],
          [
           "Emmanuel Sanders",
           2014
          ],
          [
           "Julio Jones",
           2014
          ],
          [
           "Demaryius Thomas",
           2014
          ],
          [
           "Randall Cobb",
           2014
          ],
          [
           "Rob Gronkowski",
           2014
          ],
          [
           "Greg Olsen",
           2014
          ],
          [
           "Tyron Smith",
           2014
          ],
          [
           "Jason Peters",
           2014
          ],
          [
           "Joe Thomas",
           2014
          ],
          [
           "Andrew Whitworth",
           2014
          ],
          [
           "Kelechi Osemele",
           2014
          ],
          [
           "Marshal Yanda",
           2014
          ],
          [
           "Josh Sitton",
           2014
          ],
          [
           "Joel Bitonio",
           2014
          ],
          [
           "Zack Martin",
           2014
          ],
          [
           "Kyle Long",
           2014
          ],
          [
           "Travis Frederick",
           2014
          ],
          [
           "Nick Mangold",
           2014
          ],
          [
           "Maurkice Pouncey",
           2014
          ],
          [
           "T.J. Lang",
           2014
          ],
          [
           "Lane Johnson",
           2014
          ],
          [
           "Sebastian Vollmer",
           2014
          ],
          [
           "J.J. Watt",
           2014
          ],
          [
           "Mario Williams",
           2014
          ],
          [
           "Robert Quinn",
           2014
          ],
          [
           "Calais Campbell",
           2014
          ],
          [
           "Fletcher Cox",
           2014
          ],
          [
           "Cameron Wake",
           2014
          ],
          [
           "Ndamukong Suh",
           2014
          ],
          [
           "Marcell Dareus",
           2014
          ],
          [
           "Gerald McCoy",
           2014
          ],
          [
           "Aaron Donald",
           2014
          ],
          [
           "Sheldon Richardson",
           2014
          ],
          [
           "Kyle Williams",
           2014
          ],
          [
           "Muhammad Wilkerson",
           2014
          ],
          [
           "Johnathan Hankins",
           2014
          ],
          [
           "Justin Houston",
           2014
          ],
          [
           "Von Miller",
           2014
          ],
          [
           "Elvis Dumervil",
           2014
          ],
          [
           "DeAndre Levy",
           2014
          ],
          [
           "Connor Barwin",
           2014
          ],
          [
           "Bobby Wagner",
           2014
          ],
          [
           "C.J. Mosley",
           2014
          ],
          [
           "Lawrence Timmons",
           2014
          ],
          [
           "Luke Kuechly",
           2014
          ],
          [
           "C.J. Mosley",
           2014
          ],
          [
           "Dont'a Hightower",
           2014
          ],
          [
           "Jamie Collins",
           2014
          ],
          [
           "Darrelle Revis",
           2014
          ],
          [
           "Richard Sherman",
           2014
          ],
          [
           "Chris Harris Jr.",
           2014
          ],
          [
           "Vontae Davis",
           2014
          ],
          [
           "Desmond Trufant",
           2014
          ],
          [
           "Brent Grimes",
           2014
          ],
          [
           "Orlando Scandrick",
           2014
          ],
          [
           "Sean Smith",
           2014
          ],
          [
           "Eric Weddle",
           2014
          ],
          [
           "Earl Thomas",
           2014
          ],
          [
           "Harrison Smith",
           2014
          ],
          [
           "Glover Quin",
           2014
          ],
          [
           "Devin McCourty",
           2014
          ],
          [
           "Kam Chancellor",
           2014
          ],
          [
           "Jon Dorenbos",
           2014
          ],
          [
           "Matt Bryant",
           2014
          ],
          [
           "Stephen Gostkowski",
           2014
          ],
          [
           "Pat McAfee",
           2014
          ],
          [
           "Johnny Hekker",
           2014
          ],
          [
           "Kevin Huber",
           2014
          ],
          [
           "Darren Sproles",
           2014
          ],
          [
           "De'Anthony Thomas",
           2014
          ],
          [
           "Adam Jones",
           2014
          ],
          [
           "Jacoby Jones",
           2014
          ],
          [
           "Devin Hester",
           2014
          ],
          [
           "Matthew Slater",
           2014
          ],
          [
           "Justin Bethel",
           2014
          ],
          [
           "Emmanuel Acho",
           2014
          ],
          [
           "Nick Bellore",
           2014
          ],
          [
           "Nat Berhe",
           2014
          ],
          [
           "Bryan Braman",
           2014
          ],
          [
           "Morgan Burnett",
           2014
          ],
          [
           "Trey Burton",
           2014
          ],
          [
           "Marcus Easley",
           2014
          ],
          [
           "Cory Harkey",
           2014
          ],
          [
           "Andrew Jackson",
           2014
          ],
          [
           "Steven Johnson",
           2014
          ],
          [
           "Devon Kennard",
           2014
          ],
          [
           "Karl Klug",
           2014
          ],
          [
           "Danieal Manning",
           2014
          ],
          [
           "Josh Martin",
           2014
          ],
          [
           "Albert McClellan",
           2014
          ],
          [
           "Kelcie McCray",
           2014
          ],
          [
           "Jordan Poyer",
           2014
          ],
          [
           "Chase Reynolds",
           2014
          ],
          [
           "Adam Thielen",
           2014
          ],
          [
           "Michael Thomas",
           2014
          ],
          [
           "Jason Williams",
           2014
          ],
          [
           "Tourek Williams",
           2014
          ],
          [
           "Adam Vinatieri",
           2014
          ],
          [
           "Dan Bailey",
           2014
          ],
          [
           "Cam Newton",
           2015
          ],
          [
           "Carson Palmer",
           2015
          ],
          [
           "Tom Brady",
           2015
          ],
          [
           "Doug Martin",
           2015
          ],
          [
           "Adrian Peterson",
           2015
          ],
          [
           "Latavius Murray",
           2015
          ],
          [
           "Chris Ivory",
           2015
          ],
          [
           "Devonta Freeman",
           2015
          ],
          [
           "Todd Gurley",
           2015
          ],
          [
           "Jonathan Stewart",
           2015
          ],
          [
           "Patrick DiMarco",
           2015
          ],
          [
           "Mike Tolbert",
           2015
          ],
          [
           "Antonio Brown",
           2015
          ],
          [
           "Julio Jones",
           2015
          ],
          [
           "Larry Fitzgerald",
           2015
          ],
          [
           "DeAndre Hopkins",
           2015
          ],
          [
           "Odell Beckham Jr.",
           2015
          ],
          [
           "Brandon Marshall",
           2015
          ],
          [
           "Doug Baldwin",
           2015
          ],
          [
           "A.J. Green",
           2015
          ],
          [
           "Rob Gronkowski",
           2015
          ],
          [
           "Greg Olsen",
           2015
          ],
          [
           "Delanie Walker",
           2015
          ],
          [
           "Joe Thomas",
           2015
          ],
          [
           "Tyron Smith",
           2015
          ],
          [
           "Andrew Whitworth",
           2015
          ],
          [
           "Trent Williams",
           2015
          ],
          [
           "Richie Incognito",
           2015
          ],
          [
           "Marshal Yanda",
           2015
          ],
          [
           "Zack Martin",
           2015
          ],
          [
           "David DeCastro",
           2015
          ],
          [
           "Josh Sitton",
           2015
          ],
          [
           "Mike Iupati",
           2015
          ],
          [
           "Ryan Kalil",
           2015
          ],
          [
           "Travis Frederick",
           2015
          ],
          [
           "Rodney Hudson",
           2015
          ],
          [
           "Alex Mack",
           2015
          ],
          [
           "Joe Berger",
           2015
          ],
          [
           "Ryan Schraeder",
           2015
          ],
          [
           "Mitchell Schwartz",
           2015
          ],
          [
           "Khalil Mack",
           2015
          ],
          [
           "J.J. Watt",
           2015
          ],
          [
           "Olivier Vernon",
           2015
          ],
          [
           "Ezekiel Ansah",
           2015
          ],
          [
           "Michael Bennett",
           2015
          ],
          [
           "Muhammad Wilkerson",
           2015
          ],
          [
           "Cameron Jordan",
           2015
          ],
          [
           "Aaron Donald",
           2015
          ],
          [
           "Geno Atkins",
           2015
          ],
          [
           "Ndamukong Suh",
           2015
          ],
          [
           "Kawann Short",
           2015
          ],
          [
           "Fletcher Cox",
           2015
          ],
          [
           "Linval Joseph",
           2015
          ],
          [
           "Damon Harrison",
           2015
          ],
          [
           "Von Miller",
           2015
          ],
          [
           "Thomas Davis",
           2015
          ],
          [
           "Justin Houston",
           2015
          ],
          [
           "Lavonte David",
           2015
          ],
          [
           "Jamie Collins",
           2015
          ],
          [
           "NaVorro Bowman",
           2015
          ],
          [
           "Bobby Wagner",
           2015
          ],
          [
           "Luke Kuechly",
           2015
          ],
          [
           "Derrick Johnson",
           2015
          ],
          [
           "Anthony Barr",
           2015
          ],
          [
           "K.J. Wright",
           2015
          ],
          [
           "Patrick Peterson",
           2015
          ],
          [
           "Josh Norman",
           2015
          ],
          [
           "Richard Sherman",
           2015
          ],
          [
           "Chris Harris Jr.",
           2015
          ],
          [
           "Marcus Peters",
           2015
          ],
          [
           "Johnathan Joseph",
           2015
          ],
          [
           "Tyrann Mathieu",
           2015
          ],
          [
           "Eric Berry",
           2015
          ],
          [
           "Earl Thomas",
           2015
          ],
          [
           "Harrison Smith",
           2015
          ],
          [
           "Malcolm Jenkins",
           2015
          ],
          [
           "Reggie Nelson",
           2015
          ],
          [
           "Charles Woodson",
           2015
          ],
          [
           "Johnny Hekker",
           2015
          ],
          [
           "Pat McAfee",
           2015
          ],
          [
           "Sam Koch",
           2015
          ],
          [
           "Brett Kern",
           2015
          ],
          [
           "Darren Sproles",
           2015
          ],
          [
           "Jarvis Landry",
           2015
          ],
          [
           "Cordarrelle Patterson",
           2015
          ],
          [
           "Tyler Lockett",
           2015
          ],
          [
           "Taiwan Jones",
           2015
          ],
          [
           "Benny Cunningham",
           2015
          ],
          [
           "Justin Bethel",
           2015
          ],
          [
           "Michael Thomas",
           2015
          ],
          [
           "Matthew Slater",
           2015
          ],
          [
           "Stephen Gostkowski",
           2015
          ],
          [
           "Dan Bailey",
           2015
          ],
          [
           "Matt Ryan",
           2016
          ],
          [
           "Tom Brady",
           2016
          ],
          [
           "Ezekiel Elliott",
           2016
          ],
          [
           "David Johnson",
           2016
          ],
          [
           "Le'Veon Bell",
           2016
          ],
          [
           "DeMarco Murray",
           2016
          ],
          [
           "Jay Ajayi",
           2016
          ],
          [
           "Kyle Juszczyk",
           2016
          ],
          [
           "James Develin",
           2016
          ],
          [
           "Julio Jones",
           2016
          ],
          [
           "Antonio Brown",
           2016
          ],
          [
           "Mike Evans",
           2016
          ],
          [
           "Odell Beckham Jr.",
           2016
          ],
          [
           "T.Y. Hilton",
           2016
          ],
          [
           "Travis Kelce",
           2016
          ],
          [
           "Greg Olsen",
           2016
          ],
          [
           "David Bakhtiari",
           2016
          ],
          [
           "Tyron Smith",
           2016
          ],
          [
           "Trent Williams",
           2016
          ],
          [
           "Joe Thomas",
           2016
          ],
          [
           "Donald Penn",
           2016
          ],
          [
           "Kelechi Osemele",
           2016
          ],
          [
           "Zack Martin",
           2016
          ],
          [
           "Marshal Yanda",
           2016
          ],
          [
           "T.J. Lang",
           2016
          ],
          [
           "Travis Frederick",
           2016
          ],
          [
           "Rodney Hudson",
           2016
          ],
          [
           "Alex Mack",
           2016
          ],
          [
           "Kevin Zeitler",
           2016
          ],
          [
           "David DeCastro",
           2016
          ],
          [
           "Jack Conklin",
           2016
          ],
          [
           "Marcus Cannon",
           2016
          ],
          [
           "Mitchell Schwartz",
           2016
          ],
          [
           "Khalil Mack",
           2016
          ],
          [
           "Jadeveon Clowney",
           2016
          ],
          [
           "Brandon Graham",
           2016
          ],
          [
           "Cliff Avril",
           2016
          ],
          [
           "Aaron Donald",
           2016
          ],
          [
           "Damon Harrison",
           2016
          ],
          [
           "Geno Atkins",
           2016
          ],
          [
           "Calais Campbell",
           2016
          ],
          [
           "Ndamukong Suh",
           2016
          ],
          [
           "Gerald McCoy",
           2016
          ],
          [
           "Von Miller",
           2016
          ],
          [
           "Vic Beasley",
           2016
          ],
          [
           "Lorenzo Alexander",
           2016
          ],
          [
           "Ryan Kerrigan",
           2016
          ],
          [
           "Bobby Wagner",
           2016
          ],
          [
           "Dont'a Hightower",
           2016
          ],
          [
           "Luke Kuechly",
           2016
          ],
          [
           "Sean Lee",
           2016
          ],
          [
           "K.J. Wright",
           2016
          ],
          [
           "Paul Posluszny",
           2016
          ],
          [
           "Zach Brown",
           2016
          ],
          [
           "Zach Orr",
           2016
          ],
          [
           "Alec Ogletree",
           2016
          ],
          [
           "Lavonte David",
           2016
          ],
          [
           "C.J. Mosley",
           2016
          ],
          [
           "Whitney Mercilus",
           2016
          ],
          [
           "Benardrick McKinney",
           2016
          ],
          [
           "Aqib Talib",
           2016
          ],
          [
           "Marcus Peters",
           2016
          ],
          [
           "Malcolm Butler",
           2016
          ],
          [
           "Jackrabbit Jenkins",
           2016
          ],
          [
           "Patrick Peterson",
           2016
          ],
          [
           "Casey Hayward",
           2016
          ],
          [
           "Chris Harris Jr.",
           2016
          ],
          [
           "Dominique Rodgers-Cromartie",
           2016
          ],
          [
           "Landon Collins",
           2016
          ],
          [
           "Eric Berry",
           2016
          ],
          [
           "Eric Weddle",
           2016
          ],
          [
           "Devin McCourty",
           2016
          ],
          [
           "Ha Ha Clinton-Dix",
           2016
          ],
          [
           "Kam Chancellor",
           2016
          ],
          [
           "Johnny Hekker",
           2016
          ],
          [
           "Pat McAfee",
           2016
          ],
          [
           "Marquette King",
           2016
          ],
          [
           "Marcus Sherels",
           2016
          ],
          [
           "Jamison Crowder",
           2016
          ],
          [
           "Tyreek Hill",
           2016
          ],
          [
           "Cordarrelle Patterson",
           2016
          ],
          [
           "Tyler Lockett",
           2016
          ],
          [
           "Alex Erickson",
           2016
          ],
          [
           "Matthew Slater",
           2016
          ],
          [
           "Eric Murray",
           2016
          ],
          [
           "Dwayne Harris",
           2016
          ],
          [
           "Nate Ebner",
           2016
          ],
          [
           "Cody Davis",
           2016
          ],
          [
           "Justin Tucker",
           2016
          ],
          [
           "Matt Bryant",
           2016
          ],
          [
           "Cameron Jordan",
           2016
          ],
          [
           "Cameron Wake",
           2016
          ],
          [
           "Olivier Vernon",
           2016
          ],
          [
           "Tom Brady",
           2017
          ],
          [
           "Carson Wentz",
           2017
          ],
          [
           "Matt Ryan",
           2017
          ],
          [
           "Todd Gurley",
           2017
          ],
          [
           "Le'Veon Bell",
           2017
          ],
          [
           "Alvin Kamara",
           2017
          ],
          [
           "Kareem Hunt",
           2017
          ],
          [
           "Antonio Brown",
           2017
          ],
          [
           "DeAndre Hopkins",
           2017
          ],
          [
           "Julio Jones",
           2017
          ],
          [
           "Michael Thomas",
           2017
          ],
          [
           "Adam Thielen",
           2017
          ],
          [
           "Keenan Allen",
           2017
          ],
          [
           "Rob Gronkowski",
           2017
          ],
          [
           "Travis Kelce",
           2017
          ],
          [
           "Zach Ertz",
           2017
          ],
          [
           "Hunter Henry",
           2017
          ],
          [
           "David Bakhtiari",
           2017
          ],
          [
           "Joe Staley",
           2017
          ],
          [
           "Trent Williams",
           2017
          ],
          [
           "Andrew Whitworth",
           2017
          ],
          [
           "Lane Johnson",
           2017
          ],
          [
           "Taylor Lewan",
           2017
          ],
          [
           "Mitchell Schwartz",
           2017
          ],
          [
           "Alejandro Villanueva",
           2017
          ],
          [
           "Andrew Norwell",
           2017
          ],
          [
           "Joel Bitonio",
           2017
          ],
          [
           "Rodger Saffold",
           2017
          ],
          [
           "David DeCastro",
           2017
          ],
          [
           "Zack Martin",
           2017
          ],
          [
           "Brandon Brooks",
           2017
          ],
          [
           "Kelechi Osemele",
           2017
          ],
          [
           "Jason Kelce",
           2017
          ],
          [
           "Alex Mack",
           2017
          ],
          [
           "Maurkice Pouncey",
           2017
          ],
          [
           "Travis Frederick",
           2017
          ],
          [
           "Daryl Williams",
           2017
          ],
          [
           "Demar Dotson",
           2017
          ],
          [
           "Cameron Jordan",
           2017
          ],
          [
           "Calais Campbell",
           2017
          ],
          [
           "Everson Griffen",
           2017
          ],
          [
           "DeMarcus Lawrence",
           2017
          ],
          [
           "Joey Bosa",
           2017
          ],
          [
           "Aaron Donald",
           2017
          ],
          [
           "Fletcher Cox",
           2017
          ],
          [
           "Geno Atkins",
           2017
          ],
          [
           "Cameron Heyward",
           2017
          ],
          [
           "Malik Jackson",
           2017
          ],
          [
           "Ndamukong Suh",
           2017
          ],
          [
           "Kawann Short",
           2017
          ],
          [
           "Chandler Jones",
           2017
          ],
          [
           "Von Miller",
           2017
          ],
          [
           "Jadeveon Clowney",
           2017
          ],
          [
           "Ryan Kerrigan",
           2017
          ],
          [
           "Luke Kuechly",
           2017
          ],
          [
           "Ryan Shazier",
           2017
          ],
          [
           "Bobby Wagner",
           2017
          ],
          [
           "Deion Jones",
           2017
          ],
          [
           "Lavonte David",
           2017
          ],
          [
           "Telvin Smith",
           2017
          ],
          [
           "C.J. Mosley",
           2017
          ],
          [
           "Jalen Ramsey",
           2017
          ],
          [
           "Xavier Rhodes",
           2017
          ],
          [
           "Darius Slay",
           2017
          ],
          [
           "Casey Hayward",
           2017
          ],
          [
           "A.J. Bouye",
           2017
          ],
          [
           "Marshon Lattimore",
           2017
          ],
          [
           "Tre'Davious White",
           2017
          ],
          [
           "Patrick Robinson",
           2017
          ],
          [
           "Harrison Smith",
           2017
          ],
          [
           "Kevin Byard",
           2017
          ],
          [
           "Earl Thomas",
           2017
          ],
          [
           "Adrian Amos",
           2017
          ],
          [
           "Eric Weddle",
           2017
          ],
          [
           "Glover Quin",
           2017
          ],
          [
           "Micah Hyde",
           2017
          ],
          [
           "Lamarcus Joyner",
           2017
          ],
          [
           "Matt Prater",
           2017
          ],
          [
           "Robbie Gould",
           2017
          ],
          [
           "Johnny Hekker",
           2017
          ],
          [
           "Brett Kern",
           2017
          ],
          [
           "Thomas Morstead",
           2017
          ],
          [
           "Jamal Agnew",
           2017
          ],
          [
           "Michael Campanaro",
           2017
          ],
          [
           "Pharoh Cooper",
           2017
          ],
          [
           "Dion Lewis",
           2017
          ],
          [
           "Tyler Lockett",
           2017
          ],
          [
           "Budda Baker",
           2017
          ],
          [
           "Michael Thomas",
           2017
          ],
          [
           "Matthew Slater",
           2017
          ],
          [
           "Greg Zuerlein",
           2017
          ],
          [
           "Justin Tucker",
           2017
          ],
          [
           "Patrick Mahomes",
           2018
          ],
          [
           "Drew Brees",
           2018
          ],
          [
           "Todd Gurley",
           2018
          ],
          [
           "Saquon Barkley",
           2018
          ],
          [
           "Ezekiel Elliott",
           2018
          ],
          [
           "Phillip Lindsay",
           2018
          ],
          [
           "Derrick Henry",
           2018
          ],
          [
           "DeAndre Hopkins",
           2018
          ],
          [
           "Michael Thomas",
           2018
          ],
          [
           "Tyreek Hill",
           2018
          ],
          [
           "Julio Jones",
           2018
          ],
          [
           "Keenan Allen",
           2018
          ],
          [
           "Travis Kelce",
           2018
          ],
          [
           "George Kittle",
           2018
          ],
          [
           "Zach Ertz",
           2018
          ],
          [
           "Christian McCaffrey",
           2018
          ],
          [
           "Alvin Kamara",
           2018
          ],
          [
           "Duane Brown",
           2018
          ],
          [
           "Tyron Smith",
           2018
          ],
          [
           "Mitchell Schwartz",
           2018
          ],
          [
           "David Bakhtiari",
           2018
          ],
          [
           "Terron Armstead",
           2018
          ],
          [
           "Taylor Lewan",
           2018
          ],
          [
           "Joel Bitonio",
           2018
          ],
          [
           "Quenton Nelson",
           2018
          ],
          [
           "Zack Martin",
           2018
          ],
          [
           "Marshal Yanda",
           2018
          ],
          [
           "Brandon Brooks",
           2018
          ],
          [
           "Jason Kelce",
           2018
          ],
          [
           "Maurkice Pouncey",
           2018
          ],
          [
           "Rodney Hudson",
           2018
          ],
          [
           "Shaq Mason",
           2018
          ],
          [
           "Ryan Ramczyk",
           2018
          ],
          [
           "J.J. Watt",
           2018
          ],
          [
           "Danielle Hunter",
           2018
          ],
          [
           "Cameron Jordan",
           2018
          ],
          [
           "Myles Garrett",
           2018
          ],
          [
           "DeMarcus Lawrence",
           2018
          ],
          [
           "Trey Flowers",
           2018
          ],
          [
           "Fletcher Cox",
           2018
          ],
          [
           "Aaron Donald",
           2018
          ],
          [
           "Chris Jones",
           2018
          ],
          [
           "Geno Atkins",
           2018
          ],
          [
           "Akiem Hicks",
           2018
          ],
          [
           "Khalil Mack",
           2018
          ],
          [
           "Von Miller",
           2018
          ],
          [
           "Shaquille Leonard",
           2018
          ],
          [
           "Ryan Kerrigan",
           2018
          ],
          [
           "Bobby Wagner",
           2018
          ],
          [
           "C.J. Mosley",
           2018
          ],
          [
           "Luke Kuechly",
           2018
          ],
          [
           "Leighton Vander Esch",
           2018
          ],
          [
           "Zach Brown",
           2018
          ],
          [
           "Kyle Fuller",
           2018
          ],
          [
           "Stephon Gilmore",
           2018
          ],
          [
           "Byron Jones",
           2018
          ],
          [
           "Patrick Peterson",
           2018
          ],
          [
           "Xavien Howard",
           2018
          ],
          [
           "Desmond King",
           2018
          ],
          [
           "Kareem Jackson",
           2018
          ],
          [
           "Eddie Jackson",
           2018
          ],
          [
           "Derwin James",
           2018
          ],
          [
           "Jamal Adams",
           2018
          ],
          [
           "Harrison Smith",
           2018
          ],
          [
           "Kevin Byard",
           2018
          ],
          [
           "Wil Lutz",
           2018
          ],
          [
           "Michael Dickson",
           2018
          ],
          [
           "Thomas Morstead",
           2018
          ],
          [
           "Brett Kern",
           2018
          ],
          [
           "Johnny Hekker",
           2018
          ],
          [
           "Tarik Cohen",
           2018
          ],
          [
           "Andre Roberts",
           2018
          ],
          [
           "Richie James",
           2018
          ],
          [
           "Tremon Smith",
           2018
          ],
          [
           "Cordarrelle Patterson",
           2018
          ],
          [
           "Adrian Phillips",
           2018
          ],
          [
           "Albert McClellan",
           2018
          ],
          [
           "Cory Littleton",
           2018
          ],
          [
           "Aldrick Rosas",
           2018
          ],
          [
           "Justin Tucker",
           2018
          ],
          [
           "Lamar Jackson",
           2019
          ],
          [
           "Russell Wilson",
           2019
          ],
          [
           "Christian McCaffrey",
           2019
          ],
          [
           "Derrick Henry",
           2019
          ],
          [
           "Dalvin Cook",
           2019
          ],
          [
           "Nick Chubb",
           2019
          ],
          [
           "Michael Thomas",
           2019
          ],
          [
           "Julio Jones",
           2019
          ],
          [
           "DeAndre Hopkins",
           2019
          ],
          [
           "Chris Godwin",
           2019
          ],
          [
           "Keenan Allen",
           2019
          ],
          [
           "Mike Evans",
           2019
          ],
          [
           "George Kittle",
           2019
          ],
          [
           "Travis Kelce",
           2019
          ],
          [
           "Austin Ekeler",
           2019
          ],
          [
           "Anthony Castonzo",
           2019
          ],
          [
           "Laremy Tunsil",
           2019
          ],
          [
           "Ronnie Stanley",
           2019
          ],
          [
           "Ryan Ramczyk",
           2019
          ],
          [
           "David Bakhtiari",
           2019
          ],
          [
           "Mitchell Schwartz",
           2019
          ],
          [
           "Joe Thuney",
           2019
          ],
          [
           "Joel Bitonio",
           2019
          ],
          [
           "Quenton Nelson",
           2019
          ],
          [
           "Zack Martin",
           2019
          ],
          [
           "Marshal Yanda",
           2019
          ],
          [
           "Brandon Brooks",
           2019
          ],
          [
           "Jason Kelce",
           2019
          ],
          [
           "Rodney Hudson",
           2019
          ],
          [
           "Ryan Jensen",
           2019
          ],
          [
           "Cameron Jordan",
           2019
          ],
          [
           "Joey Bosa",
           2019
          ],
          [
           "Danielle Hunter",
           2019
          ],
          [
           "Za'Darius Smith",
           2019
          ],
          [
           "Calais Campbell",
           2019
          ],
          [
           "Aaron Donald",
           2019
          ],
          [
           "Cameron Heyward",
           2019
          ],
          [
           "Grady Jarrett",
           2019
          ],
          [
           "Chris Jones",
           2019
          ],
          [
           "D.J. Reader",
           2019
          ],
          [
           "DeForest Buckner",
           2019
          ],
          [
           "T.J. Watt",
           2019
          ],
          [
           "Chandler Jones",
           2019
          ],
          [
           "Shaquil Barrett",
           2019
          ],
          [
           "Matt Judon",
           2019
          ],
          [
           "Bobby Wagner",
           2019
          ],
          [
           "Shaquille Leonard",
           2019
          ],
          [
           "Eric Kendricks",
           2019
          ],
          [
           "Demario Davis",
           2019
          ],
          [
           "Luke Kuechly",
           2019
          ],
          [
           "Lavonte David",
           2019
          ],
          [
           "Stephon Gilmore",
           2019
          ],
          [
           "Tre'Davious White",
           2019
          ],
          [
           "Marcus Peters",
           2019
          ],
          [
           "Richard Sherman",
           2019
          ],
          [
           "Marshon Lattimore",
           2019
          ],
          [
           "Quinton Dunbar",
           2019
          ],
          [
           "Casey Hayward",
           2019
          ],
          [
           "Tyrann Mathieu",
           2019
          ],
          [
           "Marlon Humphrey",
           2019
          ],
          [
           "Marcus Williams",
           2019
          ],
          [
           "Jamal Adams",
           2019
          ],
          [
           "Minkah Fitzpatrick",
           2019
          ],
          [
           "Anthony Harris",
           2019
          ],
          [
           "Justin Simmons",
           2019
          ],
          [
           "Harrison Smith",
           2019
          ],
          [
           "Josh Lambo",
           2019
          ],
          [
           "Brett Kern",
           2019
          ],
          [
           "Tress Way",
           2019
          ],
          [
           "JK Scott",
           2019
          ],
          [
           "Deonte Harty",
           2019
          ],
          [
           "Diontae Johnson",
           2019
          ],
          [
           "Cordarrelle Patterson",
           2019
          ],
          [
           "Mecole Hardman",
           2019
          ],
          [
           "Andre Roberts",
           2019
          ],
          [
           "Matthew Slater",
           2019
          ],
          [
           "J.T. Gray",
           2019
          ],
          [
           "Justin Tucker",
           2019
          ],
          [
           "Wil Lutz",
           2019
          ],
          [
           "Aaron Rodgers",
           2020
          ],
          [
           "Patrick Mahomes",
           2020
          ],
          [
           "Josh Allen",
           2020
          ],
          [
           "Derrick Henry",
           2020
          ],
          [
           "Dalvin Cook",
           2020
          ],
          [
           "Alvin Kamara",
           2020
          ],
          [
           "Nick Chubb",
           2020
          ],
          [
           "Davante Adams",
           2020
          ],
          [
           "Stefon Diggs",
           2020
          ],
          [
           "Tyreek Hill",
           2020
          ],
          [
           "DeAndre Hopkins",
           2020
          ],
          [
           "Justin Jefferson",
           2020
          ],
          [
           "D.K. Metcalf",
           2020
          ],
          [
           "A.J. Brown",
           2020
          ],
          [
           "Calvin Ridley",
           2020
          ],
          [
           "Cole Beasley",
           2020
          ],
          [
           "Travis Kelce",
           2020
          ],
          [
           "T.J. Hockenson",
           2020
          ],
          [
           "Darren Waller",
           2020
          ],
          [
           "Allen Robinson",
           2020
          ],
          [
           "Jack Conklin",
           2020
          ],
          [
           "David Bakhtiari",
           2020
          ],
          [
           "Trent Williams",
           2020
          ],
          [
           "Garett Bolles",
           2020
          ],
          [
           "Quenton Nelson",
           2020
          ],
          [
           "Joel Bitonio",
           2020
          ],
          [
           "Brandon Scherff",
           2020
          ],
          [
           "Ali Marpet",
           2020
          ],
          [
           "Corey Linsley",
           2020
          ],
          [
           "Jason Kelce",
           2020
          ],
          [
           "Ryan Kelly",
           2020
          ],
          [
           "Frank Ragnow",
           2020
          ],
          [
           "Wyatt Teller",
           2020
          ],
          [
           "Tristan Wirfs",
           2020
          ],
          [
           "Ryan Ramczyk",
           2020
          ],
          [
           "Myles Garrett",
           2020
          ],
          [
           "Joey Bosa",
           2020
          ],
          [
           "Trey Hendrickson",
           2020
          ],
          [
           "Cameron Jordan",
           2020
          ],
          [
           "Chase Young",
           2020
          ],
          [
           "DeMarcus Lawrence",
           2020
          ],
          [
           "Aaron Donald",
           2020
          ],
          [
           "Chris Jones",
           2020
          ],
          [
           "DeForest Buckner",
           2020
          ],
          [
           "Fletcher Cox",
           2020
          ],
          [
           "Cameron Heyward",
           2020
          ],
          [
           "T.J. Watt",
           2020
          ],
          [
           "Khalil Mack",
           2020
          ],
          [
           "Za'Darius Smith",
           2020
          ],
          [
           "Bradley Chubb",
           2020
          ],
          [
           "Fred Warner",
           2020
          ],
          [
           "Shaquille Leonard",
           2020
          ],
          [
           "Bobby Wagner",
           2020
          ],
          [
           "Roquan Smith",
           2020
          ],
          [
           "Lavonte David",
           2020
          ],
          [
           "Devin White",
           2020
          ],
          [
           "Myles Jack",
           2020
          ],
          [
           "Eric Kendricks",
           2020
          ],
          [
           "Demario Davis",
           2020
          ],
          [
           "Xavien Howard",
           2020
          ],
          [
           "Jalen Ramsey",
           2020
          ],
          [
           "Jaire Alexander",
           2020
          ],
          [
           "Tre'Davious White",
           2020
          ],
          [
           "James Bradberry",
           2020
          ],
          [
           "Bryce Callahan",
           2020
          ],
          [
           "Darious Williams",
           2020
          ],
          [
           "Tyrann Mathieu",
           2020
          ],
          [
           "Minkah Fitzpatrick",
           2020
          ],
          [
           "Budda Baker",
           2020
          ],
          [
           "Jessie Bates III",
           2020
          ],
          [
           "Adrian Amos",
           2020
          ],
          [
           "Jamal Adams",
           2020
          ],
          [
           "Justin Simmons",
           2020
          ],
          [
           "John Johnson",
           2020
          ],
          [
           "Morgan Cox",
           2020
          ],
          [
           "Luke Rhodes",
           2020
          ],
          [
           "Jake Bailey",
           2020
          ],
          [
           "Jack Fox",
           2020
          ],
          [
           "Bradley Pinion",
           2020
          ],
          [
           "Gunner Olszewski",
           2020
          ],
          [
           "Jamal Agnew",
           2020
          ],
          [
           "Jakeem Grant",
           2020
          ],
          [
           "Cordarrelle Patterson",
           2020
          ],
          [
           "Andre Roberts",
           2020
          ],
          [
           "Ray-Ray McCloud",
           2020
          ],
          [
           "George Odum",
           2020
          ],
          [
           "Nick Bellore",
           2020
          ],
          [
           "Cody Davis",
           2020
          ],
          [
           "Matthew Slater",
           2020
          ],
          [
           "Jason Sanders",
           2020
          ],
          [
           "Justin Tucker",
           2020
          ],
          [
           "Younghoe Koo",
           2020
          ],
          [
           "Aaron Rodgers",
           2021
          ],
          [
           "Tom Brady",
           2021
          ],
          [
           "Joe Burrow",
           2021
          ],
          [
           "Jonathan Taylor",
           2021
          ],
          [
           "Nick Chubb",
           2021
          ],
          [
           "Joe Mixon",
           2021
          ],
          [
           "Antonio Gibson",
           2021
          ],
          [
           "Dalvin Cook",
           2021
          ],
          [
           "Davante Adams",
           2021
          ],
          [
           "Cooper Kupp",
           2021
          ],
          [
           "Deebo Samuel",
           2021
          ],
          [
           "Ja'Marr Chase",
           2021
          ],
          [
           "Tyreek Hill",
           2021
          ],
          [
           "Justin Jefferson",
           2021
          ],
          [
           "Mark Andrews",
           2021
          ],
          [
           "Travis Kelce",
           2021
          ],
          [
           "George Kittle",
           2021
          ],
          [
           "Jordan Mailata",
           2021
          ],
          [
           "Tristan Wirfs",
           2021
          ],
          [
           "Trent Williams",
           2021
          ],
          [
           "Rashawn Slater",
           2021
          ],
          [
           "Kolton Miller",
           2021
          ],
          [
           "Joel Bitonio",
           2021
          ],
          [
           "Zack Martin",
           2021
          ],
          [
           "Ali Marpet",
           2021
          ],
          [
           "Quenton Nelson",
           2021
          ],
          [
           "Jason Kelce",
           2021
          ],
          [
           "Creed Humphrey",
           2021
          ],
          [
           "Corey Linsley",
           2021
          ],
          [
           "Shaq Mason",
           2021
          ],
          [
           "Wyatt Teller",
           2021
          ],
          [
           "Lane Johnson",
           2021
          ],
          [
           "Jeffery Simmons",
           2021
          ],
          [
           "Christian Wilkins",
           2021
          ],
          [
           "Myles Garrett",
           2021
          ],
          [
           "Nick Bosa",
           2021
          ],
          [
           "Maxx Crosby",
           2021
          ],
          [
           "Cameron Jordan",
           2021
          ],
          [
           "Aaron Donald",
           2021
          ],
          [
           "Cameron Heyward",
           2021
          ],
          [
           "Chris Jones",
           2021
          ],
          [
           "Jonathan Allen",
           2021
          ],
          [
           "Micah Parsons",
           2021
          ],
          [
           "T.J. Watt",
           2021
          ],
          [
           "Robert Quinn",
           2021
          ],
          [
           "Matt Judon",
           2021
          ],
          [
           "De'Vondre Campbell",
           2021
          ],
          [
           "Shaquille Leonard",
           2021
          ],
          [
           "Demario Davis",
           2021
          ],
          [
           "Roquan Smith",
           2021
          ],
          [
           "Bobby Wagner",
           2021
          ],
          [
           "Lavonte David",
           2021
          ],
          [
           "Jalen Ramsey",
           2021
          ],
          [
           "Trevon Diggs",
           2021
          ],
          [
           "AJ Terrell",
           2021
          ],
          [
           "J.C. Jackson",
           2021
          ],
          [
           "Xavien Howard",
           2021
          ],
          [
           "Chidobe Awuzie",
           2021
          ],
          [
           "Darius Slay",
           2021
          ],
          [
           "Kevin Byard",
           2021
          ],
          [
           "Jordan Poyer",
           2021
          ],
          [
           "Derwin James",
           2021
          ],
          [
           "Antoine Winfield Jr.",
           2021
          ],
          [
           "Budda Baker",
           2021
          ],
          [
           "Quandre Diggs",
           2021
          ],
          [
           "Micah Hyde",
           2021
          ],
          [
           "Marcus Williams",
           2021
          ],
          [
           "Justin Simmons",
           2021
          ],
          [
           "Luke Rhodes",
           2021
          ],
          [
           "Josh Harris",
           2021
          ],
          [
           "Jake Elliott",
           2021
          ],
          [
           "Daniel Carlson",
           2021
          ],
          [
           "AJ Cole III",
           2021
          ],
          [
           "Bryan Anger",
           2021
          ],
          [
           "Devin Duvernay",
           2021
          ],
          [
           "Jakeem Grant",
           2021
          ],
          [
           "Braxton Berrios",
           2021
          ],
          [
           "Kene Nwangwu",
           2021
          ],
          [
           "Andre Roberts",
           2021
          ],
          [
           "J.T. Gray",
           2021
          ],
          [
           "Matthew Adams",
           2021
          ],
          [
           "Matthew Slater",
           2021
          ],
          [
           "Ashton Dulin",
           2021
          ],
          [
           "Justin Tucker",
           2021
          ],
          [
           "Matt Gay",
           2021
          ],
          [
           "Cordarrelle Patterson",
           2021
          ],
          [
           "Jevon Holland",
           2021
          ],
          [
           "Patrick Mahomes",
           2022
          ],
          [
           "Jalen Hurts",
           2022
          ],
          [
           "Joe Burrow",
           2022
          ],
          [
           "Josh Jacobs",
           2022
          ],
          [
           "Nick Chubb",
           2022
          ],
          [
           "Saquon Barkley",
           2022
          ],
          [
           "Derrick Henry",
           2022
          ],
          [
           "Christian McCaffrey",
           2022
          ],
          [
           "Kyle Juszczyk",
           2022
          ],
          [
           "Justin Jefferson",
           2022
          ],
          [
           "Davante Adams",
           2022
          ],
          [
           "Tyreek Hill",
           2022
          ],
          [
           "A.J. Brown",
           2022
          ],
          [
           "Stefon Diggs",
           2022
          ],
          [
           "CeeDee Lamb",
           2022
          ],
          [
           "Amon-Ra St. Brown",
           2022
          ],
          [
           "Travis Kelce",
           2022
          ],
          [
           "George Kittle",
           2022
          ],
          [
           "Andrew Thomas",
           2022
          ],
          [
           "Lane Johnson",
           2022
          ],
          [
           "Trent Williams",
           2022
          ],
          [
           "Laremy Tunsil",
           2022
          ],
          [
           "Terron Armstead",
           2022
          ],
          [
           "Joel Bitonio",
           2022
          ],
          [
           "Zack Martin",
           2022
          ],
          [
           "Chris Lindstrom",
           2022
          ],
          [
           "Joe Thuney",
           2022
          ],
          [
           "Jason Kelce",
           2022
          ],
          [
           "Creed Humphrey",
           2022
          ],
          [
           "Michael Onwenu",
           2022
          ],
          [
           "Tristan Wirfs",
           2022
          ],
          [
           "Aaron Donald",
           2022
          ],
          [
           "Jeffery Simmons",
           2022
          ],
          [
           "Cameron Heyward",
           2022
          ],
          [
           "Nick Bosa",
           2022
          ],
          [
           "Myles Garrett",
           2022
          ],
          [
           "Maxx Crosby",
           2022
          ],
          [
           "Brian Burns",
           2022
          ],
          [
           "Chris Jones",
           2022
          ],
          [
           "Dexter Lawrence",
           2022
          ],
          [
           "Quinnen Williams",
           2022
          ],
          [
           "Javon Hargrave",
           2022
          ],
          [
           "Daron Payne",
           2022
          ],
          [
           "Micah Parsons",
           2022
          ],
          [
           "Haason Reddick",
           2022
          ],
          [
           "Matt Judon",
           2022
          ],
          [
           "Matt Milano",
           2022
          ],
          [
           "Alex Highsmith",
           2022
          ],
          [
           "Fred Warner",
           2022
          ],
          [
           "Roquan Smith",
           2022
          ],
          [
           "Bobby Wagner",
           2022
          ],
          [
           "T.J. Edwards",
           2022
          ],
          [
           "C.J. Mosley",
           2022
          ],
          [
           "Lavonte David",
           2022
          ],
          [
           "Demario Davis",
           2022
          ],
          [
           "Patrick Surtain II",
           2022
          ],
          [
           "Sauce Gardner",
           2022
          ],
          [
           "Darius Slay",
           2022
          ],
          [
           "Jaire Alexander",
           2022
          ],
          [
           "James Bradberry",
           2022
          ],
          [
           "Patrick Peterson",
           2022
          ],
          [
           "Jalen Ramsey",
           2022
          ],
          [
           "Minkah Fitzpatrick",
           2022
          ],
          [
           "Derwin James",
           2022
          ],
          [
           "Talanoa Hufanga",
           2022
          ],
          [
           "Ryan Neal",
           2022
          ],
          [
           "C.J. Gardner-Johnson",
           2022
          ],
          [
           "Justin Simmons",
           2022
          ],
          [
           "Tyrann Mathieu",
           2022
          ],
          [
           "Kamren Curl",
           2022
          ],
          [
           "Andrew DePaola",
           2022
          ],
          [
           "Morgan Cox",
           2022
          ],
          [
           "Nick Moore",
           2022
          ],
          [
           "Zach Wood",
           2022
          ],
          [
           "Daniel Carlson",
           2022
          ],
          [
           "Jason Myers",
           2022
          ],
          [
           "Justin Tucker",
           2022
          ],
          [
           "Tommy Townsend",
           2022
          ],
          [
           "Ryan Stonehouse",
           2022
          ],
          [
           "Johnny Hekker",
           2022
          ],
          [
           "AJ Cole III",
           2022
          ],
          [
           "Marcus Jones",
           2022
          ],
          [
           "KaVontae Turpin",
           2022
          ],
          [
           "Kalif Raymond",
           2022
          ],
          [
           "Keisean Nixon",
           2022
          ],
          [
           "Kene Nwangwu",
           2022
          ],
          [
           "Cordarrelle Patterson",
           2022
          ],
          [
           "Nyheim Hines",
           2022
          ],
          [
           "Jeremy Reaves",
           2022
          ],
          [
           "Justin Hardee",
           2022
          ],
          [
           "George Odum",
           2022
          ],
          [
           "Lamar Jackson",
           2023
          ],
          [
           "Dak Prescott",
           2023
          ],
          [
           "Josh Allen",
           2023
          ],
          [
           "Christian McCaffrey",
           2023
          ],
          [
           "Kyren Williams",
           2023
          ],
          [
           "Raheem Mostert",
           2023
          ],
          [
           "Derrick Henry",
           2023
          ],
          [
           "Kyle Juszczyk",
           2023
          ],
          [
           "Michael Burton",
           2023
          ],
          [
           "Patrick Ricard",
           2023
          ],
          [
           "Hunter Luepke",
           2023
          ],
          [
           "CeeDee Lamb",
           2023
          ],
          [
           "Tyreek Hill",
           2023
          ],
          [
           "Amon-Ra St. Brown",
           2023
          ],
          [
           "Brandon Aiyuk",
           2023
          ],
          [
           "Nico Collins",
           2023
          ],
          [
           "A.J. Brown",
           2023
          ],
          [
           "Puka Nacua",
           2023
          ],
          [
           "D.J. Moore",
           2023
          ],
          [
           "Mike Evans",
           2023
          ],
          [
           "George Kittle",
           2023
          ],
          [
           "Travis Kelce",
           2023
          ],
          [
           "T.J. Hockenson",
           2023
          ],
          [
           "Sam LaPorta",
           2023
          ],
          [
           "Tyron Smith",
           2023
          ],
          [
           "Jordan Mailata",
           2023
          ],
          [
           "Trent Williams",
           2023
          ],
          [
           "Penei Sewell",
           2023
          ],
          [
           "Dion Dawkins",
           2023
          ],
          [
           "Laremy Tunsil",
           2023
          ],
          [
           "Tyler Smith",
           2023
          ],
          [
           "Joe Thuney",
           2023
          ],
          [
           "Zack Martin",
           2023
          ],
          [
           "Chris Lindstrom",
           2023
          ],
          [
           "Joel Bitonio",
           2023
          ],
          [
           "Jason Kelce",
           2023
          ],
          [
           "Frank Ragnow",
           2023
          ],
          [
           "Creed Humphrey",
           2023
          ],
          [
           "Kevin Dotson",
           2023
          ],
          [
           "Lane Johnson",
           2023
          ],
          [
           "Derrick Brown",
           2023
          ],
          [
           "Nnamdi Madubuike",
           2023
          ],
          [
           "Myles Garrett",
           2023
          ],
          [
           "Maxx Crosby",
           2023
          ],
          [
           "Trey Hendrickson",
           2023
          ],
          [
           "Nick Bosa",
           2023
          ],
          [
           "Aidan Hutchinson",
           2023
          ],
          [
           "Aaron Donald",
           2023
          ],
          [
           "Chris Jones",
           2023
          ],
          [
           "Dexter Lawrence",
           2023
          ],
          [
           "Quinnen Williams",
           2023
          ],
          [
           "Micah Parsons",
           2023
          ],
          [
           "T.J. Watt",
           2023
          ],
          [
           "Danielle Hunter",
           2023
          ],
          [
           "Josh Hines-Allen",
           2023
          ],
          [
           "Fred Warner",
           2023
          ],
          [
           "Roquan Smith",
           2023
          ],
          [
           "Demario Davis",
           2023
          ],
          [
           "Quincy Williams",
           2023
          ],
          [
           "Bobby Wagner",
           2023
          ],
          [
           "Patrick Queen",
           2023
          ],
          [
           "C.J. Mosley",
           2023
          ],
          [
           "DaRon Bland",
           2023
          ],
          [
           "Sauce Gardner",
           2023
          ],
          [
           "Jaylon Johnson",
           2023
          ],
          [
           "Patrick Surtain II",
           2023
          ],
          [
           "Trent McDuffie",
           2023
          ],
          [
           "Devon Witherspoon",
           2023
          ],
          [
           "Kendall Fuller",
           2023
          ],
          [
           "Charvarius Ward",
           2023
          ],
          [
           "Taron Johnson",
           2023
          ],
          [
           "Jessie Bates III",
           2023
          ],
          [
           "Kyle Hamilton",
           2023
          ],
          [
           "Antoine Winfield Jr.",
           2023
          ],
          [
           "Jevon Holland",
           2023
          ],
          [
           "Justin Simmons",
           2023
          ],
          [
           "Ross Matiscik",
           2023
          ],
          [
           "Andrew DePaola",
           2023
          ],
          [
           "Mitchell Fraboni",
           2023
          ],
          [
           "Brandon Aubrey",
           2023
          ],
          [
           "Chase McLaughlin",
           2023
          ],
          [
           "Justin Tucker",
           2023
          ],
          [
           "Jake Elliott",
           2023
          ],
          [
           "AJ Cole III",
           2023
          ],
          [
           "Bradley Pinion",
           2023
          ],
          [
           "Bryan Anger",
           2023
          ],
          [
           "Derius Davis",
           2023
          ],
          [
           "Rashid Shaheed",
           2023
          ],
          [
           "Keisean Nixon",
           2023
          ],
          [
           "Marvin Mims",
           2023
          ],
          [
           "KaVontae Turpin",
           2023
          ],
          [
           "Ihmir Smith-Marsette",
           2023
          ],
          [
           "Miles Killebrew",
           2023
          ],
          [
           "Jalen Reeves-Maybin",
           2023
          ],
          [
           "Matthew Adams",
           2023
          ],
          [
           "Brenden Schooler",
           2023
          ],
          [
           "J.T. Gray",
           2023
          ],
          [
           "Lamar Jackson",
           2024
          ],
          [
           "Jared Goff",
           2024
          ],
          [
           "Josh Allen",
           2024
          ],
          [
           "Joe Burrow",
           2024
          ],
          [
           "Saquon Barkley",
           2024
          ],
          [
           "Derrick Henry",
           2024
          ],
          [
           "Jahmyr Gibbs",
           2024
          ],
          [
           "Kyle Juszczyk",
           2024
          ],
          [
           "Patrick Ricard",
           2024
          ],
          [
           "Justin Jefferson",
           2024
          ],
          [
           "Ja'Marr Chase",
           2024
          ],
          [
           "Amon-Ra St. Brown",
           2024
          ],
          [
           "Brian Thomas",
           2024
          ],
          [
           "A.J. Brown",
           2024
          ],
          [
           "Nico Collins",
           2024
          ],
          [
           "CeeDee Lamb",
           2024
          ],
          [
           "Terry McLaurin",
           2024
          ],
          [
           "Brock Bowers",
           2024
          ],
          [
           "George Kittle",
           2024
          ],
          [
           "Puka Nacua",
           2024
          ],
          [
           "Drake London",
           2024
          ],
          [
           "Tristan Wirfs",
           2024
          ],
          [
           "Jordan Mailata",
           2024
          ],
          [
           "Penei Sewell",
           2024
          ],
          [
           "Lane Johnson",
           2024
          ],
          [
           "Rashawn Slater",
           2024
          ],
          [
           "Dion Dawkins",
           2024
          ],
          [
           "Quenton Nelson",
           2024
          ],
          [
           "Joe Thuney",
           2024
          ],
          [
           "Chris Lindstrom",
           2024
          ],
          [
           "Quinn Meinerz",
           2024
          ],
          [
           "Landon Dickerson",
           2024
          ],
          [
           "Creed Humphrey",
           2024
          ],
          [
           "Frank Ragnow",
           2024
          ],
          [
           "Zach Tom",
           2024
          ],
          [
           "Zach Allen",
           2024
          ],
          [
           "Myles Garrett",
           2024
          ],
          [
           "Trey Hendrickson",
           2024
          ],
          [
           "Micah Parsons",
           2024
          ],
          [
           "Nick Bosa",
           2024
          ],
          [
           "Chris Jones",
           2024
          ],
          [
           "Cameron Heyward",
           2024
          ],
          [
           "Dexter Lawrence",
           2024
          ],
          [
           "Jalen Carter",
           2024
          ],
          [
           "Leonard Williams",
           2024
          ],
          [
           "T.J. Watt",
           2024
          ],
          [
           "Nik Bonitto",
           2024
          ],
          [
           "Andrew Van Ginkel",
           2024
          ],
          [
           "Jonathan Greenard",
           2024
          ],
          [
           "Fred Warner",
           2024
          ],
          [
           "Roquan Smith",
           2024
          ],
          [
           "Zack Baun",
           2024
          ],
          [
           "Bobby Wagner",
           2024
          ],
          [
           "Zaire Franklin",
           2024
          ],
          [
           "Frankie Luvu",
           2024
          ],
          [
           "Jack Campbell",
           2024
          ],
          [
           "Patrick Surtain II",
           2024
          ],
          [
           "Derek Stingley Jr.",
           2024
          ],
          [
           "Marlon Humphrey",
           2024
          ],
          [
           "Trent McDuffie",
           2024
          ],
          [
           "Jaylon Johnson",
           2024
          ],
          [
           "Byron Murphy",
           2024
          ],
          [
           "Garrett Williams",
           2024
          ],
          [
           "Christian Gonzalez",
           2024
          ],
          [
           "Christian Benford",
           2024
          ],
          [
           "Cooper DeJean",
           2024
          ],
          [
           "Xavier McKinney",
           2024
          ],
          [
           "Kyle Hamilton",
           2024
          ],
          [
           "Kerby Joseph",
           2024
          ],
          [
           "Brian Branch",
           2024
          ],
          [
           "Derwin James",
           2024
          ],
          [
           "Brandon Jones",
           2024
          ],
          [
           "Budda Baker",
           2024
          ],
          [
           "Ross Matiscik",
           2024
          ],
          [
           "Andrew DePaola",
           2024
          ],
          [
           "Scott Daly",
           2024
          ],
          [
           "Chris Boswell",
           2024
          ],
          [
           "Brandon Aubrey",
           2024
          ],
          [
           "Jack Fox",
           2024
          ],
          [
           "Logan Cooke",
           2024
          ],
          [
           "Michael Dickson",
           2024
          ],
          [
           "AJ Cole III",
           2024
          ],
          [
           "Marvin Mims",
           2024
          ],
          [
           "Kalif Raymond",
           2024
          ],
          [
           "KaVontae Turpin",
           2024
          ],
          [
           "Derius Davis",
           2024
          ],
          [
           "Austin Ekeler",
           2024
          ],
          [
           "Brenden Schooler",
           2024
          ],
          [
           "J.T. Gray",
           2024
          ],
          [
           "Miles Killebrew",
           2024
          ]
         ],
         "hovertemplate": "Pos=%{x}<br>Age=%{y}<br>Player=%{customdata[0]}<br>Year=%{customdata[1]}<extra></extra>",
         "legendgroup": "",
         "marker": {
          "color": "#636efa"
         },
         "name": "",
         "notched": false,
         "offsetgroup": "",
         "orientation": "v",
         "showlegend": false,
         "type": "box",
         "x": [
          "QB",
          "TE",
          "T",
          "G",
          "C",
          "EDGE",
          "DT",
          "EDGE",
          "LB",
          "LB",
          "LB",
          "CB",
          "S",
          "P",
          "P",
          "EDGE",
          "CB",
          "WR",
          "G",
          "CB",
          "WR",
          "T",
          "K",
          "S",
          "LB",
          "DT",
          "S",
          "LB",
          "TE",
          "DT",
          "QB",
          "RB",
          "EDGE",
          "LB",
          "G",
          "WR",
          "RB",
          "C",
          "WR",
          "T",
          "RB",
          "T",
          "RB",
          "P",
          "WR",
          "LB",
          "EDGE",
          "DT",
          "EDGE",
          "CB",
          "K",
          "TE",
          "G",
          "RB",
          "CB",
          "WR",
          "S",
          "T",
          "DT",
          "P",
          "G",
          "C",
          "QB",
          "LB",
          "WR",
          "LB",
          "EDGE",
          "CB",
          "S",
          "QB",
          "TE",
          "T",
          "T",
          "G",
          "C",
          "EDGE",
          "DT",
          "DT",
          "LB",
          "LB",
          "LB",
          "CB",
          "CB",
          "S",
          "S",
          "C",
          "LB",
          "EDGE",
          "T",
          "DT",
          "P",
          "WR",
          "EDGE",
          "LB",
          "QB",
          "CB",
          "WR",
          "TE",
          "RB",
          "G",
          "K",
          "S",
          "G",
          "WR",
          "RB",
          "T",
          "LB",
          "EDGE",
          "WR",
          "S",
          "WR",
          "DT",
          "CB",
          "S",
          "RB",
          "T",
          "WR",
          "CB",
          "LB",
          "P",
          "LB",
          "G",
          "K",
          "DT",
          "EDGE",
          "WR",
          "RB",
          "CB",
          "LB",
          "G",
          "QB",
          "C",
          "T",
          "CB",
          "DT",
          "EDGE",
          "TE",
          "CB",
          "S",
          "RB",
          "RB",
          "WR",
          "WR",
          "T",
          "G",
          "C",
          "EDGE",
          "DT",
          "DT",
          "EDGE",
          "LB",
          "LB",
          "CB",
          "S",
          "RET",
          "P",
          "RB",
          "LB",
          "EDGE",
          "CB",
          "G",
          "DT",
          "EDGE",
          "EDGE",
          "WR",
          "T",
          "LB",
          "S",
          "G",
          "QB",
          "WR",
          "WR",
          "RB",
          "DT",
          "TE",
          "C",
          "K",
          "WR",
          "S",
          "S",
          "CB",
          "K",
          "T",
          "CB",
          "CB",
          "LB",
          "T",
          "T",
          "TE",
          "RB",
          "WR",
          "P",
          "LB",
          "G",
          "QB",
          "EDGE",
          "C",
          "LB",
          "RB",
          "WR",
          "RB",
          "RB",
          "EDGE",
          "S",
          "EDGE",
          "G",
          "LB",
          "EDGE",
          "QB",
          "RB",
          "RB",
          "WR",
          "TE",
          "T",
          "EDGE",
          "EDGE",
          "LB",
          "LB",
          "CB",
          "P",
          "WR",
          "T",
          "DT",
          "LB",
          "G",
          "QB",
          "LB",
          "RB",
          "EDGE",
          "G",
          "RB",
          "K",
          "S",
          "DT",
          "TE",
          "WR",
          "S",
          "WR",
          "LB",
          "T",
          "T",
          "C",
          "EDGE",
          "CB",
          "P",
          "CB",
          "CB",
          "CB",
          "C",
          "WR",
          "WR",
          "S",
          "LB",
          "G",
          "G",
          "EDGE",
          "DT",
          "K",
          "WR",
          "DT",
          "LB",
          "S",
          "RB",
          "P",
          "EDGE",
          "RB",
          "T",
          "QB",
          "LB",
          "TE",
          "CB",
          "RB",
          "EDGE",
          "RB",
          "FB",
          "FB",
          "WR",
          "TE",
          "T",
          "G",
          "C",
          "EDGE",
          "DT",
          "DT",
          "LB",
          "LB",
          "LB",
          "CB",
          "S",
          "P",
          "P",
          "RB",
          "WR",
          "EDGE",
          "S",
          "EDGE",
          "DT",
          "LB",
          "K",
          "QB",
          "CB",
          "T",
          "S",
          "WR",
          "TE",
          "EDGE",
          "LB",
          "G",
          "CB",
          "LB",
          "WR",
          "CB",
          "T",
          "RB",
          "WR",
          "RB",
          "CB",
          "C",
          "LB",
          "T",
          "K",
          "G",
          "EDGE",
          "LB",
          "EDGE",
          "S",
          "T",
          "G",
          "LB",
          "RB",
          "P",
          "DT",
          "QB",
          "WR",
          "C",
          "S",
          "DT",
          "LB",
          "G",
          "RB",
          "TE",
          "CB",
          "T",
          "EDGE",
          "QB",
          "RB",
          "FB",
          "FB",
          "T",
          "G",
          "LB",
          "LB",
          "RET",
          "K",
          "WR",
          "T",
          "LB",
          "G",
          "QB",
          "WR",
          "P",
          "S",
          "EDGE",
          "CB",
          "RB",
          "WR",
          "G",
          "TE",
          "S",
          "C",
          "EDGE",
          "EDGE",
          "LB",
          "RB",
          "LB",
          "DT",
          "T",
          "EDGE",
          "T",
          "LB",
          "CB",
          "CB",
          "DT",
          "WR",
          "S",
          "C",
          "LB",
          "CB",
          "WR",
          "DT",
          "EDGE",
          "RB",
          "P",
          "EDGE",
          "S",
          "EDGE",
          "WR",
          "K",
          "RB",
          "G",
          "WR",
          "DT",
          "RB",
          "TE",
          "QB",
          "RB",
          "CB",
          "T",
          "G",
          "WR",
          "QB",
          "QB",
          "RB",
          "RB",
          "RB",
          "RB",
          "FB",
          "FB",
          "FB",
          "WR",
          "WR",
          "WR",
          "WR",
          "WR",
          "TE",
          "TE",
          "TE",
          "T",
          "T",
          "T",
          "T",
          "G",
          "G",
          "G",
          "G",
          "C",
          "C",
          "EDGE",
          "EDGE",
          "EDGE",
          "EDGE",
          "DT",
          "DT",
          "DT",
          "DT",
          "DT",
          "EDGE",
          "EDGE",
          "EDGE",
          "EDGE",
          "LB",
          "LB",
          "LB",
          "LB",
          "CB",
          "CB",
          "CB",
          "CB",
          "CB",
          "CB",
          "S",
          "S",
          "S",
          "S",
          "K",
          "P",
          "P",
          "RET",
          "RET",
          "RET",
          "ST",
          "ST",
          "K",
          "K",
          "QB",
          "QB",
          "RB",
          "RB",
          "RB",
          "RB",
          "RB",
          "FB",
          "FB",
          "WR",
          "WR",
          "WR",
          "WR",
          "WR",
          "WR",
          "TE",
          "TE",
          "TE",
          "T",
          "T",
          "T",
          "T",
          "G",
          "G",
          "G",
          "G",
          "G",
          "C",
          "C",
          "C",
          "EDGE",
          "EDGE",
          "EDGE",
          "EDGE",
          "EDGE",
          "DT",
          "DT",
          "DT",
          "DT",
          "EDGE",
          "EDGE",
          "EDGE",
          "EDGE",
          "EDGE",
          "LB",
          "LB",
          "LB",
          "LB",
          "CB",
          "CB",
          "CB",
          "CB",
          "CB",
          "S",
          "S",
          "S",
          "S",
          "S",
          "S",
          "K",
          "P",
          "P",
          "RET",
          "RET",
          "RET",
          "ST",
          "ST",
          "K",
          "K",
          "LB",
          "C",
          "EDGE",
          "RB",
          "C",
          "K",
          "QB",
          "QB",
          "RB",
          "RB",
          "RB",
          "RB",
          "RB",
          "RB",
          "FB",
          "FB",
          "WR",
          "WR",
          "WR",
          "WR",
          "WR",
          "TE",
          "TE",
          "T",
          "T",
          "T",
          "T",
          "T",
          "T",
          "T",
          "T",
          "G",
          "G",
          "G",
          "G",
          "C",
          "C",
          "EDGE",
          "EDGE",
          "EDGE",
          "EDGE",
          "EDGE",
          "EDGE",
          "DT",
          "DT",
          "DT",
          "DT",
          "DT",
          "EDGE",
          "EDGE",
          "EDGE",
          "EDGE",
          "EDGE",
          "LB",
          "LB",
          "LB",
          "LB",
          "CB",
          "CB",
          "CB",
          "CB",
          "S",
          "S",
          "S",
          "S",
          "S",
          "P",
          "P",
          "RET",
          "RET",
          "RET",
          "RET",
          "RET",
          "ST",
          "ST",
          "K",
          "RB",
          "K",
          "QB",
          "QB",
          "QB",
          "RB",
          "RB",
          "RB",
          "RB",
          "RB",
          "FB",
          "FB",
          "FB",
          "WR",
          "WR",
          "WR",
          "WR",
          "WR",
          "WR",
          "TE",
          "TE",
          "TE",
          "TE",
          "T",
          "T",
          "T",
          "T",
          "T",
          "T",
          "G",
          "G",
          "G",
          "G",
          "G",
          "G",
          "C",
          "C",
          "C",
          "G",
          "T",
          "T",
          "EDGE",
          "EDGE",
          "EDGE",
          "EDGE",
          "EDGE",
          "EDGE",
          "EDGE",
          "DT",
          "DT",
          "DT",
          "DT",
          "DT",
          "DT",
          "DT",
          "DT",
          "EDGE",
          "EDGE",
          "EDGE",
          "EDGE",
          "EDGE",
          "EDGE",
          "EDGE",
          "EDGE",
          "LB",
          "LB",
          "LB",
          "LB",
          "CB",
          "CB",
          "CB",
          "CB",
          "CB",
          "CB",
          "S",
          "S",
          "S",
          "S",
          "S",
          "S",
          "S",
          "S",
          "K",
          "K",
          "P",
          "P",
          "P",
          "P",
          "RET",
          "RET",
          "RET",
          "RET",
          "ST",
          "ST",
          "ST",
          "ST",
          "K",
          "K",
          "WR",
          "WR",
          "C",
          "G",
          "QB",
          "QB",
          "QB",
          "QB",
          "RB",
          "RB",
          "RB",
          "RB",
          "RB",
          "FB",
          "FB",
          "FB",
          "WR",
          "WR",
          "WR",
          "WR",
          "WR",
          "WR",
          "TE",
          "TE",
          "TE",
          "T",
          "T",
          "T",
          "T",
          "T",
          "T",
          "G",
          "G",
          "G",
          "G",
          "G",
          "G",
          "G",
          "C",
          "C",
          "C",
          "C",
          "G",
          "G",
          "T",
          "T",
          "EDGE",
          "EDGE",
          "EDGE",
          "EDGE",
          "EDGE",
          "EDGE",
          "EDGE",
          "EDGE",
          "EDGE",
          "DT",
          "DT",
          "DT",
          "DT",
          "DT",
          "DT",
          "DT",
          "EDGE",
          "EDGE",
          "EDGE",
          "EDGE",
          "EDGE",
          "LB",
          "LB",
          "LB",
          "LB",
          "LB",
          "CB",
          "CB",
          "CB",
          "CB",
          "CB",
          "CB",
          "CB",
          "CB",
          "CB",
          "S",
          "S",
          "S",
          "S",
          "S",
          "S",
          "S",
          "S",
          "S",
          "S",
          "S",
          "K",
          "K",
          "P",
          "P",
          "RET",
          "RET",
          "RET",
          "RET",
          "ST",
          "ST",
          "ST",
          "ST",
          "K",
          "K",
          "QB",
          "QB",
          "QB",
          "RB",
          "RB",
          "RB",
          "RB",
          "RB",
          "FB",
          "FB",
          "FB",
          "WR",
          "WR",
          "WR",
          "WR",
          "WR",
          "WR",
          "WR",
          "TE",
          "TE",
          "T",
          "T",
          "T",
          "T",
          "T",
          "G",
          "G",
          "G",
          "G",
          "G",
          "G",
          "C",
          "C",
          "C",
          "C",
          "G",
          "T",
          "T",
          "EDGE",
          "EDGE",
          "EDGE",
          "EDGE",
          "EDGE",
          "EDGE",
          "EDGE",
          "EDGE",
          "EDGE",
          "DT",
          "DT",
          "DT",
          "DT",
          "DT",
          "DT",
          "DT",
          "DT",
          "DT",
          "DT",
          "EDGE",
          "EDGE",
          "EDGE",
          "EDGE",
          "EDGE",
          "EDGE",
          "EDGE",
          "EDGE",
          "EDGE",
          "LB",
          "LB",
          "LB",
          "LB",
          "LB",
          "LB",
          "LB",
          "CB",
          "CB",
          "CB",
          "CB",
          "CB",
          "CB",
          "CB",
          "S",
          "S",
          "S",
          "S",
          "S",
          "S",
          "S",
          "P",
          "P",
          "RET",
          "RET",
          "RET",
          "RET",
          "RET",
          "ST",
          "ST",
          "ST",
          "K",
          "K",
          "QB",
          "QB",
          "QB",
          "RB",
          "RB",
          "RB",
          "RB",
          "RB",
          "RB",
          "FB",
          "FB",
          "FB",
          "WR",
          "WR",
          "WR",
          "WR",
          "WR",
          "WR",
          "TE",
          "TE",
          "TE",
          "T",
          "T",
          "T",
          "T",
          "T",
          "G",
          "G",
          "G",
          "G",
          "G",
          "C",
          "C",
          "C",
          "C",
          "G",
          "T",
          "T",
          "EDGE",
          "EDGE",
          "EDGE",
          "EDGE",
          "DT",
          "DT",
          "DT",
          "DT",
          "DT",
          "DT",
          "DT",
          "EDGE",
          "EDGE",
          "EDGE",
          "EDGE",
          "EDGE",
          "EDGE",
          "EDGE",
          "EDGE",
          "LB",
          "LB",
          "LB",
          "LB",
          "LB",
          "LB",
          "CB",
          "CB",
          "CB",
          "CB",
          "CB",
          "CB",
          "CB",
          "S",
          "S",
          "S",
          "S",
          "S",
          "S",
          "P",
          "P",
          "P",
          "RET",
          "RET",
          "RET",
          "RET",
          "RET",
          "ST",
          "ST",
          "ST",
          "ST",
          "K",
          "K",
          "QB",
          "QB",
          "QB",
          "RB",
          "RB",
          "RB",
          "RB",
          "RB",
          "RB",
          "FB",
          "FB",
          "FB",
          "WR",
          "WR",
          "WR",
          "WR",
          "WR",
          "WR",
          "WR",
          "WR",
          "WR",
          "TE",
          "TE",
          "TE",
          "T",
          "T",
          "T",
          "T",
          "T",
          "T",
          "G",
          "G",
          "G",
          "G",
          "G",
          "G",
          "C",
          "C",
          "C",
          "G",
          "T",
          "T",
          "EDGE",
          "EDGE",
          "EDGE",
          "EDGE",
          "EDGE",
          "DT",
          "DT",
          "DT",
          "DT",
          "DT",
          "DT",
          "DT",
          "DT",
          "EDGE",
          "EDGE",
          "EDGE",
          "EDGE",
          "EDGE",
          "LB",
          "LB",
          "LB",
          "LB",
          "LB",
          "LB",
          "CB",
          "CB",
          "CB",
          "CB",
          "CB",
          "CB",
          "CB",
          "CB",
          "CB",
          "S",
          "S",
          "S",
          "S",
          "S",
          "S",
          "S",
          "S",
          "S",
          "K",
          "K",
          "P",
          "P",
          "P",
          "RET",
          "RET",
          "RET",
          "RET",
          "ST",
          "ST",
          "ST",
          "K",
          "K",
          "QB",
          "QB",
          "QB",
          "QB",
          "RB",
          "RB",
          "RB",
          "RB",
          "FB",
          "FB",
          "FB",
          "WR",
          "WR",
          "WR",
          "WR",
          "WR",
          "WR",
          "WR",
          "WR",
          "TE",
          "TE",
          "T",
          "T",
          "T",
          "T",
          "G",
          "G",
          "G",
          "G",
          "G",
          "G",
          "C",
          "C",
          "C",
          "G",
          "T",
          "T",
          "EDGE",
          "EDGE",
          "EDGE",
          "EDGE",
          "EDGE",
          "EDGE",
          "DT",
          "DT",
          "DT",
          "DT",
          "DT",
          "DT",
          "DT",
          "DT",
          "EDGE",
          "EDGE",
          "EDGE",
          "EDGE",
          "EDGE",
          "LB",
          "LB",
          "LB",
          "LB",
          "LB",
          "LB",
          "LB",
          "CB",
          "CB",
          "CB",
          "CB",
          "CB",
          "CB",
          "CB",
          "CB",
          "S",
          "S",
          "S",
          "S",
          "S",
          "S",
          "LS",
          "K",
          "K",
          "P",
          "P",
          "P",
          "RET",
          "RET",
          "RET",
          "RET",
          "RET",
          "ST",
          "ST",
          "ST",
          "ST",
          "ST",
          "ST",
          "ST",
          "ST",
          "ST",
          "ST",
          "ST",
          "ST",
          "ST",
          "ST",
          "ST",
          "ST",
          "ST",
          "ST",
          "ST",
          "ST",
          "ST",
          "ST",
          "ST",
          "ST",
          "K",
          "K",
          "QB",
          "QB",
          "QB",
          "RB",
          "RB",
          "RB",
          "RB",
          "RB",
          "RB",
          "RB",
          "FB",
          "FB",
          "WR",
          "WR",
          "WR",
          "WR",
          "WR",
          "WR",
          "WR",
          "WR",
          "TE",
          "TE",
          "TE",
          "T",
          "T",
          "T",
          "T",
          "G",
          "G",
          "G",
          "G",
          "G",
          "G",
          "C",
          "C",
          "C",
          "C",
          "C",
          "T",
          "T",
          "EDGE",
          "EDGE",
          "EDGE",
          "EDGE",
          "EDGE",
          "EDGE",
          "EDGE",
          "DT",
          "DT",
          "DT",
          "DT",
          "DT",
          "DT",
          "DT",
          "EDGE",
          "EDGE",
          "EDGE",
          "EDGE",
          "EDGE",
          "LB",
          "LB",
          "LB",
          "LB",
          "LB",
          "LB",
          "CB",
          "CB",
          "CB",
          "CB",
          "CB",
          "CB",
          "S",
          "S",
          "S",
          "S",
          "S",
          "S",
          "S",
          "P",
          "P",
          "P",
          "P",
          "RET",
          "RET",
          "RET",
          "RET",
          "RET",
          "RET",
          "ST",
          "ST",
          "ST",
          "K",
          "K",
          "QB",
          "QB",
          "RB",
          "RB",
          "RB",
          "RB",
          "RB",
          "FB",
          "FB",
          "WR",
          "WR",
          "WR",
          "WR",
          "WR",
          "TE",
          "TE",
          "T",
          "T",
          "T",
          "T",
          "T",
          "G",
          "G",
          "G",
          "G",
          "C",
          "C",
          "C",
          "G",
          "G",
          "T",
          "T",
          "T",
          "EDGE",
          "EDGE",
          "EDGE",
          "EDGE",
          "DT",
          "DT",
          "DT",
          "DT",
          "DT",
          "DT",
          "EDGE",
          "EDGE",
          "EDGE",
          "EDGE",
          "LB",
          "LB",
          "LB",
          "LB",
          "LB",
          "LB",
          "LB",
          "LB",
          "LB",
          "LB",
          "LB",
          "LB",
          "LB",
          "CB",
          "CB",
          "CB",
          "CB",
          "CB",
          "CB",
          "CB",
          "CB",
          "S",
          "S",
          "S",
          "S",
          "S",
          "S",
          "P",
          "P",
          "P",
          "RET",
          "RET",
          "RET",
          "RET",
          "RET",
          "RET",
          "ST",
          "ST",
          "ST",
          "ST",
          "ST",
          "K",
          "K",
          "EDGE",
          "EDGE",
          "EDGE",
          "QB",
          "QB",
          "QB",
          "RB",
          "RB",
          "RB",
          "RB",
          "WR",
          "WR",
          "WR",
          "WR",
          "WR",
          "WR",
          "TE",
          "TE",
          "TE",
          "TE",
          "T",
          "T",
          "T",
          "T",
          "T",
          "T",
          "T",
          "T",
          "G",
          "G",
          "G",
          "G",
          "G",
          "G",
          "G",
          "C",
          "C",
          "C",
          "C",
          "T",
          "T",
          "EDGE",
          "EDGE",
          "EDGE",
          "EDGE",
          "EDGE",
          "DT",
          "DT",
          "DT",
          "DT",
          "DT",
          "DT",
          "DT",
          "EDGE",
          "EDGE",
          "EDGE",
          "EDGE",
          "LB",
          "LB",
          "LB",
          "LB",
          "LB",
          "LB",
          "LB",
          "CB",
          "CB",
          "CB",
          "CB",
          "CB",
          "CB",
          "CB",
          "CB",
          "S",
          "S",
          "S",
          "S",
          "S",
          "S",
          "S",
          "S",
          "K",
          "K",
          "P",
          "P",
          "P",
          "RET",
          "RET",
          "RET",
          "RET",
          "RET",
          "ST",
          "ST",
          "ST",
          "K",
          "K",
          "QB",
          "QB",
          "RB",
          "RB",
          "RB",
          "RB",
          "RB",
          "WR",
          "WR",
          "WR",
          "WR",
          "WR",
          "TE",
          "TE",
          "TE",
          "RB",
          "RB",
          "T",
          "T",
          "T",
          "T",
          "T",
          "T",
          "G",
          "G",
          "G",
          "G",
          "G",
          "C",
          "C",
          "C",
          "G",
          "T",
          "EDGE",
          "EDGE",
          "EDGE",
          "EDGE",
          "EDGE",
          "EDGE",
          "DT",
          "DT",
          "DT",
          "DT",
          "DT",
          "EDGE",
          "EDGE",
          "EDGE",
          "EDGE",
          "LB",
          "LB",
          "LB",
          "LB",
          "LB",
          "CB",
          "CB",
          "CB",
          "CB",
          "CB",
          "CB",
          "CB",
          "S",
          "S",
          "S",
          "S",
          "S",
          "K",
          "P",
          "P",
          "P",
          "P",
          "RET",
          "RET",
          "RET",
          "RET",
          "RET",
          "ST",
          "ST",
          "ST",
          "K",
          "K",
          "QB",
          "QB",
          "RB",
          "RB",
          "RB",
          "RB",
          "WR",
          "WR",
          "WR",
          "WR",
          "WR",
          "WR",
          "TE",
          "TE",
          "RB",
          "T",
          "T",
          "T",
          "T",
          "T",
          "T",
          "G",
          "G",
          "G",
          "G",
          "G",
          "G",
          "C",
          "C",
          "C",
          "EDGE",
          "EDGE",
          "EDGE",
          "EDGE",
          "EDGE",
          "DT",
          "DT",
          "DT",
          "DT",
          "DT",
          "DT",
          "EDGE",
          "EDGE",
          "EDGE",
          "EDGE",
          "LB",
          "LB",
          "LB",
          "LB",
          "LB",
          "LB",
          "CB",
          "CB",
          "CB",
          "CB",
          "CB",
          "CB",
          "CB",
          "CB",
          "CB",
          "CB",
          "S",
          "S",
          "S",
          "S",
          "S",
          "K",
          "P",
          "P",
          "P",
          "RET",
          "RET",
          "RET",
          "RET",
          "RET",
          "ST",
          "ST",
          "K",
          "K",
          "QB",
          "QB",
          "QB",
          "RB",
          "RB",
          "RB",
          "RB",
          "WR",
          "WR",
          "WR",
          "WR",
          "WR",
          "WR",
          "WR",
          "WR",
          "WR",
          "TE",
          "TE",
          "TE",
          "WR",
          "T",
          "T",
          "T",
          "T",
          "G",
          "G",
          "G",
          "G",
          "C",
          "C",
          "C",
          "C",
          "G",
          "T",
          "T",
          "EDGE",
          "EDGE",
          "EDGE",
          "EDGE",
          "EDGE",
          "EDGE",
          "DT",
          "DT",
          "DT",
          "DT",
          "DT",
          "EDGE",
          "EDGE",
          "EDGE",
          "EDGE",
          "LB",
          "LB",
          "LB",
          "LB",
          "LB",
          "LB",
          "LB",
          "LB",
          "LB",
          "CB",
          "CB",
          "CB",
          "CB",
          "CB",
          "CB",
          "CB",
          "S",
          "S",
          "S",
          "S",
          "S",
          "S",
          "S",
          "S",
          "LS",
          "LS",
          "P",
          "P",
          "P",
          "RET",
          "RET",
          "RET",
          "RET",
          "RET",
          "RET",
          "ST",
          "ST",
          "ST",
          "ST",
          "K",
          "K",
          "K",
          "QB",
          "QB",
          "QB",
          "RB",
          "RB",
          "RB",
          "RB",
          "RB",
          "WR",
          "WR",
          "WR",
          "WR",
          "WR",
          "WR",
          "TE",
          "TE",
          "TE",
          "T",
          "T",
          "T",
          "T",
          "T",
          "G",
          "G",
          "G",
          "G",
          "C",
          "C",
          "C",
          "G",
          "G",
          "T",
          "DT",
          "DT",
          "EDGE",
          "EDGE",
          "EDGE",
          "EDGE",
          "DT",
          "DT",
          "DT",
          "DT",
          "EDGE",
          "EDGE",
          "EDGE",
          "EDGE",
          "LB",
          "LB",
          "LB",
          "LB",
          "LB",
          "LB",
          "CB",
          "CB",
          "CB",
          "CB",
          "CB",
          "CB",
          "CB",
          "S",
          "S",
          "S",
          "S",
          "S",
          "S",
          "S",
          "S",
          "S",
          "LS",
          "LS",
          "K",
          "K",
          "P",
          "P",
          "RET",
          "RET",
          "RET",
          "RET",
          "RET",
          "ST",
          "ST",
          "ST",
          "ST",
          "K",
          "K",
          "RB",
          "S",
          "QB",
          "QB",
          "QB",
          "RB",
          "RB",
          "RB",
          "RB",
          "RB",
          "FB",
          "WR",
          "WR",
          "WR",
          "WR",
          "WR",
          "WR",
          "WR",
          "TE",
          "TE",
          "T",
          "T",
          "T",
          "T",
          "T",
          "G",
          "G",
          "G",
          "G",
          "C",
          "C",
          "G",
          "T",
          "DT",
          "DT",
          "DT",
          "EDGE",
          "EDGE",
          "EDGE",
          "EDGE",
          "DT",
          "DT",
          "DT",
          "DT",
          "DT",
          "EDGE",
          "EDGE",
          "EDGE",
          "EDGE",
          "EDGE",
          "LB",
          "LB",
          "LB",
          "LB",
          "LB",
          "LB",
          "LB",
          "CB",
          "CB",
          "CB",
          "CB",
          "CB",
          "CB",
          "CB",
          "S",
          "S",
          "S",
          "S",
          "S",
          "S",
          "S",
          "S",
          "LS",
          "LS",
          "LS",
          "LS",
          "K",
          "K",
          "K",
          "P",
          "P",
          "P",
          "P",
          "RET",
          "RET",
          "RET",
          "RET",
          "RET",
          "RET",
          "RET",
          "ST",
          "ST",
          "ST",
          "QB",
          "QB",
          "QB",
          "RB",
          "RB",
          "RB",
          "RB",
          "FB",
          "FB",
          "FB",
          "FB",
          "WR",
          "WR",
          "WR",
          "WR",
          "WR",
          "WR",
          "WR",
          "WR",
          "WR",
          "TE",
          "TE",
          "TE",
          "TE",
          "T",
          "T",
          "T",
          "T",
          "T",
          "T",
          "G",
          "G",
          "G",
          "G",
          "G",
          "C",
          "C",
          "C",
          "G",
          "T",
          "DT",
          "DT",
          "EDGE",
          "EDGE",
          "EDGE",
          "EDGE",
          "EDGE",
          "DT",
          "DT",
          "DT",
          "DT",
          "EDGE",
          "EDGE",
          "EDGE",
          "EDGE",
          "LB",
          "LB",
          "LB",
          "LB",
          "LB",
          "LB",
          "LB",
          "CB",
          "CB",
          "CB",
          "CB",
          "CB",
          "CB",
          "CB",
          "CB",
          "CB",
          "S",
          "S",
          "S",
          "S",
          "S",
          "LS",
          "LS",
          "LS",
          "K",
          "K",
          "K",
          "K",
          "P",
          "P",
          "P",
          "RET",
          "RET",
          "RET",
          "RET",
          "RET",
          "RET",
          "ST",
          "ST",
          "ST",
          "ST",
          "ST",
          "QB",
          "QB",
          "QB",
          "QB",
          "RB",
          "RB",
          "RB",
          "FB",
          "FB",
          "WR",
          "WR",
          "WR",
          "WR",
          "WR",
          "WR",
          "WR",
          "WR",
          "TE",
          "TE",
          "WR",
          "WR",
          "T",
          "T",
          "T",
          "T",
          "T",
          "T",
          "G",
          "G",
          "G",
          "G",
          "G",
          "C",
          "C",
          "T",
          "DT",
          "EDGE",
          "EDGE",
          "EDGE",
          "EDGE",
          "DT",
          "DT",
          "DT",
          "DT",
          "DT",
          "EDGE",
          "EDGE",
          "EDGE",
          "EDGE",
          "LB",
          "LB",
          "LB",
          "LB",
          "LB",
          "LB",
          "LB",
          "CB",
          "CB",
          "CB",
          "CB",
          "CB",
          "CB",
          "CB",
          "CB",
          "CB",
          "CB",
          "S",
          "S",
          "S",
          "S",
          "S",
          "S",
          "S",
          "LS",
          "LS",
          "LS",
          "K",
          "K",
          "P",
          "P",
          "P",
          "P",
          "RET",
          "RET",
          "RET",
          "RET",
          "RET",
          "ST",
          "ST",
          "ST"
         ],
         "x0": " ",
         "xaxis": "x",
         "y": [
          24,
          29,
          25,
          28,
          29,
          33,
          29,
          30,
          27,
          28,
          25,
          24,
          30,
          24,
          30,
          26,
          26,
          26,
          39,
          24,
          23,
          26,
          32,
          25,
          31,
          28,
          29,
          25,
          24,
          26,
          35,
          27,
          29,
          27,
          29,
          28,
          27,
          29,
          23,
          25,
          22,
          30,
          31,
          35,
          27,
          23,
          31,
          27,
          35,
          22,
          25,
          29,
          33,
          28,
          22,
          30,
          35,
          30,
          25,
          31,
          29,
          24,
          23,
          26,
          30,
          26,
          28,
          30,
          30,
          32,
          29,
          33,
          30,
          30,
          29,
          27,
          33,
          26,
          23,
          28,
          24,
          26,
          25,
          23,
          26,
          30,
          28,
          23,
          26,
          29,
          28,
          22,
          30,
          23,
          30,
          33,
          28,
          25,
          28,
          25,
          27,
          28,
          30,
          23,
          28,
          27,
          26,
          29,
          27,
          30,
          30,
          28,
          29,
          29,
          28,
          27,
          29,
          27,
          23,
          25,
          28,
          39,
          31,
          29,
          27,
          31,
          24,
          31,
          23,
          30,
          36,
          24,
          24,
          31,
          34,
          32,
          35,
          24,
          28,
          23,
          28,
          29,
          40,
          32,
          30,
          29,
          31,
          23,
          24,
          24,
          29,
          27,
          27,
          31,
          24,
          29,
          25,
          24,
          28,
          26,
          31,
          30,
          28,
          25,
          29,
          28,
          29,
          29,
          26,
          37,
          31,
          30,
          29,
          28,
          26,
          31,
          30,
          23,
          37,
          27,
          29,
          28,
          28,
          30,
          32,
          29,
          31,
          28,
          22,
          34,
          26,
          26,
          25,
          29,
          33,
          31,
          26,
          24,
          27,
          25,
          25,
          24,
          24,
          27,
          23,
          31,
          28,
          29,
          30,
          24,
          29,
          27,
          23,
          28,
          29,
          30,
          30,
          30,
          26,
          27,
          27,
          29,
          24,
          25,
          32,
          27,
          28,
          24,
          32,
          26,
          30,
          33,
          23,
          24,
          27,
          25,
          25,
          26,
          26,
          33,
          28,
          32,
          29,
          29,
          30,
          26,
          27,
          25,
          27,
          31,
          24,
          31,
          25,
          31,
          27,
          23,
          29,
          31,
          25,
          25,
          28,
          28,
          24,
          32,
          26,
          26,
          29,
          34,
          27,
          26,
          26,
          25,
          26,
          25,
          33,
          33,
          28,
          28,
          29,
          27,
          32,
          28,
          28,
          25,
          29,
          31,
          31,
          29,
          32,
          30,
          28,
          31,
          31,
          24,
          26,
          25,
          24,
          28,
          32,
          28,
          26,
          30,
          31,
          24,
          24,
          24,
          29,
          28,
          24,
          31,
          31,
          23,
          34,
          27,
          32,
          26,
          27,
          33,
          30,
          29,
          30,
          33,
          29,
          29,
          27,
          23,
          30,
          27,
          26,
          29,
          32,
          28,
          27,
          26,
          27,
          24,
          26,
          31,
          32,
          24,
          22,
          29,
          30,
          30,
          28,
          26,
          34,
          35,
          29,
          28,
          32,
          29,
          25,
          29,
          27,
          31,
          27,
          28,
          29,
          22,
          29,
          24,
          25,
          27,
          28,
          26,
          29,
          25,
          30,
          28,
          24,
          26,
          25,
          30,
          28,
          29,
          30,
          34,
          35,
          26,
          24,
          28,
          29,
          26,
          24,
          30,
          32,
          30,
          25,
          27,
          21,
          25,
          29,
          28,
          27,
          27,
          26,
          28,
          26,
          34,
          33,
          22,
          27,
          23,
          30,
          25,
          26,
          30,
          28,
          25,
          27,
          30,
          27,
          27,
          23,
          23,
          36,
          26,
          25,
          28,
          34,
          30,
          31,
          25,
          26,
          29,
          30,
          32,
          25,
          32,
          31,
          29,
          24,
          30,
          35,
          29,
          31,
          32,
          26,
          27,
          29,
          26,
          30,
          27,
          23,
          27,
          22,
          29,
          26,
          24,
          29,
          26,
          28,
          33,
          28,
          26,
          25,
          32,
          31,
          25,
          28,
          27,
          33,
          24,
          38,
          30,
          27,
          23,
          24,
          22,
          30,
          26,
          24,
          24,
          30,
          38,
          28,
          28,
          22,
          27,
          31,
          37,
          36,
          30,
          34,
          24,
          29,
          24,
          26,
          25,
          27,
          31,
          33,
          29,
          25,
          32,
          30,
          25,
          31,
          25,
          29,
          32,
          31,
          28,
          25,
          31,
          22,
          28,
          29,
          27,
          26,
          26,
          35,
          25,
          32,
          29,
          29,
          23,
          25,
          26,
          22,
          23,
          26,
          23,
          27,
          33,
          29,
          26,
          29,
          32,
          28,
          26,
          24,
          32,
          25,
          31,
          25,
          25,
          24,
          27,
          31,
          29,
          31,
          30,
          36,
          26,
          25,
          29,
          23,
          32,
          29,
          26,
          23,
          23,
          30,
          25,
          27,
          24,
          27,
          27,
          25,
          27,
          27,
          29,
          32,
          26,
          28,
          26,
          28,
          22,
          26,
          26,
          24,
          34,
          31,
          26,
          32,
          27,
          37,
          31,
          25,
          30,
          23,
          28,
          26,
          27,
          27,
          28,
          29,
          27,
          24,
          30,
          26,
          31,
          28,
          26,
          23,
          33,
          33,
          23,
          27,
          24,
          32,
          31,
          30,
          27,
          29,
          25,
          28,
          32,
          28,
          25,
          23,
          26,
          23,
          26,
          32,
          32,
          24,
          23,
          44,
          33,
          30,
          28,
          24,
          24,
          26,
          24,
          22,
          27,
          28,
          25,
          28,
          28,
          26,
          31,
          26,
          23,
          30,
          27,
          25,
          29,
          25,
          23,
          24,
          27,
          30,
          27,
          24,
          26,
          32,
          27,
          33,
          28,
          25,
          31,
          24,
          33,
          32,
          27,
          29,
          27,
          30,
          27,
          24,
          29,
          28,
          29,
          25,
          28,
          28,
          28,
          28,
          33,
          28,
          27,
          25,
          25,
          29,
          22,
          31,
          25,
          27,
          24,
          25,
          24,
          34,
          24,
          33,
          28,
          28,
          25,
          23,
          28,
          27,
          34,
          30,
          36,
          31,
          23,
          26,
          31,
          31,
          33,
          27,
          29,
          36,
          23,
          26,
          21,
          28,
          29,
          25,
          28,
          24,
          27,
          35,
          30,
          25,
          34,
          27,
          33,
          25,
          30,
          27,
          24,
          24,
          25,
          25,
          28,
          30,
          29,
          29,
          29,
          29,
          32,
          29,
          25,
          26,
          28,
          30,
          26,
          29,
          25,
          26,
          28,
          30,
          26,
          29,
          27,
          28,
          25,
          28,
          29,
          33,
          26,
          34,
          29,
          21,
          24,
          29,
          31,
          26,
          30,
          32,
          27,
          28,
          31,
          30,
          29,
          29,
          24,
          26,
          23,
          27,
          29,
          24,
          31,
          30,
          32,
          24,
          28,
          27,
          28,
          25,
          24,
          35,
          24,
          32,
          25,
          29,
          29,
          23,
          32,
          24,
          27,
          34,
          33,
          29,
          32,
          27,
          30,
          27,
          28,
          25,
          25,
          28,
          23,
          35,
          36,
          32,
          34,
          31,
          28,
          23,
          28,
          27,
          25,
          25,
          26,
          24,
          30,
          35,
          28,
          34,
          32,
          26,
          23,
          24,
          25,
          25,
          30,
          29,
          25,
          30,
          26,
          28,
          25,
          25,
          26,
          32,
          22,
          25,
          29,
          27,
          29,
          26,
          27,
          30,
          26,
          28,
          27,
          34,
          29,
          22,
          27,
          30,
          26,
          25,
          21,
          22,
          29,
          22,
          31,
          27,
          32,
          27,
          22,
          29,
          25,
          32,
          27,
          23,
          24,
          28,
          30,
          30,
          32,
          27,
          32,
          29,
          29,
          22,
          29,
          29,
          25,
          28,
          25,
          24,
          23,
          29,
          36,
          26,
          36,
          26,
          24,
          26,
          27,
          35,
          27,
          30,
          26,
          28,
          32,
          25,
          30,
          26,
          22,
          33,
          27,
          29,
          35,
          21,
          28,
          23,
          28,
          29,
          26,
          30,
          26,
          37,
          33,
          36,
          35,
          29,
          27,
          26,
          26,
          26,
          25,
          24,
          31,
          27,
          26,
          27,
          28,
          31,
          34,
          24,
          29,
          23,
          30,
          36,
          26,
          27,
          28,
          28,
          24,
          31,
          25,
          28,
          29,
          30,
          27,
          23,
          26,
          31,
          25,
          25,
          28,
          23,
          30,
          32,
          30,
          24,
          31,
          33,
          24,
          23,
          25,
          28,
          23,
          23,
          26,
          30,
          26,
          30,
          28,
          29,
          24,
          26,
          37,
          22,
          27,
          30,
          31,
          24,
          23,
          34,
          28,
          29,
          35,
          24,
          25,
          23,
          26,
          27,
          28,
          30,
          26,
          30,
          27,
          25,
          28,
          30,
          21,
          27,
          26,
          29,
          22,
          22,
          37,
          37,
          34,
          32,
          25,
          27,
          26,
          28,
          23,
          28,
          28,
          25,
          28,
          28,
          22,
          25,
          29,
          28,
          26,
          33,
          32,
          25,
          27,
          25,
          29,
          25,
          29,
          29,
          31,
          23,
          29,
          32,
          26,
          31,
          29,
          27,
          30,
          28,
          28,
          26,
          22,
          27,
          30,
          24,
          23,
          25,
          31,
          28,
          25,
          26,
          30,
          24,
          23,
          24,
          34,
          23,
          32,
          23,
          29,
          24,
          30,
          25,
          32,
          22,
          23,
          28,
          30,
          25,
          23,
          24,
          30,
          21,
          28,
          24,
          27,
          25,
          25,
          24,
          26,
          28,
          28,
          27,
          31,
          25,
          27,
          29,
          29,
          23,
          29,
          27,
          24,
          25,
          22,
          28,
          23,
          28,
          23,
          24,
          28,
          31,
          37,
          34,
          32,
          22,
          26,
          28,
          29,
          26,
          32,
          27,
          26,
          26,
          29,
          22,
          27,
          25,
          27,
          24,
          25,
          29,
          24,
          32,
          30,
          33,
          25,
          30,
          28,
          23,
          24,
          26,
          23,
          30,
          25,
          27,
          24,
          30,
          25,
          29,
          24,
          28,
          24,
          32,
          27,
          24,
          26,
          23,
          24,
          31,
          25,
          22,
          25,
          25,
          30,
          27,
          28,
          24,
          22,
          28,
          23,
          31,
          24,
          25,
          29,
          26,
          25,
          26,
          24,
          31,
          27,
          27,
          29,
          25,
          25,
          28,
          27,
          26,
          34,
          39,
          30,
          27,
          24,
          29,
          31,
          21,
          31,
          30,
          32,
          29,
          24,
          24,
          25,
          23,
          27,
          25,
          23,
          27,
          24,
          22,
          26,
          23,
          26,
          32,
          23,
          28,
          26,
          23,
          27,
          24,
          24,
          28,
          23,
          42,
          26,
          26,
          36,
          38,
          26,
          30,
          25,
          27,
          23,
          21,
          28,
          26,
          30,
          27,
          26,
          32,
          23,
          23,
          31,
          27,
          27,
          26,
          30,
          31,
          31,
          25,
          34,
          27,
          32,
          31,
          25,
          25,
          29,
          28,
          30,
          24,
          26,
          30,
          33,
          27,
          26,
          24,
          26,
          25,
          26,
          30,
          26,
          26,
          24,
          27,
          28,
          26,
          25,
          27,
          27,
          26,
          32,
          26,
          25,
          26,
          27,
          25,
          24,
          33,
          23,
          26,
          25,
          28,
          27,
          26,
          22,
          31,
          23,
          27,
          26,
          26,
          28,
          32,
          39,
          25,
          28,
          33,
          29,
          32,
          23,
          24,
          23,
          27,
          25,
          25,
          25,
          30,
          31,
          27,
          31,
          39,
          21,
          25,
          24,
          28,
          23,
          25,
          28,
          27,
          28,
          23,
          24,
          27,
          27,
          31,
          25,
          26,
          28,
          32,
          33,
          27,
          26,
          32,
          29,
          25,
          27,
          31,
          26,
          26,
          22,
          28,
          27,
          25,
          23,
          28,
          30,
          25,
          28,
          28,
          30,
          29,
          28,
          27,
          24,
          33,
          28,
          26,
          26,
          25,
          30,
          27,
          32,
          27,
          24,
          25,
          26,
          24,
          26,
          24,
          30,
          23,
          26,
          28,
          26,
          27,
          27,
          30,
          22,
          28,
          31,
          29,
          24,
          28,
          26,
          29,
          28,
          29,
          23,
          22,
          25,
          24,
          24,
          31,
          22,
          29,
          28,
          27,
          27,
          41,
          27,
          34,
          26,
          40,
          25,
          32,
          23,
          25,
          22,
          22,
          29,
          25,
          28,
          24,
          27,
          25,
          28,
          28,
          27,
          23,
          26,
          33,
          29,
          36,
          27,
          26,
          28,
          29,
          26,
          26,
          29,
          27,
          27,
          28,
          28,
          30,
          32,
          28,
          26,
          25,
          32,
          28,
          31,
          30,
          25,
          22,
          26,
          27,
          29,
          28,
          27,
          30,
          28,
          27,
          28,
          24,
          29,
          26,
          25,
          27,
          23,
          27,
          26,
          25,
          23,
          27,
          26,
          28,
          26,
          21,
          22,
          30,
          28,
          24,
          28,
          24,
          32,
          31,
          27,
          27,
          33,
          35,
          27,
          31,
          31,
          22,
          26,
          22,
          27,
          25,
          21,
          27,
          32,
          30,
          28,
          23,
          39,
          24,
          21,
          23,
          24,
          24,
          26,
          25,
          24,
          29,
          26,
          29,
          25,
          28,
          22,
          23,
          33,
          28,
          29,
          27,
          27,
          27,
          27,
          22,
          28,
          34,
          29,
          31,
          29,
          29,
          25,
          24,
          29,
          24,
          29,
          23,
          26,
          25,
          28,
          27,
          24,
          30,
          29,
          27,
          29,
          23,
          30,
          28,
          26,
          27,
          21,
          29,
          26,
          28,
          26,
          28,
          25,
          24,
          30,
          25,
          22,
          23,
          29,
          25,
          24,
          22,
          32,
          32,
          28,
          23,
          30,
          23,
          22,
          27,
          26,
          32,
          25,
          24,
          29,
          22,
          31,
          23,
          25,
          24,
          24,
          26,
          30,
          27,
          23,
          27,
          26,
          26,
          30,
          24,
          31,
          25,
          25,
          25,
          28,
          30,
          27,
          28,
          23,
          29,
          35,
          30,
          32,
          30,
          28,
          30,
          24,
          25,
          27,
          33,
          28,
          30,
          26,
          25,
          25,
          25,
          25,
          29,
          27,
          27,
          29,
          24,
          27,
          30,
          28,
          29,
          29,
          24,
          26,
          31,
          23,
          27,
          30,
          27,
          23,
          23,
          24,
          23,
          28,
          26,
          30,
          29,
          33,
          29,
          24,
          22,
          23,
          28,
          21,
          31,
          34,
          23,
          30,
          25,
          37,
          25,
          24,
          26,
          25,
          25,
          25,
          28,
          27,
          26,
          28,
          21,
          23,
          23,
          26,
          31,
          31,
          23,
          28,
          27,
          26,
          29,
          32,
          28,
          24,
          29,
          29,
          27,
          29,
          33,
          27,
          24,
          26,
          21,
          26,
          25,
          25,
          26,
          31,
          21,
          28,
          29,
          26,
          26,
          30,
          31,
          26,
          29,
          28,
          24,
          24,
          25,
          30,
          23,
          30,
          22,
          25,
          28,
          31,
          27,
          26,
          23,
          25,
          27,
          29,
          27,
          28,
          24,
          24,
          23,
          27,
          25,
          27,
          25,
          34,
          28,
          23,
          24,
          26,
          24,
          25,
          28,
          29,
          32,
          24,
          27,
          31,
          31,
          35,
          25,
          31,
          26,
          38,
          44,
          25,
          22,
          26,
          25,
          23,
          26,
          29,
          28,
          25,
          21,
          27,
          22,
          26,
          32,
          28,
          24,
          22,
          33,
          22,
          26,
          30,
          31,
          28,
          25,
          34,
          22,
          30,
          28,
          27,
          31,
          24,
          26,
          26,
          24,
          24,
          32,
          30,
          32,
          27,
          26,
          22,
          27,
          31,
          29,
          28,
          26,
          32,
          24,
          31,
          31,
          27,
          23,
          23,
          26,
          28,
          26,
          30,
          28,
          30,
          25,
          23,
          25,
          28,
          31,
          25,
          28,
          29,
          32,
          26,
          26,
          26,
          33,
          24,
          29,
          26,
          23,
          33,
          25,
          26,
          36,
          24,
          32,
          27,
          30,
          21,
          27,
          24,
          26,
          24,
          27,
          25,
          28,
          26,
          31,
          23,
          30,
          28,
          25,
          29,
          23,
          23,
          33,
          29,
          23,
          32,
          34,
          28,
          31,
          31,
          32,
          25,
          30,
          35,
          23,
          25,
          23,
          31,
          25,
          33,
          25,
          27,
          25,
          24,
          28,
          25,
          25,
          29,
          25,
          23,
          28,
          30,
          28,
          25,
          26,
          25,
          32,
          26,
          30,
          32,
          33,
          22,
          22,
          31,
          25,
          29,
          32,
          28,
          26,
          26,
          23,
          27,
          25,
          29,
          30,
          23,
          35,
          36,
          30,
          29,
          27,
          31,
          33,
          26,
          23,
          32,
          27,
          24,
          26,
          28,
          25,
          24,
          31,
          26,
          26,
          28,
          29,
          26,
          30,
          27,
          27,
          23,
          31,
          29,
          32,
          31,
          29,
          23,
          24,
          29,
          24,
          25,
          24,
          26,
          22,
          26,
          30,
          30,
          34,
          26,
          22,
          33,
          26,
          35,
          23,
          29,
          29,
          22,
          31,
          33,
          26,
          32,
          36,
          27,
          24,
          27,
          33,
          25,
          26,
          28,
          26,
          29,
          26,
          23,
          32,
          29,
          26,
          26,
          24,
          29,
          29,
          26,
          27,
          26,
          34,
          27,
          33,
          24,
          31,
          24,
          23,
          24,
          23,
          23,
          23,
          28,
          27,
          27,
          26,
          22,
          25,
          23,
          30,
          27,
          36,
          27,
          28,
          27,
          34,
          28,
          28,
          29,
          35,
          23,
          25,
          26,
          21,
          27,
          24,
          30,
          28,
          28,
          26,
          27,
          27,
          30,
          28,
          28,
          27,
          30,
          22,
          33,
          30,
          25,
          24,
          25,
          22,
          27,
          25,
          25,
          29,
          22,
          31,
          23,
          23,
          25,
          27,
          24,
          34,
          25,
          30,
          28,
          32,
          27,
          26,
          26,
          25,
          28,
          25,
          27,
          29,
          30,
          25,
          27,
          30,
          35,
          27,
          23,
          30,
          30,
          25,
          29,
          27,
          28,
          27,
          28,
          34,
          28,
          28,
          24,
          24,
          23,
          28,
          24,
          25,
          26,
          23,
          22,
          24,
          21,
          26,
          23,
          24,
          23,
          28,
          26,
          28,
          28,
          37,
          30,
          33,
          29,
          28,
          29,
          28,
          29,
          22,
          30,
          28,
          24,
          29,
          27,
          28,
          31
         ],
         "y0": " ",
         "yaxis": "y"
        }
       ],
       "layout": {
        "boxmode": "group",
        "legend": {
         "tracegroupgap": 0
        },
        "template": {
         "data": {
          "bar": [
           {
            "error_x": {
             "color": "#2a3f5f"
            },
            "error_y": {
             "color": "#2a3f5f"
            },
            "marker": {
             "line": {
              "color": "#E5ECF6",
              "width": 0.5
             },
             "pattern": {
              "fillmode": "overlay",
              "size": 10,
              "solidity": 0.2
             }
            },
            "type": "bar"
           }
          ],
          "barpolar": [
           {
            "marker": {
             "line": {
              "color": "#E5ECF6",
              "width": 0.5
             },
             "pattern": {
              "fillmode": "overlay",
              "size": 10,
              "solidity": 0.2
             }
            },
            "type": "barpolar"
           }
          ],
          "carpet": [
           {
            "aaxis": {
             "endlinecolor": "#2a3f5f",
             "gridcolor": "white",
             "linecolor": "white",
             "minorgridcolor": "white",
             "startlinecolor": "#2a3f5f"
            },
            "baxis": {
             "endlinecolor": "#2a3f5f",
             "gridcolor": "white",
             "linecolor": "white",
             "minorgridcolor": "white",
             "startlinecolor": "#2a3f5f"
            },
            "type": "carpet"
           }
          ],
          "choropleth": [
           {
            "colorbar": {
             "outlinewidth": 0,
             "ticks": ""
            },
            "type": "choropleth"
           }
          ],
          "contour": [
           {
            "colorbar": {
             "outlinewidth": 0,
             "ticks": ""
            },
            "colorscale": [
             [
              0,
              "#0d0887"
             ],
             [
              0.1111111111111111,
              "#46039f"
             ],
             [
              0.2222222222222222,
              "#7201a8"
             ],
             [
              0.3333333333333333,
              "#9c179e"
             ],
             [
              0.4444444444444444,
              "#bd3786"
             ],
             [
              0.5555555555555556,
              "#d8576b"
             ],
             [
              0.6666666666666666,
              "#ed7953"
             ],
             [
              0.7777777777777778,
              "#fb9f3a"
             ],
             [
              0.8888888888888888,
              "#fdca26"
             ],
             [
              1,
              "#f0f921"
             ]
            ],
            "type": "contour"
           }
          ],
          "contourcarpet": [
           {
            "colorbar": {
             "outlinewidth": 0,
             "ticks": ""
            },
            "type": "contourcarpet"
           }
          ],
          "heatmap": [
           {
            "colorbar": {
             "outlinewidth": 0,
             "ticks": ""
            },
            "colorscale": [
             [
              0,
              "#0d0887"
             ],
             [
              0.1111111111111111,
              "#46039f"
             ],
             [
              0.2222222222222222,
              "#7201a8"
             ],
             [
              0.3333333333333333,
              "#9c179e"
             ],
             [
              0.4444444444444444,
              "#bd3786"
             ],
             [
              0.5555555555555556,
              "#d8576b"
             ],
             [
              0.6666666666666666,
              "#ed7953"
             ],
             [
              0.7777777777777778,
              "#fb9f3a"
             ],
             [
              0.8888888888888888,
              "#fdca26"
             ],
             [
              1,
              "#f0f921"
             ]
            ],
            "type": "heatmap"
           }
          ],
          "heatmapgl": [
           {
            "colorbar": {
             "outlinewidth": 0,
             "ticks": ""
            },
            "colorscale": [
             [
              0,
              "#0d0887"
             ],
             [
              0.1111111111111111,
              "#46039f"
             ],
             [
              0.2222222222222222,
              "#7201a8"
             ],
             [
              0.3333333333333333,
              "#9c179e"
             ],
             [
              0.4444444444444444,
              "#bd3786"
             ],
             [
              0.5555555555555556,
              "#d8576b"
             ],
             [
              0.6666666666666666,
              "#ed7953"
             ],
             [
              0.7777777777777778,
              "#fb9f3a"
             ],
             [
              0.8888888888888888,
              "#fdca26"
             ],
             [
              1,
              "#f0f921"
             ]
            ],
            "type": "heatmapgl"
           }
          ],
          "histogram": [
           {
            "marker": {
             "pattern": {
              "fillmode": "overlay",
              "size": 10,
              "solidity": 0.2
             }
            },
            "type": "histogram"
           }
          ],
          "histogram2d": [
           {
            "colorbar": {
             "outlinewidth": 0,
             "ticks": ""
            },
            "colorscale": [
             [
              0,
              "#0d0887"
             ],
             [
              0.1111111111111111,
              "#46039f"
             ],
             [
              0.2222222222222222,
              "#7201a8"
             ],
             [
              0.3333333333333333,
              "#9c179e"
             ],
             [
              0.4444444444444444,
              "#bd3786"
             ],
             [
              0.5555555555555556,
              "#d8576b"
             ],
             [
              0.6666666666666666,
              "#ed7953"
             ],
             [
              0.7777777777777778,
              "#fb9f3a"
             ],
             [
              0.8888888888888888,
              "#fdca26"
             ],
             [
              1,
              "#f0f921"
             ]
            ],
            "type": "histogram2d"
           }
          ],
          "histogram2dcontour": [
           {
            "colorbar": {
             "outlinewidth": 0,
             "ticks": ""
            },
            "colorscale": [
             [
              0,
              "#0d0887"
             ],
             [
              0.1111111111111111,
              "#46039f"
             ],
             [
              0.2222222222222222,
              "#7201a8"
             ],
             [
              0.3333333333333333,
              "#9c179e"
             ],
             [
              0.4444444444444444,
              "#bd3786"
             ],
             [
              0.5555555555555556,
              "#d8576b"
             ],
             [
              0.6666666666666666,
              "#ed7953"
             ],
             [
              0.7777777777777778,
              "#fb9f3a"
             ],
             [
              0.8888888888888888,
              "#fdca26"
             ],
             [
              1,
              "#f0f921"
             ]
            ],
            "type": "histogram2dcontour"
           }
          ],
          "mesh3d": [
           {
            "colorbar": {
             "outlinewidth": 0,
             "ticks": ""
            },
            "type": "mesh3d"
           }
          ],
          "parcoords": [
           {
            "line": {
             "colorbar": {
              "outlinewidth": 0,
              "ticks": ""
             }
            },
            "type": "parcoords"
           }
          ],
          "pie": [
           {
            "automargin": true,
            "type": "pie"
           }
          ],
          "scatter": [
           {
            "fillpattern": {
             "fillmode": "overlay",
             "size": 10,
             "solidity": 0.2
            },
            "type": "scatter"
           }
          ],
          "scatter3d": [
           {
            "line": {
             "colorbar": {
              "outlinewidth": 0,
              "ticks": ""
             }
            },
            "marker": {
             "colorbar": {
              "outlinewidth": 0,
              "ticks": ""
             }
            },
            "type": "scatter3d"
           }
          ],
          "scattercarpet": [
           {
            "marker": {
             "colorbar": {
              "outlinewidth": 0,
              "ticks": ""
             }
            },
            "type": "scattercarpet"
           }
          ],
          "scattergeo": [
           {
            "marker": {
             "colorbar": {
              "outlinewidth": 0,
              "ticks": ""
             }
            },
            "type": "scattergeo"
           }
          ],
          "scattergl": [
           {
            "marker": {
             "colorbar": {
              "outlinewidth": 0,
              "ticks": ""
             }
            },
            "type": "scattergl"
           }
          ],
          "scattermapbox": [
           {
            "marker": {
             "colorbar": {
              "outlinewidth": 0,
              "ticks": ""
             }
            },
            "type": "scattermapbox"
           }
          ],
          "scatterpolar": [
           {
            "marker": {
             "colorbar": {
              "outlinewidth": 0,
              "ticks": ""
             }
            },
            "type": "scatterpolar"
           }
          ],
          "scatterpolargl": [
           {
            "marker": {
             "colorbar": {
              "outlinewidth": 0,
              "ticks": ""
             }
            },
            "type": "scatterpolargl"
           }
          ],
          "scatterternary": [
           {
            "marker": {
             "colorbar": {
              "outlinewidth": 0,
              "ticks": ""
             }
            },
            "type": "scatterternary"
           }
          ],
          "surface": [
           {
            "colorbar": {
             "outlinewidth": 0,
             "ticks": ""
            },
            "colorscale": [
             [
              0,
              "#0d0887"
             ],
             [
              0.1111111111111111,
              "#46039f"
             ],
             [
              0.2222222222222222,
              "#7201a8"
             ],
             [
              0.3333333333333333,
              "#9c179e"
             ],
             [
              0.4444444444444444,
              "#bd3786"
             ],
             [
              0.5555555555555556,
              "#d8576b"
             ],
             [
              0.6666666666666666,
              "#ed7953"
             ],
             [
              0.7777777777777778,
              "#fb9f3a"
             ],
             [
              0.8888888888888888,
              "#fdca26"
             ],
             [
              1,
              "#f0f921"
             ]
            ],
            "type": "surface"
           }
          ],
          "table": [
           {
            "cells": {
             "fill": {
              "color": "#EBF0F8"
             },
             "line": {
              "color": "white"
             }
            },
            "header": {
             "fill": {
              "color": "#C8D4E3"
             },
             "line": {
              "color": "white"
             }
            },
            "type": "table"
           }
          ]
         },
         "layout": {
          "annotationdefaults": {
           "arrowcolor": "#2a3f5f",
           "arrowhead": 0,
           "arrowwidth": 1
          },
          "autotypenumbers": "strict",
          "coloraxis": {
           "colorbar": {
            "outlinewidth": 0,
            "ticks": ""
           }
          },
          "colorscale": {
           "diverging": [
            [
             0,
             "#8e0152"
            ],
            [
             0.1,
             "#c51b7d"
            ],
            [
             0.2,
             "#de77ae"
            ],
            [
             0.3,
             "#f1b6da"
            ],
            [
             0.4,
             "#fde0ef"
            ],
            [
             0.5,
             "#f7f7f7"
            ],
            [
             0.6,
             "#e6f5d0"
            ],
            [
             0.7,
             "#b8e186"
            ],
            [
             0.8,
             "#7fbc41"
            ],
            [
             0.9,
             "#4d9221"
            ],
            [
             1,
             "#276419"
            ]
           ],
           "sequential": [
            [
             0,
             "#0d0887"
            ],
            [
             0.1111111111111111,
             "#46039f"
            ],
            [
             0.2222222222222222,
             "#7201a8"
            ],
            [
             0.3333333333333333,
             "#9c179e"
            ],
            [
             0.4444444444444444,
             "#bd3786"
            ],
            [
             0.5555555555555556,
             "#d8576b"
            ],
            [
             0.6666666666666666,
             "#ed7953"
            ],
            [
             0.7777777777777778,
             "#fb9f3a"
            ],
            [
             0.8888888888888888,
             "#fdca26"
            ],
            [
             1,
             "#f0f921"
            ]
           ],
           "sequentialminus": [
            [
             0,
             "#0d0887"
            ],
            [
             0.1111111111111111,
             "#46039f"
            ],
            [
             0.2222222222222222,
             "#7201a8"
            ],
            [
             0.3333333333333333,
             "#9c179e"
            ],
            [
             0.4444444444444444,
             "#bd3786"
            ],
            [
             0.5555555555555556,
             "#d8576b"
            ],
            [
             0.6666666666666666,
             "#ed7953"
            ],
            [
             0.7777777777777778,
             "#fb9f3a"
            ],
            [
             0.8888888888888888,
             "#fdca26"
            ],
            [
             1,
             "#f0f921"
            ]
           ]
          },
          "colorway": [
           "#636efa",
           "#EF553B",
           "#00cc96",
           "#ab63fa",
           "#FFA15A",
           "#19d3f3",
           "#FF6692",
           "#B6E880",
           "#FF97FF",
           "#FECB52"
          ],
          "font": {
           "color": "#2a3f5f"
          },
          "geo": {
           "bgcolor": "white",
           "lakecolor": "white",
           "landcolor": "#E5ECF6",
           "showlakes": true,
           "showland": true,
           "subunitcolor": "white"
          },
          "hoverlabel": {
           "align": "left"
          },
          "hovermode": "closest",
          "mapbox": {
           "style": "light"
          },
          "paper_bgcolor": "white",
          "plot_bgcolor": "#E5ECF6",
          "polar": {
           "angularaxis": {
            "gridcolor": "white",
            "linecolor": "white",
            "ticks": ""
           },
           "bgcolor": "#E5ECF6",
           "radialaxis": {
            "gridcolor": "white",
            "linecolor": "white",
            "ticks": ""
           }
          },
          "scene": {
           "xaxis": {
            "backgroundcolor": "#E5ECF6",
            "gridcolor": "white",
            "gridwidth": 2,
            "linecolor": "white",
            "showbackground": true,
            "ticks": "",
            "zerolinecolor": "white"
           },
           "yaxis": {
            "backgroundcolor": "#E5ECF6",
            "gridcolor": "white",
            "gridwidth": 2,
            "linecolor": "white",
            "showbackground": true,
            "ticks": "",
            "zerolinecolor": "white"
           },
           "zaxis": {
            "backgroundcolor": "#E5ECF6",
            "gridcolor": "white",
            "gridwidth": 2,
            "linecolor": "white",
            "showbackground": true,
            "ticks": "",
            "zerolinecolor": "white"
           }
          },
          "shapedefaults": {
           "line": {
            "color": "#2a3f5f"
           }
          },
          "ternary": {
           "aaxis": {
            "gridcolor": "white",
            "linecolor": "white",
            "ticks": ""
           },
           "baxis": {
            "gridcolor": "white",
            "linecolor": "white",
            "ticks": ""
           },
           "bgcolor": "#E5ECF6",
           "caxis": {
            "gridcolor": "white",
            "linecolor": "white",
            "ticks": ""
           }
          },
          "title": {
           "x": 0.05
          },
          "xaxis": {
           "automargin": true,
           "gridcolor": "white",
           "linecolor": "white",
           "ticks": "",
           "title": {
            "standoff": 15
           },
           "zerolinecolor": "white",
           "zerolinewidth": 2
          },
          "yaxis": {
           "automargin": true,
           "gridcolor": "white",
           "linecolor": "white",
           "ticks": "",
           "title": {
            "standoff": 15
           },
           "zerolinecolor": "white",
           "zerolinewidth": 2
          }
         }
        },
        "title": {
         "text": "Age Distribution by Position"
        },
        "xaxis": {
         "anchor": "y",
         "categoryarray": [
          "RET",
          "RB",
          "CB",
          "ST",
          "S",
          "DT",
          "EDGE",
          "LB",
          "WR",
          "TE",
          "T",
          "G",
          "P",
          "FB",
          "C",
          "K",
          "LS",
          "QB"
         ],
         "categoryorder": "array",
         "domain": [
          0,
          1
         ],
         "title": {
          "text": "Pos"
         }
        },
        "yaxis": {
         "anchor": "x",
         "domain": [
          0,
          1
         ],
         "title": {
          "text": "Age"
         }
        }
       }
      }
     },
     "metadata": {},
     "output_type": "display_data"
    }
   ],
   "source": [
    "# want to sort in order of 25% values\n",
    "pos_order = (\n",
    "    df.groupby('Pos')['Age']\n",
    "    .quantile(0.5)\n",
    "    .sort_values()\n",
    "    .index\n",
    ")\n",
    "\n",
    "fig = px.box(\n",
    "    df,\n",
    "    x='Pos',\n",
    "    y='Age',\n",
    "    title='Age Distribution by Position',\n",
    "    hover_data=['Player', 'Year'],  # Add extra info to hover tooltip\n",
    "    category_orders={'Pos': pos_order}  # enforces order on the x-axis\n",
    ")\n",
    "\n",
    "fig.show()\n"
   ]
  },
  {
   "cell_type": "code",
   "execution_count": 4,
   "metadata": {},
   "outputs": [
    {
     "data": {
      "application/vnd.plotly.v1+json": {
       "config": {
        "plotlyServerURL": "https://plot.ly"
       },
       "data": [
        {
         "name": "C",
         "showlegend": false,
         "type": "histogram",
         "x": [
          29,
          29,
          24,
          29,
          30,
          24,
          29,
          31,
          26,
          32,
          27,
          32,
          33,
          27,
          28,
          30,
          29,
          31,
          32,
          31,
          28,
          36,
          29,
          37,
          31,
          25,
          31,
          24,
          34,
          26,
          34,
          29,
          21,
          22,
          27,
          30,
          26,
          27,
          23,
          26,
          31,
          28,
          28,
          26,
          23,
          30,
          25,
          30,
          24,
          26,
          30,
          33,
          25,
          27,
          31,
          30,
          32,
          28,
          26,
          31,
          29,
          29,
          32,
          30,
          28,
          29,
          33,
          27,
          24,
          34,
          22,
          30,
          35,
          23,
          36,
          27,
          24,
          25,
          28
         ],
         "xaxis": "x",
         "xbins": {
          "end": 44,
          "size": 2,
          "start": 21
         },
         "yaxis": "y"
        },
        {
         "name": "CB",
         "showlegend": false,
         "type": "histogram",
         "x": [
          24,
          26,
          24,
          22,
          22,
          30,
          26,
          25,
          33,
          29,
          27,
          31,
          31,
          24,
          27,
          26,
          29,
          30,
          32,
          26,
          29,
          26,
          27,
          25,
          26,
          29,
          26,
          24,
          23,
          27,
          29,
          27,
          24,
          28,
          30,
          26,
          28,
          26,
          25,
          32,
          31,
          25,
          26,
          23,
          27,
          33,
          29,
          27,
          24,
          32,
          31,
          24,
          33,
          28,
          28,
          25,
          23,
          25,
          29,
          29,
          23,
          32,
          24,
          27,
          34,
          33,
          26,
          27,
          35,
          27,
          30,
          26,
          28,
          31,
          24,
          23,
          34,
          28,
          29,
          35,
          25,
          23,
          24,
          30,
          21,
          28,
          24,
          27,
          25,
          29,
          26,
          25,
          26,
          24,
          31,
          27,
          27,
          25,
          28,
          27,
          26,
          22,
          31,
          30,
          23,
          26,
          28,
          26,
          27,
          27,
          30,
          23,
          27,
          26,
          28,
          26,
          21,
          22,
          30,
          26,
          28,
          26,
          28,
          25,
          24,
          30,
          29,
          24,
          26,
          31,
          23,
          27,
          30,
          27,
          23,
          23,
          27,
          26,
          23,
          25,
          27,
          29,
          27,
          27,
          23,
          23,
          26,
          28,
          26,
          30,
          22,
          22,
          31,
          25,
          29,
          32,
          28,
          24,
          23,
          24,
          23,
          23,
          23,
          28,
          27,
          27,
          24,
          23,
          28,
          24,
          25,
          26,
          23,
          22,
          24,
          21
         ],
         "xaxis": "x2",
         "xbins": {
          "end": 44,
          "size": 2,
          "start": 21
         },
         "yaxis": "y2"
        },
        {
         "name": "DT",
         "showlegend": false,
         "type": "histogram",
         "x": [
          29,
          28,
          26,
          27,
          25,
          33,
          26,
          29,
          28,
          29,
          34,
          23,
          24,
          30,
          28,
          24,
          24,
          29,
          25,
          28,
          25,
          24,
          28,
          26,
          29,
          29,
          27,
          22,
          26,
          30,
          27,
          23,
          27,
          27,
          26,
          26,
          35,
          27,
          28,
          29,
          27,
          24,
          29,
          25,
          28,
          28,
          28,
          28,
          33,
          28,
          26,
          23,
          27,
          29,
          24,
          31,
          30,
          32,
          27,
          23,
          24,
          28,
          30,
          30,
          32,
          27,
          32,
          24,
          31,
          33,
          24,
          23,
          25,
          28,
          25,
          26,
          30,
          24,
          23,
          24,
          34,
          23,
          27,
          24,
          26,
          23,
          24,
          31,
          25,
          22,
          24,
          27,
          28,
          26,
          25,
          27,
          27,
          25,
          28,
          28,
          30,
          29,
          28,
          26,
          27,
          29,
          28,
          27,
          30,
          28,
          28,
          27,
          24,
          30,
          29,
          28,
          30,
          26,
          25,
          25,
          25,
          29,
          26,
          26,
          30,
          31,
          24,
          26,
          30,
          32,
          27,
          26,
          31,
          25,
          33,
          28,
          25,
          25,
          29,
          25,
          25,
          26,
          32,
          29,
          26,
          26,
          27,
          30,
          35,
          27,
          23,
          30
         ],
         "xaxis": "x3",
         "xbins": {
          "end": 44,
          "size": 2,
          "start": 21
         },
         "yaxis": "y3"
        },
        {
         "name": "EDGE",
         "showlegend": false,
         "type": "histogram",
         "x": [
          33,
          30,
          26,
          29,
          31,
          35,
          28,
          27,
          23,
          30,
          29,
          27,
          32,
          31,
          24,
          28,
          28,
          25,
          31,
          24,
          23,
          29,
          29,
          30,
          32,
          29,
          23,
          26,
          26,
          28,
          24,
          25,
          24,
          29,
          27,
          30,
          25,
          24,
          26,
          34,
          21,
          28,
          27,
          32,
          26,
          27,
          29,
          22,
          29,
          26,
          24,
          25,
          31,
          22,
          28,
          29,
          25,
          32,
          29,
          29,
          23,
          26,
          25,
          30,
          23,
          28,
          26,
          27,
          30,
          26,
          31,
          28,
          26,
          29,
          27,
          30,
          27,
          24,
          29,
          28,
          27,
          25,
          25,
          29,
          22,
          31,
          25,
          27,
          30,
          32,
          27,
          28,
          31,
          30,
          29,
          29,
          24,
          32,
          24,
          28,
          27,
          28,
          29,
          22,
          31,
          27,
          32,
          27,
          22,
          29,
          25,
          29,
          29,
          22,
          29,
          29,
          25,
          28,
          25,
          24,
          23,
          30,
          32,
          30,
          23,
          23,
          26,
          30,
          26,
          30,
          28,
          29,
          24,
          23,
          25,
          31,
          28,
          32,
          23,
          29,
          24,
          30,
          25,
          29,
          24,
          28,
          24,
          32,
          25,
          25,
          30,
          27,
          28,
          24,
          26,
          25,
          26,
          30,
          26,
          26,
          26,
          32,
          26,
          25,
          26,
          25,
          23,
          28,
          30,
          27,
          24,
          33,
          28,
          27,
          34,
          26,
          28,
          31,
          30,
          25,
          22,
          27,
          28,
          24,
          29,
          29,
          24,
          29,
          23,
          26,
          25,
          27,
          29,
          23,
          30,
          30,
          24,
          25,
          27,
          33,
          25,
          29,
          27,
          27,
          25,
          25,
          26,
          31,
          21,
          28,
          26,
          29,
          28,
          24,
          26,
          24,
          24,
          32,
          22,
          27,
          31,
          29,
          25,
          27,
          25,
          24,
          23,
          28,
          30,
          28,
          25,
          28,
          26,
          29,
          26,
          23,
          24,
          29,
          29,
          26,
          29,
          30,
          25,
          27,
          30,
          25,
          29,
          27
         ],
         "xaxis": "x4",
         "xbins": {
          "end": 44,
          "size": 2,
          "start": 21
         },
         "yaxis": "y4"
        },
        {
         "name": "FB",
         "showlegend": false,
         "type": "histogram",
         "x": [
          33,
          33,
          34,
          35,
          36,
          26,
          25,
          37,
          36,
          24,
          27,
          27,
          28,
          25,
          30,
          29,
          29,
          30,
          29,
          25,
          31,
          27,
          26,
          28,
          25,
          28,
          26,
          32,
          27,
          26,
          30,
          25,
          28,
          31,
          32,
          31,
          29,
          23,
          33,
          30
         ],
         "xaxis": "x5",
         "xbins": {
          "end": 44,
          "size": 2,
          "start": 21
         },
         "yaxis": "y5"
        },
        {
         "name": "G",
         "showlegend": false,
         "type": "histogram",
         "x": [
          28,
          39,
          29,
          33,
          29,
          30,
          25,
          30,
          39,
          30,
          30,
          31,
          26,
          29,
          31,
          32,
          26,
          31,
          27,
          27,
          28,
          33,
          27,
          32,
          28,
          28,
          29,
          34,
          28,
          29,
          24,
          30,
          35,
          30,
          25,
          31,
          25,
          29,
          31,
          26,
          32,
          27,
          24,
          26,
          32,
          27,
          33,
          28,
          33,
          27,
          29,
          27,
          28,
          25,
          28,
          29,
          33,
          24,
          29,
          30,
          26,
          28,
          27,
          34,
          29,
          25,
          31,
          25,
          28,
          29,
          30,
          25,
          32,
          26,
          31,
          29,
          27,
          30,
          22,
          25,
          30,
          28,
          23,
          24,
          26,
          27,
          32,
          31,
          25,
          25,
          29,
          28,
          27,
          26,
          32,
          29,
          26,
          26,
          26,
          26,
          29,
          27,
          27,
          28,
          28,
          27,
          22,
          28,
          34,
          29,
          25,
          27,
          28,
          23,
          29,
          35,
          30,
          24,
          29,
          29,
          27,
          26,
          30,
          31,
          28,
          25,
          28,
          27,
          31,
          32,
          25,
          30,
          25,
          22,
          31,
          33,
          26,
          32,
          27,
          28,
          32,
          27,
          26,
          26
         ],
         "xaxis": "x6",
         "xbins": {
          "end": 44,
          "size": 2,
          "start": 21
         },
         "yaxis": "y6"
        },
        {
         "name": "K",
         "showlegend": false,
         "type": "histogram",
         "x": [
          32,
          25,
          27,
          31,
          30,
          28,
          33,
          31,
          32,
          30,
          29,
          28,
          38,
          24,
          24,
          32,
          29,
          31,
          23,
          24,
          44,
          31,
          31,
          27,
          35,
          36,
          32,
          30,
          35,
          37,
          33,
          22,
          37,
          29,
          29,
          24,
          28,
          39,
          30,
          42,
          26,
          31,
          27,
          27,
          41,
          33,
          35,
          30,
          28,
          24,
          24,
          29,
          29,
          30,
          25,
          25,
          31,
          26,
          26,
          26,
          32,
          27,
          27,
          31,
          33,
          28,
          27,
          34,
          28,
          33,
          29
         ],
         "xaxis": "x7",
         "xbins": {
          "end": 44,
          "size": 2,
          "start": 21
         },
         "yaxis": "y7"
        },
        {
         "name": "LB",
         "showlegend": false,
         "type": "histogram",
         "x": [
          27,
          28,
          25,
          31,
          25,
          27,
          23,
          26,
          26,
          23,
          28,
          24,
          28,
          23,
          26,
          23,
          28,
          23,
          29,
          27,
          24,
          29,
          29,
          25,
          24,
          28,
          30,
          30,
          25,
          28,
          26,
          25,
          28,
          27,
          29,
          31,
          31,
          28,
          29,
          31,
          30,
          29,
          26,
          31,
          32,
          29,
          27,
          25,
          28,
          26,
          32,
          29,
          26,
          28,
          33,
          25,
          26,
          22,
          23,
          30,
          23,
          33,
          33,
          23,
          24,
          25,
          24,
          34,
          25,
          24,
          35,
          24,
          32,
          23,
          29,
          36,
          26,
          36,
          26,
          24,
          24,
          26,
          37,
          22,
          27,
          30,
          25,
          32,
          22,
          23,
          28,
          30,
          24,
          22,
          28,
          23,
          31,
          24,
          25,
          27,
          25,
          24,
          33,
          23,
          26,
          26,
          26,
          25,
          30,
          27,
          32,
          27,
          24,
          25,
          26,
          24,
          26,
          24,
          26,
          25,
          27,
          23,
          27,
          26,
          25,
          28,
          26,
          27,
          21,
          29,
          29,
          24,
          27,
          30,
          28,
          29,
          24,
          25,
          30,
          23,
          30,
          22,
          25,
          28,
          31,
          28,
          26,
          32,
          24,
          31,
          31,
          26,
          25,
          32,
          26,
          30,
          32,
          33,
          27,
          26,
          34,
          27,
          33,
          24,
          31,
          28,
          27,
          28,
          34,
          28,
          28,
          24
         ],
         "xaxis": "x8",
         "xbins": {
          "end": 44,
          "size": 2,
          "start": 21
         },
         "yaxis": "y8"
        },
        {
         "name": "QB",
         "showlegend": false,
         "type": "histogram",
         "x": [
          24,
          35,
          23,
          32,
          30,
          36,
          37,
          33,
          30,
          27,
          34,
          28,
          27,
          28,
          29,
          30,
          27,
          30,
          30,
          38,
          32,
          29,
          33,
          30,
          28,
          33,
          25,
          30,
          27,
          28,
          34,
          32,
          36,
          35,
          29,
          37,
          34,
          32,
          31,
          37,
          34,
          32,
          26,
          36,
          38,
          31,
          39,
          40,
          25,
          32,
          23,
          39,
          22,
          31,
          37,
          25,
          24,
          38,
          44,
          25,
          27,
          24,
          26,
          26,
          30,
          27,
          27,
          30,
          28,
          28
         ],
         "xaxis": "x9",
         "xbins": {
          "end": 44,
          "size": 2,
          "start": 21
         },
         "yaxis": "y9"
        },
        {
         "name": "RB",
         "showlegend": false,
         "type": "histogram",
         "x": [
          27,
          27,
          22,
          31,
          28,
          28,
          28,
          28,
          24,
          23,
          28,
          25,
          29,
          34,
          27,
          25,
          24,
          24,
          29,
          24,
          30,
          24,
          26,
          25,
          25,
          31,
          27,
          26,
          29,
          24,
          26,
          28,
          30,
          25,
          26,
          27,
          25,
          27,
          27,
          23,
          23,
          28,
          28,
          22,
          27,
          31,
          25,
          26,
          23,
          23,
          30,
          25,
          27,
          23,
          24,
          24,
          26,
          24,
          22,
          24,
          24,
          25,
          25,
          28,
          26,
          23,
          24,
          25,
          25,
          27,
          26,
          26,
          26,
          25,
          24,
          25,
          27,
          26,
          28,
          23,
          28,
          22,
          26,
          28,
          29,
          26,
          30,
          25,
          27,
          23,
          21,
          28,
          21,
          25,
          24,
          28,
          23,
          23,
          25,
          22,
          22,
          24,
          21,
          23,
          24,
          24,
          22,
          23,
          23,
          25,
          24,
          24,
          24,
          26,
          25,
          25,
          25,
          22,
          26,
          25,
          23,
          26,
          30,
          24,
          27,
          25,
          28,
          26,
          27,
          23,
          31,
          29,
          27,
          30,
          22
         ],
         "xaxis": "x10",
         "xbins": {
          "end": 44,
          "size": 2,
          "start": 21
         },
         "yaxis": "y10"
        },
        {
         "name": "RET",
         "showlegend": false,
         "type": "histogram",
         "x": [
          24,
          25,
          23,
          24,
          22,
          25,
          25,
          24,
          25,
          23,
          26,
          23,
          26,
          23,
          26,
          21,
          28,
          28,
          23,
          28,
          27,
          21,
          28,
          23,
          28,
          29,
          27,
          25,
          28,
          30,
          21,
          24,
          25,
          22,
          28,
          31,
          21,
          31,
          30,
          32,
          32,
          23,
          24,
          23,
          27,
          25,
          29,
          23,
          22,
          25,
          24,
          24,
          22,
          26,
          22,
          27,
          25,
          23,
          30,
          23,
          22,
          27,
          22,
          23,
          28,
          21,
          31,
          24,
          25,
          28,
          29,
          32,
          24,
          24,
          29,
          26,
          23,
          33,
          24,
          26,
          28,
          25,
          24,
          31,
          26,
          23,
          25,
          26,
          21,
          27,
          24,
          22,
          30,
          28,
          24,
          29
         ],
         "xaxis": "x11",
         "xbins": {
          "end": 44,
          "size": 2,
          "start": 21
         },
         "yaxis": "y11"
        },
        {
         "name": "S",
         "showlegend": false,
         "type": "histogram",
         "x": [
          30,
          25,
          29,
          35,
          30,
          23,
          26,
          28,
          30,
          29,
          28,
          31,
          29,
          37,
          27,
          27,
          23,
          25,
          31,
          28,
          32,
          26,
          31,
          23,
          24,
          24,
          30,
          24,
          27,
          28,
          27,
          33,
          24,
          26,
          29,
          32,
          28,
          26,
          24,
          30,
          27,
          29,
          25,
          28,
          28,
          27,
          34,
          30,
          36,
          31,
          23,
          26,
          29,
          32,
          27,
          30,
          27,
          28,
          25,
          25,
          28,
          23,
          35,
          32,
          25,
          30,
          26,
          22,
          33,
          27,
          24,
          25,
          23,
          26,
          27,
          28,
          25,
          24,
          26,
          28,
          28,
          27,
          31,
          25,
          27,
          29,
          25,
          25,
          28,
          27,
          26,
          23,
          27,
          26,
          26,
          28,
          32,
          39,
          22,
          28,
          31,
          29,
          24,
          28,
          28,
          24,
          28,
          24,
          32,
          31,
          27,
          27,
          25,
          22,
          23,
          29,
          25,
          24,
          23,
          28,
          26,
          30,
          28,
          24,
          24,
          23,
          27,
          25,
          27,
          25,
          28,
          30,
          25,
          23,
          25,
          28,
          31,
          25,
          28,
          21,
          26,
          26,
          23,
          27,
          25,
          29,
          30,
          23,
          26,
          22,
          25,
          23,
          30,
          26,
          23,
          24,
          23,
          28,
          26,
          28
         ],
         "xaxis": "x12",
         "xbins": {
          "end": 44,
          "size": 2,
          "start": 21
         },
         "yaxis": "y12"
        },
        {
         "name": "ST",
         "showlegend": false,
         "type": "histogram",
         "x": [
          30,
          26,
          27,
          31,
          32,
          32,
          29,
          25,
          28,
          24,
          25,
          25,
          26,
          24,
          26,
          30,
          26,
          27,
          26,
          29,
          22,
          23,
          28,
          23,
          29,
          24,
          24,
          25,
          23,
          27,
          25,
          23,
          27,
          24,
          22,
          26,
          23,
          26,
          32,
          23,
          28,
          26,
          23,
          27,
          24,
          24,
          28,
          23,
          25,
          25,
          30,
          31,
          22,
          29,
          28,
          27,
          21,
          27,
          32,
          26,
          32,
          25,
          34,
          23,
          27,
          31,
          31,
          35,
          25,
          26,
          36,
          24,
          26,
          28,
          29,
          30,
          28,
          28,
          26,
          27,
          27,
          28,
          31
         ],
         "xaxis": "x13",
         "xbins": {
          "end": 44,
          "size": 2,
          "start": 21
         },
         "yaxis": "y13"
        },
        {
         "name": "T",
         "showlegend": false,
         "type": "histogram",
         "x": [
          25,
          26,
          25,
          30,
          30,
          33,
          30,
          26,
          27,
          27,
          24,
          32,
          28,
          28,
          31,
          28,
          28,
          29,
          33,
          28,
          29,
          29,
          30,
          34,
          29,
          30,
          30,
          29,
          31,
          30,
          35,
          30,
          32,
          25,
          32,
          31,
          33,
          29,
          25,
          32,
          28,
          26,
          28,
          22,
          26,
          26,
          24,
          34,
          25,
          23,
          24,
          27,
          30,
          27,
          32,
          27,
          29,
          25,
          26,
          28,
          30,
          26,
          31,
          26,
          29,
          27,
          29,
          26,
          27,
          21,
          22,
          26,
          27,
          28,
          28,
          24,
          25,
          28,
          25,
          29,
          29,
          31,
          23,
          29,
          27,
          30,
          24,
          32,
          30,
          33,
          24,
          30,
          31,
          25,
          34,
          27,
          27,
          26,
          25,
          26,
          28,
          32,
          33,
          22,
          28,
          27,
          26,
          33,
          29,
          36,
          27,
          26,
          28,
          29,
          25,
          32,
          33,
          28,
          29,
          27,
          27,
          27,
          24,
          31,
          25,
          25,
          25,
          28,
          30,
          26,
          29,
          32,
          28,
          21,
          26,
          24,
          22,
          33,
          22,
          26,
          31,
          23,
          32,
          34,
          28,
          31,
          23,
          33,
          26,
          35,
          23,
          29,
          29,
          33,
          25,
          27,
          24,
          34,
          25,
          30,
          25
         ],
         "xaxis": "x14",
         "xbins": {
          "end": 44,
          "size": 2,
          "start": 21
         },
         "yaxis": "y14"
        },
        {
         "name": "TE",
         "showlegend": false,
         "type": "histogram",
         "x": [
          29,
          24,
          29,
          29,
          25,
          35,
          26,
          22,
          23,
          27,
          26,
          28,
          24,
          22,
          25,
          23,
          26,
          29,
          30,
          25,
          27,
          31,
          32,
          26,
          30,
          27,
          25,
          29,
          28,
          30,
          26,
          22,
          25,
          23,
          30,
          36,
          27,
          25,
          29,
          25,
          29,
          26,
          30,
          31,
          27,
          31,
          28,
          28,
          27,
          23,
          29,
          25,
          28,
          26,
          30,
          31,
          23,
          28,
          26,
          32,
          28,
          33,
          29,
          30,
          34,
          26,
          22,
          22,
          31
         ],
         "xaxis": "x15",
         "xbins": {
          "end": 44,
          "size": 2,
          "start": 21
         },
         "yaxis": "y15"
        },
        {
         "name": "WR",
         "showlegend": false,
         "type": "histogram",
         "x": [
          26,
          23,
          28,
          23,
          27,
          30,
          30,
          22,
          28,
          23,
          27,
          30,
          29,
          31,
          29,
          40,
          29,
          31,
          30,
          23,
          26,
          25,
          27,
          27,
          25,
          26,
          31,
          24,
          25,
          28,
          31,
          24,
          31,
          32,
          26,
          27,
          22,
          26,
          26,
          25,
          26,
          33,
          25,
          28,
          34,
          30,
          31,
          25,
          30,
          34,
          24,
          29,
          24,
          26,
          27,
          25,
          27,
          27,
          29,
          28,
          28,
          26,
          31,
          26,
          23,
          30,
          25,
          29,
          29,
          32,
          29,
          25,
          26,
          30,
          26,
          28,
          25,
          25,
          26,
          32,
          27,
          28,
          31,
          34,
          24,
          29,
          28,
          22,
          25,
          29,
          28,
          26,
          33,
          32,
          25,
          26,
          26,
          29,
          22,
          27,
          25,
          27,
          24,
          27,
          26,
          32,
          23,
          23,
          31,
          27,
          27,
          27,
          28,
          23,
          24,
          27,
          29,
          25,
          28,
          24,
          27,
          25,
          26,
          25,
          24,
          29,
          26,
          26,
          30,
          27,
          23,
          27,
          26,
          28,
          27,
          26,
          28,
          21,
          23,
          23,
          26,
          31,
          27,
          29,
          28,
          25,
          21,
          27,
          22,
          23,
          30,
          28,
          25,
          29,
          23,
          23,
          24,
          29,
          24,
          25,
          24,
          26,
          22,
          26,
          30,
          25,
          24,
          25,
          22,
          27,
          25,
          25,
          29,
          23,
          23
         ],
         "xaxis": "x16",
         "xbins": {
          "end": 44,
          "size": 2,
          "start": 21
         },
         "yaxis": "y16"
        }
       ],
       "layout": {
        "annotations": [
         {
          "font": {
           "size": 16
          },
          "showarrow": false,
          "text": "C",
          "x": 0.10625,
          "xanchor": "center",
          "xref": "paper",
          "y": 1,
          "yanchor": "bottom",
          "yref": "paper"
         },
         {
          "font": {
           "size": 16
          },
          "showarrow": false,
          "text": "CB",
          "x": 0.36875,
          "xanchor": "center",
          "xref": "paper",
          "y": 1,
          "yanchor": "bottom",
          "yref": "paper"
         },
         {
          "font": {
           "size": 16
          },
          "showarrow": false,
          "text": "DT",
          "x": 0.6312500000000001,
          "xanchor": "center",
          "xref": "paper",
          "y": 1,
          "yanchor": "bottom",
          "yref": "paper"
         },
         {
          "font": {
           "size": 16
          },
          "showarrow": false,
          "text": "EDGE",
          "x": 0.89375,
          "xanchor": "center",
          "xref": "paper",
          "y": 1,
          "yanchor": "bottom",
          "yref": "paper"
         },
         {
          "font": {
           "size": 16
          },
          "showarrow": false,
          "text": "FB",
          "x": 0.10625,
          "xanchor": "center",
          "xref": "paper",
          "y": 0.71875,
          "yanchor": "bottom",
          "yref": "paper"
         },
         {
          "font": {
           "size": 16
          },
          "showarrow": false,
          "text": "G",
          "x": 0.36875,
          "xanchor": "center",
          "xref": "paper",
          "y": 0.71875,
          "yanchor": "bottom",
          "yref": "paper"
         },
         {
          "font": {
           "size": 16
          },
          "showarrow": false,
          "text": "K",
          "x": 0.6312500000000001,
          "xanchor": "center",
          "xref": "paper",
          "y": 0.71875,
          "yanchor": "bottom",
          "yref": "paper"
         },
         {
          "font": {
           "size": 16
          },
          "showarrow": false,
          "text": "LB",
          "x": 0.89375,
          "xanchor": "center",
          "xref": "paper",
          "y": 0.71875,
          "yanchor": "bottom",
          "yref": "paper"
         },
         {
          "font": {
           "size": 16
          },
          "showarrow": false,
          "text": "QB",
          "x": 0.10625,
          "xanchor": "center",
          "xref": "paper",
          "y": 0.4375,
          "yanchor": "bottom",
          "yref": "paper"
         },
         {
          "font": {
           "size": 16
          },
          "showarrow": false,
          "text": "RB",
          "x": 0.36875,
          "xanchor": "center",
          "xref": "paper",
          "y": 0.4375,
          "yanchor": "bottom",
          "yref": "paper"
         },
         {
          "font": {
           "size": 16
          },
          "showarrow": false,
          "text": "RET",
          "x": 0.6312500000000001,
          "xanchor": "center",
          "xref": "paper",
          "y": 0.4375,
          "yanchor": "bottom",
          "yref": "paper"
         },
         {
          "font": {
           "size": 16
          },
          "showarrow": false,
          "text": "S",
          "x": 0.89375,
          "xanchor": "center",
          "xref": "paper",
          "y": 0.4375,
          "yanchor": "bottom",
          "yref": "paper"
         },
         {
          "font": {
           "size": 16
          },
          "showarrow": false,
          "text": "ST",
          "x": 0.10625,
          "xanchor": "center",
          "xref": "paper",
          "y": 0.15625,
          "yanchor": "bottom",
          "yref": "paper"
         },
         {
          "font": {
           "size": 16
          },
          "showarrow": false,
          "text": "T",
          "x": 0.36875,
          "xanchor": "center",
          "xref": "paper",
          "y": 0.15625,
          "yanchor": "bottom",
          "yref": "paper"
         },
         {
          "font": {
           "size": 16
          },
          "showarrow": false,
          "text": "TE",
          "x": 0.6312500000000001,
          "xanchor": "center",
          "xref": "paper",
          "y": 0.15625,
          "yanchor": "bottom",
          "yref": "paper"
         },
         {
          "font": {
           "size": 16
          },
          "showarrow": false,
          "text": "WR",
          "x": 0.89375,
          "xanchor": "center",
          "xref": "paper",
          "y": 0.15625,
          "yanchor": "bottom",
          "yref": "paper"
         }
        ],
        "bargap": 0.1,
        "height": 900,
        "margin": {
         "t": 80
        },
        "template": {
         "data": {
          "bar": [
           {
            "error_x": {
             "color": "#2a3f5f"
            },
            "error_y": {
             "color": "#2a3f5f"
            },
            "marker": {
             "line": {
              "color": "#E5ECF6",
              "width": 0.5
             },
             "pattern": {
              "fillmode": "overlay",
              "size": 10,
              "solidity": 0.2
             }
            },
            "type": "bar"
           }
          ],
          "barpolar": [
           {
            "marker": {
             "line": {
              "color": "#E5ECF6",
              "width": 0.5
             },
             "pattern": {
              "fillmode": "overlay",
              "size": 10,
              "solidity": 0.2
             }
            },
            "type": "barpolar"
           }
          ],
          "carpet": [
           {
            "aaxis": {
             "endlinecolor": "#2a3f5f",
             "gridcolor": "white",
             "linecolor": "white",
             "minorgridcolor": "white",
             "startlinecolor": "#2a3f5f"
            },
            "baxis": {
             "endlinecolor": "#2a3f5f",
             "gridcolor": "white",
             "linecolor": "white",
             "minorgridcolor": "white",
             "startlinecolor": "#2a3f5f"
            },
            "type": "carpet"
           }
          ],
          "choropleth": [
           {
            "colorbar": {
             "outlinewidth": 0,
             "ticks": ""
            },
            "type": "choropleth"
           }
          ],
          "contour": [
           {
            "colorbar": {
             "outlinewidth": 0,
             "ticks": ""
            },
            "colorscale": [
             [
              0,
              "#0d0887"
             ],
             [
              0.1111111111111111,
              "#46039f"
             ],
             [
              0.2222222222222222,
              "#7201a8"
             ],
             [
              0.3333333333333333,
              "#9c179e"
             ],
             [
              0.4444444444444444,
              "#bd3786"
             ],
             [
              0.5555555555555556,
              "#d8576b"
             ],
             [
              0.6666666666666666,
              "#ed7953"
             ],
             [
              0.7777777777777778,
              "#fb9f3a"
             ],
             [
              0.8888888888888888,
              "#fdca26"
             ],
             [
              1,
              "#f0f921"
             ]
            ],
            "type": "contour"
           }
          ],
          "contourcarpet": [
           {
            "colorbar": {
             "outlinewidth": 0,
             "ticks": ""
            },
            "type": "contourcarpet"
           }
          ],
          "heatmap": [
           {
            "colorbar": {
             "outlinewidth": 0,
             "ticks": ""
            },
            "colorscale": [
             [
              0,
              "#0d0887"
             ],
             [
              0.1111111111111111,
              "#46039f"
             ],
             [
              0.2222222222222222,
              "#7201a8"
             ],
             [
              0.3333333333333333,
              "#9c179e"
             ],
             [
              0.4444444444444444,
              "#bd3786"
             ],
             [
              0.5555555555555556,
              "#d8576b"
             ],
             [
              0.6666666666666666,
              "#ed7953"
             ],
             [
              0.7777777777777778,
              "#fb9f3a"
             ],
             [
              0.8888888888888888,
              "#fdca26"
             ],
             [
              1,
              "#f0f921"
             ]
            ],
            "type": "heatmap"
           }
          ],
          "heatmapgl": [
           {
            "colorbar": {
             "outlinewidth": 0,
             "ticks": ""
            },
            "colorscale": [
             [
              0,
              "#0d0887"
             ],
             [
              0.1111111111111111,
              "#46039f"
             ],
             [
              0.2222222222222222,
              "#7201a8"
             ],
             [
              0.3333333333333333,
              "#9c179e"
             ],
             [
              0.4444444444444444,
              "#bd3786"
             ],
             [
              0.5555555555555556,
              "#d8576b"
             ],
             [
              0.6666666666666666,
              "#ed7953"
             ],
             [
              0.7777777777777778,
              "#fb9f3a"
             ],
             [
              0.8888888888888888,
              "#fdca26"
             ],
             [
              1,
              "#f0f921"
             ]
            ],
            "type": "heatmapgl"
           }
          ],
          "histogram": [
           {
            "marker": {
             "pattern": {
              "fillmode": "overlay",
              "size": 10,
              "solidity": 0.2
             }
            },
            "type": "histogram"
           }
          ],
          "histogram2d": [
           {
            "colorbar": {
             "outlinewidth": 0,
             "ticks": ""
            },
            "colorscale": [
             [
              0,
              "#0d0887"
             ],
             [
              0.1111111111111111,
              "#46039f"
             ],
             [
              0.2222222222222222,
              "#7201a8"
             ],
             [
              0.3333333333333333,
              "#9c179e"
             ],
             [
              0.4444444444444444,
              "#bd3786"
             ],
             [
              0.5555555555555556,
              "#d8576b"
             ],
             [
              0.6666666666666666,
              "#ed7953"
             ],
             [
              0.7777777777777778,
              "#fb9f3a"
             ],
             [
              0.8888888888888888,
              "#fdca26"
             ],
             [
              1,
              "#f0f921"
             ]
            ],
            "type": "histogram2d"
           }
          ],
          "histogram2dcontour": [
           {
            "colorbar": {
             "outlinewidth": 0,
             "ticks": ""
            },
            "colorscale": [
             [
              0,
              "#0d0887"
             ],
             [
              0.1111111111111111,
              "#46039f"
             ],
             [
              0.2222222222222222,
              "#7201a8"
             ],
             [
              0.3333333333333333,
              "#9c179e"
             ],
             [
              0.4444444444444444,
              "#bd3786"
             ],
             [
              0.5555555555555556,
              "#d8576b"
             ],
             [
              0.6666666666666666,
              "#ed7953"
             ],
             [
              0.7777777777777778,
              "#fb9f3a"
             ],
             [
              0.8888888888888888,
              "#fdca26"
             ],
             [
              1,
              "#f0f921"
             ]
            ],
            "type": "histogram2dcontour"
           }
          ],
          "mesh3d": [
           {
            "colorbar": {
             "outlinewidth": 0,
             "ticks": ""
            },
            "type": "mesh3d"
           }
          ],
          "parcoords": [
           {
            "line": {
             "colorbar": {
              "outlinewidth": 0,
              "ticks": ""
             }
            },
            "type": "parcoords"
           }
          ],
          "pie": [
           {
            "automargin": true,
            "type": "pie"
           }
          ],
          "scatter": [
           {
            "fillpattern": {
             "fillmode": "overlay",
             "size": 10,
             "solidity": 0.2
            },
            "type": "scatter"
           }
          ],
          "scatter3d": [
           {
            "line": {
             "colorbar": {
              "outlinewidth": 0,
              "ticks": ""
             }
            },
            "marker": {
             "colorbar": {
              "outlinewidth": 0,
              "ticks": ""
             }
            },
            "type": "scatter3d"
           }
          ],
          "scattercarpet": [
           {
            "marker": {
             "colorbar": {
              "outlinewidth": 0,
              "ticks": ""
             }
            },
            "type": "scattercarpet"
           }
          ],
          "scattergeo": [
           {
            "marker": {
             "colorbar": {
              "outlinewidth": 0,
              "ticks": ""
             }
            },
            "type": "scattergeo"
           }
          ],
          "scattergl": [
           {
            "marker": {
             "colorbar": {
              "outlinewidth": 0,
              "ticks": ""
             }
            },
            "type": "scattergl"
           }
          ],
          "scattermapbox": [
           {
            "marker": {
             "colorbar": {
              "outlinewidth": 0,
              "ticks": ""
             }
            },
            "type": "scattermapbox"
           }
          ],
          "scatterpolar": [
           {
            "marker": {
             "colorbar": {
              "outlinewidth": 0,
              "ticks": ""
             }
            },
            "type": "scatterpolar"
           }
          ],
          "scatterpolargl": [
           {
            "marker": {
             "colorbar": {
              "outlinewidth": 0,
              "ticks": ""
             }
            },
            "type": "scatterpolargl"
           }
          ],
          "scatterternary": [
           {
            "marker": {
             "colorbar": {
              "outlinewidth": 0,
              "ticks": ""
             }
            },
            "type": "scatterternary"
           }
          ],
          "surface": [
           {
            "colorbar": {
             "outlinewidth": 0,
             "ticks": ""
            },
            "colorscale": [
             [
              0,
              "#0d0887"
             ],
             [
              0.1111111111111111,
              "#46039f"
             ],
             [
              0.2222222222222222,
              "#7201a8"
             ],
             [
              0.3333333333333333,
              "#9c179e"
             ],
             [
              0.4444444444444444,
              "#bd3786"
             ],
             [
              0.5555555555555556,
              "#d8576b"
             ],
             [
              0.6666666666666666,
              "#ed7953"
             ],
             [
              0.7777777777777778,
              "#fb9f3a"
             ],
             [
              0.8888888888888888,
              "#fdca26"
             ],
             [
              1,
              "#f0f921"
             ]
            ],
            "type": "surface"
           }
          ],
          "table": [
           {
            "cells": {
             "fill": {
              "color": "#EBF0F8"
             },
             "line": {
              "color": "white"
             }
            },
            "header": {
             "fill": {
              "color": "#C8D4E3"
             },
             "line": {
              "color": "white"
             }
            },
            "type": "table"
           }
          ]
         },
         "layout": {
          "annotationdefaults": {
           "arrowcolor": "#2a3f5f",
           "arrowhead": 0,
           "arrowwidth": 1
          },
          "autotypenumbers": "strict",
          "coloraxis": {
           "colorbar": {
            "outlinewidth": 0,
            "ticks": ""
           }
          },
          "colorscale": {
           "diverging": [
            [
             0,
             "#8e0152"
            ],
            [
             0.1,
             "#c51b7d"
            ],
            [
             0.2,
             "#de77ae"
            ],
            [
             0.3,
             "#f1b6da"
            ],
            [
             0.4,
             "#fde0ef"
            ],
            [
             0.5,
             "#f7f7f7"
            ],
            [
             0.6,
             "#e6f5d0"
            ],
            [
             0.7,
             "#b8e186"
            ],
            [
             0.8,
             "#7fbc41"
            ],
            [
             0.9,
             "#4d9221"
            ],
            [
             1,
             "#276419"
            ]
           ],
           "sequential": [
            [
             0,
             "#0d0887"
            ],
            [
             0.1111111111111111,
             "#46039f"
            ],
            [
             0.2222222222222222,
             "#7201a8"
            ],
            [
             0.3333333333333333,
             "#9c179e"
            ],
            [
             0.4444444444444444,
             "#bd3786"
            ],
            [
             0.5555555555555556,
             "#d8576b"
            ],
            [
             0.6666666666666666,
             "#ed7953"
            ],
            [
             0.7777777777777778,
             "#fb9f3a"
            ],
            [
             0.8888888888888888,
             "#fdca26"
            ],
            [
             1,
             "#f0f921"
            ]
           ],
           "sequentialminus": [
            [
             0,
             "#0d0887"
            ],
            [
             0.1111111111111111,
             "#46039f"
            ],
            [
             0.2222222222222222,
             "#7201a8"
            ],
            [
             0.3333333333333333,
             "#9c179e"
            ],
            [
             0.4444444444444444,
             "#bd3786"
            ],
            [
             0.5555555555555556,
             "#d8576b"
            ],
            [
             0.6666666666666666,
             "#ed7953"
            ],
            [
             0.7777777777777778,
             "#fb9f3a"
            ],
            [
             0.8888888888888888,
             "#fdca26"
            ],
            [
             1,
             "#f0f921"
            ]
           ]
          },
          "colorway": [
           "#636efa",
           "#EF553B",
           "#00cc96",
           "#ab63fa",
           "#FFA15A",
           "#19d3f3",
           "#FF6692",
           "#B6E880",
           "#FF97FF",
           "#FECB52"
          ],
          "font": {
           "color": "#2a3f5f"
          },
          "geo": {
           "bgcolor": "white",
           "lakecolor": "white",
           "landcolor": "#E5ECF6",
           "showlakes": true,
           "showland": true,
           "subunitcolor": "white"
          },
          "hoverlabel": {
           "align": "left"
          },
          "hovermode": "closest",
          "mapbox": {
           "style": "light"
          },
          "paper_bgcolor": "white",
          "plot_bgcolor": "#E5ECF6",
          "polar": {
           "angularaxis": {
            "gridcolor": "white",
            "linecolor": "white",
            "ticks": ""
           },
           "bgcolor": "#E5ECF6",
           "radialaxis": {
            "gridcolor": "white",
            "linecolor": "white",
            "ticks": ""
           }
          },
          "scene": {
           "xaxis": {
            "backgroundcolor": "#E5ECF6",
            "gridcolor": "white",
            "gridwidth": 2,
            "linecolor": "white",
            "showbackground": true,
            "ticks": "",
            "zerolinecolor": "white"
           },
           "yaxis": {
            "backgroundcolor": "#E5ECF6",
            "gridcolor": "white",
            "gridwidth": 2,
            "linecolor": "white",
            "showbackground": true,
            "ticks": "",
            "zerolinecolor": "white"
           },
           "zaxis": {
            "backgroundcolor": "#E5ECF6",
            "gridcolor": "white",
            "gridwidth": 2,
            "linecolor": "white",
            "showbackground": true,
            "ticks": "",
            "zerolinecolor": "white"
           }
          },
          "shapedefaults": {
           "line": {
            "color": "#2a3f5f"
           }
          },
          "ternary": {
           "aaxis": {
            "gridcolor": "white",
            "linecolor": "white",
            "ticks": ""
           },
           "baxis": {
            "gridcolor": "white",
            "linecolor": "white",
            "ticks": ""
           },
           "bgcolor": "#E5ECF6",
           "caxis": {
            "gridcolor": "white",
            "linecolor": "white",
            "ticks": ""
           }
          },
          "title": {
           "x": 0.05
          },
          "xaxis": {
           "automargin": true,
           "gridcolor": "white",
           "linecolor": "white",
           "ticks": "",
           "title": {
            "standoff": 15
           },
           "zerolinecolor": "white",
           "zerolinewidth": 2
          },
          "yaxis": {
           "automargin": true,
           "gridcolor": "white",
           "linecolor": "white",
           "ticks": "",
           "title": {
            "standoff": 15
           },
           "zerolinecolor": "white",
           "zerolinewidth": 2
          }
         }
        },
        "title": {
         "text": "Age Distribution by Position (Excluding ST and P)"
        },
        "width": 900,
        "xaxis": {
         "anchor": "y",
         "domain": [
          0,
          0.2125
         ],
         "range": [
          21,
          44
         ]
        },
        "xaxis10": {
         "anchor": "y10",
         "domain": [
          0.2625,
          0.475
         ],
         "range": [
          21,
          44
         ]
        },
        "xaxis11": {
         "anchor": "y11",
         "domain": [
          0.525,
          0.7375
         ],
         "range": [
          21,
          44
         ]
        },
        "xaxis12": {
         "anchor": "y12",
         "domain": [
          0.7875,
          1
         ],
         "range": [
          21,
          44
         ]
        },
        "xaxis13": {
         "anchor": "y13",
         "domain": [
          0,
          0.2125
         ],
         "range": [
          21,
          44
         ]
        },
        "xaxis14": {
         "anchor": "y14",
         "domain": [
          0.2625,
          0.475
         ],
         "range": [
          21,
          44
         ]
        },
        "xaxis15": {
         "anchor": "y15",
         "domain": [
          0.525,
          0.7375
         ],
         "range": [
          21,
          44
         ]
        },
        "xaxis16": {
         "anchor": "y16",
         "domain": [
          0.7875,
          1
         ],
         "range": [
          21,
          44
         ]
        },
        "xaxis2": {
         "anchor": "y2",
         "domain": [
          0.2625,
          0.475
         ],
         "range": [
          21,
          44
         ]
        },
        "xaxis3": {
         "anchor": "y3",
         "domain": [
          0.525,
          0.7375
         ],
         "range": [
          21,
          44
         ]
        },
        "xaxis4": {
         "anchor": "y4",
         "domain": [
          0.7875,
          1
         ],
         "range": [
          21,
          44
         ]
        },
        "xaxis5": {
         "anchor": "y5",
         "domain": [
          0,
          0.2125
         ],
         "range": [
          21,
          44
         ]
        },
        "xaxis6": {
         "anchor": "y6",
         "domain": [
          0.2625,
          0.475
         ],
         "range": [
          21,
          44
         ]
        },
        "xaxis7": {
         "anchor": "y7",
         "domain": [
          0.525,
          0.7375
         ],
         "range": [
          21,
          44
         ]
        },
        "xaxis8": {
         "anchor": "y8",
         "domain": [
          0.7875,
          1
         ],
         "range": [
          21,
          44
         ]
        },
        "xaxis9": {
         "anchor": "y9",
         "domain": [
          0,
          0.2125
         ],
         "range": [
          21,
          44
         ]
        },
        "yaxis": {
         "anchor": "x",
         "domain": [
          0.84375,
          1
         ],
         "title": {
          "text": "Count"
         }
        },
        "yaxis10": {
         "anchor": "x10",
         "domain": [
          0.28125,
          0.4375
         ],
         "title": {
          "text": "Count"
         }
        },
        "yaxis11": {
         "anchor": "x11",
         "domain": [
          0.28125,
          0.4375
         ],
         "title": {
          "text": "Count"
         }
        },
        "yaxis12": {
         "anchor": "x12",
         "domain": [
          0.28125,
          0.4375
         ],
         "title": {
          "text": "Count"
         }
        },
        "yaxis13": {
         "anchor": "x13",
         "domain": [
          0,
          0.15625
         ],
         "title": {
          "text": "Count"
         }
        },
        "yaxis14": {
         "anchor": "x14",
         "domain": [
          0,
          0.15625
         ],
         "title": {
          "text": "Count"
         }
        },
        "yaxis15": {
         "anchor": "x15",
         "domain": [
          0,
          0.15625
         ],
         "title": {
          "text": "Count"
         }
        },
        "yaxis16": {
         "anchor": "x16",
         "domain": [
          0,
          0.15625
         ],
         "title": {
          "text": "Count"
         }
        },
        "yaxis2": {
         "anchor": "x2",
         "domain": [
          0.84375,
          1
         ],
         "title": {
          "text": "Count"
         }
        },
        "yaxis3": {
         "anchor": "x3",
         "domain": [
          0.84375,
          1
         ],
         "title": {
          "text": "Count"
         }
        },
        "yaxis4": {
         "anchor": "x4",
         "domain": [
          0.84375,
          1
         ],
         "title": {
          "text": "Count"
         }
        },
        "yaxis5": {
         "anchor": "x5",
         "domain": [
          0.5625,
          0.71875
         ],
         "title": {
          "text": "Count"
         }
        },
        "yaxis6": {
         "anchor": "x6",
         "domain": [
          0.5625,
          0.71875
         ],
         "title": {
          "text": "Count"
         }
        },
        "yaxis7": {
         "anchor": "x7",
         "domain": [
          0.5625,
          0.71875
         ],
         "title": {
          "text": "Count"
         }
        },
        "yaxis8": {
         "anchor": "x8",
         "domain": [
          0.5625,
          0.71875
         ],
         "title": {
          "text": "Count"
         }
        },
        "yaxis9": {
         "anchor": "x9",
         "domain": [
          0.28125,
          0.4375
         ],
         "title": {
          "text": "Count"
         }
        }
       }
      }
     },
     "metadata": {},
     "output_type": "display_data"
    }
   ],
   "source": [
    "\n",
    "# choose only 16 positions for 4x4 subplits\n",
    "df1 = df[~df['Pos'].isin(['LS', 'P'])]\n",
    "\n",
    "# remaining unique positions\n",
    "positions = sorted(df1['Pos'].unique())\n",
    "\n",
    "# create 4x4 subplots\n",
    "rows, cols = 4, 4\n",
    "fig = make_subplots(rows=rows, cols=cols, subplot_titles=positions)\n",
    "\n",
    "# add histograms\n",
    "for i, pos in enumerate(positions):\n",
    "    row = i // cols + 1\n",
    "    col = i % cols + 1\n",
    "    subset = df1[df1['Pos'] == pos]\n",
    "    \n",
    "    fig.add_trace(\n",
    "        go.Histogram(\n",
    "            x=subset['Age'],\n",
    "            xbins=dict(start=21, end=44, size=2),  # Set bin size and range\n",
    "            name=pos,\n",
    "            showlegend=False\n",
    "        ),\n",
    "        row=row,\n",
    "        col=col\n",
    "    )\n",
    "\n",
    "# update layout and axis ranges\n",
    "fig.update_layout(\n",
    "    height=900,\n",
    "    width=900,\n",
    "    title_text=\"Age Distribution by Position (Excluding ST and P)\",\n",
    "    margin=dict(t=80),\n",
    "    bargap=0.1\n",
    ")\n",
    "\n",
    "# set x-axis range for all subplots\n",
    "for i in range(1, rows * cols + 1):\n",
    "    fig.update_xaxes(range=[21, 44], row=(i - 1) // cols + 1, col=(i - 1) % cols + 1)\n",
    "    fig.update_yaxes(title_text=\"Count\", row=(i - 1) // cols + 1, col=(i - 1) % cols + 1)\n",
    "\n",
    "fig.show()"
   ]
  },
  {
   "cell_type": "markdown",
   "metadata": {},
   "source": [
    "##### takeaways\n",
    "- Overall defense younger compared to WR TE\n",
    "- RBs very young\n",
    "- OL older than DL, Centers slightly higher than G and T"
   ]
  },
  {
   "cell_type": "code",
   "execution_count": 5,
   "metadata": {},
   "outputs": [
    {
     "data": {
      "application/vnd.plotly.v1+json": {
       "config": {
        "plotlyServerURL": "https://plot.ly"
       },
       "data": [
        {
         "alignmentgroup": "True",
         "customdata": [
          [
           "Peyton Manning",
           2000
          ],
          [
           "Frank Wycheck",
           2000
          ],
          [
           "Kyle Turley",
           2000
          ],
          [
           "Ruben Brown",
           2000
          ],
          [
           "Kevin Mawae",
           2000
          ],
          [
           "Rob Burnett",
           2000
          ],
          [
           "Keith Hamilton",
           2000
          ],
          [
           "Jessie Armstead",
           2000
          ],
          [
           "Randall Godfrey",
           2000
          ],
          [
           "Stephen Boyd",
           2000
          ],
          [
           "Sam Cowart",
           2000
          ],
          [
           "Charles Woodson",
           2000
          ],
          [
           "Blaine Bishop",
           2000
          ],
          [
           "Shane Lechler",
           2000
          ],
          [
           "Chris Gardocki",
           2000
          ],
          [
           "Jason Taylor",
           2000
          ],
          [
           "Sam Madison",
           2000
          ],
          [
           "Derrick Mason",
           2000
          ],
          [
           "Bruce Matthews",
           2000
          ],
          [
           "Samari Rolle",
           2000
          ],
          [
           "Randy Moss",
           2000
          ],
          [
           "Jonathan Ogden",
           2000
          ],
          [
           "Matt Stover",
           2000
          ],
          [
           "Darren Sharper",
           2000
          ],
          [
           "Junior Seau",
           2000
          ],
          [
           "Warren Sapp",
           2000
          ],
          [
           "John Lynch",
           2000
          ],
          [
           "Ray Lewis",
           2000
          ],
          [
           "Tony Gonzalez",
           2000
          ],
          [
           "La'Roi Glover",
           2000
          ],
          [
           "Rich Gannon",
           2000
          ],
          [
           "Marshall Faulk",
           2000
          ],
          [
           "Hugh Douglas",
           2000
          ],
          [
           "Derrick Brooks",
           2000
          ],
          [
           "Larry Allen",
           2000
          ],
          [
           "Marvin Harrison",
           2000
          ],
          [
           "Eddie George",
           2000
          ],
          [
           "Tom Nalen",
           2000
          ],
          [
           "Az-Zahir Hakim",
           2000
          ],
          [
           "Orlando Pace",
           2000
          ],
          [
           "Edgerrin James",
           2000
          ],
          [
           "Willie Roaf",
           2000
          ],
          [
           "Michael Bates",
           2000
          ],
          [
           "Darren Bennett",
           2000
          ],
          [
           "Terrell Owens",
           2000
          ],
          [
           "Jeremiah Trotter",
           2000
          ],
          [
           "Mo Lewis",
           2000
          ],
          [
           "Sam Adams",
           2000
          ],
          [
           "Trace Armstrong",
           2000
          ],
          [
           "Champ Bailey",
           2000
          ],
          [
           "Martin Gramatica",
           2000
          ],
          [
           "Chad Lewis",
           2000
          ],
          [
           "Steve Wisniewski",
           2000
          ],
          [
           "Robert Smith",
           2000
          ],
          [
           "Darrick Vaughn",
           2000
          ],
          [
           "Rod Smith",
           2000
          ],
          [
           "Rod Woodson",
           2000
          ],
          [
           "Brad Hopkins",
           2000
          ],
          [
           "Trevor Pryce",
           2000
          ],
          [
           "Scott Player",
           2000
          ],
          [
           "Ron Stone",
           2000
          ],
          [
           "Matt Birk",
           2000
          ],
          [
           "Daunte Culpepper",
           2000
          ],
          [
           "Keith Mitchell",
           2000
          ],
          [
           "Desmond Howard",
           2000
          ],
          [
           "Larry Izzo",
           2000
          ],
          [
           "Joe Johnson",
           2000
          ],
          [
           "Troy Vincent",
           2000
          ],
          [
           "Brock Marion",
           2000
          ],
          [
           "Brett Favre",
           2001
          ],
          [
           "Ernie Conwell",
           2001
          ],
          [
           "James Williams",
           2001
          ],
          [
           "Lincoln Kennedy",
           2001
          ],
          [
           "Adam Timmerman",
           2001
          ],
          [
           "Jeff Hartings",
           2001
          ],
          [
           "Jason Taylor",
           2001
          ],
          [
           "Ted Washington",
           2001
          ],
          [
           "Trevor Pryce",
           2001
          ],
          [
           "Kendrell Bell",
           2001
          ],
          [
           "Zach Thomas",
           2001
          ],
          [
           "Jeremiah Trotter",
           2001
          ],
          [
           "Ronde Barber",
           2001
          ],
          [
           "Charles Woodson",
           2001
          ],
          [
           "Mike Brown",
           2001
          ],
          [
           "Sammy Knight",
           2001
          ],
          [
           "Kevin Mawae",
           2001
          ],
          [
           "Jamir Miller",
           2001
          ],
          [
           "John Abraham",
           2001
          ],
          [
           "Orlando Pace",
           2001
          ],
          [
           "Warren Sapp",
           2001
          ],
          [
           "Todd Sauerbrun",
           2001
          ],
          [
           "Steve Smith Sr.",
           2001
          ],
          [
           "Michael Strahan",
           2001
          ],
          [
           "Brian Urlacher",
           2001
          ],
          [
           "Kurt Warner",
           2001
          ],
          [
           "Aeneas Williams",
           2001
          ],
          [
           "Terrell Owens",
           2001
          ],
          [
           "Tony Gonzalez",
           2001
          ],
          [
           "Marshall Faulk",
           2001
          ],
          [
           "Alan Faneca",
           2001
          ],
          [
           "David Akers",
           2001
          ],
          [
           "Brian Dawkins",
           2001
          ],
          [
           "Larry Allen",
           2001
          ],
          [
           "David Boston",
           2001
          ],
          [
           "Curtis Martin",
           2001
          ],
          [
           "Jonathan Ogden",
           2001
          ],
          [
           "Ray Lewis",
           2001
          ],
          [
           "Jason Gildon",
           2001
          ],
          [
           "Jermaine Lewis",
           2001
          ],
          [
           "John Lynch",
           2001
          ],
          [
           "Troy Brown",
           2001
          ],
          [
           "Sam Adams",
           2001
          ],
          [
           "Larry Whigham",
           2001
          ],
          [
           "Rodney Harrison",
           2001
          ],
          [
           "Priest Holmes",
           2001
          ],
          [
           "Walter Jones",
           2001
          ],
          [
           "Marvin Harrison",
           2001
          ],
          [
           "Sam Madison",
           2001
          ],
          [
           "LaVar Arrington",
           2001
          ],
          [
           "Shane Lechler",
           2001
          ],
          [
           "Derrick Brooks",
           2001
          ],
          [
           "Ray Brown",
           2001
          ],
          [
           "Jason Elam",
           2001
          ],
          [
           "Bryant Young",
           2001
          ],
          [
           "Marcellus Wiley",
           2001
          ],
          [
           "Rod Smith",
           2001
          ],
          [
           "Ahman Green",
           2001
          ],
          [
           "Troy Vincent",
           2001
          ],
          [
           "Ian Gold",
           2001
          ],
          [
           "Will Shields",
           2001
          ],
          [
           "Rich Gannon",
           2001
          ],
          [
           "Olin Kreutz",
           2001
          ],
          [
           "Chris Samuels",
           2001
          ],
          [
           "Darrien Gordon",
           2001
          ],
          [
           "John Randle",
           2001
          ],
          [
           "Robert Porcher",
           2001
          ],
          [
           "Wesley Walls",
           2001
          ],
          [
           "Deltha O'Neal",
           2001
          ],
          [
           "Lawyer Milloy",
           2001
          ],
          [
           "LaDainian Tomlinson",
           2002
          ],
          [
           "Fred Beasley",
           2002
          ],
          [
           "Eric Moulds",
           2002
          ],
          [
           "Jerry Rice",
           2002
          ],
          [
           "Willie Roaf",
           2002
          ],
          [
           "Ruben Brown",
           2002
          ],
          [
           "Barret Robbins",
           2002
          ],
          [
           "Michael Strahan",
           2002
          ],
          [
           "Kris Jenkins",
           2002
          ],
          [
           "Chris Hovan",
           2002
          ],
          [
           "Julian Peterson",
           2002
          ],
          [
           "Donnie Edwards",
           2002
          ],
          [
           "Keith Brooking",
           2002
          ],
          [
           "Ronde Barber",
           2002
          ],
          [
           "John Lynch",
           2002
          ],
          [
           "Dante Hall",
           2002
          ],
          [
           "Todd Sauerbrun",
           2002
          ],
          [
           "Ricky Williams",
           2002
          ],
          [
           "Brian Urlacher",
           2002
          ],
          [
           "Jason Taylor",
           2002
          ],
          [
           "Patrick Surtain",
           2002
          ],
          [
           "Will Shields",
           2002
          ],
          [
           "Warren Sapp",
           2002
          ],
          [
           "Simeon Rice",
           2002
          ],
          [
           "Joey Porter",
           2002
          ],
          [
           "Terrell Owens",
           2002
          ],
          [
           "Jonathan Ogden",
           2002
          ],
          [
           "Derrick Brooks",
           2002
          ],
          [
           "Brian Dawkins",
           2002
          ],
          [
           "Alan Faneca",
           2002
          ],
          [
           "Rich Gannon",
           2002
          ],
          [
           "Michael Lewis",
           2002
          ],
          [
           "Marvin Harrison",
           2002
          ],
          [
           "Priest Holmes",
           2002
          ],
          [
           "La'Roi Glover",
           2002
          ],
          [
           "Tony Gonzalez",
           2002
          ],
          [
           "Kevin Mawae",
           2002
          ],
          [
           "Adam Vinatieri",
           2002
          ],
          [
           "Santana Moss",
           2002
          ],
          [
           "Rod Woodson",
           2002
          ],
          [
           "Darren Sharper",
           2002
          ],
          [
           "Bobby Taylor",
           2002
          ],
          [
           "David Akers",
           2002
          ],
          [
           "Tra Thomas",
           2002
          ],
          [
           "Aaron Glenn",
           2002
          ],
          [
           "Troy Vincent",
           2002
          ],
          [
           "Zach Thomas",
           2002
          ],
          [
           "Lincoln Kennedy",
           2002
          ],
          [
           "Walter Jones",
           2002
          ],
          [
           "Jeremy Shockey",
           2002
          ],
          [
           "Fred McAfee",
           2002
          ],
          [
           "Hines Ward",
           2002
          ],
          [
           "Chris Hanson",
           2002
          ],
          [
           "Keith Bulluck",
           2002
          ],
          [
           "Jermane Mayberry",
           2002
          ],
          [
           "Brett Favre",
           2002
          ],
          [
           "Hugh Douglas",
           2002
          ],
          [
           "Jeremy Newberry",
           2002
          ],
          [
           "LaVar Arrington",
           2002
          ],
          [
           "Tiki Barber",
           2002
          ],
          [
           "Randy Moss",
           2002
          ],
          [
           "Chad Morton",
           2002
          ],
          [
           "Deuce McAllister",
           2002
          ],
          [
           "John Abraham",
           2002
          ],
          [
           "Lance Schulters",
           2002
          ],
          [
           "Richard Seymour",
           2002
          ],
          [
           "Ron Stone",
           2002
          ],
          [
           "Larry Izzo",
           2002
          ],
          [
           "Gary Walker",
           2002
          ],
          [
           "Steve McNair",
           2003
          ],
          [
           "LaDainian Tomlinson",
           2003
          ],
          [
           "Fred Beasley",
           2003
          ],
          [
           "Hines Ward",
           2003
          ],
          [
           "Todd Heap",
           2003
          ],
          [
           "Willie Anderson",
           2003
          ],
          [
           "Simeon Rice",
           2003
          ],
          [
           "Derrick Brooks",
           2003
          ],
          [
           "Zach Thomas",
           2003
          ],
          [
           "Tedy Bruschi",
           2003
          ],
          [
           "Chris McAlister",
           2003
          ],
          [
           "Shane Lechler",
           2003
          ],
          [
           "Torry Holt",
           2003
          ],
          [
           "Jonathan Ogden",
           2003
          ],
          [
           "Richard Seymour",
           2003
          ],
          [
           "Julian Peterson",
           2003
          ],
          [
           "Will Shields",
           2003
          ],
          [
           "Peyton Manning",
           2003
          ],
          [
           "Ray Lewis",
           2003
          ],
          [
           "Jamal Lewis",
           2003
          ],
          [
           "Michael Strahan",
           2003
          ],
          [
           "Steve Hutchinson",
           2003
          ],
          [
           "Priest Holmes",
           2003
          ],
          [
           "Mike Vanderjagt",
           2003
          ],
          [
           "Roy Williams",
           2003
          ],
          [
           "Kris Jenkins",
           2003
          ],
          [
           "Tony Gonzalez",
           2003
          ],
          [
           "Dante Hall",
           2003
          ],
          [
           "Ed Reed",
           2003
          ],
          [
           "Randy Moss",
           2003
          ],
          [
           "Keith Bulluck",
           2003
          ],
          [
           "Willie Roaf",
           2003
          ],
          [
           "Orlando Pace",
           2003
          ],
          [
           "Tom Nalen",
           2003
          ],
          [
           "Leonard Little",
           2003
          ],
          [
           "Ty Law",
           2003
          ],
          [
           "Todd Sauerbrun",
           2003
          ],
          [
           "Jerry Azumah",
           2003
          ],
          [
           "Patrick Surtain",
           2003
          ],
          [
           "Champ Bailey",
           2003
          ],
          [
           "Matt Birk",
           2003
          ],
          [
           "Marvin Harrison",
           2003
          ],
          [
           "Alex Bannister",
           2003
          ],
          [
           "Rodney Harrison",
           2003
          ],
          [
           "LaVar Arrington",
           2003
          ],
          [
           "Marco Rivera",
           2003
          ],
          [
           "Alan Faneca",
           2003
          ],
          [
           "Dwight Freeney",
           2003
          ],
          [
           "La'Roi Glover",
           2003
          ],
          [
           "Jeff Wilkins",
           2003
          ],
          [
           "Chad Johnson",
           2003
          ],
          [
           "Marcus Stroud",
           2003
          ],
          [
           "Dat Nguyen",
           2003
          ],
          [
           "Tony Parrish",
           2003
          ],
          [
           "Brian Westbrook",
           2003
          ],
          [
           "Craig Hentrich",
           2003
          ],
          [
           "Adalius Thomas",
           2003
          ],
          [
           "Ahman Green",
           2003
          ],
          [
           "Walter Jones",
           2003
          ],
          [
           "Brett Favre",
           2003
          ],
          [
           "Takeo Spikes",
           2003
          ],
          [
           "Alge Crumpler",
           2003
          ],
          [
           "Dre' Bly",
           2003
          ],
          [
           "Deuce McAllister",
           2003
          ],
          [
           "Adewale Ogunleye",
           2003
          ],
          [
           "LaDainian Tomlinson",
           2004
          ],
          [
           "William Henderson",
           2004
          ],
          [
           "Tony Richardson",
           2004
          ],
          [
           "Hines Ward",
           2004
          ],
          [
           "Tony Gonzalez",
           2004
          ],
          [
           "Willie Anderson",
           2004
          ],
          [
           "Brian Waters",
           2004
          ],
          [
           "Jeff Hartings",
           2004
          ],
          [
           "Patrick Kerney",
           2004
          ],
          [
           "Jamal Williams",
           2004
          ],
          [
           "Shaun Rogers",
           2004
          ],
          [
           "Ray Lewis",
           2004
          ],
          [
           "Tedy Bruschi",
           2004
          ],
          [
           "Donnie Edwards",
           2004
          ],
          [
           "Ronde Barber",
           2004
          ],
          [
           "Rodney Harrison",
           2004
          ],
          [
           "Brad Maynard",
           2004
          ],
          [
           "Shane Lechler",
           2004
          ],
          [
           "Curtis Martin",
           2004
          ],
          [
           "Terrell Owens",
           2004
          ],
          [
           "Julius Peppers",
           2004
          ],
          [
           "Ed Reed",
           2004
          ],
          [
           "Richard Seymour",
           2004
          ],
          [
           "Kevin Williams",
           2004
          ],
          [
           "Takeo Spikes",
           2004
          ],
          [
           "Adam Vinatieri",
           2004
          ],
          [
           "Peyton Manning",
           2004
          ],
          [
           "Champ Bailey",
           2004
          ],
          [
           "Walter Jones",
           2004
          ],
          [
           "Brian Dawkins",
           2004
          ],
          [
           "Eddie Drummond",
           2004
          ],
          [
           "Antonio Gates",
           2004
          ],
          [
           "Dwight Freeney",
           2004
          ],
          [
           "James Farrior",
           2004
          ],
          [
           "Alan Faneca",
           2004
          ],
          [
           "Terrence McGee",
           2004
          ],
          [
           "Derrick Brooks",
           2004
          ],
          [
           "Muhsin Muhammad",
           2004
          ],
          [
           "Lito Sheppard",
           2004
          ],
          [
           "Willie Roaf",
           2004
          ],
          [
           "Shaun Alexander",
           2004
          ],
          [
           "Marvin Harrison",
           2004
          ],
          [
           "Edgerrin James",
           2004
          ],
          [
           "Chris McAlister",
           2004
          ],
          [
           "Kevin Mawae",
           2004
          ],
          [
           "Larry Izzo",
           2004
          ],
          [
           "Orlando Pace",
           2004
          ],
          [
           "David Akers",
           2004
          ],
          [
           "Will Shields",
           2004
          ],
          [
           "Bertrand Berry",
           2004
          ],
          [
           "Keith Brooking",
           2004
          ],
          [
           "Joey Porter",
           2004
          ],
          [
           "Troy Polamalu",
           2004
          ],
          [
           "Jonathan Ogden",
           2004
          ],
          [
           "Steve Hutchinson",
           2004
          ],
          [
           "Dan Morgan",
           2004
          ],
          [
           "Tiki Barber",
           2004
          ],
          [
           "Mitch Berger",
           2004
          ],
          [
           "Roderick Coleman",
           2004
          ],
          [
           "Daunte Culpepper",
           2004
          ],
          [
           "Chad Johnson",
           2004
          ],
          [
           "Olin Kreutz",
           2004
          ],
          [
           "Michael Lewis",
           2004
          ],
          [
           "Marcus Stroud",
           2004
          ],
          [
           "Ike Reese",
           2004
          ],
          [
           "Marco Rivera",
           2004
          ],
          [
           "B.J. Sams",
           2004
          ],
          [
           "Jason Witten",
           2004
          ],
          [
           "Shawn Springs",
           2004
          ],
          [
           "Tra Thomas",
           2004
          ],
          [
           "Jason Taylor",
           2004
          ],
          [
           "Tom Brady",
           2005
          ],
          [
           "LaDainian Tomlinson",
           2005
          ],
          [
           "Mack Strong",
           2005
          ],
          [
           "Lorenzo Neal",
           2005
          ],
          [
           "Jon Jansen",
           2005
          ],
          [
           "Brian Waters",
           2005
          ],
          [
           "Zach Thomas",
           2005
          ],
          [
           "Mike Peterson",
           2005
          ],
          [
           "Terrence McGee",
           2005
          ],
          [
           "Neil Rackers",
           2005
          ],
          [
           "Chad Johnson",
           2005
          ],
          [
           "Walter Jones",
           2005
          ],
          [
           "Brian Urlacher",
           2005
          ],
          [
           "Steve Hutchinson",
           2005
          ],
          [
           "Peyton Manning",
           2005
          ],
          [
           "Jerome Mathis",
           2005
          ],
          [
           "Brian Moorman",
           2005
          ],
          [
           "Troy Polamalu",
           2005
          ],
          [
           "Dwight Freeney",
           2005
          ],
          [
           "Champ Bailey",
           2005
          ],
          [
           "Shaun Alexander",
           2005
          ],
          [
           "Steve Smith Sr.",
           2005
          ],
          [
           "Alan Faneca",
           2005
          ],
          [
           "Antonio Gates",
           2005
          ],
          [
           "Darren Sharper",
           2005
          ],
          [
           "Olin Kreutz",
           2005
          ],
          [
           "Osi Umenyiora",
           2005
          ],
          [
           "Richard Seymour",
           2005
          ],
          [
           "Lance Briggs",
           2005
          ],
          [
           "Tiki Barber",
           2005
          ],
          [
           "Al Wilson",
           2005
          ],
          [
           "Jamal Williams",
           2005
          ],
          [
           "Willie Anderson",
           2005
          ],
          [
           "Michael Strahan",
           2005
          ],
          [
           "Willie Roaf",
           2005
          ],
          [
           "Cato June",
           2005
          ],
          [
           "Nathan Vasher",
           2005
          ],
          [
           "Deltha O'Neal",
           2005
          ],
          [
           "Roderick Coleman",
           2005
          ],
          [
           "Antwaan Randle El",
           2005
          ],
          [
           "Bob Sanders",
           2005
          ],
          [
           "Jeff Saturday",
           2005
          ],
          [
           "Derrick Brooks",
           2005
          ],
          [
           "Ronde Barber",
           2005
          ],
          [
           "David Tyree",
           2005
          ],
          [
           "Marcus Stroud",
           2005
          ],
          [
           "Shawne Merriman",
           2005
          ],
          [
           "B.J. Sams",
           2005
          ],
          [
           "Josh Bidwell",
           2005
          ],
          [
           "Joey Porter",
           2005
          ],
          [
           "Mike Brown",
           2005
          ],
          [
           "Derrick Burgess",
           2005
          ],
          [
           "Santana Moss",
           2005
          ],
          [
           "Shayne Graham",
           2005
          ],
          [
           "Larry Johnson",
           2005
          ],
          [
           "Will Shields",
           2005
          ],
          [
           "Marvin Harrison",
           2005
          ],
          [
           "Tommie Harris",
           2005
          ],
          [
           "Edgerrin James",
           2005
          ],
          [
           "Chris Cooley",
           2005
          ],
          [
           "Matt Hasselbeck",
           2005
          ],
          [
           "Reno Mahe",
           2005
          ],
          [
           "Hanik Milligan",
           2005
          ],
          [
           "Orlando Pace",
           2005
          ],
          [
           "Mike Wahle",
           2005
          ],
          [
           "Koren Robinson",
           2005
          ],
          [
           "Drew Brees",
           2006
          ],
          [
           "Peyton Manning",
           2006
          ],
          [
           "Larry Johnson",
           2006
          ],
          [
           "LaDainian Tomlinson",
           2006
          ],
          [
           "Steven Jackson",
           2006
          ],
          [
           "Frank Gore",
           2006
          ],
          [
           "Lorenzo Neal",
           2006
          ],
          [
           "Ovie Mughelli",
           2006
          ],
          [
           "Mike Karney",
           2006
          ],
          [
           "Chad Johnson",
           2006
          ],
          [
           "Marvin Harrison",
           2006
          ],
          [
           "Torry Holt",
           2006
          ],
          [
           "Donald Driver",
           2006
          ],
          [
           "Andre Johnson",
           2006
          ],
          [
           "Antonio Gates",
           2006
          ],
          [
           "Alge Crumpler",
           2006
          ],
          [
           "Tony Gonzalez",
           2006
          ],
          [
           "Walter Jones",
           2006
          ],
          [
           "Jammal Brown",
           2006
          ],
          [
           "Jonathan Ogden",
           2006
          ],
          [
           "Willie Anderson",
           2006
          ],
          [
           "Steve Hutchinson",
           2006
          ],
          [
           "Shawn Andrews",
           2006
          ],
          [
           "Alan Faneca",
           2006
          ],
          [
           "Will Shields",
           2006
          ],
          [
           "Olin Kreutz",
           2006
          ],
          [
           "Jeff Saturday",
           2006
          ],
          [
           "Jason Taylor",
           2006
          ],
          [
           "Julius Peppers",
           2006
          ],
          [
           "Aaron Kampman",
           2006
          ],
          [
           "Aaron Schobel",
           2006
          ],
          [
           "Kevin Williams",
           2006
          ],
          [
           "Jamal Williams",
           2006
          ],
          [
           "Richard Seymour",
           2006
          ],
          [
           "Tommie Harris",
           2006
          ],
          [
           "John Henderson",
           2006
          ],
          [
           "Shawne Merriman",
           2006
          ],
          [
           "Adalius Thomas",
           2006
          ],
          [
           "Lance Briggs",
           2006
          ],
          [
           "DeMarcus Ware",
           2006
          ],
          [
           "Al Wilson",
           2006
          ],
          [
           "Bart Scott",
           2006
          ],
          [
           "Brian Urlacher",
           2006
          ],
          [
           "Zach Thomas",
           2006
          ],
          [
           "Champ Bailey",
           2006
          ],
          [
           "Rashean Mathis",
           2006
          ],
          [
           "Lito Sheppard",
           2006
          ],
          [
           "Al Harris",
           2006
          ],
          [
           "Ronde Barber",
           2006
          ],
          [
           "Nnamdi Asomugha",
           2006
          ],
          [
           "Ed Reed",
           2006
          ],
          [
           "Adrian Wilson",
           2006
          ],
          [
           "Brian Dawkins",
           2006
          ],
          [
           "Kerry Rhodes",
           2006
          ],
          [
           "Matt Stover",
           2006
          ],
          [
           "Brian Moorman",
           2006
          ],
          [
           "Mat McBriar",
           2006
          ],
          [
           "Adam Jones",
           2006
          ],
          [
           "Devin Hester",
           2006
          ],
          [
           "Justin Miller",
           2006
          ],
          [
           "Brendon Ayanbadejo",
           2006
          ],
          [
           "Kassim Osgood",
           2006
          ],
          [
           "Robbie Gould",
           2006
          ],
          [
           "Nate Kaeding",
           2006
          ],
          [
           "Tom Brady",
           2007
          ],
          [
           "Brett Favre",
           2007
          ],
          [
           "LaDainian Tomlinson",
           2007
          ],
          [
           "Brian Westbrook",
           2007
          ],
          [
           "Adrian Peterson",
           2007
          ],
          [
           "Willie Parker",
           2007
          ],
          [
           "Fred Taylor",
           2007
          ],
          [
           "Lorenzo Neal",
           2007
          ],
          [
           "Tony Richardson",
           2007
          ],
          [
           "Randy Moss",
           2007
          ],
          [
           "Terrell Owens",
           2007
          ],
          [
           "Braylon Edwards",
           2007
          ],
          [
           "Reggie Wayne",
           2007
          ],
          [
           "Larry Fitzgerald",
           2007
          ],
          [
           "Wes Welker",
           2007
          ],
          [
           "Jason Witten",
           2007
          ],
          [
           "Antonio Gates",
           2007
          ],
          [
           "Tony Gonzalez",
           2007
          ],
          [
           "Walter Jones",
           2007
          ],
          [
           "Matt Light",
           2007
          ],
          [
           "Jason Peters",
           2007
          ],
          [
           "Flozell Adams",
           2007
          ],
          [
           "Steve Hutchinson",
           2007
          ],
          [
           "Logan Mankins",
           2007
          ],
          [
           "Alan Faneca",
           2007
          ],
          [
           "Shawn Andrews",
           2007
          ],
          [
           "Leonard Davis",
           2007
          ],
          [
           "Jeff Saturday",
           2007
          ],
          [
           "Matt Birk",
           2007
          ],
          [
           "Dan Koppen",
           2007
          ],
          [
           "Jared Allen",
           2007
          ],
          [
           "Patrick Kerney",
           2007
          ],
          [
           "Mario Williams",
           2007
          ],
          [
           "Aaron Kampman",
           2007
          ],
          [
           "Kyle Vanden Bosch",
           2007
          ],
          [
           "Kevin Williams",
           2007
          ],
          [
           "Albert Haynesworth",
           2007
          ],
          [
           "Vince Wilfork",
           2007
          ],
          [
           "Pat Williams",
           2007
          ],
          [
           "DeMarcus Ware",
           2007
          ],
          [
           "Mike Vrabel",
           2007
          ],
          [
           "James Harrison",
           2007
          ],
          [
           "Julian Peterson",
           2007
          ],
          [
           "Shawne Merriman",
           2007
          ],
          [
           "Lofa Tatupu",
           2007
          ],
          [
           "Nick Barnett",
           2007
          ],
          [
           "Patrick Willis",
           2007
          ],
          [
           "DeMeco Ryans",
           2007
          ],
          [
           "Asante Samuel",
           2007
          ],
          [
           "Antonio Cromartie",
           2007
          ],
          [
           "Marcus Trufant",
           2007
          ],
          [
           "Al Harris",
           2007
          ],
          [
           "Champ Bailey",
           2007
          ],
          [
           "Bob Sanders",
           2007
          ],
          [
           "Ed Reed",
           2007
          ],
          [
           "Darren Sharper",
           2007
          ],
          [
           "Jermaine Phillips",
           2007
          ],
          [
           "Troy Polamalu",
           2007
          ],
          [
           "Sean Taylor",
           2007
          ],
          [
           "Phil Dawson",
           2007
          ],
          [
           "Andy Lee",
           2007
          ],
          [
           "Shane Lechler",
           2007
          ],
          [
           "Roscoe Parrish",
           2007
          ],
          [
           "Devin Hester",
           2007
          ],
          [
           "Josh Cribbs",
           2007
          ],
          [
           "Kassim Osgood",
           2007
          ],
          [
           "Brendon Ayanbadejo",
           2007
          ],
          [
           "Rob Bironas",
           2007
          ],
          [
           "Kris Brown",
           2007
          ],
          [
           "Keith Bulluck",
           2007
          ],
          [
           "Kevin Mawae",
           2007
          ],
          [
           "Ty Warren",
           2007
          ],
          [
           "Leon Washington",
           2007
          ],
          [
           "Andre Gurode",
           2007
          ],
          [
           "Nick Folk",
           2007
          ],
          [
           "Peyton Manning",
           2008
          ],
          [
           "Drew Brees",
           2008
          ],
          [
           "Michael Turner",
           2008
          ],
          [
           "Adrian Peterson",
           2008
          ],
          [
           "Chris Johnson",
           2008
          ],
          [
           "Thomas Jones",
           2008
          ],
          [
           "DeAngelo Williams",
           2008
          ],
          [
           "Clinton Portis",
           2008
          ],
          [
           "Le'Ron McClain",
           2008
          ],
          [
           "Madison Hedgecock",
           2008
          ],
          [
           "Andre Johnson",
           2008
          ],
          [
           "Larry Fitzgerald",
           2008
          ],
          [
           "Wes Welker",
           2008
          ],
          [
           "Roddy White",
           2008
          ],
          [
           "Steve Smith Sr.",
           2008
          ],
          [
           "Tony Gonzalez",
           2008
          ],
          [
           "Jason Witten",
           2008
          ],
          [
           "Jordan Gross",
           2008
          ],
          [
           "Michael Roos",
           2008
          ],
          [
           "David Diehl",
           2008
          ],
          [
           "Ryan Clady",
           2008
          ],
          [
           "David Stewart",
           2008
          ],
          [
           "Jason Peters",
           2008
          ],
          [
           "Joe Thomas",
           2008
          ],
          [
           "Walter Jones",
           2008
          ],
          [
           "Steve Hutchinson",
           2008
          ],
          [
           "Chris Snee",
           2008
          ],
          [
           "Alan Faneca",
           2008
          ],
          [
           "Kris Dielman",
           2008
          ],
          [
           "Kevin Mawae",
           2008
          ],
          [
           "Shaun O'Hara",
           2008
          ],
          [
           "Justin Tuck",
           2008
          ],
          [
           "John Abraham",
           2008
          ],
          [
           "Mario Williams",
           2008
          ],
          [
           "Julius Peppers",
           2008
          ],
          [
           "Jared Allen",
           2008
          ],
          [
           "Robert Mathis",
           2008
          ],
          [
           "Albert Haynesworth",
           2008
          ],
          [
           "Kevin Williams",
           2008
          ],
          [
           "Kris Jenkins",
           2008
          ],
          [
           "Jay Ratliff",
           2008
          ],
          [
           "Haloti Ngata",
           2008
          ],
          [
           "James Harrison",
           2008
          ],
          [
           "DeMarcus Ware",
           2008
          ],
          [
           "Joey Porter",
           2008
          ],
          [
           "Lance Briggs",
           2008
          ],
          [
           "Terrell Suggs",
           2008
          ],
          [
           "Jon Beason",
           2008
          ],
          [
           "James Farrior",
           2008
          ],
          [
           "Ray Lewis",
           2008
          ],
          [
           "Patrick Willis",
           2008
          ],
          [
           "Nnamdi Asomugha",
           2008
          ],
          [
           "Cortland Finnegan",
           2008
          ],
          [
           "Charles Woodson",
           2008
          ],
          [
           "Antoine Winfield",
           2008
          ],
          [
           "Ed Reed",
           2008
          ],
          [
           "Troy Polamalu",
           2008
          ],
          [
           "Adrian Wilson",
           2008
          ],
          [
           "Nick Collins",
           2008
          ],
          [
           "Quintin Mikell",
           2008
          ],
          [
           "Shane Lechler",
           2008
          ],
          [
           "Donnie Jones",
           2008
          ],
          [
           "Johnnie Lee Higgins",
           2008
          ],
          [
           "Clifton Smith",
           2008
          ],
          [
           "Danieal Manning",
           2008
          ],
          [
           "Leodis McKelvin",
           2008
          ],
          [
           "Leon Washington",
           2008
          ],
          [
           "Brendon Ayanbadejo",
           2008
          ],
          [
           "Sean Morey",
           2008
          ],
          [
           "Stephen Gostkowski",
           2008
          ],
          [
           "Reggie Bush",
           2008
          ],
          [
           "John Carney",
           2008
          ],
          [
           "Peyton Manning",
           2009
          ],
          [
           "Drew Brees",
           2009
          ],
          [
           "Philip Rivers",
           2009
          ],
          [
           "Chris Johnson",
           2009
          ],
          [
           "Adrian Peterson",
           2009
          ],
          [
           "Steven Jackson",
           2009
          ],
          [
           "Maurice Jones-Drew",
           2009
          ],
          [
           "Ray Rice",
           2009
          ],
          [
           "Leonard Weaver",
           2009
          ],
          [
           "Lousaka Polite",
           2009
          ],
          [
           "Le'Ron McClain",
           2009
          ],
          [
           "Andre Johnson",
           2009
          ],
          [
           "Wes Welker",
           2009
          ],
          [
           "Larry Fitzgerald",
           2009
          ],
          [
           "Reggie Wayne",
           2009
          ],
          [
           "Vincent Jackson",
           2009
          ],
          [
           "Sidney Rice",
           2009
          ],
          [
           "Dallas Clark",
           2009
          ],
          [
           "Jason Witten",
           2009
          ],
          [
           "Vernon Davis",
           2009
          ],
          [
           "Antonio Gates",
           2009
          ],
          [
           "Joe Thomas",
           2009
          ],
          [
           "Ryan Clady",
           2009
          ],
          [
           "Jake Long",
           2009
          ],
          [
           "Jason Peters",
           2009
          ],
          [
           "Jon Stinchcomb",
           2009
          ],
          [
           "Michael Roos",
           2009
          ],
          [
           "Carl Nicks",
           2009
          ],
          [
           "Jahri Evans",
           2009
          ],
          [
           "Steve Hutchinson",
           2009
          ],
          [
           "Logan Mankins",
           2009
          ],
          [
           "Alan Faneca",
           2009
          ],
          [
           "Kris Dielman",
           2009
          ],
          [
           "Nick Mangold",
           2009
          ],
          [
           "Andre Gurode",
           2009
          ],
          [
           "Ryan Kalil",
           2009
          ],
          [
           "Steve Neal",
           2009
          ],
          [
           "Damien Woody",
           2009
          ],
          [
           "David Stewart",
           2009
          ],
          [
           "Dwight Freeney",
           2009
          ],
          [
           "Jared Allen",
           2009
          ],
          [
           "Justin Smith",
           2009
          ],
          [
           "Trent Cole",
           2009
          ],
          [
           "Mario Williams",
           2009
          ],
          [
           "Julius Peppers",
           2009
          ],
          [
           "Robert Mathis",
           2009
          ],
          [
           "Kevin Williams",
           2009
          ],
          [
           "Haloti Ngata",
           2009
          ],
          [
           "Jay Ratliff",
           2009
          ],
          [
           "Darnell Dockett",
           2009
          ],
          [
           "Jonathan Babineaux",
           2009
          ],
          [
           "Vince Wilfork",
           2009
          ],
          [
           "Kelly Gregg",
           2009
          ],
          [
           "Albert Haynesworth",
           2009
          ],
          [
           "DeMarcus Ware",
           2009
          ],
          [
           "Elvis Dumervil",
           2009
          ],
          [
           "LaMarr Woodley",
           2009
          ],
          [
           "Lance Briggs",
           2009
          ],
          [
           "Brian Cushing",
           2009
          ],
          [
           "James Harrison",
           2009
          ],
          [
           "Anthony Spencer",
           2009
          ],
          [
           "Daryl Smith",
           2009
          ],
          [
           "Jon Beason",
           2009
          ],
          [
           "David Harris",
           2009
          ],
          [
           "Patrick Willis",
           2009
          ],
          [
           "Ray Lewis",
           2009
          ],
          [
           "Darrelle Revis",
           2009
          ],
          [
           "Charles Woodson",
           2009
          ],
          [
           "Asante Samuel",
           2009
          ],
          [
           "Nnamdi Asomugha",
           2009
          ],
          [
           "Leon Hall",
           2009
          ],
          [
           "Dominique Rodgers-Cromartie",
           2009
          ],
          [
           "George Wilson",
           2009
          ],
          [
           "Reed Doughty",
           2009
          ],
          [
           "Darren Sharper",
           2009
          ],
          [
           "Adrian Wilson",
           2009
          ],
          [
           "Brian Dawkins",
           2009
          ],
          [
           "Ed Reed",
           2009
          ],
          [
           "Jairus Byrd",
           2009
          ],
          [
           "Nick Collins",
           2009
          ],
          [
           "Sebastian Janikowski",
           2009
          ],
          [
           "Rob Bironas",
           2009
          ],
          [
           "Shane Lechler",
           2009
          ],
          [
           "Andy Lee",
           2009
          ],
          [
           "Donnie Jones",
           2009
          ],
          [
           "Ben Graham",
           2009
          ],
          [
           "DeSean Jackson",
           2009
          ],
          [
           "Josh Cribbs",
           2009
          ],
          [
           "Percy Harvin",
           2009
          ],
          [
           "Stefan Logan",
           2009
          ],
          [
           "Kassim Osgood",
           2009
          ],
          [
           "Tim Shaw",
           2009
          ],
          [
           "Heath Farwell",
           2009
          ],
          [
           "Kroy Biermann",
           2009
          ],
          [
           "Nate Kaeding",
           2009
          ],
          [
           "David Akers",
           2009
          ],
          [
           "Patrick Crayton",
           2009
          ],
          [
           "Brandon Marshall",
           2009
          ],
          [
           "Jeff Saturday",
           2009
          ],
          [
           "Chris Snee",
           2009
          ],
          [
           "Tom Brady",
           2010
          ],
          [
           "Matt Ryan",
           2010
          ],
          [
           "Michael Vick",
           2010
          ],
          [
           "Aaron Rodgers",
           2010
          ],
          [
           "Jamaal Charles",
           2010
          ],
          [
           "Arian Foster",
           2010
          ],
          [
           "Maurice Jones-Drew",
           2010
          ],
          [
           "Adrian Peterson",
           2010
          ],
          [
           "Michael Turner",
           2010
          ],
          [
           "Ovie Mughelli",
           2010
          ],
          [
           "Vonta Leach",
           2010
          ],
          [
           "Greg Jones",
           2010
          ],
          [
           "Roddy White",
           2010
          ],
          [
           "Andre Johnson",
           2010
          ],
          [
           "Reggie Wayne",
           2010
          ],
          [
           "Brandon Lloyd",
           2010
          ],
          [
           "Calvin Johnson",
           2010
          ],
          [
           "Dwayne Bowe",
           2010
          ],
          [
           "Jason Witten",
           2010
          ],
          [
           "Antonio Gates",
           2010
          ],
          [
           "Marcedes Lewis",
           2010
          ],
          [
           "Andrew Whitworth",
           2010
          ],
          [
           "Jake Long",
           2010
          ],
          [
           "Joe Thomas",
           2010
          ],
          [
           "Jason Peters",
           2010
          ],
          [
           "Jordan Gross",
           2010
          ],
          [
           "Sebastian Vollmer",
           2010
          ],
          [
           "Wade Smith",
           2010
          ],
          [
           "Jahri Evans",
           2010
          ],
          [
           "Chris Snee",
           2010
          ],
          [
           "Carl Nicks",
           2010
          ],
          [
           "Logan Mankins",
           2010
          ],
          [
           "Kris Dielman",
           2010
          ],
          [
           "Brian Waters",
           2010
          ],
          [
           "Nick Mangold",
           2010
          ],
          [
           "Matt Birk",
           2010
          ],
          [
           "Scott Wells",
           2010
          ],
          [
           "Maurkice Pouncey",
           2010
          ],
          [
           "Josh Sitton",
           2010
          ],
          [
           "Harvey Dahl",
           2010
          ],
          [
           "Kareem McKenzie",
           2010
          ],
          [
           "Marshal Yanda",
           2010
          ],
          [
           "Julius Peppers",
           2010
          ],
          [
           "John Abraham",
           2010
          ],
          [
           "Justin Tuck",
           2010
          ],
          [
           "Trent Cole",
           2010
          ],
          [
           "Justin Smith",
           2010
          ],
          [
           "Dwight Freeney",
           2010
          ],
          [
           "Robert Mathis",
           2010
          ],
          [
           "Osi Umenyiora",
           2010
          ],
          [
           "Charles Johnson",
           2010
          ],
          [
           "Haloti Ngata",
           2010
          ],
          [
           "Ndamukong Suh",
           2010
          ],
          [
           "Kyle Williams",
           2010
          ],
          [
           "Vince Wilfork",
           2010
          ],
          [
           "B.J. Raji",
           2010
          ],
          [
           "Antonio Garay",
           2010
          ],
          [
           "Kevin Williams",
           2010
          ],
          [
           "James Harrison",
           2010
          ],
          [
           "Clay Matthews",
           2010
          ],
          [
           "Cameron Wake",
           2010
          ],
          [
           "Tamba Hali",
           2010
          ],
          [
           "DeMarcus Ware",
           2010
          ],
          [
           "Patrick Willis",
           2010
          ],
          [
           "Lawrence Timmons",
           2010
          ],
          [
           "Ray Lewis",
           2010
          ],
          [
           "Jerod Mayo",
           2010
          ],
          [
           "Brian Urlacher",
           2010
          ],
          [
           "Darrelle Revis",
           2010
          ],
          [
           "Asante Samuel",
           2010
          ],
          [
           "Nnamdi Asomugha",
           2010
          ],
          [
           "Devin McCourty",
           2010
          ],
          [
           "Champ Bailey",
           2010
          ],
          [
           "Brandon Flowers",
           2010
          ],
          [
           "Tramon Williams",
           2010
          ],
          [
           "Charles Woodson",
           2010
          ],
          [
           "Antoine Winfield",
           2010
          ],
          [
           "Troy Polamalu",
           2010
          ],
          [
           "Ed Reed",
           2010
          ],
          [
           "Michael Huff",
           2010
          ],
          [
           "Quintin Mikell",
           2010
          ],
          [
           "Nick Collins",
           2010
          ],
          [
           "Antrel Rolle",
           2010
          ],
          [
           "Eric Weddle",
           2010
          ],
          [
           "Michael Griffin",
           2010
          ],
          [
           "Chris Harris",
           2010
          ],
          [
           "Malcolm Jenkins",
           2010
          ],
          [
           "Darren Sharper",
           2010
          ],
          [
           "David Akers",
           2010
          ],
          [
           "Rob Bironas",
           2010
          ],
          [
           "Shane Lechler",
           2010
          ],
          [
           "Mat McBriar",
           2010
          ],
          [
           "Devin Hester",
           2010
          ],
          [
           "Marc Mariani",
           2010
          ],
          [
           "Leon Washington",
           2010
          ],
          [
           "Brad Smith",
           2010
          ],
          [
           "Eric Weems",
           2010
          ],
          [
           "Corey Graham",
           2010
          ],
          [
           "Montell Owens",
           2010
          ],
          [
           "T.J. Ward",
           2010
          ],
          [
           "Billy Cundiff",
           2010
          ],
          [
           "Matt Bryant",
           2010
          ],
          [
           "Aaron Rodgers",
           2011
          ],
          [
           "Tom Brady",
           2011
          ],
          [
           "Drew Brees",
           2011
          ],
          [
           "Maurice Jones-Drew",
           2011
          ],
          [
           "LeSean McCoy",
           2011
          ],
          [
           "Ray Rice",
           2011
          ],
          [
           "Marshawn Lynch",
           2011
          ],
          [
           "Arian Foster",
           2011
          ],
          [
           "Vonta Leach",
           2011
          ],
          [
           "John Kuhn",
           2011
          ],
          [
           "Jed Collins",
           2011
          ],
          [
           "Wes Welker",
           2011
          ],
          [
           "Calvin Johnson",
           2011
          ],
          [
           "Larry Fitzgerald",
           2011
          ],
          [
           "Victor Cruz",
           2011
          ],
          [
           "Mike Wallace",
           2011
          ],
          [
           "Jordy Nelson",
           2011
          ],
          [
           "Steve Smith Sr.",
           2011
          ],
          [
           "Rob Gronkowski",
           2011
          ],
          [
           "Jimmy Graham",
           2011
          ],
          [
           "Jason Peters",
           2011
          ],
          [
           "Joe Thomas",
           2011
          ],
          [
           "Michael Roos",
           2011
          ],
          [
           "Duane Brown",
           2011
          ],
          [
           "Joe Staley",
           2011
          ],
          [
           "Evan Mathis",
           2011
          ],
          [
           "Carl Nicks",
           2011
          ],
          [
           "Jahri Evans",
           2011
          ],
          [
           "Marshal Yanda",
           2011
          ],
          [
           "Brian Waters",
           2011
          ],
          [
           "Logan Mankins",
           2011
          ],
          [
           "Maurkice Pouncey",
           2011
          ],
          [
           "Nick Mangold",
           2011
          ],
          [
           "Chris Myers",
           2011
          ],
          [
           "Ryan Kalil",
           2011
          ],
          [
           "Josh Sitton",
           2011
          ],
          [
           "Tyron Smith",
           2011
          ],
          [
           "Bryan Bulaga",
           2011
          ],
          [
           "Jared Allen",
           2011
          ],
          [
           "Jason Pierre-Paul",
           2011
          ],
          [
           "Jason Babin",
           2011
          ],
          [
           "Ray McDonald",
           2011
          ],
          [
           "Andre Carter",
           2011
          ],
          [
           "Elvis Dumervil",
           2011
          ],
          [
           "J.J. Watt",
           2011
          ],
          [
           "Trent Cole",
           2011
          ],
          [
           "Calais Campbell",
           2011
          ],
          [
           "Justin Smith",
           2011
          ],
          [
           "Haloti Ngata",
           2011
          ],
          [
           "Geno Atkins",
           2011
          ],
          [
           "Ndamukong Suh",
           2011
          ],
          [
           "Brodrick Bunkley",
           2011
          ],
          [
           "Vince Wilfork",
           2011
          ],
          [
           "Jay Ratliff",
           2011
          ],
          [
           "Richard Seymour",
           2011
          ],
          [
           "Alan Branch",
           2011
          ],
          [
           "Sione Pouha",
           2011
          ],
          [
           "DeMarcus Ware",
           2011
          ],
          [
           "Terrell Suggs",
           2011
          ],
          [
           "Von Miller",
           2011
          ],
          [
           "Cameron Wake",
           2011
          ],
          [
           "Daryl Smith",
           2011
          ],
          [
           "Clay Matthews",
           2011
          ],
          [
           "Tamba Hali",
           2011
          ],
          [
           "Erin Henderson",
           2011
          ],
          [
           "Sean Weatherspoon",
           2011
          ],
          [
           "NaVorro Bowman",
           2011
          ],
          [
           "Derrick Johnson",
           2011
          ],
          [
           "Ray Lewis",
           2011
          ],
          [
           "Stephen Tulloch",
           2011
          ],
          [
           "London Fletcher",
           2011
          ],
          [
           "Patrick Willis",
           2011
          ],
          [
           "Brian Cushing",
           2011
          ],
          [
           "Darrelle Revis",
           2011
          ],
          [
           "Johnathan Joseph",
           2011
          ],
          [
           "Charles Woodson",
           2011
          ],
          [
           "Cortland Finnegan",
           2011
          ],
          [
           "Carlos Rogers",
           2011
          ],
          [
           "Lardarius Webb",
           2011
          ],
          [
           "Chris Gamble",
           2011
          ],
          [
           "Adrian Wilson",
           2011
          ],
          [
           "Jairus Byrd",
           2011
          ],
          [
           "Troy Polamalu",
           2011
          ],
          [
           "Eric Weddle",
           2011
          ],
          [
           "Earl Thomas",
           2011
          ],
          [
           "Ed Reed",
           2011
          ],
          [
           "Dashon Goldson",
           2011
          ],
          [
           "Andy Lee",
           2011
          ],
          [
           "Shane Lechler",
           2011
          ],
          [
           "Patrick Peterson",
           2011
          ],
          [
           "Josh Cribbs",
           2011
          ],
          [
           "Joe McKnight",
           2011
          ],
          [
           "Darren Sproles",
           2011
          ],
          [
           "Devin Hester",
           2011
          ],
          [
           "Matthew Slater",
           2011
          ],
          [
           "Heath Farwell",
           2011
          ],
          [
           "Corey Graham",
           2011
          ],
          [
           "David Akers",
           2011
          ],
          [
           "Sebastian Janikowski",
           2011
          ],
          [
           "Peyton Manning",
           2012
          ],
          [
           "Tom Brady",
           2012
          ],
          [
           "Aaron Rodgers",
           2012
          ],
          [
           "Adrian Peterson",
           2012
          ],
          [
           "Marshawn Lynch",
           2012
          ],
          [
           "Arian Foster",
           2012
          ],
          [
           "Jamaal Charles",
           2012
          ],
          [
           "C.J. Spiller",
           2012
          ],
          [
           "Alfred Morris",
           2012
          ],
          [
           "Vonta Leach",
           2012
          ],
          [
           "Marcel Reece",
           2012
          ],
          [
           "Jerome Felton",
           2012
          ],
          [
           "Calvin Johnson",
           2012
          ],
          [
           "Brandon Marshall",
           2012
          ],
          [
           "Andre Johnson",
           2012
          ],
          [
           "Reggie Wayne",
           2012
          ],
          [
           "A.J. Green",
           2012
          ],
          [
           "Vincent Jackson",
           2012
          ],
          [
           "Rob Gronkowski",
           2012
          ],
          [
           "Jason Witten",
           2012
          ],
          [
           "Tony Gonzalez",
           2012
          ],
          [
           "Ryan Clady",
           2012
          ],
          [
           "Duane Brown",
           2012
          ],
          [
           "Joe Thomas",
           2012
          ],
          [
           "Joe Staley",
           2012
          ],
          [
           "Russell Okung",
           2012
          ],
          [
           "Evan Mathis",
           2012
          ],
          [
           "Mike Iupati",
           2012
          ],
          [
           "Marshal Yanda",
           2012
          ],
          [
           "Jahri Evans",
           2012
          ],
          [
           "Logan Mankins",
           2012
          ],
          [
           "John Sullivan",
           2012
          ],
          [
           "Maurkice Pouncey",
           2012
          ],
          [
           "Max Unger",
           2012
          ],
          [
           "Chris Myers",
           2012
          ],
          [
           "Alex Boone",
           2012
          ],
          [
           "Andre Smith",
           2012
          ],
          [
           "Sebastian Vollmer",
           2012
          ],
          [
           "J.J. Watt",
           2012
          ],
          [
           "Cameron Wake",
           2012
          ],
          [
           "Julius Peppers",
           2012
          ],
          [
           "Jared Allen",
           2012
          ],
          [
           "Geno Atkins",
           2012
          ],
          [
           "Vince Wilfork",
           2012
          ],
          [
           "Justin Smith",
           2012
          ],
          [
           "Gerald McCoy",
           2012
          ],
          [
           "Muhammad Wilkerson",
           2012
          ],
          [
           "Ndamukong Suh",
           2012
          ],
          [
           "Haloti Ngata",
           2012
          ],
          [
           "Von Miller",
           2012
          ],
          [
           "Aldon Smith",
           2012
          ],
          [
           "Jerod Mayo",
           2012
          ],
          [
           "DeMarcus Ware",
           2012
          ],
          [
           "Clay Matthews",
           2012
          ],
          [
           "Kevin Burnett",
           2012
          ],
          [
           "Ahmad Brooks",
           2012
          ],
          [
           "Chad Greenway",
           2012
          ],
          [
           "NaVorro Bowman",
           2012
          ],
          [
           "Daryl Washington",
           2012
          ],
          [
           "London Fletcher",
           2012
          ],
          [
           "Bobby Wagner",
           2012
          ],
          [
           "Patrick Willis",
           2012
          ],
          [
           "Derrick Johnson",
           2012
          ],
          [
           "Charles Tillman",
           2012
          ],
          [
           "Richard Sherman",
           2012
          ],
          [
           "Casey Hayward",
           2012
          ],
          [
           "Champ Bailey",
           2012
          ],
          [
           "Antonio Cromartie",
           2012
          ],
          [
           "Tim Jennings",
           2012
          ],
          [
           "Antoine Winfield",
           2012
          ],
          [
           "Reshad Jones",
           2012
          ],
          [
           "Devin McCourty",
           2012
          ],
          [
           "Earl Thomas",
           2012
          ],
          [
           "Jairus Byrd",
           2012
          ],
          [
           "Eric Weddle",
           2012
          ],
          [
           "Dashon Goldson",
           2012
          ],
          [
           "Andy Lee",
           2012
          ],
          [
           "Thomas Morstead",
           2012
          ],
          [
           "Dustin Colquitt",
           2012
          ],
          [
           "Leodis McKelvin",
           2012
          ],
          [
           "Dwayne Harris",
           2012
          ],
          [
           "Jacoby Jones",
           2012
          ],
          [
           "Leon Washington",
           2012
          ],
          [
           "David Wilson",
           2012
          ],
          [
           "Matthew Slater",
           2012
          ],
          [
           "Ashlee Palmer",
           2012
          ],
          [
           "Lorenzo Alexander",
           2012
          ],
          [
           "Johnson Bademosi",
           2012
          ],
          [
           "Blair Walsh",
           2012
          ],
          [
           "Phil Dawson",
           2012
          ],
          [
           "Peyton Manning",
           2013
          ],
          [
           "Drew Brees",
           2013
          ],
          [
           "Philip Rivers",
           2013
          ],
          [
           "LeSean McCoy",
           2013
          ],
          [
           "Jamaal Charles",
           2013
          ],
          [
           "Ryan Mathews",
           2013
          ],
          [
           "Matt Forte",
           2013
          ],
          [
           "Eddie Lacy",
           2013
          ],
          [
           "Adrian Peterson",
           2013
          ],
          [
           "Mike Tolbert",
           2013
          ],
          [
           "Anthony Sherman",
           2013
          ],
          [
           "Marcel Reece",
           2013
          ],
          [
           "Calvin Johnson",
           2013
          ],
          [
           "Josh Gordon",
           2013
          ],
          [
           "Antonio Brown",
           2013
          ],
          [
           "Brandon Marshall",
           2013
          ],
          [
           "Jordy Nelson",
           2013
          ],
          [
           "Demaryius Thomas",
           2013
          ],
          [
           "Anquan Boldin",
           2013
          ],
          [
           "Andre Johnson",
           2013
          ],
          [
           "A.J. Green",
           2013
          ],
          [
           "Jimmy Graham",
           2013
          ],
          [
           "Jordan Cameron",
           2013
          ],
          [
           "Vernon Davis",
           2013
          ],
          [
           "Trent Williams",
           2013
          ],
          [
           "Joe Thomas",
           2013
          ],
          [
           "Joe Staley",
           2013
          ],
          [
           "Jason Peters",
           2013
          ],
          [
           "Tyron Smith",
           2013
          ],
          [
           "Branden Albert",
           2013
          ],
          [
           "Evan Mathis",
           2013
          ],
          [
           "Louis Vasquez",
           2013
          ],
          [
           "Logan Mankins",
           2013
          ],
          [
           "Marshal Yanda",
           2013
          ],
          [
           "Josh Sitton",
           2013
          ],
          [
           "Jahri Evans",
           2013
          ],
          [
           "Ryan Kalil",
           2013
          ],
          [
           "Alex Mack",
           2013
          ],
          [
           "Jason Kelce",
           2013
          ],
          [
           "Larry Warford",
           2013
          ],
          [
           "Phil Loadholt",
           2013
          ],
          [
           "Zach Strief",
           2013
          ],
          [
           "J.J. Watt",
           2013
          ],
          [
           "Robert Quinn",
           2013
          ],
          [
           "Greg Hardy",
           2013
          ],
          [
           "Cameron Wake",
           2013
          ],
          [
           "Mario Williams",
           2013
          ],
          [
           "Gerald McCoy",
           2013
          ],
          [
           "Ndamukong Suh",
           2013
          ],
          [
           "Kyle Williams",
           2013
          ],
          [
           "Jurrell Casey",
           2013
          ],
          [
           "Dontari Poe",
           2013
          ],
          [
           "Muhammad Wilkerson",
           2013
          ],
          [
           "Justin Smith",
           2013
          ],
          [
           "Marcell Dareus",
           2013
          ],
          [
           "Robert Mathis",
           2013
          ],
          [
           "Lavonte David",
           2013
          ],
          [
           "Ahmad Brooks",
           2013
          ],
          [
           "Justin Houston",
           2013
          ],
          [
           "Tamba Hali",
           2013
          ],
          [
           "NaVorro Bowman",
           2013
          ],
          [
           "Karlos Dansby",
           2013
          ],
          [
           "Luke Kuechly",
           2013
          ],
          [
           "Vontaze Burfict",
           2013
          ],
          [
           "Patrick Willis",
           2013
          ],
          [
           "Thomas Davis",
           2013
          ],
          [
           "Richard Sherman",
           2013
          ],
          [
           "Patrick Peterson",
           2013
          ],
          [
           "Joe Haden",
           2013
          ],
          [
           "Brent Grimes",
           2013
          ],
          [
           "Tyrann Mathieu",
           2013
          ],
          [
           "Darrelle Revis",
           2013
          ],
          [
           "Chris Harris Jr.",
           2013
          ],
          [
           "Aqib Talib",
           2013
          ],
          [
           "Alterraun Verner",
           2013
          ],
          [
           "Eric Berry",
           2013
          ],
          [
           "Earl Thomas",
           2013
          ],
          [
           "Devin McCourty",
           2013
          ],
          [
           "Donte Whitner",
           2013
          ],
          [
           "Eric Weddle",
           2013
          ],
          [
           "T.J. Ward",
           2013
          ],
          [
           "Antrel Rolle",
           2013
          ],
          [
           "Kam Chancellor",
           2013
          ],
          [
           "Jairus Byrd",
           2013
          ],
          [
           "Nick Folk",
           2013
          ],
          [
           "Matt Prater",
           2013
          ],
          [
           "Johnny Hekker",
           2013
          ],
          [
           "Brandon Fields",
           2013
          ],
          [
           "Thomas Morstead",
           2013
          ],
          [
           "Dexter McCluster",
           2013
          ],
          [
           "Golden Tate",
           2013
          ],
          [
           "Cordarrelle Patterson",
           2013
          ],
          [
           "Quintin Demps",
           2013
          ],
          [
           "Justin Bethel",
           2013
          ],
          [
           "Matthew Slater",
           2013
          ],
          [
           "Jeremy Lane",
           2013
          ],
          [
           "Justin Tucker",
           2013
          ],
          [
           "Stephen Hauschka",
           2013
          ],
          [
           "Aaron Rodgers",
           2014
          ],
          [
           "Tom Brady",
           2014
          ],
          [
           "Tony Romo",
           2014
          ],
          [
           "Ben Roethlisberger",
           2014
          ],
          [
           "Le'Veon Bell",
           2014
          ],
          [
           "DeMarco Murray",
           2014
          ],
          [
           "Marshawn Lynch",
           2014
          ],
          [
           "Justin Forsett",
           2014
          ],
          [
           "Anthony Sherman",
           2014
          ],
          [
           "John Kuhn",
           2014
          ],
          [
           "Bruce Miller",
           2014
          ],
          [
           "Antonio Brown",
           2014
          ],
          [
           "Dez Bryant",
           2014
          ],
          [
           "Jordy Nelson",
           2014
          ],
          [
           "Odell Beckham Jr.",
           2014
          ],
          [
           "Emmanuel Sanders",
           2014
          ],
          [
           "Julio Jones",
           2014
          ],
          [
           "Demaryius Thomas",
           2014
          ],
          [
           "Randall Cobb",
           2014
          ],
          [
           "Rob Gronkowski",
           2014
          ],
          [
           "Greg Olsen",
           2014
          ],
          [
           "Tyron Smith",
           2014
          ],
          [
           "Jason Peters",
           2014
          ],
          [
           "Joe Thomas",
           2014
          ],
          [
           "Andrew Whitworth",
           2014
          ],
          [
           "Kelechi Osemele",
           2014
          ],
          [
           "Marshal Yanda",
           2014
          ],
          [
           "Josh Sitton",
           2014
          ],
          [
           "Joel Bitonio",
           2014
          ],
          [
           "Zack Martin",
           2014
          ],
          [
           "Kyle Long",
           2014
          ],
          [
           "Travis Frederick",
           2014
          ],
          [
           "Nick Mangold",
           2014
          ],
          [
           "Maurkice Pouncey",
           2014
          ],
          [
           "T.J. Lang",
           2014
          ],
          [
           "Lane Johnson",
           2014
          ],
          [
           "Sebastian Vollmer",
           2014
          ],
          [
           "J.J. Watt",
           2014
          ],
          [
           "Mario Williams",
           2014
          ],
          [
           "Robert Quinn",
           2014
          ],
          [
           "Calais Campbell",
           2014
          ],
          [
           "Fletcher Cox",
           2014
          ],
          [
           "Cameron Wake",
           2014
          ],
          [
           "Ndamukong Suh",
           2014
          ],
          [
           "Marcell Dareus",
           2014
          ],
          [
           "Gerald McCoy",
           2014
          ],
          [
           "Aaron Donald",
           2014
          ],
          [
           "Sheldon Richardson",
           2014
          ],
          [
           "Kyle Williams",
           2014
          ],
          [
           "Muhammad Wilkerson",
           2014
          ],
          [
           "Johnathan Hankins",
           2014
          ],
          [
           "Justin Houston",
           2014
          ],
          [
           "Von Miller",
           2014
          ],
          [
           "Elvis Dumervil",
           2014
          ],
          [
           "DeAndre Levy",
           2014
          ],
          [
           "Connor Barwin",
           2014
          ],
          [
           "Bobby Wagner",
           2014
          ],
          [
           "C.J. Mosley",
           2014
          ],
          [
           "Lawrence Timmons",
           2014
          ],
          [
           "Luke Kuechly",
           2014
          ],
          [
           "C.J. Mosley",
           2014
          ],
          [
           "Dont'a Hightower",
           2014
          ],
          [
           "Jamie Collins",
           2014
          ],
          [
           "Darrelle Revis",
           2014
          ],
          [
           "Richard Sherman",
           2014
          ],
          [
           "Chris Harris Jr.",
           2014
          ],
          [
           "Vontae Davis",
           2014
          ],
          [
           "Desmond Trufant",
           2014
          ],
          [
           "Brent Grimes",
           2014
          ],
          [
           "Orlando Scandrick",
           2014
          ],
          [
           "Sean Smith",
           2014
          ],
          [
           "Eric Weddle",
           2014
          ],
          [
           "Earl Thomas",
           2014
          ],
          [
           "Harrison Smith",
           2014
          ],
          [
           "Glover Quin",
           2014
          ],
          [
           "Devin McCourty",
           2014
          ],
          [
           "Kam Chancellor",
           2014
          ],
          [
           "Jon Dorenbos",
           2014
          ],
          [
           "Matt Bryant",
           2014
          ],
          [
           "Stephen Gostkowski",
           2014
          ],
          [
           "Pat McAfee",
           2014
          ],
          [
           "Johnny Hekker",
           2014
          ],
          [
           "Kevin Huber",
           2014
          ],
          [
           "Darren Sproles",
           2014
          ],
          [
           "De'Anthony Thomas",
           2014
          ],
          [
           "Adam Jones",
           2014
          ],
          [
           "Jacoby Jones",
           2014
          ],
          [
           "Devin Hester",
           2014
          ],
          [
           "Matthew Slater",
           2014
          ],
          [
           "Justin Bethel",
           2014
          ],
          [
           "Emmanuel Acho",
           2014
          ],
          [
           "Nick Bellore",
           2014
          ],
          [
           "Nat Berhe",
           2014
          ],
          [
           "Bryan Braman",
           2014
          ],
          [
           "Morgan Burnett",
           2014
          ],
          [
           "Trey Burton",
           2014
          ],
          [
           "Marcus Easley",
           2014
          ],
          [
           "Cory Harkey",
           2014
          ],
          [
           "Andrew Jackson",
           2014
          ],
          [
           "Steven Johnson",
           2014
          ],
          [
           "Devon Kennard",
           2014
          ],
          [
           "Karl Klug",
           2014
          ],
          [
           "Danieal Manning",
           2014
          ],
          [
           "Josh Martin",
           2014
          ],
          [
           "Albert McClellan",
           2014
          ],
          [
           "Kelcie McCray",
           2014
          ],
          [
           "Jordan Poyer",
           2014
          ],
          [
           "Chase Reynolds",
           2014
          ],
          [
           "Adam Thielen",
           2014
          ],
          [
           "Michael Thomas",
           2014
          ],
          [
           "Jason Williams",
           2014
          ],
          [
           "Tourek Williams",
           2014
          ],
          [
           "Adam Vinatieri",
           2014
          ],
          [
           "Dan Bailey",
           2014
          ],
          [
           "Cam Newton",
           2015
          ],
          [
           "Carson Palmer",
           2015
          ],
          [
           "Tom Brady",
           2015
          ],
          [
           "Doug Martin",
           2015
          ],
          [
           "Adrian Peterson",
           2015
          ],
          [
           "Latavius Murray",
           2015
          ],
          [
           "Chris Ivory",
           2015
          ],
          [
           "Devonta Freeman",
           2015
          ],
          [
           "Todd Gurley",
           2015
          ],
          [
           "Jonathan Stewart",
           2015
          ],
          [
           "Patrick DiMarco",
           2015
          ],
          [
           "Mike Tolbert",
           2015
          ],
          [
           "Antonio Brown",
           2015
          ],
          [
           "Julio Jones",
           2015
          ],
          [
           "Larry Fitzgerald",
           2015
          ],
          [
           "DeAndre Hopkins",
           2015
          ],
          [
           "Odell Beckham Jr.",
           2015
          ],
          [
           "Brandon Marshall",
           2015
          ],
          [
           "Doug Baldwin",
           2015
          ],
          [
           "A.J. Green",
           2015
          ],
          [
           "Rob Gronkowski",
           2015
          ],
          [
           "Greg Olsen",
           2015
          ],
          [
           "Delanie Walker",
           2015
          ],
          [
           "Joe Thomas",
           2015
          ],
          [
           "Tyron Smith",
           2015
          ],
          [
           "Andrew Whitworth",
           2015
          ],
          [
           "Trent Williams",
           2015
          ],
          [
           "Richie Incognito",
           2015
          ],
          [
           "Marshal Yanda",
           2015
          ],
          [
           "Zack Martin",
           2015
          ],
          [
           "David DeCastro",
           2015
          ],
          [
           "Josh Sitton",
           2015
          ],
          [
           "Mike Iupati",
           2015
          ],
          [
           "Ryan Kalil",
           2015
          ],
          [
           "Travis Frederick",
           2015
          ],
          [
           "Rodney Hudson",
           2015
          ],
          [
           "Alex Mack",
           2015
          ],
          [
           "Joe Berger",
           2015
          ],
          [
           "Ryan Schraeder",
           2015
          ],
          [
           "Mitchell Schwartz",
           2015
          ],
          [
           "Khalil Mack",
           2015
          ],
          [
           "J.J. Watt",
           2015
          ],
          [
           "Olivier Vernon",
           2015
          ],
          [
           "Ezekiel Ansah",
           2015
          ],
          [
           "Michael Bennett",
           2015
          ],
          [
           "Muhammad Wilkerson",
           2015
          ],
          [
           "Cameron Jordan",
           2015
          ],
          [
           "Aaron Donald",
           2015
          ],
          [
           "Geno Atkins",
           2015
          ],
          [
           "Ndamukong Suh",
           2015
          ],
          [
           "Kawann Short",
           2015
          ],
          [
           "Fletcher Cox",
           2015
          ],
          [
           "Linval Joseph",
           2015
          ],
          [
           "Damon Harrison",
           2015
          ],
          [
           "Von Miller",
           2015
          ],
          [
           "Thomas Davis",
           2015
          ],
          [
           "Justin Houston",
           2015
          ],
          [
           "Lavonte David",
           2015
          ],
          [
           "Jamie Collins",
           2015
          ],
          [
           "NaVorro Bowman",
           2015
          ],
          [
           "Bobby Wagner",
           2015
          ],
          [
           "Luke Kuechly",
           2015
          ],
          [
           "Derrick Johnson",
           2015
          ],
          [
           "Anthony Barr",
           2015
          ],
          [
           "K.J. Wright",
           2015
          ],
          [
           "Patrick Peterson",
           2015
          ],
          [
           "Josh Norman",
           2015
          ],
          [
           "Richard Sherman",
           2015
          ],
          [
           "Chris Harris Jr.",
           2015
          ],
          [
           "Marcus Peters",
           2015
          ],
          [
           "Johnathan Joseph",
           2015
          ],
          [
           "Tyrann Mathieu",
           2015
          ],
          [
           "Eric Berry",
           2015
          ],
          [
           "Earl Thomas",
           2015
          ],
          [
           "Harrison Smith",
           2015
          ],
          [
           "Malcolm Jenkins",
           2015
          ],
          [
           "Reggie Nelson",
           2015
          ],
          [
           "Charles Woodson",
           2015
          ],
          [
           "Johnny Hekker",
           2015
          ],
          [
           "Pat McAfee",
           2015
          ],
          [
           "Sam Koch",
           2015
          ],
          [
           "Brett Kern",
           2015
          ],
          [
           "Darren Sproles",
           2015
          ],
          [
           "Jarvis Landry",
           2015
          ],
          [
           "Cordarrelle Patterson",
           2015
          ],
          [
           "Tyler Lockett",
           2015
          ],
          [
           "Taiwan Jones",
           2015
          ],
          [
           "Benny Cunningham",
           2015
          ],
          [
           "Justin Bethel",
           2015
          ],
          [
           "Michael Thomas",
           2015
          ],
          [
           "Matthew Slater",
           2015
          ],
          [
           "Stephen Gostkowski",
           2015
          ],
          [
           "Dan Bailey",
           2015
          ],
          [
           "Matt Ryan",
           2016
          ],
          [
           "Tom Brady",
           2016
          ],
          [
           "Ezekiel Elliott",
           2016
          ],
          [
           "David Johnson",
           2016
          ],
          [
           "Le'Veon Bell",
           2016
          ],
          [
           "DeMarco Murray",
           2016
          ],
          [
           "Jay Ajayi",
           2016
          ],
          [
           "Kyle Juszczyk",
           2016
          ],
          [
           "James Develin",
           2016
          ],
          [
           "Julio Jones",
           2016
          ],
          [
           "Antonio Brown",
           2016
          ],
          [
           "Mike Evans",
           2016
          ],
          [
           "Odell Beckham Jr.",
           2016
          ],
          [
           "T.Y. Hilton",
           2016
          ],
          [
           "Travis Kelce",
           2016
          ],
          [
           "Greg Olsen",
           2016
          ],
          [
           "David Bakhtiari",
           2016
          ],
          [
           "Tyron Smith",
           2016
          ],
          [
           "Trent Williams",
           2016
          ],
          [
           "Joe Thomas",
           2016
          ],
          [
           "Donald Penn",
           2016
          ],
          [
           "Kelechi Osemele",
           2016
          ],
          [
           "Zack Martin",
           2016
          ],
          [
           "Marshal Yanda",
           2016
          ],
          [
           "T.J. Lang",
           2016
          ],
          [
           "Travis Frederick",
           2016
          ],
          [
           "Rodney Hudson",
           2016
          ],
          [
           "Alex Mack",
           2016
          ],
          [
           "Kevin Zeitler",
           2016
          ],
          [
           "David DeCastro",
           2016
          ],
          [
           "Jack Conklin",
           2016
          ],
          [
           "Marcus Cannon",
           2016
          ],
          [
           "Mitchell Schwartz",
           2016
          ],
          [
           "Khalil Mack",
           2016
          ],
          [
           "Jadeveon Clowney",
           2016
          ],
          [
           "Brandon Graham",
           2016
          ],
          [
           "Cliff Avril",
           2016
          ],
          [
           "Aaron Donald",
           2016
          ],
          [
           "Damon Harrison",
           2016
          ],
          [
           "Geno Atkins",
           2016
          ],
          [
           "Calais Campbell",
           2016
          ],
          [
           "Ndamukong Suh",
           2016
          ],
          [
           "Gerald McCoy",
           2016
          ],
          [
           "Von Miller",
           2016
          ],
          [
           "Vic Beasley",
           2016
          ],
          [
           "Lorenzo Alexander",
           2016
          ],
          [
           "Ryan Kerrigan",
           2016
          ],
          [
           "Bobby Wagner",
           2016
          ],
          [
           "Dont'a Hightower",
           2016
          ],
          [
           "Luke Kuechly",
           2016
          ],
          [
           "Sean Lee",
           2016
          ],
          [
           "K.J. Wright",
           2016
          ],
          [
           "Paul Posluszny",
           2016
          ],
          [
           "Zach Brown",
           2016
          ],
          [
           "Zach Orr",
           2016
          ],
          [
           "Alec Ogletree",
           2016
          ],
          [
           "Lavonte David",
           2016
          ],
          [
           "C.J. Mosley",
           2016
          ],
          [
           "Whitney Mercilus",
           2016
          ],
          [
           "Benardrick McKinney",
           2016
          ],
          [
           "Aqib Talib",
           2016
          ],
          [
           "Marcus Peters",
           2016
          ],
          [
           "Malcolm Butler",
           2016
          ],
          [
           "Jackrabbit Jenkins",
           2016
          ],
          [
           "Patrick Peterson",
           2016
          ],
          [
           "Casey Hayward",
           2016
          ],
          [
           "Chris Harris Jr.",
           2016
          ],
          [
           "Dominique Rodgers-Cromartie",
           2016
          ],
          [
           "Landon Collins",
           2016
          ],
          [
           "Eric Berry",
           2016
          ],
          [
           "Eric Weddle",
           2016
          ],
          [
           "Devin McCourty",
           2016
          ],
          [
           "Ha Ha Clinton-Dix",
           2016
          ],
          [
           "Kam Chancellor",
           2016
          ],
          [
           "Johnny Hekker",
           2016
          ],
          [
           "Pat McAfee",
           2016
          ],
          [
           "Marquette King",
           2016
          ],
          [
           "Marcus Sherels",
           2016
          ],
          [
           "Jamison Crowder",
           2016
          ],
          [
           "Tyreek Hill",
           2016
          ],
          [
           "Cordarrelle Patterson",
           2016
          ],
          [
           "Tyler Lockett",
           2016
          ],
          [
           "Alex Erickson",
           2016
          ],
          [
           "Matthew Slater",
           2016
          ],
          [
           "Eric Murray",
           2016
          ],
          [
           "Dwayne Harris",
           2016
          ],
          [
           "Nate Ebner",
           2016
          ],
          [
           "Cody Davis",
           2016
          ],
          [
           "Justin Tucker",
           2016
          ],
          [
           "Matt Bryant",
           2016
          ],
          [
           "Cameron Jordan",
           2016
          ],
          [
           "Cameron Wake",
           2016
          ],
          [
           "Olivier Vernon",
           2016
          ],
          [
           "Tom Brady",
           2017
          ],
          [
           "Carson Wentz",
           2017
          ],
          [
           "Matt Ryan",
           2017
          ],
          [
           "Todd Gurley",
           2017
          ],
          [
           "Le'Veon Bell",
           2017
          ],
          [
           "Alvin Kamara",
           2017
          ],
          [
           "Kareem Hunt",
           2017
          ],
          [
           "Antonio Brown",
           2017
          ],
          [
           "DeAndre Hopkins",
           2017
          ],
          [
           "Julio Jones",
           2017
          ],
          [
           "Michael Thomas",
           2017
          ],
          [
           "Adam Thielen",
           2017
          ],
          [
           "Keenan Allen",
           2017
          ],
          [
           "Rob Gronkowski",
           2017
          ],
          [
           "Travis Kelce",
           2017
          ],
          [
           "Zach Ertz",
           2017
          ],
          [
           "Hunter Henry",
           2017
          ],
          [
           "David Bakhtiari",
           2017
          ],
          [
           "Joe Staley",
           2017
          ],
          [
           "Trent Williams",
           2017
          ],
          [
           "Andrew Whitworth",
           2017
          ],
          [
           "Lane Johnson",
           2017
          ],
          [
           "Taylor Lewan",
           2017
          ],
          [
           "Mitchell Schwartz",
           2017
          ],
          [
           "Alejandro Villanueva",
           2017
          ],
          [
           "Andrew Norwell",
           2017
          ],
          [
           "Joel Bitonio",
           2017
          ],
          [
           "Rodger Saffold",
           2017
          ],
          [
           "David DeCastro",
           2017
          ],
          [
           "Zack Martin",
           2017
          ],
          [
           "Brandon Brooks",
           2017
          ],
          [
           "Kelechi Osemele",
           2017
          ],
          [
           "Jason Kelce",
           2017
          ],
          [
           "Alex Mack",
           2017
          ],
          [
           "Maurkice Pouncey",
           2017
          ],
          [
           "Travis Frederick",
           2017
          ],
          [
           "Daryl Williams",
           2017
          ],
          [
           "Demar Dotson",
           2017
          ],
          [
           "Cameron Jordan",
           2017
          ],
          [
           "Calais Campbell",
           2017
          ],
          [
           "Everson Griffen",
           2017
          ],
          [
           "DeMarcus Lawrence",
           2017
          ],
          [
           "Joey Bosa",
           2017
          ],
          [
           "Aaron Donald",
           2017
          ],
          [
           "Fletcher Cox",
           2017
          ],
          [
           "Geno Atkins",
           2017
          ],
          [
           "Cameron Heyward",
           2017
          ],
          [
           "Malik Jackson",
           2017
          ],
          [
           "Ndamukong Suh",
           2017
          ],
          [
           "Kawann Short",
           2017
          ],
          [
           "Chandler Jones",
           2017
          ],
          [
           "Von Miller",
           2017
          ],
          [
           "Jadeveon Clowney",
           2017
          ],
          [
           "Ryan Kerrigan",
           2017
          ],
          [
           "Luke Kuechly",
           2017
          ],
          [
           "Ryan Shazier",
           2017
          ],
          [
           "Bobby Wagner",
           2017
          ],
          [
           "Deion Jones",
           2017
          ],
          [
           "Lavonte David",
           2017
          ],
          [
           "Telvin Smith",
           2017
          ],
          [
           "C.J. Mosley",
           2017
          ],
          [
           "Jalen Ramsey",
           2017
          ],
          [
           "Xavier Rhodes",
           2017
          ],
          [
           "Darius Slay",
           2017
          ],
          [
           "Casey Hayward",
           2017
          ],
          [
           "A.J. Bouye",
           2017
          ],
          [
           "Marshon Lattimore",
           2017
          ],
          [
           "Tre'Davious White",
           2017
          ],
          [
           "Patrick Robinson",
           2017
          ],
          [
           "Harrison Smith",
           2017
          ],
          [
           "Kevin Byard",
           2017
          ],
          [
           "Earl Thomas",
           2017
          ],
          [
           "Adrian Amos",
           2017
          ],
          [
           "Eric Weddle",
           2017
          ],
          [
           "Glover Quin",
           2017
          ],
          [
           "Micah Hyde",
           2017
          ],
          [
           "Lamarcus Joyner",
           2017
          ],
          [
           "Matt Prater",
           2017
          ],
          [
           "Robbie Gould",
           2017
          ],
          [
           "Johnny Hekker",
           2017
          ],
          [
           "Brett Kern",
           2017
          ],
          [
           "Thomas Morstead",
           2017
          ],
          [
           "Jamal Agnew",
           2017
          ],
          [
           "Michael Campanaro",
           2017
          ],
          [
           "Pharoh Cooper",
           2017
          ],
          [
           "Dion Lewis",
           2017
          ],
          [
           "Tyler Lockett",
           2017
          ],
          [
           "Budda Baker",
           2017
          ],
          [
           "Michael Thomas",
           2017
          ],
          [
           "Matthew Slater",
           2017
          ],
          [
           "Greg Zuerlein",
           2017
          ],
          [
           "Justin Tucker",
           2017
          ],
          [
           "Patrick Mahomes",
           2018
          ],
          [
           "Drew Brees",
           2018
          ],
          [
           "Todd Gurley",
           2018
          ],
          [
           "Saquon Barkley",
           2018
          ],
          [
           "Ezekiel Elliott",
           2018
          ],
          [
           "Phillip Lindsay",
           2018
          ],
          [
           "Derrick Henry",
           2018
          ],
          [
           "DeAndre Hopkins",
           2018
          ],
          [
           "Michael Thomas",
           2018
          ],
          [
           "Tyreek Hill",
           2018
          ],
          [
           "Julio Jones",
           2018
          ],
          [
           "Keenan Allen",
           2018
          ],
          [
           "Travis Kelce",
           2018
          ],
          [
           "George Kittle",
           2018
          ],
          [
           "Zach Ertz",
           2018
          ],
          [
           "Christian McCaffrey",
           2018
          ],
          [
           "Alvin Kamara",
           2018
          ],
          [
           "Duane Brown",
           2018
          ],
          [
           "Tyron Smith",
           2018
          ],
          [
           "Mitchell Schwartz",
           2018
          ],
          [
           "David Bakhtiari",
           2018
          ],
          [
           "Terron Armstead",
           2018
          ],
          [
           "Taylor Lewan",
           2018
          ],
          [
           "Joel Bitonio",
           2018
          ],
          [
           "Quenton Nelson",
           2018
          ],
          [
           "Zack Martin",
           2018
          ],
          [
           "Marshal Yanda",
           2018
          ],
          [
           "Brandon Brooks",
           2018
          ],
          [
           "Jason Kelce",
           2018
          ],
          [
           "Maurkice Pouncey",
           2018
          ],
          [
           "Rodney Hudson",
           2018
          ],
          [
           "Shaq Mason",
           2018
          ],
          [
           "Ryan Ramczyk",
           2018
          ],
          [
           "J.J. Watt",
           2018
          ],
          [
           "Danielle Hunter",
           2018
          ],
          [
           "Cameron Jordan",
           2018
          ],
          [
           "Myles Garrett",
           2018
          ],
          [
           "DeMarcus Lawrence",
           2018
          ],
          [
           "Trey Flowers",
           2018
          ],
          [
           "Fletcher Cox",
           2018
          ],
          [
           "Aaron Donald",
           2018
          ],
          [
           "Chris Jones",
           2018
          ],
          [
           "Geno Atkins",
           2018
          ],
          [
           "Akiem Hicks",
           2018
          ],
          [
           "Khalil Mack",
           2018
          ],
          [
           "Von Miller",
           2018
          ],
          [
           "Shaquille Leonard",
           2018
          ],
          [
           "Ryan Kerrigan",
           2018
          ],
          [
           "Bobby Wagner",
           2018
          ],
          [
           "C.J. Mosley",
           2018
          ],
          [
           "Luke Kuechly",
           2018
          ],
          [
           "Leighton Vander Esch",
           2018
          ],
          [
           "Zach Brown",
           2018
          ],
          [
           "Kyle Fuller",
           2018
          ],
          [
           "Stephon Gilmore",
           2018
          ],
          [
           "Byron Jones",
           2018
          ],
          [
           "Patrick Peterson",
           2018
          ],
          [
           "Xavien Howard",
           2018
          ],
          [
           "Desmond King",
           2018
          ],
          [
           "Kareem Jackson",
           2018
          ],
          [
           "Eddie Jackson",
           2018
          ],
          [
           "Derwin James",
           2018
          ],
          [
           "Jamal Adams",
           2018
          ],
          [
           "Harrison Smith",
           2018
          ],
          [
           "Kevin Byard",
           2018
          ],
          [
           "Wil Lutz",
           2018
          ],
          [
           "Michael Dickson",
           2018
          ],
          [
           "Thomas Morstead",
           2018
          ],
          [
           "Brett Kern",
           2018
          ],
          [
           "Johnny Hekker",
           2018
          ],
          [
           "Tarik Cohen",
           2018
          ],
          [
           "Andre Roberts",
           2018
          ],
          [
           "Richie James",
           2018
          ],
          [
           "Tremon Smith",
           2018
          ],
          [
           "Cordarrelle Patterson",
           2018
          ],
          [
           "Adrian Phillips",
           2018
          ],
          [
           "Albert McClellan",
           2018
          ],
          [
           "Cory Littleton",
           2018
          ],
          [
           "Aldrick Rosas",
           2018
          ],
          [
           "Justin Tucker",
           2018
          ],
          [
           "Lamar Jackson",
           2019
          ],
          [
           "Russell Wilson",
           2019
          ],
          [
           "Christian McCaffrey",
           2019
          ],
          [
           "Derrick Henry",
           2019
          ],
          [
           "Dalvin Cook",
           2019
          ],
          [
           "Nick Chubb",
           2019
          ],
          [
           "Michael Thomas",
           2019
          ],
          [
           "Julio Jones",
           2019
          ],
          [
           "DeAndre Hopkins",
           2019
          ],
          [
           "Chris Godwin",
           2019
          ],
          [
           "Keenan Allen",
           2019
          ],
          [
           "Mike Evans",
           2019
          ],
          [
           "George Kittle",
           2019
          ],
          [
           "Travis Kelce",
           2019
          ],
          [
           "Austin Ekeler",
           2019
          ],
          [
           "Anthony Castonzo",
           2019
          ],
          [
           "Laremy Tunsil",
           2019
          ],
          [
           "Ronnie Stanley",
           2019
          ],
          [
           "Ryan Ramczyk",
           2019
          ],
          [
           "David Bakhtiari",
           2019
          ],
          [
           "Mitchell Schwartz",
           2019
          ],
          [
           "Joe Thuney",
           2019
          ],
          [
           "Joel Bitonio",
           2019
          ],
          [
           "Quenton Nelson",
           2019
          ],
          [
           "Zack Martin",
           2019
          ],
          [
           "Marshal Yanda",
           2019
          ],
          [
           "Brandon Brooks",
           2019
          ],
          [
           "Jason Kelce",
           2019
          ],
          [
           "Rodney Hudson",
           2019
          ],
          [
           "Ryan Jensen",
           2019
          ],
          [
           "Cameron Jordan",
           2019
          ],
          [
           "Joey Bosa",
           2019
          ],
          [
           "Danielle Hunter",
           2019
          ],
          [
           "Za'Darius Smith",
           2019
          ],
          [
           "Calais Campbell",
           2019
          ],
          [
           "Aaron Donald",
           2019
          ],
          [
           "Cameron Heyward",
           2019
          ],
          [
           "Grady Jarrett",
           2019
          ],
          [
           "Chris Jones",
           2019
          ],
          [
           "D.J. Reader",
           2019
          ],
          [
           "DeForest Buckner",
           2019
          ],
          [
           "T.J. Watt",
           2019
          ],
          [
           "Chandler Jones",
           2019
          ],
          [
           "Shaquil Barrett",
           2019
          ],
          [
           "Matt Judon",
           2019
          ],
          [
           "Bobby Wagner",
           2019
          ],
          [
           "Shaquille Leonard",
           2019
          ],
          [
           "Eric Kendricks",
           2019
          ],
          [
           "Demario Davis",
           2019
          ],
          [
           "Luke Kuechly",
           2019
          ],
          [
           "Lavonte David",
           2019
          ],
          [
           "Stephon Gilmore",
           2019
          ],
          [
           "Tre'Davious White",
           2019
          ],
          [
           "Marcus Peters",
           2019
          ],
          [
           "Richard Sherman",
           2019
          ],
          [
           "Marshon Lattimore",
           2019
          ],
          [
           "Quinton Dunbar",
           2019
          ],
          [
           "Casey Hayward",
           2019
          ],
          [
           "Tyrann Mathieu",
           2019
          ],
          [
           "Marlon Humphrey",
           2019
          ],
          [
           "Marcus Williams",
           2019
          ],
          [
           "Jamal Adams",
           2019
          ],
          [
           "Minkah Fitzpatrick",
           2019
          ],
          [
           "Anthony Harris",
           2019
          ],
          [
           "Justin Simmons",
           2019
          ],
          [
           "Harrison Smith",
           2019
          ],
          [
           "Josh Lambo",
           2019
          ],
          [
           "Brett Kern",
           2019
          ],
          [
           "Tress Way",
           2019
          ],
          [
           "JK Scott",
           2019
          ],
          [
           "Deonte Harty",
           2019
          ],
          [
           "Diontae Johnson",
           2019
          ],
          [
           "Cordarrelle Patterson",
           2019
          ],
          [
           "Mecole Hardman",
           2019
          ],
          [
           "Andre Roberts",
           2019
          ],
          [
           "Matthew Slater",
           2019
          ],
          [
           "J.T. Gray",
           2019
          ],
          [
           "Justin Tucker",
           2019
          ],
          [
           "Wil Lutz",
           2019
          ],
          [
           "Aaron Rodgers",
           2020
          ],
          [
           "Patrick Mahomes",
           2020
          ],
          [
           "Josh Allen",
           2020
          ],
          [
           "Derrick Henry",
           2020
          ],
          [
           "Dalvin Cook",
           2020
          ],
          [
           "Alvin Kamara",
           2020
          ],
          [
           "Nick Chubb",
           2020
          ],
          [
           "Davante Adams",
           2020
          ],
          [
           "Stefon Diggs",
           2020
          ],
          [
           "Tyreek Hill",
           2020
          ],
          [
           "DeAndre Hopkins",
           2020
          ],
          [
           "Justin Jefferson",
           2020
          ],
          [
           "D.K. Metcalf",
           2020
          ],
          [
           "A.J. Brown",
           2020
          ],
          [
           "Calvin Ridley",
           2020
          ],
          [
           "Cole Beasley",
           2020
          ],
          [
           "Travis Kelce",
           2020
          ],
          [
           "T.J. Hockenson",
           2020
          ],
          [
           "Darren Waller",
           2020
          ],
          [
           "Allen Robinson",
           2020
          ],
          [
           "Jack Conklin",
           2020
          ],
          [
           "David Bakhtiari",
           2020
          ],
          [
           "Trent Williams",
           2020
          ],
          [
           "Garett Bolles",
           2020
          ],
          [
           "Quenton Nelson",
           2020
          ],
          [
           "Joel Bitonio",
           2020
          ],
          [
           "Brandon Scherff",
           2020
          ],
          [
           "Ali Marpet",
           2020
          ],
          [
           "Corey Linsley",
           2020
          ],
          [
           "Jason Kelce",
           2020
          ],
          [
           "Ryan Kelly",
           2020
          ],
          [
           "Frank Ragnow",
           2020
          ],
          [
           "Wyatt Teller",
           2020
          ],
          [
           "Tristan Wirfs",
           2020
          ],
          [
           "Ryan Ramczyk",
           2020
          ],
          [
           "Myles Garrett",
           2020
          ],
          [
           "Joey Bosa",
           2020
          ],
          [
           "Trey Hendrickson",
           2020
          ],
          [
           "Cameron Jordan",
           2020
          ],
          [
           "Chase Young",
           2020
          ],
          [
           "DeMarcus Lawrence",
           2020
          ],
          [
           "Aaron Donald",
           2020
          ],
          [
           "Chris Jones",
           2020
          ],
          [
           "DeForest Buckner",
           2020
          ],
          [
           "Fletcher Cox",
           2020
          ],
          [
           "Cameron Heyward",
           2020
          ],
          [
           "T.J. Watt",
           2020
          ],
          [
           "Khalil Mack",
           2020
          ],
          [
           "Za'Darius Smith",
           2020
          ],
          [
           "Bradley Chubb",
           2020
          ],
          [
           "Fred Warner",
           2020
          ],
          [
           "Shaquille Leonard",
           2020
          ],
          [
           "Bobby Wagner",
           2020
          ],
          [
           "Roquan Smith",
           2020
          ],
          [
           "Lavonte David",
           2020
          ],
          [
           "Devin White",
           2020
          ],
          [
           "Myles Jack",
           2020
          ],
          [
           "Eric Kendricks",
           2020
          ],
          [
           "Demario Davis",
           2020
          ],
          [
           "Xavien Howard",
           2020
          ],
          [
           "Jalen Ramsey",
           2020
          ],
          [
           "Jaire Alexander",
           2020
          ],
          [
           "Tre'Davious White",
           2020
          ],
          [
           "James Bradberry",
           2020
          ],
          [
           "Bryce Callahan",
           2020
          ],
          [
           "Darious Williams",
           2020
          ],
          [
           "Tyrann Mathieu",
           2020
          ],
          [
           "Minkah Fitzpatrick",
           2020
          ],
          [
           "Budda Baker",
           2020
          ],
          [
           "Jessie Bates III",
           2020
          ],
          [
           "Adrian Amos",
           2020
          ],
          [
           "Jamal Adams",
           2020
          ],
          [
           "Justin Simmons",
           2020
          ],
          [
           "John Johnson",
           2020
          ],
          [
           "Morgan Cox",
           2020
          ],
          [
           "Luke Rhodes",
           2020
          ],
          [
           "Jake Bailey",
           2020
          ],
          [
           "Jack Fox",
           2020
          ],
          [
           "Bradley Pinion",
           2020
          ],
          [
           "Gunner Olszewski",
           2020
          ],
          [
           "Jamal Agnew",
           2020
          ],
          [
           "Jakeem Grant",
           2020
          ],
          [
           "Cordarrelle Patterson",
           2020
          ],
          [
           "Andre Roberts",
           2020
          ],
          [
           "Ray-Ray McCloud",
           2020
          ],
          [
           "George Odum",
           2020
          ],
          [
           "Nick Bellore",
           2020
          ],
          [
           "Cody Davis",
           2020
          ],
          [
           "Matthew Slater",
           2020
          ],
          [
           "Jason Sanders",
           2020
          ],
          [
           "Justin Tucker",
           2020
          ],
          [
           "Younghoe Koo",
           2020
          ],
          [
           "Aaron Rodgers",
           2021
          ],
          [
           "Tom Brady",
           2021
          ],
          [
           "Joe Burrow",
           2021
          ],
          [
           "Jonathan Taylor",
           2021
          ],
          [
           "Nick Chubb",
           2021
          ],
          [
           "Joe Mixon",
           2021
          ],
          [
           "Antonio Gibson",
           2021
          ],
          [
           "Dalvin Cook",
           2021
          ],
          [
           "Davante Adams",
           2021
          ],
          [
           "Cooper Kupp",
           2021
          ],
          [
           "Deebo Samuel",
           2021
          ],
          [
           "Ja'Marr Chase",
           2021
          ],
          [
           "Tyreek Hill",
           2021
          ],
          [
           "Justin Jefferson",
           2021
          ],
          [
           "Mark Andrews",
           2021
          ],
          [
           "Travis Kelce",
           2021
          ],
          [
           "George Kittle",
           2021
          ],
          [
           "Jordan Mailata",
           2021
          ],
          [
           "Tristan Wirfs",
           2021
          ],
          [
           "Trent Williams",
           2021
          ],
          [
           "Rashawn Slater",
           2021
          ],
          [
           "Kolton Miller",
           2021
          ],
          [
           "Joel Bitonio",
           2021
          ],
          [
           "Zack Martin",
           2021
          ],
          [
           "Ali Marpet",
           2021
          ],
          [
           "Quenton Nelson",
           2021
          ],
          [
           "Jason Kelce",
           2021
          ],
          [
           "Creed Humphrey",
           2021
          ],
          [
           "Corey Linsley",
           2021
          ],
          [
           "Shaq Mason",
           2021
          ],
          [
           "Wyatt Teller",
           2021
          ],
          [
           "Lane Johnson",
           2021
          ],
          [
           "Jeffery Simmons",
           2021
          ],
          [
           "Christian Wilkins",
           2021
          ],
          [
           "Myles Garrett",
           2021
          ],
          [
           "Nick Bosa",
           2021
          ],
          [
           "Maxx Crosby",
           2021
          ],
          [
           "Cameron Jordan",
           2021
          ],
          [
           "Aaron Donald",
           2021
          ],
          [
           "Cameron Heyward",
           2021
          ],
          [
           "Chris Jones",
           2021
          ],
          [
           "Jonathan Allen",
           2021
          ],
          [
           "Micah Parsons",
           2021
          ],
          [
           "T.J. Watt",
           2021
          ],
          [
           "Robert Quinn",
           2021
          ],
          [
           "Matt Judon",
           2021
          ],
          [
           "De'Vondre Campbell",
           2021
          ],
          [
           "Shaquille Leonard",
           2021
          ],
          [
           "Demario Davis",
           2021
          ],
          [
           "Roquan Smith",
           2021
          ],
          [
           "Bobby Wagner",
           2021
          ],
          [
           "Lavonte David",
           2021
          ],
          [
           "Jalen Ramsey",
           2021
          ],
          [
           "Trevon Diggs",
           2021
          ],
          [
           "AJ Terrell",
           2021
          ],
          [
           "J.C. Jackson",
           2021
          ],
          [
           "Xavien Howard",
           2021
          ],
          [
           "Chidobe Awuzie",
           2021
          ],
          [
           "Darius Slay",
           2021
          ],
          [
           "Kevin Byard",
           2021
          ],
          [
           "Jordan Poyer",
           2021
          ],
          [
           "Derwin James",
           2021
          ],
          [
           "Antoine Winfield Jr.",
           2021
          ],
          [
           "Budda Baker",
           2021
          ],
          [
           "Quandre Diggs",
           2021
          ],
          [
           "Micah Hyde",
           2021
          ],
          [
           "Marcus Williams",
           2021
          ],
          [
           "Justin Simmons",
           2021
          ],
          [
           "Luke Rhodes",
           2021
          ],
          [
           "Josh Harris",
           2021
          ],
          [
           "Jake Elliott",
           2021
          ],
          [
           "Daniel Carlson",
           2021
          ],
          [
           "AJ Cole III",
           2021
          ],
          [
           "Bryan Anger",
           2021
          ],
          [
           "Devin Duvernay",
           2021
          ],
          [
           "Jakeem Grant",
           2021
          ],
          [
           "Braxton Berrios",
           2021
          ],
          [
           "Kene Nwangwu",
           2021
          ],
          [
           "Andre Roberts",
           2021
          ],
          [
           "J.T. Gray",
           2021
          ],
          [
           "Matthew Adams",
           2021
          ],
          [
           "Matthew Slater",
           2021
          ],
          [
           "Ashton Dulin",
           2021
          ],
          [
           "Justin Tucker",
           2021
          ],
          [
           "Matt Gay",
           2021
          ],
          [
           "Cordarrelle Patterson",
           2021
          ],
          [
           "Jevon Holland",
           2021
          ],
          [
           "Patrick Mahomes",
           2022
          ],
          [
           "Jalen Hurts",
           2022
          ],
          [
           "Joe Burrow",
           2022
          ],
          [
           "Josh Jacobs",
           2022
          ],
          [
           "Nick Chubb",
           2022
          ],
          [
           "Saquon Barkley",
           2022
          ],
          [
           "Derrick Henry",
           2022
          ],
          [
           "Christian McCaffrey",
           2022
          ],
          [
           "Kyle Juszczyk",
           2022
          ],
          [
           "Justin Jefferson",
           2022
          ],
          [
           "Davante Adams",
           2022
          ],
          [
           "Tyreek Hill",
           2022
          ],
          [
           "A.J. Brown",
           2022
          ],
          [
           "Stefon Diggs",
           2022
          ],
          [
           "CeeDee Lamb",
           2022
          ],
          [
           "Amon-Ra St. Brown",
           2022
          ],
          [
           "Travis Kelce",
           2022
          ],
          [
           "George Kittle",
           2022
          ],
          [
           "Andrew Thomas",
           2022
          ],
          [
           "Lane Johnson",
           2022
          ],
          [
           "Trent Williams",
           2022
          ],
          [
           "Laremy Tunsil",
           2022
          ],
          [
           "Terron Armstead",
           2022
          ],
          [
           "Joel Bitonio",
           2022
          ],
          [
           "Zack Martin",
           2022
          ],
          [
           "Chris Lindstrom",
           2022
          ],
          [
           "Joe Thuney",
           2022
          ],
          [
           "Jason Kelce",
           2022
          ],
          [
           "Creed Humphrey",
           2022
          ],
          [
           "Michael Onwenu",
           2022
          ],
          [
           "Tristan Wirfs",
           2022
          ],
          [
           "Aaron Donald",
           2022
          ],
          [
           "Jeffery Simmons",
           2022
          ],
          [
           "Cameron Heyward",
           2022
          ],
          [
           "Nick Bosa",
           2022
          ],
          [
           "Myles Garrett",
           2022
          ],
          [
           "Maxx Crosby",
           2022
          ],
          [
           "Brian Burns",
           2022
          ],
          [
           "Chris Jones",
           2022
          ],
          [
           "Dexter Lawrence",
           2022
          ],
          [
           "Quinnen Williams",
           2022
          ],
          [
           "Javon Hargrave",
           2022
          ],
          [
           "Daron Payne",
           2022
          ],
          [
           "Micah Parsons",
           2022
          ],
          [
           "Haason Reddick",
           2022
          ],
          [
           "Matt Judon",
           2022
          ],
          [
           "Matt Milano",
           2022
          ],
          [
           "Alex Highsmith",
           2022
          ],
          [
           "Fred Warner",
           2022
          ],
          [
           "Roquan Smith",
           2022
          ],
          [
           "Bobby Wagner",
           2022
          ],
          [
           "T.J. Edwards",
           2022
          ],
          [
           "C.J. Mosley",
           2022
          ],
          [
           "Lavonte David",
           2022
          ],
          [
           "Demario Davis",
           2022
          ],
          [
           "Patrick Surtain II",
           2022
          ],
          [
           "Sauce Gardner",
           2022
          ],
          [
           "Darius Slay",
           2022
          ],
          [
           "Jaire Alexander",
           2022
          ],
          [
           "James Bradberry",
           2022
          ],
          [
           "Patrick Peterson",
           2022
          ],
          [
           "Jalen Ramsey",
           2022
          ],
          [
           "Minkah Fitzpatrick",
           2022
          ],
          [
           "Derwin James",
           2022
          ],
          [
           "Talanoa Hufanga",
           2022
          ],
          [
           "Ryan Neal",
           2022
          ],
          [
           "C.J. Gardner-Johnson",
           2022
          ],
          [
           "Justin Simmons",
           2022
          ],
          [
           "Tyrann Mathieu",
           2022
          ],
          [
           "Kamren Curl",
           2022
          ],
          [
           "Andrew DePaola",
           2022
          ],
          [
           "Morgan Cox",
           2022
          ],
          [
           "Nick Moore",
           2022
          ],
          [
           "Zach Wood",
           2022
          ],
          [
           "Daniel Carlson",
           2022
          ],
          [
           "Jason Myers",
           2022
          ],
          [
           "Justin Tucker",
           2022
          ],
          [
           "Tommy Townsend",
           2022
          ],
          [
           "Ryan Stonehouse",
           2022
          ],
          [
           "Johnny Hekker",
           2022
          ],
          [
           "AJ Cole III",
           2022
          ],
          [
           "Marcus Jones",
           2022
          ],
          [
           "KaVontae Turpin",
           2022
          ],
          [
           "Kalif Raymond",
           2022
          ],
          [
           "Keisean Nixon",
           2022
          ],
          [
           "Kene Nwangwu",
           2022
          ],
          [
           "Cordarrelle Patterson",
           2022
          ],
          [
           "Nyheim Hines",
           2022
          ],
          [
           "Jeremy Reaves",
           2022
          ],
          [
           "Justin Hardee",
           2022
          ],
          [
           "George Odum",
           2022
          ],
          [
           "Lamar Jackson",
           2023
          ],
          [
           "Dak Prescott",
           2023
          ],
          [
           "Josh Allen",
           2023
          ],
          [
           "Christian McCaffrey",
           2023
          ],
          [
           "Kyren Williams",
           2023
          ],
          [
           "Raheem Mostert",
           2023
          ],
          [
           "Derrick Henry",
           2023
          ],
          [
           "Kyle Juszczyk",
           2023
          ],
          [
           "Michael Burton",
           2023
          ],
          [
           "Patrick Ricard",
           2023
          ],
          [
           "Hunter Luepke",
           2023
          ],
          [
           "CeeDee Lamb",
           2023
          ],
          [
           "Tyreek Hill",
           2023
          ],
          [
           "Amon-Ra St. Brown",
           2023
          ],
          [
           "Brandon Aiyuk",
           2023
          ],
          [
           "Nico Collins",
           2023
          ],
          [
           "A.J. Brown",
           2023
          ],
          [
           "Puka Nacua",
           2023
          ],
          [
           "D.J. Moore",
           2023
          ],
          [
           "Mike Evans",
           2023
          ],
          [
           "George Kittle",
           2023
          ],
          [
           "Travis Kelce",
           2023
          ],
          [
           "T.J. Hockenson",
           2023
          ],
          [
           "Sam LaPorta",
           2023
          ],
          [
           "Tyron Smith",
           2023
          ],
          [
           "Jordan Mailata",
           2023
          ],
          [
           "Trent Williams",
           2023
          ],
          [
           "Penei Sewell",
           2023
          ],
          [
           "Dion Dawkins",
           2023
          ],
          [
           "Laremy Tunsil",
           2023
          ],
          [
           "Tyler Smith",
           2023
          ],
          [
           "Joe Thuney",
           2023
          ],
          [
           "Zack Martin",
           2023
          ],
          [
           "Chris Lindstrom",
           2023
          ],
          [
           "Joel Bitonio",
           2023
          ],
          [
           "Jason Kelce",
           2023
          ],
          [
           "Frank Ragnow",
           2023
          ],
          [
           "Creed Humphrey",
           2023
          ],
          [
           "Kevin Dotson",
           2023
          ],
          [
           "Lane Johnson",
           2023
          ],
          [
           "Derrick Brown",
           2023
          ],
          [
           "Nnamdi Madubuike",
           2023
          ],
          [
           "Myles Garrett",
           2023
          ],
          [
           "Maxx Crosby",
           2023
          ],
          [
           "Trey Hendrickson",
           2023
          ],
          [
           "Nick Bosa",
           2023
          ],
          [
           "Aidan Hutchinson",
           2023
          ],
          [
           "Aaron Donald",
           2023
          ],
          [
           "Chris Jones",
           2023
          ],
          [
           "Dexter Lawrence",
           2023
          ],
          [
           "Quinnen Williams",
           2023
          ],
          [
           "Micah Parsons",
           2023
          ],
          [
           "T.J. Watt",
           2023
          ],
          [
           "Danielle Hunter",
           2023
          ],
          [
           "Josh Hines-Allen",
           2023
          ],
          [
           "Fred Warner",
           2023
          ],
          [
           "Roquan Smith",
           2023
          ],
          [
           "Demario Davis",
           2023
          ],
          [
           "Quincy Williams",
           2023
          ],
          [
           "Bobby Wagner",
           2023
          ],
          [
           "Patrick Queen",
           2023
          ],
          [
           "C.J. Mosley",
           2023
          ],
          [
           "DaRon Bland",
           2023
          ],
          [
           "Sauce Gardner",
           2023
          ],
          [
           "Jaylon Johnson",
           2023
          ],
          [
           "Patrick Surtain II",
           2023
          ],
          [
           "Trent McDuffie",
           2023
          ],
          [
           "Devon Witherspoon",
           2023
          ],
          [
           "Kendall Fuller",
           2023
          ],
          [
           "Charvarius Ward",
           2023
          ],
          [
           "Taron Johnson",
           2023
          ],
          [
           "Jessie Bates III",
           2023
          ],
          [
           "Kyle Hamilton",
           2023
          ],
          [
           "Antoine Winfield Jr.",
           2023
          ],
          [
           "Jevon Holland",
           2023
          ],
          [
           "Justin Simmons",
           2023
          ],
          [
           "Ross Matiscik",
           2023
          ],
          [
           "Andrew DePaola",
           2023
          ],
          [
           "Mitchell Fraboni",
           2023
          ],
          [
           "Brandon Aubrey",
           2023
          ],
          [
           "Chase McLaughlin",
           2023
          ],
          [
           "Justin Tucker",
           2023
          ],
          [
           "Jake Elliott",
           2023
          ],
          [
           "AJ Cole III",
           2023
          ],
          [
           "Bradley Pinion",
           2023
          ],
          [
           "Bryan Anger",
           2023
          ],
          [
           "Derius Davis",
           2023
          ],
          [
           "Rashid Shaheed",
           2023
          ],
          [
           "Keisean Nixon",
           2023
          ],
          [
           "Marvin Mims",
           2023
          ],
          [
           "KaVontae Turpin",
           2023
          ],
          [
           "Ihmir Smith-Marsette",
           2023
          ],
          [
           "Miles Killebrew",
           2023
          ],
          [
           "Jalen Reeves-Maybin",
           2023
          ],
          [
           "Matthew Adams",
           2023
          ],
          [
           "Brenden Schooler",
           2023
          ],
          [
           "J.T. Gray",
           2023
          ],
          [
           "Lamar Jackson",
           2024
          ],
          [
           "Jared Goff",
           2024
          ],
          [
           "Josh Allen",
           2024
          ],
          [
           "Joe Burrow",
           2024
          ],
          [
           "Saquon Barkley",
           2024
          ],
          [
           "Derrick Henry",
           2024
          ],
          [
           "Jahmyr Gibbs",
           2024
          ],
          [
           "Kyle Juszczyk",
           2024
          ],
          [
           "Patrick Ricard",
           2024
          ],
          [
           "Justin Jefferson",
           2024
          ],
          [
           "Ja'Marr Chase",
           2024
          ],
          [
           "Amon-Ra St. Brown",
           2024
          ],
          [
           "Brian Thomas",
           2024
          ],
          [
           "A.J. Brown",
           2024
          ],
          [
           "Nico Collins",
           2024
          ],
          [
           "CeeDee Lamb",
           2024
          ],
          [
           "Terry McLaurin",
           2024
          ],
          [
           "Brock Bowers",
           2024
          ],
          [
           "George Kittle",
           2024
          ],
          [
           "Puka Nacua",
           2024
          ],
          [
           "Drake London",
           2024
          ],
          [
           "Tristan Wirfs",
           2024
          ],
          [
           "Jordan Mailata",
           2024
          ],
          [
           "Penei Sewell",
           2024
          ],
          [
           "Lane Johnson",
           2024
          ],
          [
           "Rashawn Slater",
           2024
          ],
          [
           "Dion Dawkins",
           2024
          ],
          [
           "Quenton Nelson",
           2024
          ],
          [
           "Joe Thuney",
           2024
          ],
          [
           "Chris Lindstrom",
           2024
          ],
          [
           "Quinn Meinerz",
           2024
          ],
          [
           "Landon Dickerson",
           2024
          ],
          [
           "Creed Humphrey",
           2024
          ],
          [
           "Frank Ragnow",
           2024
          ],
          [
           "Zach Tom",
           2024
          ],
          [
           "Zach Allen",
           2024
          ],
          [
           "Myles Garrett",
           2024
          ],
          [
           "Trey Hendrickson",
           2024
          ],
          [
           "Micah Parsons",
           2024
          ],
          [
           "Nick Bosa",
           2024
          ],
          [
           "Chris Jones",
           2024
          ],
          [
           "Cameron Heyward",
           2024
          ],
          [
           "Dexter Lawrence",
           2024
          ],
          [
           "Jalen Carter",
           2024
          ],
          [
           "Leonard Williams",
           2024
          ],
          [
           "T.J. Watt",
           2024
          ],
          [
           "Nik Bonitto",
           2024
          ],
          [
           "Andrew Van Ginkel",
           2024
          ],
          [
           "Jonathan Greenard",
           2024
          ],
          [
           "Fred Warner",
           2024
          ],
          [
           "Roquan Smith",
           2024
          ],
          [
           "Zack Baun",
           2024
          ],
          [
           "Bobby Wagner",
           2024
          ],
          [
           "Zaire Franklin",
           2024
          ],
          [
           "Frankie Luvu",
           2024
          ],
          [
           "Jack Campbell",
           2024
          ],
          [
           "Patrick Surtain II",
           2024
          ],
          [
           "Derek Stingley Jr.",
           2024
          ],
          [
           "Marlon Humphrey",
           2024
          ],
          [
           "Trent McDuffie",
           2024
          ],
          [
           "Jaylon Johnson",
           2024
          ],
          [
           "Byron Murphy",
           2024
          ],
          [
           "Garrett Williams",
           2024
          ],
          [
           "Christian Gonzalez",
           2024
          ],
          [
           "Christian Benford",
           2024
          ],
          [
           "Cooper DeJean",
           2024
          ],
          [
           "Xavier McKinney",
           2024
          ],
          [
           "Kyle Hamilton",
           2024
          ],
          [
           "Kerby Joseph",
           2024
          ],
          [
           "Brian Branch",
           2024
          ],
          [
           "Derwin James",
           2024
          ],
          [
           "Brandon Jones",
           2024
          ],
          [
           "Budda Baker",
           2024
          ],
          [
           "Ross Matiscik",
           2024
          ],
          [
           "Andrew DePaola",
           2024
          ],
          [
           "Scott Daly",
           2024
          ],
          [
           "Chris Boswell",
           2024
          ],
          [
           "Brandon Aubrey",
           2024
          ],
          [
           "Jack Fox",
           2024
          ],
          [
           "Logan Cooke",
           2024
          ],
          [
           "Michael Dickson",
           2024
          ],
          [
           "AJ Cole III",
           2024
          ],
          [
           "Marvin Mims",
           2024
          ],
          [
           "Kalif Raymond",
           2024
          ],
          [
           "KaVontae Turpin",
           2024
          ],
          [
           "Derius Davis",
           2024
          ],
          [
           "Austin Ekeler",
           2024
          ],
          [
           "Brenden Schooler",
           2024
          ],
          [
           "J.T. Gray",
           2024
          ],
          [
           "Miles Killebrew",
           2024
          ]
         ],
         "hovertemplate": "Pos=%{x}<br>Yrs=%{y}<br>Player=%{customdata[0]}<br>Year=%{customdata[1]}<extra></extra>",
         "legendgroup": "",
         "marker": {
          "color": "#636efa"
         },
         "name": "",
         "notched": false,
         "offsetgroup": "",
         "orientation": "v",
         "showlegend": false,
         "type": "box",
         "x": [
          "QB",
          "TE",
          "T",
          "G",
          "C",
          "EDGE",
          "DT",
          "EDGE",
          "LB",
          "LB",
          "LB",
          "CB",
          "S",
          "P",
          "P",
          "EDGE",
          "CB",
          "WR",
          "G",
          "CB",
          "WR",
          "T",
          "K",
          "S",
          "LB",
          "DT",
          "S",
          "LB",
          "TE",
          "DT",
          "QB",
          "RB",
          "EDGE",
          "LB",
          "G",
          "WR",
          "RB",
          "C",
          "WR",
          "T",
          "RB",
          "T",
          "RB",
          "P",
          "WR",
          "LB",
          "EDGE",
          "DT",
          "EDGE",
          "CB",
          "K",
          "TE",
          "G",
          "RB",
          "CB",
          "WR",
          "S",
          "T",
          "DT",
          "P",
          "G",
          "C",
          "QB",
          "LB",
          "WR",
          "LB",
          "EDGE",
          "CB",
          "S",
          "QB",
          "TE",
          "T",
          "T",
          "G",
          "C",
          "EDGE",
          "DT",
          "DT",
          "LB",
          "LB",
          "LB",
          "CB",
          "CB",
          "S",
          "S",
          "C",
          "LB",
          "EDGE",
          "T",
          "DT",
          "P",
          "WR",
          "EDGE",
          "LB",
          "QB",
          "CB",
          "WR",
          "TE",
          "RB",
          "G",
          "K",
          "S",
          "G",
          "WR",
          "RB",
          "T",
          "LB",
          "EDGE",
          "WR",
          "S",
          "WR",
          "DT",
          "CB",
          "S",
          "RB",
          "T",
          "WR",
          "CB",
          "LB",
          "P",
          "LB",
          "G",
          "K",
          "DT",
          "EDGE",
          "WR",
          "RB",
          "CB",
          "LB",
          "G",
          "QB",
          "C",
          "T",
          "CB",
          "DT",
          "EDGE",
          "TE",
          "CB",
          "S",
          "RB",
          "RB",
          "WR",
          "WR",
          "T",
          "G",
          "C",
          "EDGE",
          "DT",
          "DT",
          "EDGE",
          "LB",
          "LB",
          "CB",
          "S",
          "RET",
          "P",
          "RB",
          "LB",
          "EDGE",
          "CB",
          "G",
          "DT",
          "EDGE",
          "EDGE",
          "WR",
          "T",
          "LB",
          "S",
          "G",
          "QB",
          "WR",
          "WR",
          "RB",
          "DT",
          "TE",
          "C",
          "K",
          "WR",
          "S",
          "S",
          "CB",
          "K",
          "T",
          "CB",
          "CB",
          "LB",
          "T",
          "T",
          "TE",
          "RB",
          "WR",
          "P",
          "LB",
          "G",
          "QB",
          "EDGE",
          "C",
          "LB",
          "RB",
          "WR",
          "RB",
          "RB",
          "EDGE",
          "S",
          "EDGE",
          "G",
          "LB",
          "EDGE",
          "QB",
          "RB",
          "RB",
          "WR",
          "TE",
          "T",
          "EDGE",
          "EDGE",
          "LB",
          "LB",
          "CB",
          "P",
          "WR",
          "T",
          "DT",
          "LB",
          "G",
          "QB",
          "LB",
          "RB",
          "EDGE",
          "G",
          "RB",
          "K",
          "S",
          "DT",
          "TE",
          "WR",
          "S",
          "WR",
          "LB",
          "T",
          "T",
          "C",
          "EDGE",
          "CB",
          "P",
          "CB",
          "CB",
          "CB",
          "C",
          "WR",
          "WR",
          "S",
          "LB",
          "G",
          "G",
          "EDGE",
          "DT",
          "K",
          "WR",
          "DT",
          "LB",
          "S",
          "RB",
          "P",
          "EDGE",
          "RB",
          "T",
          "QB",
          "LB",
          "TE",
          "CB",
          "RB",
          "EDGE",
          "RB",
          "FB",
          "FB",
          "WR",
          "TE",
          "T",
          "G",
          "C",
          "EDGE",
          "DT",
          "DT",
          "LB",
          "LB",
          "LB",
          "CB",
          "S",
          "P",
          "P",
          "RB",
          "WR",
          "EDGE",
          "S",
          "EDGE",
          "DT",
          "LB",
          "K",
          "QB",
          "CB",
          "T",
          "S",
          "WR",
          "TE",
          "EDGE",
          "LB",
          "G",
          "CB",
          "LB",
          "WR",
          "CB",
          "T",
          "RB",
          "WR",
          "RB",
          "CB",
          "C",
          "LB",
          "T",
          "K",
          "G",
          "EDGE",
          "LB",
          "EDGE",
          "S",
          "T",
          "G",
          "LB",
          "RB",
          "P",
          "DT",
          "QB",
          "WR",
          "C",
          "S",
          "DT",
          "LB",
          "G",
          "RB",
          "TE",
          "CB",
          "T",
          "EDGE",
          "QB",
          "RB",
          "FB",
          "FB",
          "T",
          "G",
          "LB",
          "LB",
          "RET",
          "K",
          "WR",
          "T",
          "LB",
          "G",
          "QB",
          "WR",
          "P",
          "S",
          "EDGE",
          "CB",
          "RB",
          "WR",
          "G",
          "TE",
          "S",
          "C",
          "EDGE",
          "EDGE",
          "LB",
          "RB",
          "LB",
          "DT",
          "T",
          "EDGE",
          "T",
          "LB",
          "CB",
          "CB",
          "DT",
          "WR",
          "S",
          "C",
          "LB",
          "CB",
          "WR",
          "DT",
          "EDGE",
          "RB",
          "P",
          "EDGE",
          "S",
          "EDGE",
          "WR",
          "K",
          "RB",
          "G",
          "WR",
          "DT",
          "RB",
          "TE",
          "QB",
          "RB",
          "CB",
          "T",
          "G",
          "WR",
          "QB",
          "QB",
          "RB",
          "RB",
          "RB",
          "RB",
          "FB",
          "FB",
          "FB",
          "WR",
          "WR",
          "WR",
          "WR",
          "WR",
          "TE",
          "TE",
          "TE",
          "T",
          "T",
          "T",
          "T",
          "G",
          "G",
          "G",
          "G",
          "C",
          "C",
          "EDGE",
          "EDGE",
          "EDGE",
          "EDGE",
          "DT",
          "DT",
          "DT",
          "DT",
          "DT",
          "EDGE",
          "EDGE",
          "EDGE",
          "EDGE",
          "LB",
          "LB",
          "LB",
          "LB",
          "CB",
          "CB",
          "CB",
          "CB",
          "CB",
          "CB",
          "S",
          "S",
          "S",
          "S",
          "K",
          "P",
          "P",
          "RET",
          "RET",
          "RET",
          "ST",
          "ST",
          "K",
          "K",
          "QB",
          "QB",
          "RB",
          "RB",
          "RB",
          "RB",
          "RB",
          "FB",
          "FB",
          "WR",
          "WR",
          "WR",
          "WR",
          "WR",
          "WR",
          "TE",
          "TE",
          "TE",
          "T",
          "T",
          "T",
          "T",
          "G",
          "G",
          "G",
          "G",
          "G",
          "C",
          "C",
          "C",
          "EDGE",
          "EDGE",
          "EDGE",
          "EDGE",
          "EDGE",
          "DT",
          "DT",
          "DT",
          "DT",
          "EDGE",
          "EDGE",
          "EDGE",
          "EDGE",
          "EDGE",
          "LB",
          "LB",
          "LB",
          "LB",
          "CB",
          "CB",
          "CB",
          "CB",
          "CB",
          "S",
          "S",
          "S",
          "S",
          "S",
          "S",
          "K",
          "P",
          "P",
          "RET",
          "RET",
          "RET",
          "ST",
          "ST",
          "K",
          "K",
          "LB",
          "C",
          "EDGE",
          "RB",
          "C",
          "K",
          "QB",
          "QB",
          "RB",
          "RB",
          "RB",
          "RB",
          "RB",
          "RB",
          "FB",
          "FB",
          "WR",
          "WR",
          "WR",
          "WR",
          "WR",
          "TE",
          "TE",
          "T",
          "T",
          "T",
          "T",
          "T",
          "T",
          "T",
          "T",
          "G",
          "G",
          "G",
          "G",
          "C",
          "C",
          "EDGE",
          "EDGE",
          "EDGE",
          "EDGE",
          "EDGE",
          "EDGE",
          "DT",
          "DT",
          "DT",
          "DT",
          "DT",
          "EDGE",
          "EDGE",
          "EDGE",
          "EDGE",
          "EDGE",
          "LB",
          "LB",
          "LB",
          "LB",
          "CB",
          "CB",
          "CB",
          "CB",
          "S",
          "S",
          "S",
          "S",
          "S",
          "P",
          "P",
          "RET",
          "RET",
          "RET",
          "RET",
          "RET",
          "ST",
          "ST",
          "K",
          "RB",
          "K",
          "QB",
          "QB",
          "QB",
          "RB",
          "RB",
          "RB",
          "RB",
          "RB",
          "FB",
          "FB",
          "FB",
          "WR",
          "WR",
          "WR",
          "WR",
          "WR",
          "WR",
          "TE",
          "TE",
          "TE",
          "TE",
          "T",
          "T",
          "T",
          "T",
          "T",
          "T",
          "G",
          "G",
          "G",
          "G",
          "G",
          "G",
          "C",
          "C",
          "C",
          "G",
          "T",
          "T",
          "EDGE",
          "EDGE",
          "EDGE",
          "EDGE",
          "EDGE",
          "EDGE",
          "EDGE",
          "DT",
          "DT",
          "DT",
          "DT",
          "DT",
          "DT",
          "DT",
          "DT",
          "EDGE",
          "EDGE",
          "EDGE",
          "EDGE",
          "EDGE",
          "EDGE",
          "EDGE",
          "EDGE",
          "LB",
          "LB",
          "LB",
          "LB",
          "CB",
          "CB",
          "CB",
          "CB",
          "CB",
          "CB",
          "S",
          "S",
          "S",
          "S",
          "S",
          "S",
          "S",
          "S",
          "K",
          "K",
          "P",
          "P",
          "P",
          "P",
          "RET",
          "RET",
          "RET",
          "RET",
          "ST",
          "ST",
          "ST",
          "ST",
          "K",
          "K",
          "WR",
          "WR",
          "C",
          "G",
          "QB",
          "QB",
          "QB",
          "QB",
          "RB",
          "RB",
          "RB",
          "RB",
          "RB",
          "FB",
          "FB",
          "FB",
          "WR",
          "WR",
          "WR",
          "WR",
          "WR",
          "WR",
          "TE",
          "TE",
          "TE",
          "T",
          "T",
          "T",
          "T",
          "T",
          "T",
          "G",
          "G",
          "G",
          "G",
          "G",
          "G",
          "G",
          "C",
          "C",
          "C",
          "C",
          "G",
          "G",
          "T",
          "T",
          "EDGE",
          "EDGE",
          "EDGE",
          "EDGE",
          "EDGE",
          "EDGE",
          "EDGE",
          "EDGE",
          "EDGE",
          "DT",
          "DT",
          "DT",
          "DT",
          "DT",
          "DT",
          "DT",
          "EDGE",
          "EDGE",
          "EDGE",
          "EDGE",
          "EDGE",
          "LB",
          "LB",
          "LB",
          "LB",
          "LB",
          "CB",
          "CB",
          "CB",
          "CB",
          "CB",
          "CB",
          "CB",
          "CB",
          "CB",
          "S",
          "S",
          "S",
          "S",
          "S",
          "S",
          "S",
          "S",
          "S",
          "S",
          "S",
          "K",
          "K",
          "P",
          "P",
          "RET",
          "RET",
          "RET",
          "RET",
          "ST",
          "ST",
          "ST",
          "ST",
          "K",
          "K",
          "QB",
          "QB",
          "QB",
          "RB",
          "RB",
          "RB",
          "RB",
          "RB",
          "FB",
          "FB",
          "FB",
          "WR",
          "WR",
          "WR",
          "WR",
          "WR",
          "WR",
          "WR",
          "TE",
          "TE",
          "T",
          "T",
          "T",
          "T",
          "T",
          "G",
          "G",
          "G",
          "G",
          "G",
          "G",
          "C",
          "C",
          "C",
          "C",
          "G",
          "T",
          "T",
          "EDGE",
          "EDGE",
          "EDGE",
          "EDGE",
          "EDGE",
          "EDGE",
          "EDGE",
          "EDGE",
          "EDGE",
          "DT",
          "DT",
          "DT",
          "DT",
          "DT",
          "DT",
          "DT",
          "DT",
          "DT",
          "DT",
          "EDGE",
          "EDGE",
          "EDGE",
          "EDGE",
          "EDGE",
          "EDGE",
          "EDGE",
          "EDGE",
          "EDGE",
          "LB",
          "LB",
          "LB",
          "LB",
          "LB",
          "LB",
          "LB",
          "CB",
          "CB",
          "CB",
          "CB",
          "CB",
          "CB",
          "CB",
          "S",
          "S",
          "S",
          "S",
          "S",
          "S",
          "S",
          "P",
          "P",
          "RET",
          "RET",
          "RET",
          "RET",
          "RET",
          "ST",
          "ST",
          "ST",
          "K",
          "K",
          "QB",
          "QB",
          "QB",
          "RB",
          "RB",
          "RB",
          "RB",
          "RB",
          "RB",
          "FB",
          "FB",
          "FB",
          "WR",
          "WR",
          "WR",
          "WR",
          "WR",
          "WR",
          "TE",
          "TE",
          "TE",
          "T",
          "T",
          "T",
          "T",
          "T",
          "G",
          "G",
          "G",
          "G",
          "G",
          "C",
          "C",
          "C",
          "C",
          "G",
          "T",
          "T",
          "EDGE",
          "EDGE",
          "EDGE",
          "EDGE",
          "DT",
          "DT",
          "DT",
          "DT",
          "DT",
          "DT",
          "DT",
          "EDGE",
          "EDGE",
          "EDGE",
          "EDGE",
          "EDGE",
          "EDGE",
          "EDGE",
          "EDGE",
          "LB",
          "LB",
          "LB",
          "LB",
          "LB",
          "LB",
          "CB",
          "CB",
          "CB",
          "CB",
          "CB",
          "CB",
          "CB",
          "S",
          "S",
          "S",
          "S",
          "S",
          "S",
          "P",
          "P",
          "P",
          "RET",
          "RET",
          "RET",
          "RET",
          "RET",
          "ST",
          "ST",
          "ST",
          "ST",
          "K",
          "K",
          "QB",
          "QB",
          "QB",
          "RB",
          "RB",
          "RB",
          "RB",
          "RB",
          "RB",
          "FB",
          "FB",
          "FB",
          "WR",
          "WR",
          "WR",
          "WR",
          "WR",
          "WR",
          "WR",
          "WR",
          "WR",
          "TE",
          "TE",
          "TE",
          "T",
          "T",
          "T",
          "T",
          "T",
          "T",
          "G",
          "G",
          "G",
          "G",
          "G",
          "G",
          "C",
          "C",
          "C",
          "G",
          "T",
          "T",
          "EDGE",
          "EDGE",
          "EDGE",
          "EDGE",
          "EDGE",
          "DT",
          "DT",
          "DT",
          "DT",
          "DT",
          "DT",
          "DT",
          "DT",
          "EDGE",
          "EDGE",
          "EDGE",
          "EDGE",
          "EDGE",
          "LB",
          "LB",
          "LB",
          "LB",
          "LB",
          "LB",
          "CB",
          "CB",
          "CB",
          "CB",
          "CB",
          "CB",
          "CB",
          "CB",
          "CB",
          "S",
          "S",
          "S",
          "S",
          "S",
          "S",
          "S",
          "S",
          "S",
          "K",
          "K",
          "P",
          "P",
          "P",
          "RET",
          "RET",
          "RET",
          "RET",
          "ST",
          "ST",
          "ST",
          "K",
          "K",
          "QB",
          "QB",
          "QB",
          "QB",
          "RB",
          "RB",
          "RB",
          "RB",
          "FB",
          "FB",
          "FB",
          "WR",
          "WR",
          "WR",
          "WR",
          "WR",
          "WR",
          "WR",
          "WR",
          "TE",
          "TE",
          "T",
          "T",
          "T",
          "T",
          "G",
          "G",
          "G",
          "G",
          "G",
          "G",
          "C",
          "C",
          "C",
          "G",
          "T",
          "T",
          "EDGE",
          "EDGE",
          "EDGE",
          "EDGE",
          "EDGE",
          "EDGE",
          "DT",
          "DT",
          "DT",
          "DT",
          "DT",
          "DT",
          "DT",
          "DT",
          "EDGE",
          "EDGE",
          "EDGE",
          "EDGE",
          "EDGE",
          "LB",
          "LB",
          "LB",
          "LB",
          "LB",
          "LB",
          "LB",
          "CB",
          "CB",
          "CB",
          "CB",
          "CB",
          "CB",
          "CB",
          "CB",
          "S",
          "S",
          "S",
          "S",
          "S",
          "S",
          "LS",
          "K",
          "K",
          "P",
          "P",
          "P",
          "RET",
          "RET",
          "RET",
          "RET",
          "RET",
          "ST",
          "ST",
          "ST",
          "ST",
          "ST",
          "ST",
          "ST",
          "ST",
          "ST",
          "ST",
          "ST",
          "ST",
          "ST",
          "ST",
          "ST",
          "ST",
          "ST",
          "ST",
          "ST",
          "ST",
          "ST",
          "ST",
          "ST",
          "ST",
          "K",
          "K",
          "QB",
          "QB",
          "QB",
          "RB",
          "RB",
          "RB",
          "RB",
          "RB",
          "RB",
          "RB",
          "FB",
          "FB",
          "WR",
          "WR",
          "WR",
          "WR",
          "WR",
          "WR",
          "WR",
          "WR",
          "TE",
          "TE",
          "TE",
          "T",
          "T",
          "T",
          "T",
          "G",
          "G",
          "G",
          "G",
          "G",
          "G",
          "C",
          "C",
          "C",
          "C",
          "C",
          "T",
          "T",
          "EDGE",
          "EDGE",
          "EDGE",
          "EDGE",
          "EDGE",
          "EDGE",
          "EDGE",
          "DT",
          "DT",
          "DT",
          "DT",
          "DT",
          "DT",
          "DT",
          "EDGE",
          "EDGE",
          "EDGE",
          "EDGE",
          "EDGE",
          "LB",
          "LB",
          "LB",
          "LB",
          "LB",
          "LB",
          "CB",
          "CB",
          "CB",
          "CB",
          "CB",
          "CB",
          "S",
          "S",
          "S",
          "S",
          "S",
          "S",
          "S",
          "P",
          "P",
          "P",
          "P",
          "RET",
          "RET",
          "RET",
          "RET",
          "RET",
          "RET",
          "ST",
          "ST",
          "ST",
          "K",
          "K",
          "QB",
          "QB",
          "RB",
          "RB",
          "RB",
          "RB",
          "RB",
          "FB",
          "FB",
          "WR",
          "WR",
          "WR",
          "WR",
          "WR",
          "TE",
          "TE",
          "T",
          "T",
          "T",
          "T",
          "T",
          "G",
          "G",
          "G",
          "G",
          "C",
          "C",
          "C",
          "G",
          "G",
          "T",
          "T",
          "T",
          "EDGE",
          "EDGE",
          "EDGE",
          "EDGE",
          "DT",
          "DT",
          "DT",
          "DT",
          "DT",
          "DT",
          "EDGE",
          "EDGE",
          "EDGE",
          "EDGE",
          "LB",
          "LB",
          "LB",
          "LB",
          "LB",
          "LB",
          "LB",
          "LB",
          "LB",
          "LB",
          "LB",
          "LB",
          "LB",
          "CB",
          "CB",
          "CB",
          "CB",
          "CB",
          "CB",
          "CB",
          "CB",
          "S",
          "S",
          "S",
          "S",
          "S",
          "S",
          "P",
          "P",
          "P",
          "RET",
          "RET",
          "RET",
          "RET",
          "RET",
          "RET",
          "ST",
          "ST",
          "ST",
          "ST",
          "ST",
          "K",
          "K",
          "EDGE",
          "EDGE",
          "EDGE",
          "QB",
          "QB",
          "QB",
          "RB",
          "RB",
          "RB",
          "RB",
          "WR",
          "WR",
          "WR",
          "WR",
          "WR",
          "WR",
          "TE",
          "TE",
          "TE",
          "TE",
          "T",
          "T",
          "T",
          "T",
          "T",
          "T",
          "T",
          "T",
          "G",
          "G",
          "G",
          "G",
          "G",
          "G",
          "G",
          "C",
          "C",
          "C",
          "C",
          "T",
          "T",
          "EDGE",
          "EDGE",
          "EDGE",
          "EDGE",
          "EDGE",
          "DT",
          "DT",
          "DT",
          "DT",
          "DT",
          "DT",
          "DT",
          "EDGE",
          "EDGE",
          "EDGE",
          "EDGE",
          "LB",
          "LB",
          "LB",
          "LB",
          "LB",
          "LB",
          "LB",
          "CB",
          "CB",
          "CB",
          "CB",
          "CB",
          "CB",
          "CB",
          "CB",
          "S",
          "S",
          "S",
          "S",
          "S",
          "S",
          "S",
          "S",
          "K",
          "K",
          "P",
          "P",
          "P",
          "RET",
          "RET",
          "RET",
          "RET",
          "RET",
          "ST",
          "ST",
          "ST",
          "K",
          "K",
          "QB",
          "QB",
          "RB",
          "RB",
          "RB",
          "RB",
          "RB",
          "WR",
          "WR",
          "WR",
          "WR",
          "WR",
          "TE",
          "TE",
          "TE",
          "RB",
          "RB",
          "T",
          "T",
          "T",
          "T",
          "T",
          "T",
          "G",
          "G",
          "G",
          "G",
          "G",
          "C",
          "C",
          "C",
          "G",
          "T",
          "EDGE",
          "EDGE",
          "EDGE",
          "EDGE",
          "EDGE",
          "EDGE",
          "DT",
          "DT",
          "DT",
          "DT",
          "DT",
          "EDGE",
          "EDGE",
          "EDGE",
          "EDGE",
          "LB",
          "LB",
          "LB",
          "LB",
          "LB",
          "CB",
          "CB",
          "CB",
          "CB",
          "CB",
          "CB",
          "CB",
          "S",
          "S",
          "S",
          "S",
          "S",
          "K",
          "P",
          "P",
          "P",
          "P",
          "RET",
          "RET",
          "RET",
          "RET",
          "RET",
          "ST",
          "ST",
          "ST",
          "K",
          "K",
          "QB",
          "QB",
          "RB",
          "RB",
          "RB",
          "RB",
          "WR",
          "WR",
          "WR",
          "WR",
          "WR",
          "WR",
          "TE",
          "TE",
          "RB",
          "T",
          "T",
          "T",
          "T",
          "T",
          "T",
          "G",
          "G",
          "G",
          "G",
          "G",
          "G",
          "C",
          "C",
          "C",
          "EDGE",
          "EDGE",
          "EDGE",
          "EDGE",
          "EDGE",
          "DT",
          "DT",
          "DT",
          "DT",
          "DT",
          "DT",
          "EDGE",
          "EDGE",
          "EDGE",
          "EDGE",
          "LB",
          "LB",
          "LB",
          "LB",
          "LB",
          "LB",
          "CB",
          "CB",
          "CB",
          "CB",
          "CB",
          "CB",
          "CB",
          "CB",
          "CB",
          "CB",
          "S",
          "S",
          "S",
          "S",
          "S",
          "K",
          "P",
          "P",
          "P",
          "RET",
          "RET",
          "RET",
          "RET",
          "RET",
          "ST",
          "ST",
          "K",
          "K",
          "QB",
          "QB",
          "QB",
          "RB",
          "RB",
          "RB",
          "RB",
          "WR",
          "WR",
          "WR",
          "WR",
          "WR",
          "WR",
          "WR",
          "WR",
          "WR",
          "TE",
          "TE",
          "TE",
          "WR",
          "T",
          "T",
          "T",
          "T",
          "G",
          "G",
          "G",
          "G",
          "C",
          "C",
          "C",
          "C",
          "G",
          "T",
          "T",
          "EDGE",
          "EDGE",
          "EDGE",
          "EDGE",
          "EDGE",
          "EDGE",
          "DT",
          "DT",
          "DT",
          "DT",
          "DT",
          "EDGE",
          "EDGE",
          "EDGE",
          "EDGE",
          "LB",
          "LB",
          "LB",
          "LB",
          "LB",
          "LB",
          "LB",
          "LB",
          "LB",
          "CB",
          "CB",
          "CB",
          "CB",
          "CB",
          "CB",
          "CB",
          "S",
          "S",
          "S",
          "S",
          "S",
          "S",
          "S",
          "S",
          "LS",
          "LS",
          "P",
          "P",
          "P",
          "RET",
          "RET",
          "RET",
          "RET",
          "RET",
          "RET",
          "ST",
          "ST",
          "ST",
          "ST",
          "K",
          "K",
          "K",
          "QB",
          "QB",
          "QB",
          "RB",
          "RB",
          "RB",
          "RB",
          "RB",
          "WR",
          "WR",
          "WR",
          "WR",
          "WR",
          "WR",
          "TE",
          "TE",
          "TE",
          "T",
          "T",
          "T",
          "T",
          "T",
          "G",
          "G",
          "G",
          "G",
          "C",
          "C",
          "C",
          "G",
          "G",
          "T",
          "DT",
          "DT",
          "EDGE",
          "EDGE",
          "EDGE",
          "EDGE",
          "DT",
          "DT",
          "DT",
          "DT",
          "EDGE",
          "EDGE",
          "EDGE",
          "EDGE",
          "LB",
          "LB",
          "LB",
          "LB",
          "LB",
          "LB",
          "CB",
          "CB",
          "CB",
          "CB",
          "CB",
          "CB",
          "CB",
          "S",
          "S",
          "S",
          "S",
          "S",
          "S",
          "S",
          "S",
          "S",
          "LS",
          "LS",
          "K",
          "K",
          "P",
          "P",
          "RET",
          "RET",
          "RET",
          "RET",
          "RET",
          "ST",
          "ST",
          "ST",
          "ST",
          "K",
          "K",
          "RB",
          "S",
          "QB",
          "QB",
          "QB",
          "RB",
          "RB",
          "RB",
          "RB",
          "RB",
          "FB",
          "WR",
          "WR",
          "WR",
          "WR",
          "WR",
          "WR",
          "WR",
          "TE",
          "TE",
          "T",
          "T",
          "T",
          "T",
          "T",
          "G",
          "G",
          "G",
          "G",
          "C",
          "C",
          "G",
          "T",
          "DT",
          "DT",
          "DT",
          "EDGE",
          "EDGE",
          "EDGE",
          "EDGE",
          "DT",
          "DT",
          "DT",
          "DT",
          "DT",
          "EDGE",
          "EDGE",
          "EDGE",
          "EDGE",
          "EDGE",
          "LB",
          "LB",
          "LB",
          "LB",
          "LB",
          "LB",
          "LB",
          "CB",
          "CB",
          "CB",
          "CB",
          "CB",
          "CB",
          "CB",
          "S",
          "S",
          "S",
          "S",
          "S",
          "S",
          "S",
          "S",
          "LS",
          "LS",
          "LS",
          "LS",
          "K",
          "K",
          "K",
          "P",
          "P",
          "P",
          "P",
          "RET",
          "RET",
          "RET",
          "RET",
          "RET",
          "RET",
          "RET",
          "ST",
          "ST",
          "ST",
          "QB",
          "QB",
          "QB",
          "RB",
          "RB",
          "RB",
          "RB",
          "FB",
          "FB",
          "FB",
          "FB",
          "WR",
          "WR",
          "WR",
          "WR",
          "WR",
          "WR",
          "WR",
          "WR",
          "WR",
          "TE",
          "TE",
          "TE",
          "TE",
          "T",
          "T",
          "T",
          "T",
          "T",
          "T",
          "G",
          "G",
          "G",
          "G",
          "G",
          "C",
          "C",
          "C",
          "G",
          "T",
          "DT",
          "DT",
          "EDGE",
          "EDGE",
          "EDGE",
          "EDGE",
          "EDGE",
          "DT",
          "DT",
          "DT",
          "DT",
          "EDGE",
          "EDGE",
          "EDGE",
          "EDGE",
          "LB",
          "LB",
          "LB",
          "LB",
          "LB",
          "LB",
          "LB",
          "CB",
          "CB",
          "CB",
          "CB",
          "CB",
          "CB",
          "CB",
          "CB",
          "CB",
          "S",
          "S",
          "S",
          "S",
          "S",
          "LS",
          "LS",
          "LS",
          "K",
          "K",
          "K",
          "K",
          "P",
          "P",
          "P",
          "RET",
          "RET",
          "RET",
          "RET",
          "RET",
          "RET",
          "ST",
          "ST",
          "ST",
          "ST",
          "ST",
          "QB",
          "QB",
          "QB",
          "QB",
          "RB",
          "RB",
          "RB",
          "FB",
          "FB",
          "WR",
          "WR",
          "WR",
          "WR",
          "WR",
          "WR",
          "WR",
          "WR",
          "TE",
          "TE",
          "WR",
          "WR",
          "T",
          "T",
          "T",
          "T",
          "T",
          "T",
          "G",
          "G",
          "G",
          "G",
          "G",
          "C",
          "C",
          "T",
          "DT",
          "EDGE",
          "EDGE",
          "EDGE",
          "EDGE",
          "DT",
          "DT",
          "DT",
          "DT",
          "DT",
          "EDGE",
          "EDGE",
          "EDGE",
          "EDGE",
          "LB",
          "LB",
          "LB",
          "LB",
          "LB",
          "LB",
          "LB",
          "CB",
          "CB",
          "CB",
          "CB",
          "CB",
          "CB",
          "CB",
          "CB",
          "CB",
          "CB",
          "S",
          "S",
          "S",
          "S",
          "S",
          "S",
          "S",
          "LS",
          "LS",
          "LS",
          "K",
          "K",
          "P",
          "P",
          "P",
          "P",
          "RET",
          "RET",
          "RET",
          "RET",
          "RET",
          "ST",
          "ST",
          "ST"
         ],
         "x0": " ",
         "xaxis": "x",
         "y": [
          2,
          7,
          2,
          5,
          6,
          10,
          8,
          7,
          4,
          5,
          2,
          2,
          7,
          null,
          9,
          3,
          3,
          3,
          17,
          2,
          2,
          4,
          9,
          3,
          10,
          5,
          7,
          4,
          3,
          4,
          13,
          6,
          5,
          5,
          6,
          4,
          4,
          6,
          2,
          3,
          1,
          7,
          7,
          5,
          4,
          2,
          9,
          6,
          11,
          1,
          1,
          3,
          11,
          7,
          null,
          5,
          13,
          7,
          3,
          2,
          6,
          2,
          1,
          3,
          8,
          4,
          6,
          8,
          7,
          10,
          5,
          10,
          8,
          6,
          5,
          4,
          10,
          4,
          null,
          5,
          3,
          4,
          3,
          1,
          4,
          7,
          7,
          1,
          4,
          6,
          6,
          null,
          8,
          1,
          3,
          10,
          5,
          4,
          7,
          3,
          3,
          5,
          7,
          2,
          6,
          5,
          5,
          7,
          5,
          8,
          8,
          7,
          7,
          7,
          4,
          4,
          5,
          4,
          1,
          1,
          6,
          15,
          8,
          7,
          4,
          6,
          3,
          9,
          1,
          8,
          14,
          3,
          1,
          8,
          11,
          9,
          12,
          1,
          5,
          1,
          4,
          6,
          17,
          9,
          7,
          7,
          9,
          1,
          2,
          2,
          6,
          4,
          5,
          9,
          2,
          7,
          3,
          2,
          5,
          4,
          9,
          7,
          6,
          3,
          6,
          6,
          7,
          6,
          4,
          15,
          1,
          6,
          5,
          6,
          5,
          8,
          6,
          1,
          15,
          5,
          7,
          4,
          4,
          8,
          10,
          6,
          9,
          5,
          null,
          11,
          4,
          3,
          2,
          6,
          11,
          7,
          3,
          2,
          5,
          4,
          2,
          1,
          2,
          4,
          1,
          8,
          6,
          7,
          8,
          2,
          5,
          5,
          2,
          7,
          7,
          8,
          7,
          7,
          4,
          3,
          4,
          7,
          2,
          3,
          10,
          5,
          7,
          3,
          10,
          2,
          6,
          5,
          1,
          2,
          6,
          3,
          1,
          5,
          3,
          10,
          6,
          9,
          5,
          8,
          8,
          4,
          5,
          4,
          5,
          7,
          2,
          9,
          3,
          6,
          5,
          1,
          7,
          9,
          2,
          2,
          4,
          5,
          1,
          9,
          3,
          5,
          6,
          12,
          5,
          2,
          4,
          2,
          2,
          3,
          9,
          9,
          6,
          7,
          8,
          4,
          8,
          5,
          6,
          3,
          8,
          8,
          8,
          7,
          10,
          7,
          4,
          9,
          8,
          2,
          2,
          3,
          1,
          6,
          8,
          6,
          5,
          7,
          8,
          2,
          1,
          2,
          7,
          6,
          1,
          9,
          8,
          2,
          11,
          4,
          8,
          5,
          5,
          10,
          8,
          7,
          6,
          11,
          7,
          6,
          5,
          1,
          8,
          3,
          3,
          7,
          10,
          5,
          5,
          3,
          6,
          2,
          3,
          6,
          7,
          null,
          1,
          7,
          6,
          7,
          5,
          4,
          11,
          12,
          6,
          5,
          9,
          6,
          2,
          5,
          4,
          8,
          5,
          4,
          7,
          null,
          4,
          2,
          3,
          6,
          5,
          4,
          7,
          2,
          8,
          7,
          2,
          4,
          2,
          8,
          6,
          7,
          9,
          12,
          12,
          2,
          1,
          5,
          6,
          3,
          1,
          6,
          10,
          8,
          2,
          4,
          null,
          1,
          5,
          6,
          5,
          4,
          4,
          4,
          2,
          12,
          9,
          1,
          6,
          1,
          6,
          2,
          1,
          8,
          7,
          4,
          5,
          8,
          3,
          5,
          2,
          1,
          13,
          3,
          2,
          5,
          10,
          7,
          7,
          3,
          3,
          5,
          9,
          9,
          1,
          10,
          10,
          5,
          2,
          8,
          13,
          8,
          7,
          9,
          4,
          4,
          5,
          3,
          8,
          5,
          2,
          4,
          1,
          6,
          3,
          1,
          7,
          4,
          6,
          10,
          7,
          3,
          4,
          8,
          9,
          3,
          4,
          5,
          10,
          1,
          15,
          5,
          2,
          1,
          null,
          1,
          3,
          3,
          1,
          2,
          7,
          16,
          6,
          5,
          null,
          3,
          9,
          14,
          12,
          9,
          11,
          2,
          6,
          3,
          3,
          4,
          4,
          10,
          10,
          6,
          3,
          9,
          6,
          2,
          9,
          3,
          6,
          8,
          9,
          4,
          3,
          8,
          1,
          5,
          6,
          4,
          5,
          3,
          10,
          2,
          10,
          5,
          7,
          2,
          2,
          4,
          null,
          1,
          4,
          1,
          4,
          9,
          8,
          3,
          5,
          10,
          5,
          4,
          3,
          8,
          3,
          7,
          2,
          1,
          2,
          4,
          4,
          2,
          8,
          7,
          13,
          4,
          1,
          5,
          null,
          10,
          7,
          4,
          1,
          null,
          8,
          2,
          6,
          1,
          3,
          5,
          4,
          4,
          3,
          7,
          11,
          5,
          5,
          3,
          5,
          null,
          2,
          4,
          1,
          11,
          7,
          4,
          10,
          5,
          14,
          8,
          3,
          8,
          2,
          6,
          4,
          5,
          6,
          5,
          7,
          3,
          2,
          6,
          3,
          9,
          5,
          5,
          1,
          11,
          12,
          1,
          5,
          2,
          10,
          9,
          6,
          5,
          7,
          3,
          5,
          8,
          4,
          1,
          null,
          2,
          null,
          2,
          5,
          9,
          2,
          2,
          20,
          11,
          8,
          5,
          1,
          2,
          5,
          3,
          1,
          4,
          5,
          2,
          6,
          5,
          5,
          8,
          4,
          2,
          6,
          6,
          3,
          6,
          2,
          1,
          1,
          5,
          6,
          4,
          1,
          3,
          8,
          4,
          11,
          6,
          3,
          7,
          2,
          7,
          10,
          3,
          7,
          5,
          8,
          4,
          3,
          7,
          6,
          6,
          3,
          4,
          5,
          4,
          5,
          10,
          7,
          4,
          3,
          2,
          6,
          null,
          7,
          2,
          5,
          2,
          2,
          2,
          13,
          2,
          11,
          6,
          6,
          2,
          1,
          4,
          3,
          12,
          8,
          13,
          7,
          null,
          4,
          9,
          4,
          9,
          5,
          5,
          4,
          1,
          4,
          null,
          null,
          6,
          2,
          4,
          1,
          5,
          11,
          5,
          3,
          10,
          5,
          10,
          2,
          9,
          5,
          2,
          1,
          4,
          3,
          6,
          7,
          6,
          6,
          5,
          7,
          9,
          7,
          3,
          3,
          7,
          7,
          4,
          4,
          2,
          3,
          6,
          7,
          1,
          7,
          4,
          6,
          2,
          5,
          7,
          10,
          4,
          12,
          6,
          null,
          2,
          4,
          9,
          3,
          8,
          10,
          5,
          5,
          9,
          8,
          7,
          7,
          3,
          4,
          null,
          4,
          6,
          1,
          7,
          7,
          8,
          1,
          1,
          4,
          5,
          3,
          3,
          14,
          2,
          10,
          3,
          7,
          7,
          null,
          11,
          2,
          3,
          12,
          11,
          7,
          8,
          4,
          7,
          5,
          5,
          3,
          3,
          5,
          1,
          13,
          12,
          5,
          10,
          6,
          4,
          null,
          4,
          4,
          3,
          3,
          4,
          null,
          8,
          8,
          6,
          11,
          10,
          5,
          2,
          3,
          4,
          2,
          7,
          5,
          null,
          7,
          4,
          7,
          1,
          2,
          3,
          10,
          1,
          1,
          7,
          4,
          6,
          3,
          4,
          6,
          3,
          5,
          4,
          11,
          6,
          1,
          5,
          6,
          4,
          3,
          null,
          1,
          7,
          1,
          7,
          4,
          10,
          5,
          null,
          6,
          3,
          10,
          5,
          1,
          1,
          5,
          7,
          6,
          10,
          4,
          6,
          6,
          8,
          null,
          2,
          7,
          2,
          5,
          3,
          1,
          1,
          6,
          15,
          5,
          13,
          4,
          2,
          4,
          5,
          13,
          5,
          6,
          2,
          7,
          10,
          2,
          8,
          4,
          1,
          9,
          4,
          7,
          11,
          null,
          6,
          1,
          6,
          5,
          3,
          6,
          4,
          13,
          11,
          14,
          12,
          7,
          5,
          5,
          3,
          4,
          2,
          null,
          8,
          3,
          4,
          5,
          6,
          9,
          11,
          1,
          7,
          2,
          9,
          15,
          4,
          4,
          5,
          5,
          2,
          7,
          2,
          5,
          6,
          7,
          4,
          2,
          3,
          7,
          2,
          3,
          3,
          1,
          3,
          10,
          8,
          2,
          8,
          11,
          2,
          1,
          2,
          6,
          1,
          1,
          4,
          7,
          3,
          7,
          6,
          5,
          2,
          2,
          14,
          null,
          5,
          7,
          9,
          1,
          null,
          13,
          6,
          6,
          13,
          2,
          2,
          2,
          3,
          5,
          5,
          8,
          3,
          7,
          4,
          1,
          5,
          6,
          null,
          4,
          3,
          5,
          null,
          null,
          13,
          15,
          12,
          9,
          4,
          5,
          3,
          5,
          null,
          6,
          5,
          2,
          4,
          6,
          1,
          3,
          7,
          5,
          3,
          10,
          10,
          2,
          3,
          2,
          7,
          3,
          6,
          6,
          9,
          2,
          5,
          8,
          4,
          8,
          6,
          5,
          7,
          6,
          4,
          2,
          null,
          4,
          7,
          2,
          2,
          3,
          4,
          7,
          3,
          3,
          7,
          2,
          1,
          2,
          12,
          2,
          10,
          1,
          7,
          2,
          7,
          3,
          9,
          1,
          1,
          6,
          8,
          2,
          2,
          3,
          6,
          null,
          6,
          2,
          5,
          3,
          3,
          3,
          3,
          7,
          6,
          3,
          8,
          3,
          4,
          6,
          6,
          1,
          6,
          4,
          3,
          3,
          null,
          5,
          1,
          5,
          1,
          1,
          5,
          9,
          14,
          10,
          10,
          1,
          3,
          7,
          6,
          3,
          8,
          3,
          4,
          4,
          6,
          null,
          4,
          3,
          4,
          3,
          4,
          7,
          3,
          10,
          7,
          8,
          2,
          7,
          6,
          null,
          null,
          1,
          1,
          8,
          4,
          5,
          1,
          5,
          3,
          8,
          3,
          6,
          2,
          5,
          4,
          3,
          4,
          null,
          1,
          8,
          3,
          1,
          3,
          3,
          8,
          5,
          5,
          2,
          null,
          7,
          2,
          9,
          2,
          1,
          7,
          3,
          3,
          5,
          1,
          7,
          6,
          5,
          7,
          4,
          2,
          5,
          4,
          4,
          11,
          12,
          8,
          5,
          2,
          5,
          9,
          null,
          9,
          7,
          8,
          6,
          2,
          1,
          3,
          null,
          3,
          4,
          null,
          2,
          2,
          null,
          2,
          null,
          3,
          8,
          1,
          3,
          1,
          1,
          1,
          null,
          1,
          5,
          1,
          18,
          3,
          4,
          11,
          15,
          3,
          8,
          1,
          5,
          1,
          null,
          7,
          3,
          7,
          5,
          4,
          11,
          2,
          1,
          9,
          4,
          4,
          5,
          8,
          9,
          8,
          4,
          9,
          5,
          9,
          8,
          1,
          3,
          7,
          5,
          8,
          2,
          4,
          6,
          10,
          2,
          3,
          1,
          4,
          3,
          2,
          6,
          4,
          4,
          1,
          5,
          5,
          2,
          3,
          5,
          3,
          4,
          10,
          4,
          3,
          2,
          5,
          3,
          3,
          10,
          1,
          4,
          4,
          3,
          4,
          4,
          null,
          9,
          2,
          5,
          5,
          3,
          6,
          8,
          17,
          3,
          6,
          9,
          7,
          10,
          1,
          2,
          null,
          4,
          2,
          3,
          2,
          7,
          9,
          4,
          8,
          16,
          null,
          1,
          3,
          5,
          1,
          3,
          4,
          5,
          6,
          2,
          2,
          4,
          3,
          9,
          3,
          5,
          6,
          9,
          9,
          4,
          2,
          9,
          7,
          3,
          5,
          7,
          4,
          4,
          null,
          5,
          4,
          2,
          2,
          6,
          8,
          2,
          4,
          6,
          8,
          6,
          6,
          5,
          1,
          9,
          5,
          4,
          4,
          4,
          6,
          5,
          9,
          4,
          2,
          3,
          4,
          2,
          4,
          1,
          8,
          1,
          2,
          4,
          5,
          4,
          5,
          8,
          1,
          6,
          9,
          6,
          2,
          6,
          4,
          7,
          3,
          6,
          1,
          null,
          3,
          1,
          null,
          8,
          null,
          5,
          4,
          3,
          4,
          14,
          5,
          7,
          4,
          17,
          1,
          9,
          2,
          4,
          null,
          null,
          7,
          4,
          6,
          1,
          3,
          4,
          7,
          4,
          4,
          1,
          4,
          10,
          7,
          11,
          4,
          3,
          5,
          2,
          3,
          3,
          7,
          5,
          3,
          5,
          5,
          6,
          8,
          7,
          4,
          2,
          8,
          6,
          9,
          7,
          3,
          1,
          3,
          5,
          7,
          6,
          5,
          7,
          4,
          5,
          6,
          3,
          6,
          5,
          3,
          5,
          1,
          5,
          3,
          3,
          1,
          4,
          4,
          5,
          4,
          null,
          null,
          7,
          5,
          1,
          7,
          2,
          10,
          8,
          4,
          3,
          10,
          12,
          5,
          9,
          8,
          null,
          3,
          1,
          6,
          2,
          null,
          4,
          9,
          5,
          5,
          1,
          17,
          3,
          null,
          2,
          null,
          2,
          5,
          2,
          2,
          7,
          5,
          5,
          1,
          5,
          1,
          1,
          10,
          7,
          6,
          5,
          5,
          4,
          4,
          null,
          4,
          11,
          6,
          7,
          8,
          7,
          3,
          1,
          7,
          3,
          7,
          1,
          4,
          3,
          6,
          4,
          2,
          8,
          6,
          4,
          7,
          null,
          7,
          6,
          4,
          6,
          null,
          6,
          4,
          6,
          3,
          7,
          2,
          1,
          8,
          1,
          null,
          1,
          6,
          2,
          2,
          null,
          9,
          10,
          6,
          1,
          8,
          null,
          null,
          5,
          4,
          7,
          2,
          1,
          6,
          1,
          7,
          2,
          3,
          2,
          1,
          3,
          8,
          6,
          2,
          6,
          5,
          2,
          6,
          2,
          8,
          3,
          3,
          2,
          6,
          7,
          3,
          5,
          1,
          5,
          12,
          7,
          8,
          8,
          5,
          8,
          3,
          4,
          4,
          11,
          5,
          8,
          4,
          3,
          3,
          3,
          2,
          7,
          4,
          3,
          7,
          1,
          4,
          7,
          7,
          7,
          7,
          2,
          4,
          8,
          2,
          4,
          7,
          6,
          2,
          2,
          2,
          1,
          4,
          3,
          7,
          4,
          11,
          5,
          1,
          null,
          null,
          6,
          null,
          9,
          11,
          1,
          7,
          3,
          15,
          3,
          2,
          4,
          3,
          3,
          2,
          6,
          5,
          4,
          7,
          null,
          1,
          1,
          2,
          8,
          7,
          1,
          5,
          6,
          4,
          7,
          10,
          3,
          2,
          6,
          5,
          5,
          6,
          9,
          4,
          2,
          2,
          null,
          3,
          3,
          4,
          3,
          9,
          null,
          6,
          6,
          4,
          4,
          8,
          9,
          3,
          6,
          5,
          2,
          2,
          2,
          8,
          2,
          8,
          1,
          4,
          5,
          8,
          4,
          4,
          2,
          3,
          4,
          5,
          2,
          7,
          2,
          3,
          2,
          5,
          3,
          4,
          3,
          10,
          4,
          1,
          null,
          5,
          1,
          3,
          4,
          7,
          10,
          2,
          2,
          9,
          7,
          12,
          2,
          8,
          3,
          16,
          21,
          1,
          1,
          3,
          4,
          1,
          4,
          7,
          4,
          2,
          null,
          5,
          1,
          3,
          8,
          4,
          1,
          1,
          11,
          null,
          3,
          7,
          7,
          6,
          3,
          10,
          null,
          7,
          6,
          3,
          8,
          2,
          2,
          4,
          2,
          2,
          10,
          7,
          10,
          5,
          4,
          null,
          4,
          10,
          5,
          5,
          3,
          9,
          3,
          9,
          9,
          5,
          1,
          1,
          3,
          5,
          4,
          8,
          5,
          8,
          3,
          1,
          4,
          6,
          8,
          4,
          5,
          5,
          9,
          4,
          3,
          2,
          9,
          1,
          5,
          2,
          null,
          11,
          3,
          3,
          13,
          2,
          9,
          2,
          8,
          null,
          5,
          2,
          2,
          3,
          4,
          4,
          6,
          5,
          9,
          2,
          8,
          6,
          3,
          7,
          2,
          1,
          9,
          5,
          2,
          9,
          12,
          6,
          9,
          8,
          8,
          3,
          6,
          11,
          1,
          2,
          2,
          8,
          3,
          11,
          3,
          5,
          3,
          3,
          6,
          3,
          3,
          6,
          4,
          1,
          5,
          6,
          5,
          2,
          4,
          4,
          10,
          3,
          8,
          10,
          10,
          1,
          null,
          9,
          4,
          6,
          11,
          6,
          4,
          4,
          1,
          4,
          3,
          6,
          9,
          2,
          8,
          12,
          2,
          5,
          4,
          7,
          10,
          2,
          null,
          10,
          3,
          null,
          null,
          6,
          3,
          1,
          9,
          4,
          4,
          5,
          4,
          5,
          7,
          5,
          6,
          1,
          8,
          7,
          10,
          8,
          6,
          null,
          3,
          7,
          2,
          3,
          2,
          4,
          null,
          5,
          9,
          6,
          10,
          4,
          null,
          12,
          3,
          13,
          2,
          6,
          7,
          1,
          7,
          9,
          4,
          9,
          12,
          5,
          2,
          3,
          10,
          3,
          3,
          6,
          4,
          6,
          4,
          1,
          9,
          7,
          4,
          4,
          2,
          6,
          8,
          4,
          5,
          5,
          11,
          4,
          11,
          3,
          9,
          1,
          1,
          3,
          2,
          1,
          null,
          7,
          5,
          5,
          5,
          1,
          3,
          2,
          7,
          3,
          9,
          1,
          null,
          4,
          11,
          6,
          4,
          8,
          11,
          null,
          1,
          4,
          null,
          1,
          2,
          7,
          6,
          5,
          1,
          5,
          6,
          8,
          6,
          4,
          6,
          8,
          1,
          11,
          7,
          4,
          3,
          3,
          null,
          5,
          3,
          4,
          5,
          null,
          7,
          1,
          2,
          4,
          4,
          3,
          11,
          3,
          7,
          6,
          8,
          5,
          3,
          3,
          3,
          6,
          2,
          5,
          7,
          7,
          3,
          5,
          8,
          13,
          5,
          1,
          9,
          7,
          2,
          5,
          4,
          6,
          6,
          4,
          12,
          6,
          6,
          1,
          3,
          2,
          7,
          2,
          4,
          5,
          1,
          1,
          2,
          null,
          4,
          2,
          2,
          1,
          6,
          4,
          7,
          4,
          10,
          3,
          9,
          1,
          4,
          6,
          6,
          5,
          1,
          8,
          2,
          1,
          7,
          2,
          6,
          8
         ],
         "y0": " ",
         "yaxis": "y"
        }
       ],
       "layout": {
        "boxmode": "group",
        "legend": {
         "tracegroupgap": 0
        },
        "template": {
         "data": {
          "bar": [
           {
            "error_x": {
             "color": "#2a3f5f"
            },
            "error_y": {
             "color": "#2a3f5f"
            },
            "marker": {
             "line": {
              "color": "#E5ECF6",
              "width": 0.5
             },
             "pattern": {
              "fillmode": "overlay",
              "size": 10,
              "solidity": 0.2
             }
            },
            "type": "bar"
           }
          ],
          "barpolar": [
           {
            "marker": {
             "line": {
              "color": "#E5ECF6",
              "width": 0.5
             },
             "pattern": {
              "fillmode": "overlay",
              "size": 10,
              "solidity": 0.2
             }
            },
            "type": "barpolar"
           }
          ],
          "carpet": [
           {
            "aaxis": {
             "endlinecolor": "#2a3f5f",
             "gridcolor": "white",
             "linecolor": "white",
             "minorgridcolor": "white",
             "startlinecolor": "#2a3f5f"
            },
            "baxis": {
             "endlinecolor": "#2a3f5f",
             "gridcolor": "white",
             "linecolor": "white",
             "minorgridcolor": "white",
             "startlinecolor": "#2a3f5f"
            },
            "type": "carpet"
           }
          ],
          "choropleth": [
           {
            "colorbar": {
             "outlinewidth": 0,
             "ticks": ""
            },
            "type": "choropleth"
           }
          ],
          "contour": [
           {
            "colorbar": {
             "outlinewidth": 0,
             "ticks": ""
            },
            "colorscale": [
             [
              0,
              "#0d0887"
             ],
             [
              0.1111111111111111,
              "#46039f"
             ],
             [
              0.2222222222222222,
              "#7201a8"
             ],
             [
              0.3333333333333333,
              "#9c179e"
             ],
             [
              0.4444444444444444,
              "#bd3786"
             ],
             [
              0.5555555555555556,
              "#d8576b"
             ],
             [
              0.6666666666666666,
              "#ed7953"
             ],
             [
              0.7777777777777778,
              "#fb9f3a"
             ],
             [
              0.8888888888888888,
              "#fdca26"
             ],
             [
              1,
              "#f0f921"
             ]
            ],
            "type": "contour"
           }
          ],
          "contourcarpet": [
           {
            "colorbar": {
             "outlinewidth": 0,
             "ticks": ""
            },
            "type": "contourcarpet"
           }
          ],
          "heatmap": [
           {
            "colorbar": {
             "outlinewidth": 0,
             "ticks": ""
            },
            "colorscale": [
             [
              0,
              "#0d0887"
             ],
             [
              0.1111111111111111,
              "#46039f"
             ],
             [
              0.2222222222222222,
              "#7201a8"
             ],
             [
              0.3333333333333333,
              "#9c179e"
             ],
             [
              0.4444444444444444,
              "#bd3786"
             ],
             [
              0.5555555555555556,
              "#d8576b"
             ],
             [
              0.6666666666666666,
              "#ed7953"
             ],
             [
              0.7777777777777778,
              "#fb9f3a"
             ],
             [
              0.8888888888888888,
              "#fdca26"
             ],
             [
              1,
              "#f0f921"
             ]
            ],
            "type": "heatmap"
           }
          ],
          "heatmapgl": [
           {
            "colorbar": {
             "outlinewidth": 0,
             "ticks": ""
            },
            "colorscale": [
             [
              0,
              "#0d0887"
             ],
             [
              0.1111111111111111,
              "#46039f"
             ],
             [
              0.2222222222222222,
              "#7201a8"
             ],
             [
              0.3333333333333333,
              "#9c179e"
             ],
             [
              0.4444444444444444,
              "#bd3786"
             ],
             [
              0.5555555555555556,
              "#d8576b"
             ],
             [
              0.6666666666666666,
              "#ed7953"
             ],
             [
              0.7777777777777778,
              "#fb9f3a"
             ],
             [
              0.8888888888888888,
              "#fdca26"
             ],
             [
              1,
              "#f0f921"
             ]
            ],
            "type": "heatmapgl"
           }
          ],
          "histogram": [
           {
            "marker": {
             "pattern": {
              "fillmode": "overlay",
              "size": 10,
              "solidity": 0.2
             }
            },
            "type": "histogram"
           }
          ],
          "histogram2d": [
           {
            "colorbar": {
             "outlinewidth": 0,
             "ticks": ""
            },
            "colorscale": [
             [
              0,
              "#0d0887"
             ],
             [
              0.1111111111111111,
              "#46039f"
             ],
             [
              0.2222222222222222,
              "#7201a8"
             ],
             [
              0.3333333333333333,
              "#9c179e"
             ],
             [
              0.4444444444444444,
              "#bd3786"
             ],
             [
              0.5555555555555556,
              "#d8576b"
             ],
             [
              0.6666666666666666,
              "#ed7953"
             ],
             [
              0.7777777777777778,
              "#fb9f3a"
             ],
             [
              0.8888888888888888,
              "#fdca26"
             ],
             [
              1,
              "#f0f921"
             ]
            ],
            "type": "histogram2d"
           }
          ],
          "histogram2dcontour": [
           {
            "colorbar": {
             "outlinewidth": 0,
             "ticks": ""
            },
            "colorscale": [
             [
              0,
              "#0d0887"
             ],
             [
              0.1111111111111111,
              "#46039f"
             ],
             [
              0.2222222222222222,
              "#7201a8"
             ],
             [
              0.3333333333333333,
              "#9c179e"
             ],
             [
              0.4444444444444444,
              "#bd3786"
             ],
             [
              0.5555555555555556,
              "#d8576b"
             ],
             [
              0.6666666666666666,
              "#ed7953"
             ],
             [
              0.7777777777777778,
              "#fb9f3a"
             ],
             [
              0.8888888888888888,
              "#fdca26"
             ],
             [
              1,
              "#f0f921"
             ]
            ],
            "type": "histogram2dcontour"
           }
          ],
          "mesh3d": [
           {
            "colorbar": {
             "outlinewidth": 0,
             "ticks": ""
            },
            "type": "mesh3d"
           }
          ],
          "parcoords": [
           {
            "line": {
             "colorbar": {
              "outlinewidth": 0,
              "ticks": ""
             }
            },
            "type": "parcoords"
           }
          ],
          "pie": [
           {
            "automargin": true,
            "type": "pie"
           }
          ],
          "scatter": [
           {
            "fillpattern": {
             "fillmode": "overlay",
             "size": 10,
             "solidity": 0.2
            },
            "type": "scatter"
           }
          ],
          "scatter3d": [
           {
            "line": {
             "colorbar": {
              "outlinewidth": 0,
              "ticks": ""
             }
            },
            "marker": {
             "colorbar": {
              "outlinewidth": 0,
              "ticks": ""
             }
            },
            "type": "scatter3d"
           }
          ],
          "scattercarpet": [
           {
            "marker": {
             "colorbar": {
              "outlinewidth": 0,
              "ticks": ""
             }
            },
            "type": "scattercarpet"
           }
          ],
          "scattergeo": [
           {
            "marker": {
             "colorbar": {
              "outlinewidth": 0,
              "ticks": ""
             }
            },
            "type": "scattergeo"
           }
          ],
          "scattergl": [
           {
            "marker": {
             "colorbar": {
              "outlinewidth": 0,
              "ticks": ""
             }
            },
            "type": "scattergl"
           }
          ],
          "scattermapbox": [
           {
            "marker": {
             "colorbar": {
              "outlinewidth": 0,
              "ticks": ""
             }
            },
            "type": "scattermapbox"
           }
          ],
          "scatterpolar": [
           {
            "marker": {
             "colorbar": {
              "outlinewidth": 0,
              "ticks": ""
             }
            },
            "type": "scatterpolar"
           }
          ],
          "scatterpolargl": [
           {
            "marker": {
             "colorbar": {
              "outlinewidth": 0,
              "ticks": ""
             }
            },
            "type": "scatterpolargl"
           }
          ],
          "scatterternary": [
           {
            "marker": {
             "colorbar": {
              "outlinewidth": 0,
              "ticks": ""
             }
            },
            "type": "scatterternary"
           }
          ],
          "surface": [
           {
            "colorbar": {
             "outlinewidth": 0,
             "ticks": ""
            },
            "colorscale": [
             [
              0,
              "#0d0887"
             ],
             [
              0.1111111111111111,
              "#46039f"
             ],
             [
              0.2222222222222222,
              "#7201a8"
             ],
             [
              0.3333333333333333,
              "#9c179e"
             ],
             [
              0.4444444444444444,
              "#bd3786"
             ],
             [
              0.5555555555555556,
              "#d8576b"
             ],
             [
              0.6666666666666666,
              "#ed7953"
             ],
             [
              0.7777777777777778,
              "#fb9f3a"
             ],
             [
              0.8888888888888888,
              "#fdca26"
             ],
             [
              1,
              "#f0f921"
             ]
            ],
            "type": "surface"
           }
          ],
          "table": [
           {
            "cells": {
             "fill": {
              "color": "#EBF0F8"
             },
             "line": {
              "color": "white"
             }
            },
            "header": {
             "fill": {
              "color": "#C8D4E3"
             },
             "line": {
              "color": "white"
             }
            },
            "type": "table"
           }
          ]
         },
         "layout": {
          "annotationdefaults": {
           "arrowcolor": "#2a3f5f",
           "arrowhead": 0,
           "arrowwidth": 1
          },
          "autotypenumbers": "strict",
          "coloraxis": {
           "colorbar": {
            "outlinewidth": 0,
            "ticks": ""
           }
          },
          "colorscale": {
           "diverging": [
            [
             0,
             "#8e0152"
            ],
            [
             0.1,
             "#c51b7d"
            ],
            [
             0.2,
             "#de77ae"
            ],
            [
             0.3,
             "#f1b6da"
            ],
            [
             0.4,
             "#fde0ef"
            ],
            [
             0.5,
             "#f7f7f7"
            ],
            [
             0.6,
             "#e6f5d0"
            ],
            [
             0.7,
             "#b8e186"
            ],
            [
             0.8,
             "#7fbc41"
            ],
            [
             0.9,
             "#4d9221"
            ],
            [
             1,
             "#276419"
            ]
           ],
           "sequential": [
            [
             0,
             "#0d0887"
            ],
            [
             0.1111111111111111,
             "#46039f"
            ],
            [
             0.2222222222222222,
             "#7201a8"
            ],
            [
             0.3333333333333333,
             "#9c179e"
            ],
            [
             0.4444444444444444,
             "#bd3786"
            ],
            [
             0.5555555555555556,
             "#d8576b"
            ],
            [
             0.6666666666666666,
             "#ed7953"
            ],
            [
             0.7777777777777778,
             "#fb9f3a"
            ],
            [
             0.8888888888888888,
             "#fdca26"
            ],
            [
             1,
             "#f0f921"
            ]
           ],
           "sequentialminus": [
            [
             0,
             "#0d0887"
            ],
            [
             0.1111111111111111,
             "#46039f"
            ],
            [
             0.2222222222222222,
             "#7201a8"
            ],
            [
             0.3333333333333333,
             "#9c179e"
            ],
            [
             0.4444444444444444,
             "#bd3786"
            ],
            [
             0.5555555555555556,
             "#d8576b"
            ],
            [
             0.6666666666666666,
             "#ed7953"
            ],
            [
             0.7777777777777778,
             "#fb9f3a"
            ],
            [
             0.8888888888888888,
             "#fdca26"
            ],
            [
             1,
             "#f0f921"
            ]
           ]
          },
          "colorway": [
           "#636efa",
           "#EF553B",
           "#00cc96",
           "#ab63fa",
           "#FFA15A",
           "#19d3f3",
           "#FF6692",
           "#B6E880",
           "#FF97FF",
           "#FECB52"
          ],
          "font": {
           "color": "#2a3f5f"
          },
          "geo": {
           "bgcolor": "white",
           "lakecolor": "white",
           "landcolor": "#E5ECF6",
           "showlakes": true,
           "showland": true,
           "subunitcolor": "white"
          },
          "hoverlabel": {
           "align": "left"
          },
          "hovermode": "closest",
          "mapbox": {
           "style": "light"
          },
          "paper_bgcolor": "white",
          "plot_bgcolor": "#E5ECF6",
          "polar": {
           "angularaxis": {
            "gridcolor": "white",
            "linecolor": "white",
            "ticks": ""
           },
           "bgcolor": "#E5ECF6",
           "radialaxis": {
            "gridcolor": "white",
            "linecolor": "white",
            "ticks": ""
           }
          },
          "scene": {
           "xaxis": {
            "backgroundcolor": "#E5ECF6",
            "gridcolor": "white",
            "gridwidth": 2,
            "linecolor": "white",
            "showbackground": true,
            "ticks": "",
            "zerolinecolor": "white"
           },
           "yaxis": {
            "backgroundcolor": "#E5ECF6",
            "gridcolor": "white",
            "gridwidth": 2,
            "linecolor": "white",
            "showbackground": true,
            "ticks": "",
            "zerolinecolor": "white"
           },
           "zaxis": {
            "backgroundcolor": "#E5ECF6",
            "gridcolor": "white",
            "gridwidth": 2,
            "linecolor": "white",
            "showbackground": true,
            "ticks": "",
            "zerolinecolor": "white"
           }
          },
          "shapedefaults": {
           "line": {
            "color": "#2a3f5f"
           }
          },
          "ternary": {
           "aaxis": {
            "gridcolor": "white",
            "linecolor": "white",
            "ticks": ""
           },
           "baxis": {
            "gridcolor": "white",
            "linecolor": "white",
            "ticks": ""
           },
           "bgcolor": "#E5ECF6",
           "caxis": {
            "gridcolor": "white",
            "linecolor": "white",
            "ticks": ""
           }
          },
          "title": {
           "x": 0.05
          },
          "xaxis": {
           "automargin": true,
           "gridcolor": "white",
           "linecolor": "white",
           "ticks": "",
           "title": {
            "standoff": 15
           },
           "zerolinecolor": "white",
           "zerolinewidth": 2
          },
          "yaxis": {
           "automargin": true,
           "gridcolor": "white",
           "linecolor": "white",
           "ticks": "",
           "title": {
            "standoff": 15
           },
           "zerolinecolor": "white",
           "zerolinewidth": 2
          }
         }
        },
        "title": {
         "text": "Yrs of Experience Distribution by Position"
        },
        "xaxis": {
         "anchor": "y",
         "categoryarray": [
          "RET",
          "RB",
          "CB",
          "S",
          "ST",
          "WR",
          "EDGE",
          "DT",
          "LS",
          "P",
          "T",
          "LB",
          "TE",
          "G",
          "K",
          "FB",
          "C",
          "QB"
         ],
         "categoryorder": "array",
         "domain": [
          0,
          1
         ],
         "title": {
          "text": "Pos"
         }
        },
        "yaxis": {
         "anchor": "x",
         "domain": [
          0,
          1
         ],
         "title": {
          "text": "Yrs"
         }
        }
       }
      }
     },
     "metadata": {},
     "output_type": "display_data"
    }
   ],
   "source": [
    "# want to sort in order of 25% values\n",
    "pos_order = (\n",
    "    df.groupby('Pos')['Yrs']\n",
    "    .quantile(0.5)\n",
    "    .sort_values()\n",
    "    .index\n",
    ")\n",
    "\n",
    "fig = px.box(\n",
    "    df,\n",
    "    x='Pos',\n",
    "    y='Yrs',\n",
    "    title='Yrs of Experience Distribution by Position',\n",
    "    hover_data=['Player', 'Year'],  # Add extra info to hover tooltip\n",
    "    category_orders={'Pos': pos_order}  # enforces order on the x-axis\n",
    ")\n",
    "\n",
    "fig.show()"
   ]
  },
  {
   "cell_type": "code",
   "execution_count": 10,
   "metadata": {},
   "outputs": [
    {
     "data": {
      "application/vnd.plotly.v1+json": {
       "config": {
        "plotlyServerURL": "https://plot.ly"
       },
       "data": [
        {
         "name": "C",
         "showlegend": false,
         "type": "histogram",
         "x": [
          6,
          6,
          2,
          5,
          7,
          3,
          7,
          8,
          3,
          9,
          5,
          8,
          10,
          6,
          7,
          6,
          8,
          7,
          8,
          9,
          4,
          13,
          5,
          14,
          8,
          3,
          7,
          2,
          10,
          4,
          12,
          6,
          null,
          1,
          5,
          6,
          4,
          4,
          2,
          3,
          7,
          6,
          4,
          2,
          1,
          8,
          4,
          8,
          2,
          4,
          6,
          10,
          3,
          5,
          7,
          6,
          8,
          7,
          4,
          7,
          8,
          7,
          8,
          8,
          5,
          6,
          9,
          4,
          2,
          10,
          null,
          7,
          11,
          1,
          12,
          5,
          2,
          3,
          6
         ],
         "xaxis": "x",
         "xbins": {
          "end": 22,
          "size": 2,
          "start": 0
         },
         "yaxis": "y"
        },
        {
         "name": "CB",
         "showlegend": false,
         "type": "histogram",
         "x": [
          2,
          3,
          2,
          1,
          null,
          8,
          4,
          3,
          10,
          7,
          4,
          9,
          8,
          1,
          5,
          4,
          7,
          8,
          10,
          4,
          8,
          4,
          5,
          4,
          4,
          7,
          5,
          1,
          2,
          5,
          7,
          6,
          1,
          5,
          8,
          1,
          7,
          3,
          4,
          8,
          9,
          3,
          4,
          1,
          4,
          9,
          8,
          5,
          2,
          10,
          9,
          2,
          11,
          6,
          6,
          2,
          1,
          3,
          7,
          7,
          null,
          11,
          2,
          3,
          12,
          11,
          4,
          5,
          13,
          5,
          6,
          2,
          7,
          9,
          1,
          null,
          13,
          6,
          6,
          13,
          2,
          2,
          3,
          6,
          null,
          6,
          2,
          5,
          3,
          7,
          3,
          3,
          5,
          1,
          7,
          6,
          5,
          4,
          3,
          4,
          4,
          null,
          9,
          8,
          1,
          2,
          4,
          5,
          4,
          5,
          8,
          1,
          4,
          4,
          5,
          4,
          null,
          null,
          7,
          4,
          6,
          3,
          7,
          2,
          1,
          8,
          7,
          2,
          4,
          8,
          2,
          4,
          7,
          6,
          2,
          2,
          4,
          4,
          2,
          3,
          4,
          5,
          2,
          5,
          1,
          1,
          3,
          5,
          4,
          8,
          1,
          null,
          9,
          4,
          6,
          11,
          6,
          1,
          1,
          3,
          2,
          1,
          null,
          7,
          5,
          5,
          3,
          2,
          7,
          2,
          4,
          5,
          1,
          1,
          2,
          null
         ],
         "xaxis": "x2",
         "xbins": {
          "end": 22,
          "size": 2,
          "start": 0
         },
         "yaxis": "y2"
        },
        {
         "name": "DT",
         "showlegend": false,
         "type": "histogram",
         "x": [
          8,
          5,
          4,
          6,
          3,
          10,
          4,
          6,
          7,
          7,
          11,
          1,
          2,
          7,
          6,
          2,
          2,
          7,
          2,
          6,
          3,
          1,
          5,
          3,
          7,
          6,
          4,
          1,
          3,
          8,
          5,
          2,
          4,
          4,
          5,
          3,
          10,
          6,
          5,
          7,
          3,
          2,
          6,
          3,
          4,
          5,
          4,
          5,
          10,
          7,
          4,
          null,
          4,
          6,
          1,
          7,
          7,
          10,
          5,
          1,
          1,
          5,
          7,
          6,
          10,
          4,
          6,
          2,
          8,
          11,
          2,
          1,
          2,
          6,
          3,
          3,
          7,
          2,
          1,
          2,
          12,
          2,
          4,
          3,
          4,
          null,
          1,
          8,
          3,
          1,
          1,
          5,
          5,
          2,
          3,
          5,
          3,
          2,
          4,
          6,
          8,
          6,
          6,
          3,
          5,
          7,
          6,
          5,
          7,
          4,
          6,
          4,
          2,
          8,
          6,
          5,
          8,
          4,
          3,
          3,
          3,
          6,
          4,
          4,
          8,
          9,
          2,
          2,
          7,
          10,
          5,
          4,
          8,
          3,
          11,
          6,
          3,
          3,
          6,
          4,
          3,
          3,
          9,
          7,
          4,
          4,
          5,
          8,
          13,
          5,
          1,
          9
         ],
         "xaxis": "x3",
         "xbins": {
          "end": 22,
          "size": 2,
          "start": 0
         },
         "yaxis": "y3"
        },
        {
         "name": "EDGE",
         "showlegend": false,
         "type": "histogram",
         "x": [
          10,
          7,
          3,
          5,
          9,
          11,
          6,
          4,
          1,
          8,
          7,
          4,
          9,
          9,
          2,
          5,
          6,
          3,
          7,
          2,
          1,
          7,
          7,
          8,
          10,
          5,
          1,
          3,
          2,
          5,
          2,
          3,
          2,
          7,
          5,
          7,
          3,
          2,
          4,
          12,
          null,
          6,
          4,
          9,
          4,
          4,
          5,
          1,
          6,
          3,
          1,
          3,
          8,
          1,
          5,
          6,
          2,
          10,
          5,
          7,
          2,
          4,
          3,
          8,
          2,
          6,
          4,
          5,
          6,
          3,
          9,
          5,
          5,
          7,
          5,
          8,
          4,
          3,
          7,
          6,
          4,
          3,
          2,
          6,
          null,
          7,
          2,
          5,
          8,
          10,
          5,
          5,
          9,
          8,
          7,
          7,
          3,
          8,
          1,
          1,
          4,
          5,
          7,
          1,
          7,
          4,
          10,
          5,
          null,
          6,
          3,
          6,
          8,
          null,
          2,
          7,
          2,
          5,
          3,
          1,
          1,
          3,
          10,
          8,
          1,
          1,
          4,
          7,
          3,
          7,
          6,
          5,
          2,
          2,
          3,
          4,
          7,
          10,
          1,
          7,
          2,
          7,
          3,
          8,
          3,
          6,
          2,
          5,
          3,
          3,
          8,
          5,
          5,
          1,
          4,
          3,
          2,
          6,
          4,
          4,
          4,
          10,
          4,
          3,
          2,
          2,
          2,
          6,
          8,
          5,
          1,
          9,
          5,
          5,
          7,
          4,
          6,
          9,
          7,
          3,
          1,
          5,
          6,
          3,
          6,
          7,
          3,
          7,
          1,
          4,
          3,
          4,
          7,
          null,
          7,
          8,
          3,
          4,
          4,
          11,
          2,
          7,
          4,
          3,
          3,
          4,
          3,
          9,
          null,
          6,
          3,
          6,
          5,
          2,
          4,
          2,
          2,
          10,
          null,
          4,
          10,
          5,
          3,
          5,
          3,
          3,
          1,
          5,
          6,
          5,
          2,
          6,
          4,
          6,
          4,
          1,
          2,
          6,
          8,
          4,
          7,
          7,
          3,
          5,
          7,
          2,
          5,
          4
         ],
         "xaxis": "x4",
         "xbins": {
          "end": 22,
          "size": 2,
          "start": 0
         },
         "yaxis": "y4"
        },
        {
         "name": "FB",
         "showlegend": false,
         "type": "histogram",
         "x": [
          9,
          9,
          11,
          12,
          13,
          3,
          2,
          14,
          12,
          1,
          3,
          4,
          5,
          2,
          7,
          6,
          6,
          7,
          5,
          null,
          8,
          3,
          4,
          5,
          2,
          4,
          3,
          8,
          3,
          3,
          7,
          3,
          4,
          9,
          10,
          8,
          6,
          null,
          11,
          7
         ],
         "xaxis": "x5",
         "xbins": {
          "end": 22,
          "size": 2,
          "start": 0
         },
         "yaxis": "y5"
        },
        {
         "name": "G",
         "showlegend": false,
         "type": "histogram",
         "x": [
          5,
          17,
          6,
          11,
          6,
          6,
          3,
          7,
          15,
          8,
          7,
          9,
          4,
          6,
          8,
          10,
          2,
          6,
          5,
          4,
          6,
          11,
          3,
          7,
          5,
          4,
          7,
          12,
          7,
          5,
          2,
          8,
          13,
          6,
          2,
          9,
          3,
          6,
          7,
          4,
          10,
          5,
          1,
          3,
          8,
          4,
          11,
          6,
          7,
          5,
          7,
          4,
          6,
          2,
          5,
          7,
          10,
          2,
          4,
          6,
          3,
          5,
          4,
          11,
          6,
          3,
          7,
          2,
          5,
          6,
          7,
          2,
          8,
          4,
          8,
          6,
          5,
          7,
          null,
          2,
          7,
          6,
          null,
          null,
          1,
          5,
          9,
          8,
          1,
          3,
          7,
          5,
          4,
          2,
          9,
          7,
          4,
          4,
          3,
          3,
          7,
          5,
          3,
          5,
          5,
          4,
          null,
          4,
          11,
          6,
          3,
          3,
          5,
          1,
          5,
          12,
          7,
          2,
          6,
          5,
          5,
          2,
          7,
          7,
          6,
          3,
          6,
          3,
          8,
          8,
          3,
          6,
          2,
          1,
          7,
          9,
          4,
          9,
          3,
          6,
          8,
          5,
          3,
          3
         ],
         "xaxis": "x6",
         "xbins": {
          "end": 22,
          "size": 2,
          "start": 0
         },
         "yaxis": "y6"
        },
        {
         "name": "K",
         "showlegend": false,
         "type": "histogram",
         "x": [
          9,
          1,
          3,
          8,
          6,
          4,
          5,
          9,
          8,
          6,
          5,
          4,
          15,
          1,
          2,
          8,
          2,
          8,
          null,
          2,
          20,
          9,
          4,
          5,
          11,
          12,
          5,
          8,
          8,
          13,
          11,
          null,
          13,
          6,
          6,
          1,
          5,
          12,
          8,
          18,
          3,
          9,
          4,
          4,
          14,
          10,
          12,
          5,
          5,
          2,
          1,
          6,
          4,
          7,
          3,
          2,
          8,
          3,
          4,
          3,
          9,
          2,
          4,
          7,
          10,
          null,
          4,
          11,
          6,
          9,
          1
         ],
         "xaxis": "x7",
         "xbins": {
          "end": 22,
          "size": 2,
          "start": 0
         },
         "yaxis": "y7"
        },
        {
         "name": "LB",
         "showlegend": false,
         "type": "histogram",
         "x": [
          4,
          5,
          2,
          10,
          4,
          5,
          2,
          3,
          4,
          null,
          5,
          3,
          7,
          1,
          5,
          1,
          6,
          1,
          6,
          4,
          2,
          7,
          6,
          2,
          2,
          6,
          7,
          7,
          3,
          7,
          3,
          3,
          4,
          5,
          8,
          8,
          8,
          6,
          7,
          9,
          8,
          6,
          3,
          6,
          9,
          6,
          5,
          2,
          6,
          2,
          10,
          7,
          4,
          6,
          10,
          2,
          4,
          null,
          1,
          7,
          1,
          11,
          12,
          1,
          2,
          2,
          2,
          13,
          3,
          3,
          14,
          2,
          10,
          1,
          6,
          15,
          5,
          13,
          4,
          2,
          2,
          2,
          14,
          null,
          5,
          7,
          3,
          9,
          1,
          1,
          6,
          8,
          2,
          null,
          7,
          2,
          9,
          2,
          1,
          5,
          3,
          3,
          10,
          1,
          4,
          4,
          4,
          4,
          6,
          5,
          9,
          4,
          2,
          3,
          4,
          2,
          4,
          1,
          5,
          3,
          5,
          1,
          5,
          3,
          3,
          6,
          4,
          6,
          null,
          6,
          7,
          1,
          4,
          7,
          7,
          7,
          2,
          2,
          8,
          2,
          8,
          1,
          4,
          5,
          8,
          5,
          3,
          9,
          3,
          9,
          9,
          4,
          4,
          10,
          3,
          8,
          10,
          10,
          5,
          5,
          11,
          4,
          11,
          3,
          9,
          6,
          6,
          4,
          12,
          6,
          6,
          1
         ],
         "xaxis": "x8",
         "xbins": {
          "end": 22,
          "size": 2,
          "start": 0
         },
         "yaxis": "y8"
        },
        {
         "name": "QB",
         "showlegend": false,
         "type": "histogram",
         "x": [
          2,
          13,
          1,
          10,
          3,
          14,
          15,
          11,
          8,
          5,
          12,
          6,
          5,
          5,
          7,
          6,
          5,
          8,
          7,
          16,
          10,
          7,
          11,
          8,
          5,
          10,
          2,
          9,
          5,
          6,
          11,
          10,
          14,
          12,
          7,
          15,
          12,
          9,
          9,
          14,
          10,
          10,
          4,
          11,
          15,
          8,
          16,
          17,
          1,
          9,
          1,
          17,
          1,
          7,
          15,
          3,
          2,
          16,
          21,
          1,
          5,
          2,
          2,
          5,
          7,
          5,
          6,
          8,
          6,
          4
         ],
         "xaxis": "x9",
         "xbins": {
          "end": 22,
          "size": 2,
          "start": 0
         },
         "yaxis": "y9"
        },
        {
         "name": "RB",
         "showlegend": false,
         "type": "histogram",
         "x": [
          6,
          4,
          1,
          7,
          7,
          7,
          6,
          4,
          3,
          1,
          4,
          3,
          5,
          11,
          5,
          2,
          1,
          2,
          5,
          3,
          6,
          1,
          5,
          2,
          3,
          9,
          4,
          5,
          7,
          null,
          4,
          5,
          8,
          1,
          2,
          6,
          2,
          3,
          5,
          2,
          1,
          6,
          5,
          null,
          3,
          9,
          1,
          4,
          1,
          null,
          8,
          2,
          6,
          2,
          1,
          2,
          5,
          3,
          1,
          2,
          1,
          4,
          3,
          6,
          5,
          2,
          3,
          4,
          2,
          5,
          5,
          3,
          4,
          2,
          null,
          4,
          5,
          3,
          5,
          null,
          6,
          1,
          3,
          7,
          6,
          3,
          8,
          1,
          5,
          1,
          null,
          7,
          null,
          1,
          3,
          5,
          1,
          2,
          4,
          null,
          null,
          3,
          null,
          2,
          null,
          2,
          1,
          1,
          2,
          3,
          2,
          1,
          2,
          4,
          3,
          3,
          2,
          1,
          3,
          4,
          1,
          4,
          8,
          3,
          4,
          4,
          6,
          5,
          6,
          1,
          8,
          7,
          6,
          8,
          1
         ],
         "xaxis": "x10",
         "xbins": {
          "end": 22,
          "size": 2,
          "start": 0
         },
         "yaxis": "y10"
        },
        {
         "name": "RET",
         "showlegend": false,
         "type": "histogram",
         "x": [
          2,
          2,
          1,
          null,
          1,
          2,
          1,
          2,
          1,
          null,
          2,
          null,
          2,
          1,
          4,
          null,
          null,
          4,
          null,
          4,
          4,
          null,
          6,
          1,
          6,
          5,
          4,
          1,
          5,
          6,
          null,
          3,
          3,
          null,
          5,
          9,
          null,
          9,
          7,
          8,
          10,
          1,
          2,
          null,
          4,
          2,
          6,
          1,
          null,
          3,
          1,
          null,
          null,
          3,
          1,
          6,
          2,
          1,
          8,
          null,
          null,
          5,
          null,
          null,
          6,
          null,
          9,
          1,
          3,
          4,
          7,
          10,
          2,
          1,
          5,
          2,
          null,
          11,
          null,
          null,
          6,
          3,
          1,
          9,
          4,
          null,
          1,
          4,
          null,
          1,
          2,
          1,
          8,
          2,
          1,
          7
         ],
         "xaxis": "x11",
         "xbins": {
          "end": 22,
          "size": 2,
          "start": 0
         },
         "yaxis": "y11"
        },
        {
         "name": "S",
         "showlegend": false,
         "type": "histogram",
         "x": [
          7,
          3,
          7,
          13,
          7,
          1,
          4,
          5,
          8,
          7,
          5,
          9,
          6,
          15,
          5,
          4,
          1,
          1,
          9,
          5,
          10,
          2,
          8,
          1,
          2,
          2,
          8,
          1,
          5,
          4,
          5,
          10,
          1,
          3,
          5,
          10,
          5,
          4,
          3,
          6,
          5,
          7,
          3,
          5,
          4,
          3,
          12,
          8,
          13,
          7,
          null,
          4,
          7,
          8,
          4,
          7,
          5,
          5,
          3,
          3,
          5,
          1,
          13,
          10,
          2,
          8,
          4,
          1,
          9,
          4,
          2,
          2,
          2,
          3,
          5,
          5,
          3,
          3,
          3,
          7,
          6,
          3,
          8,
          3,
          4,
          7,
          4,
          2,
          5,
          4,
          4,
          2,
          5,
          5,
          3,
          6,
          8,
          17,
          1,
          6,
          9,
          6,
          2,
          6,
          5,
          1,
          7,
          2,
          10,
          8,
          4,
          3,
          1,
          null,
          1,
          6,
          2,
          2,
          1,
          4,
          3,
          7,
          7,
          2,
          3,
          2,
          5,
          3,
          4,
          3,
          5,
          8,
          3,
          1,
          4,
          6,
          8,
          4,
          5,
          null,
          4,
          4,
          1,
          4,
          3,
          6,
          9,
          2,
          5,
          1,
          3,
          2,
          7,
          4,
          2,
          2,
          1,
          6,
          4,
          7
         ],
         "xaxis": "x12",
         "xbins": {
          "end": 22,
          "size": 2,
          "start": 0
         },
         "yaxis": "y12"
        },
        {
         "name": "ST",
         "showlegend": false,
         "type": "histogram",
         "x": [
          3,
          3,
          4,
          4,
          5,
          9,
          6,
          2,
          4,
          1,
          3,
          3,
          4,
          null,
          3,
          6,
          4,
          4,
          3,
          5,
          null,
          1,
          5,
          1,
          6,
          2,
          1,
          3,
          null,
          3,
          4,
          null,
          2,
          2,
          null,
          2,
          null,
          3,
          8,
          1,
          3,
          1,
          1,
          1,
          null,
          1,
          5,
          1,
          3,
          2,
          7,
          8,
          null,
          5,
          4,
          3,
          null,
          4,
          9,
          4,
          7,
          2,
          11,
          1,
          2,
          9,
          7,
          12,
          3,
          3,
          13,
          2,
          4,
          5,
          4,
          7,
          6,
          5,
          1,
          5,
          2,
          6,
          8
         ],
         "xaxis": "x13",
         "xbins": {
          "end": 22,
          "size": 2,
          "start": 0
         },
         "yaxis": "y13"
        },
        {
         "name": "T",
         "showlegend": false,
         "type": "histogram",
         "x": [
          2,
          4,
          3,
          7,
          7,
          10,
          8,
          4,
          5,
          4,
          1,
          9,
          6,
          4,
          9,
          5,
          7,
          7,
          10,
          6,
          6,
          8,
          7,
          11,
          7,
          8,
          6,
          6,
          8,
          9,
          12,
          8,
          9,
          1,
          10,
          10,
          10,
          6,
          3,
          9,
          5,
          3,
          5,
          null,
          2,
          4,
          1,
          11,
          2,
          1,
          1,
          5,
          6,
          4,
          10,
          3,
          4,
          2,
          3,
          6,
          7,
          1,
          9,
          3,
          7,
          4,
          6,
          3,
          4,
          null,
          1,
          4,
          4,
          5,
          5,
          2,
          3,
          3,
          3,
          6,
          6,
          9,
          2,
          5,
          4,
          7,
          3,
          10,
          7,
          8,
          1,
          5,
          8,
          4,
          9,
          5,
          2,
          3,
          3,
          5,
          6,
          9,
          9,
          null,
          5,
          4,
          4,
          10,
          7,
          11,
          4,
          3,
          5,
          2,
          2,
          8,
          10,
          7,
          6,
          5,
          5,
          4,
          1,
          8,
          3,
          3,
          2,
          6,
          7,
          4,
          7,
          10,
          3,
          null,
          3,
          1,
          1,
          11,
          null,
          3,
          8,
          2,
          9,
          12,
          6,
          9,
          2,
          12,
          3,
          13,
          2,
          6,
          7,
          10,
          4,
          4,
          3,
          11,
          3,
          7,
          2
         ],
         "xaxis": "x14",
         "xbins": {
          "end": 22,
          "size": 2,
          "start": 0
         },
         "yaxis": "y14"
        },
        {
         "name": "TE",
         "showlegend": false,
         "type": "histogram",
         "x": [
          7,
          3,
          3,
          5,
          4,
          12,
          5,
          null,
          2,
          6,
          2,
          7,
          1,
          1,
          2,
          1,
          3,
          5,
          9,
          4,
          4,
          10,
          11,
          5,
          6,
          6,
          3,
          6,
          7,
          7,
          4,
          1,
          1,
          2,
          9,
          15,
          3,
          2,
          7,
          4,
          7,
          5,
          8,
          9,
          3,
          9,
          7,
          4,
          4,
          1,
          5,
          1,
          5,
          2,
          6,
          7,
          1,
          5,
          3,
          8,
          4,
          9,
          5,
          6,
          10,
          4,
          null,
          null,
          7
         ],
         "xaxis": "x15",
         "xbins": {
          "end": 22,
          "size": 2,
          "start": 0
         },
         "yaxis": "y15"
        },
        {
         "name": "WR",
         "showlegend": false,
         "type": "histogram",
         "x": [
          3,
          2,
          4,
          2,
          4,
          5,
          8,
          null,
          5,
          2,
          5,
          8,
          5,
          6,
          6,
          17,
          6,
          1,
          6,
          1,
          4,
          4,
          5,
          4,
          3,
          5,
          7,
          2,
          2,
          6,
          8,
          2,
          8,
          8,
          3,
          4,
          null,
          4,
          3,
          2,
          4,
          9,
          4,
          5,
          10,
          7,
          7,
          3,
          9,
          11,
          2,
          6,
          3,
          3,
          5,
          4,
          4,
          3,
          7,
          6,
          5,
          5,
          8,
          4,
          2,
          5,
          3,
          5,
          7,
          9,
          7,
          3,
          3,
          7,
          4,
          7,
          1,
          2,
          3,
          10,
          5,
          6,
          9,
          11,
          1,
          7,
          6,
          1,
          3,
          7,
          5,
          3,
          10,
          10,
          2,
          4,
          4,
          6,
          null,
          4,
          3,
          4,
          3,
          5,
          4,
          11,
          2,
          1,
          9,
          4,
          4,
          5,
          6,
          2,
          2,
          4,
          7,
          4,
          6,
          1,
          3,
          4,
          5,
          2,
          2,
          7,
          5,
          3,
          8,
          6,
          2,
          6,
          5,
          6,
          5,
          4,
          7,
          null,
          1,
          1,
          2,
          8,
          6,
          7,
          4,
          2,
          null,
          5,
          1,
          2,
          8,
          6,
          3,
          7,
          2,
          1,
          3,
          7,
          2,
          3,
          2,
          4,
          null,
          5,
          9,
          4,
          3,
          3,
          null,
          5,
          3,
          4,
          5,
          1,
          2
         ],
         "xaxis": "x16",
         "xbins": {
          "end": 22,
          "size": 2,
          "start": 0
         },
         "yaxis": "y16"
        }
       ],
       "layout": {
        "annotations": [
         {
          "font": {
           "size": 16
          },
          "showarrow": false,
          "text": "C",
          "x": 0.10625,
          "xanchor": "center",
          "xref": "paper",
          "y": 1,
          "yanchor": "bottom",
          "yref": "paper"
         },
         {
          "font": {
           "size": 16
          },
          "showarrow": false,
          "text": "CB",
          "x": 0.36875,
          "xanchor": "center",
          "xref": "paper",
          "y": 1,
          "yanchor": "bottom",
          "yref": "paper"
         },
         {
          "font": {
           "size": 16
          },
          "showarrow": false,
          "text": "DT",
          "x": 0.6312500000000001,
          "xanchor": "center",
          "xref": "paper",
          "y": 1,
          "yanchor": "bottom",
          "yref": "paper"
         },
         {
          "font": {
           "size": 16
          },
          "showarrow": false,
          "text": "EDGE",
          "x": 0.89375,
          "xanchor": "center",
          "xref": "paper",
          "y": 1,
          "yanchor": "bottom",
          "yref": "paper"
         },
         {
          "font": {
           "size": 16
          },
          "showarrow": false,
          "text": "FB",
          "x": 0.10625,
          "xanchor": "center",
          "xref": "paper",
          "y": 0.71875,
          "yanchor": "bottom",
          "yref": "paper"
         },
         {
          "font": {
           "size": 16
          },
          "showarrow": false,
          "text": "G",
          "x": 0.36875,
          "xanchor": "center",
          "xref": "paper",
          "y": 0.71875,
          "yanchor": "bottom",
          "yref": "paper"
         },
         {
          "font": {
           "size": 16
          },
          "showarrow": false,
          "text": "K",
          "x": 0.6312500000000001,
          "xanchor": "center",
          "xref": "paper",
          "y": 0.71875,
          "yanchor": "bottom",
          "yref": "paper"
         },
         {
          "font": {
           "size": 16
          },
          "showarrow": false,
          "text": "LB",
          "x": 0.89375,
          "xanchor": "center",
          "xref": "paper",
          "y": 0.71875,
          "yanchor": "bottom",
          "yref": "paper"
         },
         {
          "font": {
           "size": 16
          },
          "showarrow": false,
          "text": "QB",
          "x": 0.10625,
          "xanchor": "center",
          "xref": "paper",
          "y": 0.4375,
          "yanchor": "bottom",
          "yref": "paper"
         },
         {
          "font": {
           "size": 16
          },
          "showarrow": false,
          "text": "RB",
          "x": 0.36875,
          "xanchor": "center",
          "xref": "paper",
          "y": 0.4375,
          "yanchor": "bottom",
          "yref": "paper"
         },
         {
          "font": {
           "size": 16
          },
          "showarrow": false,
          "text": "RET",
          "x": 0.6312500000000001,
          "xanchor": "center",
          "xref": "paper",
          "y": 0.4375,
          "yanchor": "bottom",
          "yref": "paper"
         },
         {
          "font": {
           "size": 16
          },
          "showarrow": false,
          "text": "S",
          "x": 0.89375,
          "xanchor": "center",
          "xref": "paper",
          "y": 0.4375,
          "yanchor": "bottom",
          "yref": "paper"
         },
         {
          "font": {
           "size": 16
          },
          "showarrow": false,
          "text": "ST",
          "x": 0.10625,
          "xanchor": "center",
          "xref": "paper",
          "y": 0.15625,
          "yanchor": "bottom",
          "yref": "paper"
         },
         {
          "font": {
           "size": 16
          },
          "showarrow": false,
          "text": "T",
          "x": 0.36875,
          "xanchor": "center",
          "xref": "paper",
          "y": 0.15625,
          "yanchor": "bottom",
          "yref": "paper"
         },
         {
          "font": {
           "size": 16
          },
          "showarrow": false,
          "text": "TE",
          "x": 0.6312500000000001,
          "xanchor": "center",
          "xref": "paper",
          "y": 0.15625,
          "yanchor": "bottom",
          "yref": "paper"
         },
         {
          "font": {
           "size": 16
          },
          "showarrow": false,
          "text": "WR",
          "x": 0.89375,
          "xanchor": "center",
          "xref": "paper",
          "y": 0.15625,
          "yanchor": "bottom",
          "yref": "paper"
         }
        ],
        "bargap": 0.1,
        "height": 900,
        "margin": {
         "t": 80
        },
        "template": {
         "data": {
          "bar": [
           {
            "error_x": {
             "color": "#2a3f5f"
            },
            "error_y": {
             "color": "#2a3f5f"
            },
            "marker": {
             "line": {
              "color": "#E5ECF6",
              "width": 0.5
             },
             "pattern": {
              "fillmode": "overlay",
              "size": 10,
              "solidity": 0.2
             }
            },
            "type": "bar"
           }
          ],
          "barpolar": [
           {
            "marker": {
             "line": {
              "color": "#E5ECF6",
              "width": 0.5
             },
             "pattern": {
              "fillmode": "overlay",
              "size": 10,
              "solidity": 0.2
             }
            },
            "type": "barpolar"
           }
          ],
          "carpet": [
           {
            "aaxis": {
             "endlinecolor": "#2a3f5f",
             "gridcolor": "white",
             "linecolor": "white",
             "minorgridcolor": "white",
             "startlinecolor": "#2a3f5f"
            },
            "baxis": {
             "endlinecolor": "#2a3f5f",
             "gridcolor": "white",
             "linecolor": "white",
             "minorgridcolor": "white",
             "startlinecolor": "#2a3f5f"
            },
            "type": "carpet"
           }
          ],
          "choropleth": [
           {
            "colorbar": {
             "outlinewidth": 0,
             "ticks": ""
            },
            "type": "choropleth"
           }
          ],
          "contour": [
           {
            "colorbar": {
             "outlinewidth": 0,
             "ticks": ""
            },
            "colorscale": [
             [
              0,
              "#0d0887"
             ],
             [
              0.1111111111111111,
              "#46039f"
             ],
             [
              0.2222222222222222,
              "#7201a8"
             ],
             [
              0.3333333333333333,
              "#9c179e"
             ],
             [
              0.4444444444444444,
              "#bd3786"
             ],
             [
              0.5555555555555556,
              "#d8576b"
             ],
             [
              0.6666666666666666,
              "#ed7953"
             ],
             [
              0.7777777777777778,
              "#fb9f3a"
             ],
             [
              0.8888888888888888,
              "#fdca26"
             ],
             [
              1,
              "#f0f921"
             ]
            ],
            "type": "contour"
           }
          ],
          "contourcarpet": [
           {
            "colorbar": {
             "outlinewidth": 0,
             "ticks": ""
            },
            "type": "contourcarpet"
           }
          ],
          "heatmap": [
           {
            "colorbar": {
             "outlinewidth": 0,
             "ticks": ""
            },
            "colorscale": [
             [
              0,
              "#0d0887"
             ],
             [
              0.1111111111111111,
              "#46039f"
             ],
             [
              0.2222222222222222,
              "#7201a8"
             ],
             [
              0.3333333333333333,
              "#9c179e"
             ],
             [
              0.4444444444444444,
              "#bd3786"
             ],
             [
              0.5555555555555556,
              "#d8576b"
             ],
             [
              0.6666666666666666,
              "#ed7953"
             ],
             [
              0.7777777777777778,
              "#fb9f3a"
             ],
             [
              0.8888888888888888,
              "#fdca26"
             ],
             [
              1,
              "#f0f921"
             ]
            ],
            "type": "heatmap"
           }
          ],
          "heatmapgl": [
           {
            "colorbar": {
             "outlinewidth": 0,
             "ticks": ""
            },
            "colorscale": [
             [
              0,
              "#0d0887"
             ],
             [
              0.1111111111111111,
              "#46039f"
             ],
             [
              0.2222222222222222,
              "#7201a8"
             ],
             [
              0.3333333333333333,
              "#9c179e"
             ],
             [
              0.4444444444444444,
              "#bd3786"
             ],
             [
              0.5555555555555556,
              "#d8576b"
             ],
             [
              0.6666666666666666,
              "#ed7953"
             ],
             [
              0.7777777777777778,
              "#fb9f3a"
             ],
             [
              0.8888888888888888,
              "#fdca26"
             ],
             [
              1,
              "#f0f921"
             ]
            ],
            "type": "heatmapgl"
           }
          ],
          "histogram": [
           {
            "marker": {
             "pattern": {
              "fillmode": "overlay",
              "size": 10,
              "solidity": 0.2
             }
            },
            "type": "histogram"
           }
          ],
          "histogram2d": [
           {
            "colorbar": {
             "outlinewidth": 0,
             "ticks": ""
            },
            "colorscale": [
             [
              0,
              "#0d0887"
             ],
             [
              0.1111111111111111,
              "#46039f"
             ],
             [
              0.2222222222222222,
              "#7201a8"
             ],
             [
              0.3333333333333333,
              "#9c179e"
             ],
             [
              0.4444444444444444,
              "#bd3786"
             ],
             [
              0.5555555555555556,
              "#d8576b"
             ],
             [
              0.6666666666666666,
              "#ed7953"
             ],
             [
              0.7777777777777778,
              "#fb9f3a"
             ],
             [
              0.8888888888888888,
              "#fdca26"
             ],
             [
              1,
              "#f0f921"
             ]
            ],
            "type": "histogram2d"
           }
          ],
          "histogram2dcontour": [
           {
            "colorbar": {
             "outlinewidth": 0,
             "ticks": ""
            },
            "colorscale": [
             [
              0,
              "#0d0887"
             ],
             [
              0.1111111111111111,
              "#46039f"
             ],
             [
              0.2222222222222222,
              "#7201a8"
             ],
             [
              0.3333333333333333,
              "#9c179e"
             ],
             [
              0.4444444444444444,
              "#bd3786"
             ],
             [
              0.5555555555555556,
              "#d8576b"
             ],
             [
              0.6666666666666666,
              "#ed7953"
             ],
             [
              0.7777777777777778,
              "#fb9f3a"
             ],
             [
              0.8888888888888888,
              "#fdca26"
             ],
             [
              1,
              "#f0f921"
             ]
            ],
            "type": "histogram2dcontour"
           }
          ],
          "mesh3d": [
           {
            "colorbar": {
             "outlinewidth": 0,
             "ticks": ""
            },
            "type": "mesh3d"
           }
          ],
          "parcoords": [
           {
            "line": {
             "colorbar": {
              "outlinewidth": 0,
              "ticks": ""
             }
            },
            "type": "parcoords"
           }
          ],
          "pie": [
           {
            "automargin": true,
            "type": "pie"
           }
          ],
          "scatter": [
           {
            "fillpattern": {
             "fillmode": "overlay",
             "size": 10,
             "solidity": 0.2
            },
            "type": "scatter"
           }
          ],
          "scatter3d": [
           {
            "line": {
             "colorbar": {
              "outlinewidth": 0,
              "ticks": ""
             }
            },
            "marker": {
             "colorbar": {
              "outlinewidth": 0,
              "ticks": ""
             }
            },
            "type": "scatter3d"
           }
          ],
          "scattercarpet": [
           {
            "marker": {
             "colorbar": {
              "outlinewidth": 0,
              "ticks": ""
             }
            },
            "type": "scattercarpet"
           }
          ],
          "scattergeo": [
           {
            "marker": {
             "colorbar": {
              "outlinewidth": 0,
              "ticks": ""
             }
            },
            "type": "scattergeo"
           }
          ],
          "scattergl": [
           {
            "marker": {
             "colorbar": {
              "outlinewidth": 0,
              "ticks": ""
             }
            },
            "type": "scattergl"
           }
          ],
          "scattermapbox": [
           {
            "marker": {
             "colorbar": {
              "outlinewidth": 0,
              "ticks": ""
             }
            },
            "type": "scattermapbox"
           }
          ],
          "scatterpolar": [
           {
            "marker": {
             "colorbar": {
              "outlinewidth": 0,
              "ticks": ""
             }
            },
            "type": "scatterpolar"
           }
          ],
          "scatterpolargl": [
           {
            "marker": {
             "colorbar": {
              "outlinewidth": 0,
              "ticks": ""
             }
            },
            "type": "scatterpolargl"
           }
          ],
          "scatterternary": [
           {
            "marker": {
             "colorbar": {
              "outlinewidth": 0,
              "ticks": ""
             }
            },
            "type": "scatterternary"
           }
          ],
          "surface": [
           {
            "colorbar": {
             "outlinewidth": 0,
             "ticks": ""
            },
            "colorscale": [
             [
              0,
              "#0d0887"
             ],
             [
              0.1111111111111111,
              "#46039f"
             ],
             [
              0.2222222222222222,
              "#7201a8"
             ],
             [
              0.3333333333333333,
              "#9c179e"
             ],
             [
              0.4444444444444444,
              "#bd3786"
             ],
             [
              0.5555555555555556,
              "#d8576b"
             ],
             [
              0.6666666666666666,
              "#ed7953"
             ],
             [
              0.7777777777777778,
              "#fb9f3a"
             ],
             [
              0.8888888888888888,
              "#fdca26"
             ],
             [
              1,
              "#f0f921"
             ]
            ],
            "type": "surface"
           }
          ],
          "table": [
           {
            "cells": {
             "fill": {
              "color": "#EBF0F8"
             },
             "line": {
              "color": "white"
             }
            },
            "header": {
             "fill": {
              "color": "#C8D4E3"
             },
             "line": {
              "color": "white"
             }
            },
            "type": "table"
           }
          ]
         },
         "layout": {
          "annotationdefaults": {
           "arrowcolor": "#2a3f5f",
           "arrowhead": 0,
           "arrowwidth": 1
          },
          "autotypenumbers": "strict",
          "coloraxis": {
           "colorbar": {
            "outlinewidth": 0,
            "ticks": ""
           }
          },
          "colorscale": {
           "diverging": [
            [
             0,
             "#8e0152"
            ],
            [
             0.1,
             "#c51b7d"
            ],
            [
             0.2,
             "#de77ae"
            ],
            [
             0.3,
             "#f1b6da"
            ],
            [
             0.4,
             "#fde0ef"
            ],
            [
             0.5,
             "#f7f7f7"
            ],
            [
             0.6,
             "#e6f5d0"
            ],
            [
             0.7,
             "#b8e186"
            ],
            [
             0.8,
             "#7fbc41"
            ],
            [
             0.9,
             "#4d9221"
            ],
            [
             1,
             "#276419"
            ]
           ],
           "sequential": [
            [
             0,
             "#0d0887"
            ],
            [
             0.1111111111111111,
             "#46039f"
            ],
            [
             0.2222222222222222,
             "#7201a8"
            ],
            [
             0.3333333333333333,
             "#9c179e"
            ],
            [
             0.4444444444444444,
             "#bd3786"
            ],
            [
             0.5555555555555556,
             "#d8576b"
            ],
            [
             0.6666666666666666,
             "#ed7953"
            ],
            [
             0.7777777777777778,
             "#fb9f3a"
            ],
            [
             0.8888888888888888,
             "#fdca26"
            ],
            [
             1,
             "#f0f921"
            ]
           ],
           "sequentialminus": [
            [
             0,
             "#0d0887"
            ],
            [
             0.1111111111111111,
             "#46039f"
            ],
            [
             0.2222222222222222,
             "#7201a8"
            ],
            [
             0.3333333333333333,
             "#9c179e"
            ],
            [
             0.4444444444444444,
             "#bd3786"
            ],
            [
             0.5555555555555556,
             "#d8576b"
            ],
            [
             0.6666666666666666,
             "#ed7953"
            ],
            [
             0.7777777777777778,
             "#fb9f3a"
            ],
            [
             0.8888888888888888,
             "#fdca26"
            ],
            [
             1,
             "#f0f921"
            ]
           ]
          },
          "colorway": [
           "#636efa",
           "#EF553B",
           "#00cc96",
           "#ab63fa",
           "#FFA15A",
           "#19d3f3",
           "#FF6692",
           "#B6E880",
           "#FF97FF",
           "#FECB52"
          ],
          "font": {
           "color": "#2a3f5f"
          },
          "geo": {
           "bgcolor": "white",
           "lakecolor": "white",
           "landcolor": "#E5ECF6",
           "showlakes": true,
           "showland": true,
           "subunitcolor": "white"
          },
          "hoverlabel": {
           "align": "left"
          },
          "hovermode": "closest",
          "mapbox": {
           "style": "light"
          },
          "paper_bgcolor": "white",
          "plot_bgcolor": "#E5ECF6",
          "polar": {
           "angularaxis": {
            "gridcolor": "white",
            "linecolor": "white",
            "ticks": ""
           },
           "bgcolor": "#E5ECF6",
           "radialaxis": {
            "gridcolor": "white",
            "linecolor": "white",
            "ticks": ""
           }
          },
          "scene": {
           "xaxis": {
            "backgroundcolor": "#E5ECF6",
            "gridcolor": "white",
            "gridwidth": 2,
            "linecolor": "white",
            "showbackground": true,
            "ticks": "",
            "zerolinecolor": "white"
           },
           "yaxis": {
            "backgroundcolor": "#E5ECF6",
            "gridcolor": "white",
            "gridwidth": 2,
            "linecolor": "white",
            "showbackground": true,
            "ticks": "",
            "zerolinecolor": "white"
           },
           "zaxis": {
            "backgroundcolor": "#E5ECF6",
            "gridcolor": "white",
            "gridwidth": 2,
            "linecolor": "white",
            "showbackground": true,
            "ticks": "",
            "zerolinecolor": "white"
           }
          },
          "shapedefaults": {
           "line": {
            "color": "#2a3f5f"
           }
          },
          "ternary": {
           "aaxis": {
            "gridcolor": "white",
            "linecolor": "white",
            "ticks": ""
           },
           "baxis": {
            "gridcolor": "white",
            "linecolor": "white",
            "ticks": ""
           },
           "bgcolor": "#E5ECF6",
           "caxis": {
            "gridcolor": "white",
            "linecolor": "white",
            "ticks": ""
           }
          },
          "title": {
           "x": 0.05
          },
          "xaxis": {
           "automargin": true,
           "gridcolor": "white",
           "linecolor": "white",
           "ticks": "",
           "title": {
            "standoff": 15
           },
           "zerolinecolor": "white",
           "zerolinewidth": 2
          },
          "yaxis": {
           "automargin": true,
           "gridcolor": "white",
           "linecolor": "white",
           "ticks": "",
           "title": {
            "standoff": 15
           },
           "zerolinecolor": "white",
           "zerolinewidth": 2
          }
         }
        },
        "title": {
         "text": "Yrs of experience Distribution by Position"
        },
        "width": 900,
        "xaxis": {
         "anchor": "y",
         "domain": [
          0,
          0.2125
         ],
         "range": [
          0,
          22
         ]
        },
        "xaxis10": {
         "anchor": "y10",
         "domain": [
          0.2625,
          0.475
         ],
         "range": [
          0,
          22
         ]
        },
        "xaxis11": {
         "anchor": "y11",
         "domain": [
          0.525,
          0.7375
         ],
         "range": [
          0,
          22
         ]
        },
        "xaxis12": {
         "anchor": "y12",
         "domain": [
          0.7875,
          1
         ],
         "range": [
          0,
          22
         ]
        },
        "xaxis13": {
         "anchor": "y13",
         "domain": [
          0,
          0.2125
         ],
         "range": [
          0,
          22
         ]
        },
        "xaxis14": {
         "anchor": "y14",
         "domain": [
          0.2625,
          0.475
         ],
         "range": [
          0,
          22
         ]
        },
        "xaxis15": {
         "anchor": "y15",
         "domain": [
          0.525,
          0.7375
         ],
         "range": [
          0,
          22
         ]
        },
        "xaxis16": {
         "anchor": "y16",
         "domain": [
          0.7875,
          1
         ],
         "range": [
          0,
          22
         ]
        },
        "xaxis2": {
         "anchor": "y2",
         "domain": [
          0.2625,
          0.475
         ],
         "range": [
          0,
          22
         ]
        },
        "xaxis3": {
         "anchor": "y3",
         "domain": [
          0.525,
          0.7375
         ],
         "range": [
          0,
          22
         ]
        },
        "xaxis4": {
         "anchor": "y4",
         "domain": [
          0.7875,
          1
         ],
         "range": [
          0,
          22
         ]
        },
        "xaxis5": {
         "anchor": "y5",
         "domain": [
          0,
          0.2125
         ],
         "range": [
          0,
          22
         ]
        },
        "xaxis6": {
         "anchor": "y6",
         "domain": [
          0.2625,
          0.475
         ],
         "range": [
          0,
          22
         ]
        },
        "xaxis7": {
         "anchor": "y7",
         "domain": [
          0.525,
          0.7375
         ],
         "range": [
          0,
          22
         ]
        },
        "xaxis8": {
         "anchor": "y8",
         "domain": [
          0.7875,
          1
         ],
         "range": [
          0,
          22
         ]
        },
        "xaxis9": {
         "anchor": "y9",
         "domain": [
          0,
          0.2125
         ],
         "range": [
          0,
          22
         ]
        },
        "yaxis": {
         "anchor": "x",
         "domain": [
          0.84375,
          1
         ],
         "title": {
          "text": "Count"
         }
        },
        "yaxis10": {
         "anchor": "x10",
         "domain": [
          0.28125,
          0.4375
         ],
         "title": {
          "text": "Count"
         }
        },
        "yaxis11": {
         "anchor": "x11",
         "domain": [
          0.28125,
          0.4375
         ],
         "title": {
          "text": "Count"
         }
        },
        "yaxis12": {
         "anchor": "x12",
         "domain": [
          0.28125,
          0.4375
         ],
         "title": {
          "text": "Count"
         }
        },
        "yaxis13": {
         "anchor": "x13",
         "domain": [
          0,
          0.15625
         ],
         "title": {
          "text": "Count"
         }
        },
        "yaxis14": {
         "anchor": "x14",
         "domain": [
          0,
          0.15625
         ],
         "title": {
          "text": "Count"
         }
        },
        "yaxis15": {
         "anchor": "x15",
         "domain": [
          0,
          0.15625
         ],
         "title": {
          "text": "Count"
         }
        },
        "yaxis16": {
         "anchor": "x16",
         "domain": [
          0,
          0.15625
         ],
         "title": {
          "text": "Count"
         }
        },
        "yaxis2": {
         "anchor": "x2",
         "domain": [
          0.84375,
          1
         ],
         "title": {
          "text": "Count"
         }
        },
        "yaxis3": {
         "anchor": "x3",
         "domain": [
          0.84375,
          1
         ],
         "title": {
          "text": "Count"
         }
        },
        "yaxis4": {
         "anchor": "x4",
         "domain": [
          0.84375,
          1
         ],
         "title": {
          "text": "Count"
         }
        },
        "yaxis5": {
         "anchor": "x5",
         "domain": [
          0.5625,
          0.71875
         ],
         "title": {
          "text": "Count"
         }
        },
        "yaxis6": {
         "anchor": "x6",
         "domain": [
          0.5625,
          0.71875
         ],
         "title": {
          "text": "Count"
         }
        },
        "yaxis7": {
         "anchor": "x7",
         "domain": [
          0.5625,
          0.71875
         ],
         "title": {
          "text": "Count"
         }
        },
        "yaxis8": {
         "anchor": "x8",
         "domain": [
          0.5625,
          0.71875
         ],
         "title": {
          "text": "Count"
         }
        },
        "yaxis9": {
         "anchor": "x9",
         "domain": [
          0.28125,
          0.4375
         ],
         "title": {
          "text": "Count"
         }
        }
       }
      }
     },
     "metadata": {},
     "output_type": "display_data"
    }
   ],
   "source": [
    "# create 4x4 subplots\n",
    "rows, cols = 4, 4\n",
    "fig = make_subplots(rows=rows, cols=cols, subplot_titles=positions)\n",
    "\n",
    "# add histograms\n",
    "for i, pos in enumerate(positions):\n",
    "    row = i // cols + 1\n",
    "    col = i % cols + 1\n",
    "    subset = df1[df1['Pos'] == pos]\n",
    "    \n",
    "    fig.add_trace(\n",
    "        go.Histogram(\n",
    "            x=subset['Yrs'],\n",
    "            xbins=dict(start=0, end=22, size=2),  # Set bin size and range\n",
    "            name=pos,\n",
    "            showlegend=False\n",
    "        ),\n",
    "        row=row,\n",
    "        col=col\n",
    "    )\n",
    "\n",
    "# update layout and axis ranges\n",
    "fig.update_layout(\n",
    "    height=900,\n",
    "    width=900,\n",
    "    title_text=\"Yrs of experience Distribution by Position\",\n",
    "    margin=dict(t=80),\n",
    "    bargap=0.1\n",
    ")\n",
    "\n",
    "# set x-axis range for all subplots\n",
    "for i in range(1, rows * cols + 1):\n",
    "    fig.update_xaxes(range=[0, 22], row=(i - 1) // cols + 1, col=(i - 1) % cols + 1)\n",
    "    fig.update_yaxes(title_text=\"Count\", row=(i - 1) // cols + 1, col=(i - 1) % cols + 1)\n",
    "\n",
    "fig.show()"
   ]
  },
  {
   "cell_type": "code",
   "execution_count": 8,
   "metadata": {},
   "outputs": [
    {
     "data": {
      "application/vnd.plotly.v1+json": {
       "config": {
        "plotlyServerURL": "https://plot.ly"
       },
       "data": [
        {
         "customdata": [
          [
           "Kevin Mawae",
           2000
          ],
          [
           "Tom Nalen",
           2000
          ],
          [
           "Matt Birk",
           2000
          ],
          [
           "Jeff Hartings",
           2001
          ],
          [
           "Kevin Mawae",
           2001
          ],
          [
           "Olin Kreutz",
           2001
          ],
          [
           "Barret Robbins",
           2002
          ],
          [
           "Kevin Mawae",
           2002
          ],
          [
           "Jeremy Newberry",
           2002
          ],
          [
           "Tom Nalen",
           2003
          ],
          [
           "Matt Birk",
           2003
          ],
          [
           "Jeff Hartings",
           2004
          ],
          [
           "Kevin Mawae",
           2004
          ],
          [
           "Olin Kreutz",
           2004
          ],
          [
           "Olin Kreutz",
           2005
          ],
          [
           "Jeff Saturday",
           2005
          ],
          [
           "Olin Kreutz",
           2006
          ],
          [
           "Jeff Saturday",
           2006
          ],
          [
           "Jeff Saturday",
           2007
          ],
          [
           "Matt Birk",
           2007
          ],
          [
           "Dan Koppen",
           2007
          ],
          [
           "Kevin Mawae",
           2007
          ],
          [
           "Andre Gurode",
           2007
          ],
          [
           "Kevin Mawae",
           2008
          ],
          [
           "Shaun O'Hara",
           2008
          ],
          [
           "Nick Mangold",
           2009
          ],
          [
           "Andre Gurode",
           2009
          ],
          [
           "Ryan Kalil",
           2009
          ],
          [
           "Jeff Saturday",
           2009
          ],
          [
           "Nick Mangold",
           2010
          ],
          [
           "Matt Birk",
           2010
          ],
          [
           "Scott Wells",
           2010
          ],
          [
           "Maurkice Pouncey",
           2010
          ],
          [
           "Maurkice Pouncey",
           2011
          ],
          [
           "Nick Mangold",
           2011
          ],
          [
           "Chris Myers",
           2011
          ],
          [
           "Ryan Kalil",
           2011
          ],
          [
           "John Sullivan",
           2012
          ],
          [
           "Maurkice Pouncey",
           2012
          ],
          [
           "Max Unger",
           2012
          ],
          [
           "Chris Myers",
           2012
          ],
          [
           "Ryan Kalil",
           2013
          ],
          [
           "Alex Mack",
           2013
          ],
          [
           "Jason Kelce",
           2013
          ],
          [
           "Travis Frederick",
           2014
          ],
          [
           "Nick Mangold",
           2014
          ],
          [
           "Maurkice Pouncey",
           2014
          ],
          [
           "Ryan Kalil",
           2015
          ],
          [
           "Travis Frederick",
           2015
          ],
          [
           "Rodney Hudson",
           2015
          ],
          [
           "Alex Mack",
           2015
          ],
          [
           "Joe Berger",
           2015
          ],
          [
           "Travis Frederick",
           2016
          ],
          [
           "Rodney Hudson",
           2016
          ],
          [
           "Alex Mack",
           2016
          ],
          [
           "Jason Kelce",
           2017
          ],
          [
           "Alex Mack",
           2017
          ],
          [
           "Maurkice Pouncey",
           2017
          ],
          [
           "Travis Frederick",
           2017
          ],
          [
           "Jason Kelce",
           2018
          ],
          [
           "Maurkice Pouncey",
           2018
          ],
          [
           "Rodney Hudson",
           2018
          ],
          [
           "Jason Kelce",
           2019
          ],
          [
           "Rodney Hudson",
           2019
          ],
          [
           "Ryan Jensen",
           2019
          ],
          [
           "Corey Linsley",
           2020
          ],
          [
           "Jason Kelce",
           2020
          ],
          [
           "Ryan Kelly",
           2020
          ],
          [
           "Frank Ragnow",
           2020
          ],
          [
           "Jason Kelce",
           2021
          ],
          [
           "Creed Humphrey",
           2021
          ],
          [
           "Corey Linsley",
           2021
          ],
          [
           "Jason Kelce",
           2022
          ],
          [
           "Creed Humphrey",
           2022
          ],
          [
           "Jason Kelce",
           2023
          ],
          [
           "Frank Ragnow",
           2023
          ],
          [
           "Creed Humphrey",
           2023
          ],
          [
           "Creed Humphrey",
           2024
          ],
          [
           "Frank Ragnow",
           2024
          ]
         ],
         "hovertemplate": "Player: %{customdata[0]}<br>Year: %{customdata[1]}<br>Age: %{x}<br>Yrs: %{y}<extra></extra>",
         "marker": {
          "opacity": 0.7,
          "size": 6
         },
         "mode": "markers",
         "name": "C",
         "type": "scatter",
         "x": [
          29,
          29,
          24,
          29,
          30,
          24,
          29,
          31,
          26,
          32,
          27,
          32,
          33,
          27,
          28,
          30,
          29,
          31,
          32,
          31,
          28,
          36,
          29,
          37,
          31,
          25,
          31,
          24,
          34,
          26,
          34,
          29,
          21,
          22,
          27,
          30,
          26,
          27,
          23,
          26,
          31,
          28,
          28,
          26,
          23,
          30,
          25,
          30,
          24,
          26,
          30,
          33,
          25,
          27,
          31,
          30,
          32,
          28,
          26,
          31,
          29,
          29,
          32,
          30,
          28,
          29,
          33,
          27,
          24,
          34,
          22,
          30,
          35,
          23,
          36,
          27,
          24,
          25,
          28
         ],
         "xaxis": "x",
         "y": [
          6,
          6,
          2,
          5,
          7,
          3,
          7,
          8,
          3,
          9,
          5,
          8,
          10,
          6,
          7,
          6,
          8,
          7,
          8,
          9,
          4,
          13,
          5,
          14,
          8,
          3,
          7,
          2,
          10,
          4,
          12,
          6,
          null,
          1,
          5,
          6,
          4,
          4,
          2,
          3,
          7,
          6,
          4,
          2,
          1,
          8,
          4,
          8,
          2,
          4,
          6,
          10,
          3,
          5,
          7,
          6,
          8,
          7,
          4,
          7,
          8,
          7,
          8,
          8,
          5,
          6,
          9,
          4,
          2,
          10,
          null,
          7,
          11,
          1,
          12,
          5,
          2,
          3,
          6
         ],
         "yaxis": "y"
        },
        {
         "customdata": [
          [
           "Charles Woodson",
           2000
          ],
          [
           "Sam Madison",
           2000
          ],
          [
           "Samari Rolle",
           2000
          ],
          [
           "Champ Bailey",
           2000
          ],
          [
           "Darrick Vaughn",
           2000
          ],
          [
           "Troy Vincent",
           2000
          ],
          [
           "Ronde Barber",
           2001
          ],
          [
           "Charles Woodson",
           2001
          ],
          [
           "Aeneas Williams",
           2001
          ],
          [
           "Larry Whigham",
           2001
          ],
          [
           "Sam Madison",
           2001
          ],
          [
           "Troy Vincent",
           2001
          ],
          [
           "Darrien Gordon",
           2001
          ],
          [
           "Deltha O'Neal",
           2001
          ],
          [
           "Ronde Barber",
           2002
          ],
          [
           "Patrick Surtain",
           2002
          ],
          [
           "Bobby Taylor",
           2002
          ],
          [
           "Aaron Glenn",
           2002
          ],
          [
           "Troy Vincent",
           2002
          ],
          [
           "Chris McAlister",
           2003
          ],
          [
           "Ty Law",
           2003
          ],
          [
           "Jerry Azumah",
           2003
          ],
          [
           "Patrick Surtain",
           2003
          ],
          [
           "Champ Bailey",
           2003
          ],
          [
           "Dre' Bly",
           2003
          ],
          [
           "Ronde Barber",
           2004
          ],
          [
           "Champ Bailey",
           2004
          ],
          [
           "Terrence McGee",
           2004
          ],
          [
           "Lito Sheppard",
           2004
          ],
          [
           "Chris McAlister",
           2004
          ],
          [
           "Shawn Springs",
           2004
          ],
          [
           "Champ Bailey",
           2005
          ],
          [
           "Nathan Vasher",
           2005
          ],
          [
           "Deltha O'Neal",
           2005
          ],
          [
           "Ronde Barber",
           2005
          ],
          [
           "Hanik Milligan",
           2005
          ],
          [
           "Champ Bailey",
           2006
          ],
          [
           "Rashean Mathis",
           2006
          ],
          [
           "Lito Sheppard",
           2006
          ],
          [
           "Al Harris",
           2006
          ],
          [
           "Ronde Barber",
           2006
          ],
          [
           "Nnamdi Asomugha",
           2006
          ],
          [
           "Asante Samuel",
           2007
          ],
          [
           "Antonio Cromartie",
           2007
          ],
          [
           "Marcus Trufant",
           2007
          ],
          [
           "Al Harris",
           2007
          ],
          [
           "Champ Bailey",
           2007
          ],
          [
           "Nnamdi Asomugha",
           2008
          ],
          [
           "Cortland Finnegan",
           2008
          ],
          [
           "Charles Woodson",
           2008
          ],
          [
           "Antoine Winfield",
           2008
          ],
          [
           "Darrelle Revis",
           2009
          ],
          [
           "Charles Woodson",
           2009
          ],
          [
           "Asante Samuel",
           2009
          ],
          [
           "Nnamdi Asomugha",
           2009
          ],
          [
           "Leon Hall",
           2009
          ],
          [
           "Dominique Rodgers-Cromartie",
           2009
          ],
          [
           "Darrelle Revis",
           2010
          ],
          [
           "Asante Samuel",
           2010
          ],
          [
           "Nnamdi Asomugha",
           2010
          ],
          [
           "Devin McCourty",
           2010
          ],
          [
           "Champ Bailey",
           2010
          ],
          [
           "Brandon Flowers",
           2010
          ],
          [
           "Tramon Williams",
           2010
          ],
          [
           "Charles Woodson",
           2010
          ],
          [
           "Antoine Winfield",
           2010
          ],
          [
           "Darrelle Revis",
           2011
          ],
          [
           "Johnathan Joseph",
           2011
          ],
          [
           "Charles Woodson",
           2011
          ],
          [
           "Cortland Finnegan",
           2011
          ],
          [
           "Carlos Rogers",
           2011
          ],
          [
           "Lardarius Webb",
           2011
          ],
          [
           "Chris Gamble",
           2011
          ],
          [
           "Charles Tillman",
           2012
          ],
          [
           "Richard Sherman",
           2012
          ],
          [
           "Casey Hayward",
           2012
          ],
          [
           "Champ Bailey",
           2012
          ],
          [
           "Antonio Cromartie",
           2012
          ],
          [
           "Tim Jennings",
           2012
          ],
          [
           "Antoine Winfield",
           2012
          ],
          [
           "Richard Sherman",
           2013
          ],
          [
           "Patrick Peterson",
           2013
          ],
          [
           "Joe Haden",
           2013
          ],
          [
           "Brent Grimes",
           2013
          ],
          [
           "Tyrann Mathieu",
           2013
          ],
          [
           "Darrelle Revis",
           2013
          ],
          [
           "Chris Harris Jr.",
           2013
          ],
          [
           "Aqib Talib",
           2013
          ],
          [
           "Alterraun Verner",
           2013
          ],
          [
           "Darrelle Revis",
           2014
          ],
          [
           "Richard Sherman",
           2014
          ],
          [
           "Chris Harris Jr.",
           2014
          ],
          [
           "Vontae Davis",
           2014
          ],
          [
           "Desmond Trufant",
           2014
          ],
          [
           "Brent Grimes",
           2014
          ],
          [
           "Orlando Scandrick",
           2014
          ],
          [
           "Sean Smith",
           2014
          ],
          [
           "Patrick Peterson",
           2015
          ],
          [
           "Josh Norman",
           2015
          ],
          [
           "Richard Sherman",
           2015
          ],
          [
           "Chris Harris Jr.",
           2015
          ],
          [
           "Marcus Peters",
           2015
          ],
          [
           "Johnathan Joseph",
           2015
          ],
          [
           "Aqib Talib",
           2016
          ],
          [
           "Marcus Peters",
           2016
          ],
          [
           "Malcolm Butler",
           2016
          ],
          [
           "Jackrabbit Jenkins",
           2016
          ],
          [
           "Patrick Peterson",
           2016
          ],
          [
           "Casey Hayward",
           2016
          ],
          [
           "Chris Harris Jr.",
           2016
          ],
          [
           "Dominique Rodgers-Cromartie",
           2016
          ],
          [
           "Jalen Ramsey",
           2017
          ],
          [
           "Xavier Rhodes",
           2017
          ],
          [
           "Darius Slay",
           2017
          ],
          [
           "Casey Hayward",
           2017
          ],
          [
           "A.J. Bouye",
           2017
          ],
          [
           "Marshon Lattimore",
           2017
          ],
          [
           "Tre'Davious White",
           2017
          ],
          [
           "Patrick Robinson",
           2017
          ],
          [
           "Kyle Fuller",
           2018
          ],
          [
           "Stephon Gilmore",
           2018
          ],
          [
           "Byron Jones",
           2018
          ],
          [
           "Patrick Peterson",
           2018
          ],
          [
           "Xavien Howard",
           2018
          ],
          [
           "Desmond King",
           2018
          ],
          [
           "Kareem Jackson",
           2018
          ],
          [
           "Stephon Gilmore",
           2019
          ],
          [
           "Tre'Davious White",
           2019
          ],
          [
           "Marcus Peters",
           2019
          ],
          [
           "Richard Sherman",
           2019
          ],
          [
           "Marshon Lattimore",
           2019
          ],
          [
           "Quinton Dunbar",
           2019
          ],
          [
           "Casey Hayward",
           2019
          ],
          [
           "Tyrann Mathieu",
           2019
          ],
          [
           "Marlon Humphrey",
           2019
          ],
          [
           "Marcus Williams",
           2019
          ],
          [
           "Xavien Howard",
           2020
          ],
          [
           "Jalen Ramsey",
           2020
          ],
          [
           "Jaire Alexander",
           2020
          ],
          [
           "Tre'Davious White",
           2020
          ],
          [
           "James Bradberry",
           2020
          ],
          [
           "Bryce Callahan",
           2020
          ],
          [
           "Darious Williams",
           2020
          ],
          [
           "Jalen Ramsey",
           2021
          ],
          [
           "Trevon Diggs",
           2021
          ],
          [
           "AJ Terrell",
           2021
          ],
          [
           "J.C. Jackson",
           2021
          ],
          [
           "Xavien Howard",
           2021
          ],
          [
           "Chidobe Awuzie",
           2021
          ],
          [
           "Darius Slay",
           2021
          ],
          [
           "Patrick Surtain II",
           2022
          ],
          [
           "Sauce Gardner",
           2022
          ],
          [
           "Darius Slay",
           2022
          ],
          [
           "Jaire Alexander",
           2022
          ],
          [
           "James Bradberry",
           2022
          ],
          [
           "Patrick Peterson",
           2022
          ],
          [
           "Jalen Ramsey",
           2022
          ],
          [
           "DaRon Bland",
           2023
          ],
          [
           "Sauce Gardner",
           2023
          ],
          [
           "Jaylon Johnson",
           2023
          ],
          [
           "Patrick Surtain II",
           2023
          ],
          [
           "Trent McDuffie",
           2023
          ],
          [
           "Devon Witherspoon",
           2023
          ],
          [
           "Kendall Fuller",
           2023
          ],
          [
           "Charvarius Ward",
           2023
          ],
          [
           "Taron Johnson",
           2023
          ],
          [
           "Patrick Surtain II",
           2024
          ],
          [
           "Derek Stingley Jr.",
           2024
          ],
          [
           "Marlon Humphrey",
           2024
          ],
          [
           "Trent McDuffie",
           2024
          ],
          [
           "Jaylon Johnson",
           2024
          ],
          [
           "Byron Murphy",
           2024
          ],
          [
           "Garrett Williams",
           2024
          ],
          [
           "Christian Gonzalez",
           2024
          ],
          [
           "Christian Benford",
           2024
          ],
          [
           "Cooper DeJean",
           2024
          ]
         ],
         "hovertemplate": "Player: %{customdata[0]}<br>Year: %{customdata[1]}<br>Age: %{x}<br>Yrs: %{y}<extra></extra>",
         "marker": {
          "opacity": 0.7,
          "size": 6
         },
         "mode": "markers",
         "name": "CB",
         "type": "scatter",
         "x": [
          24,
          26,
          24,
          22,
          22,
          30,
          26,
          25,
          33,
          29,
          27,
          31,
          31,
          24,
          27,
          26,
          29,
          30,
          32,
          26,
          29,
          26,
          27,
          25,
          26,
          29,
          26,
          24,
          23,
          27,
          29,
          27,
          24,
          28,
          30,
          26,
          28,
          26,
          25,
          32,
          31,
          25,
          26,
          23,
          27,
          33,
          29,
          27,
          24,
          32,
          31,
          24,
          33,
          28,
          28,
          25,
          23,
          25,
          29,
          29,
          23,
          32,
          24,
          27,
          34,
          33,
          26,
          27,
          35,
          27,
          30,
          26,
          28,
          31,
          24,
          23,
          34,
          28,
          29,
          35,
          25,
          23,
          24,
          30,
          21,
          28,
          24,
          27,
          25,
          29,
          26,
          25,
          26,
          24,
          31,
          27,
          27,
          25,
          28,
          27,
          26,
          22,
          31,
          30,
          23,
          26,
          28,
          26,
          27,
          27,
          30,
          23,
          27,
          26,
          28,
          26,
          21,
          22,
          30,
          26,
          28,
          26,
          28,
          25,
          24,
          30,
          29,
          24,
          26,
          31,
          23,
          27,
          30,
          27,
          23,
          23,
          27,
          26,
          23,
          25,
          27,
          29,
          27,
          27,
          23,
          23,
          26,
          28,
          26,
          30,
          22,
          22,
          31,
          25,
          29,
          32,
          28,
          24,
          23,
          24,
          23,
          23,
          23,
          28,
          27,
          27,
          24,
          23,
          28,
          24,
          25,
          26,
          23,
          22,
          24,
          21
         ],
         "xaxis": "x2",
         "y": [
          2,
          3,
          2,
          1,
          null,
          8,
          4,
          3,
          10,
          7,
          4,
          9,
          8,
          1,
          5,
          4,
          7,
          8,
          10,
          4,
          8,
          4,
          5,
          4,
          4,
          7,
          5,
          1,
          2,
          5,
          7,
          6,
          1,
          5,
          8,
          1,
          7,
          3,
          4,
          8,
          9,
          3,
          4,
          1,
          4,
          9,
          8,
          5,
          2,
          10,
          9,
          2,
          11,
          6,
          6,
          2,
          1,
          3,
          7,
          7,
          null,
          11,
          2,
          3,
          12,
          11,
          4,
          5,
          13,
          5,
          6,
          2,
          7,
          9,
          1,
          null,
          13,
          6,
          6,
          13,
          2,
          2,
          3,
          6,
          null,
          6,
          2,
          5,
          3,
          7,
          3,
          3,
          5,
          1,
          7,
          6,
          5,
          4,
          3,
          4,
          4,
          null,
          9,
          8,
          1,
          2,
          4,
          5,
          4,
          5,
          8,
          1,
          4,
          4,
          5,
          4,
          null,
          null,
          7,
          4,
          6,
          3,
          7,
          2,
          1,
          8,
          7,
          2,
          4,
          8,
          2,
          4,
          7,
          6,
          2,
          2,
          4,
          4,
          2,
          3,
          4,
          5,
          2,
          5,
          1,
          1,
          3,
          5,
          4,
          8,
          1,
          null,
          9,
          4,
          6,
          11,
          6,
          1,
          1,
          3,
          2,
          1,
          null,
          7,
          5,
          5,
          3,
          2,
          7,
          2,
          4,
          5,
          1,
          1,
          2,
          null
         ],
         "yaxis": "y2"
        },
        {
         "customdata": [
          [
           "Keith Hamilton",
           2000
          ],
          [
           "Warren Sapp",
           2000
          ],
          [
           "La'Roi Glover",
           2000
          ],
          [
           "Sam Adams",
           2000
          ],
          [
           "Trevor Pryce",
           2000
          ],
          [
           "Ted Washington",
           2001
          ],
          [
           "Trevor Pryce",
           2001
          ],
          [
           "Warren Sapp",
           2001
          ],
          [
           "Sam Adams",
           2001
          ],
          [
           "Bryant Young",
           2001
          ],
          [
           "John Randle",
           2001
          ],
          [
           "Kris Jenkins",
           2002
          ],
          [
           "Chris Hovan",
           2002
          ],
          [
           "Warren Sapp",
           2002
          ],
          [
           "La'Roi Glover",
           2002
          ],
          [
           "Richard Seymour",
           2003
          ],
          [
           "Kris Jenkins",
           2003
          ],
          [
           "La'Roi Glover",
           2003
          ],
          [
           "Marcus Stroud",
           2003
          ],
          [
           "Jamal Williams",
           2004
          ],
          [
           "Shaun Rogers",
           2004
          ],
          [
           "Kevin Williams",
           2004
          ],
          [
           "Roderick Coleman",
           2004
          ],
          [
           "Marcus Stroud",
           2004
          ],
          [
           "Jamal Williams",
           2005
          ],
          [
           "Roderick Coleman",
           2005
          ],
          [
           "Marcus Stroud",
           2005
          ],
          [
           "Tommie Harris",
           2005
          ],
          [
           "Kevin Williams",
           2006
          ],
          [
           "Jamal Williams",
           2006
          ],
          [
           "Richard Seymour",
           2006
          ],
          [
           "Tommie Harris",
           2006
          ],
          [
           "John Henderson",
           2006
          ],
          [
           "Kevin Williams",
           2007
          ],
          [
           "Albert Haynesworth",
           2007
          ],
          [
           "Vince Wilfork",
           2007
          ],
          [
           "Pat Williams",
           2007
          ],
          [
           "Albert Haynesworth",
           2008
          ],
          [
           "Kevin Williams",
           2008
          ],
          [
           "Kris Jenkins",
           2008
          ],
          [
           "Jay Ratliff",
           2008
          ],
          [
           "Haloti Ngata",
           2008
          ],
          [
           "Kevin Williams",
           2009
          ],
          [
           "Haloti Ngata",
           2009
          ],
          [
           "Jay Ratliff",
           2009
          ],
          [
           "Darnell Dockett",
           2009
          ],
          [
           "Jonathan Babineaux",
           2009
          ],
          [
           "Vince Wilfork",
           2009
          ],
          [
           "Kelly Gregg",
           2009
          ],
          [
           "Albert Haynesworth",
           2009
          ],
          [
           "Haloti Ngata",
           2010
          ],
          [
           "Ndamukong Suh",
           2010
          ],
          [
           "Kyle Williams",
           2010
          ],
          [
           "Vince Wilfork",
           2010
          ],
          [
           "B.J. Raji",
           2010
          ],
          [
           "Antonio Garay",
           2010
          ],
          [
           "Kevin Williams",
           2010
          ],
          [
           "Justin Smith",
           2011
          ],
          [
           "Haloti Ngata",
           2011
          ],
          [
           "Geno Atkins",
           2011
          ],
          [
           "Ndamukong Suh",
           2011
          ],
          [
           "Brodrick Bunkley",
           2011
          ],
          [
           "Vince Wilfork",
           2011
          ],
          [
           "Jay Ratliff",
           2011
          ],
          [
           "Richard Seymour",
           2011
          ],
          [
           "Alan Branch",
           2011
          ],
          [
           "Sione Pouha",
           2011
          ],
          [
           "Geno Atkins",
           2012
          ],
          [
           "Vince Wilfork",
           2012
          ],
          [
           "Justin Smith",
           2012
          ],
          [
           "Gerald McCoy",
           2012
          ],
          [
           "Muhammad Wilkerson",
           2012
          ],
          [
           "Ndamukong Suh",
           2012
          ],
          [
           "Haloti Ngata",
           2012
          ],
          [
           "Gerald McCoy",
           2013
          ],
          [
           "Ndamukong Suh",
           2013
          ],
          [
           "Kyle Williams",
           2013
          ],
          [
           "Jurrell Casey",
           2013
          ],
          [
           "Dontari Poe",
           2013
          ],
          [
           "Muhammad Wilkerson",
           2013
          ],
          [
           "Justin Smith",
           2013
          ],
          [
           "Marcell Dareus",
           2013
          ],
          [
           "Ndamukong Suh",
           2014
          ],
          [
           "Marcell Dareus",
           2014
          ],
          [
           "Gerald McCoy",
           2014
          ],
          [
           "Aaron Donald",
           2014
          ],
          [
           "Sheldon Richardson",
           2014
          ],
          [
           "Kyle Williams",
           2014
          ],
          [
           "Muhammad Wilkerson",
           2014
          ],
          [
           "Johnathan Hankins",
           2014
          ],
          [
           "Aaron Donald",
           2015
          ],
          [
           "Geno Atkins",
           2015
          ],
          [
           "Ndamukong Suh",
           2015
          ],
          [
           "Kawann Short",
           2015
          ],
          [
           "Fletcher Cox",
           2015
          ],
          [
           "Linval Joseph",
           2015
          ],
          [
           "Damon Harrison",
           2015
          ],
          [
           "Aaron Donald",
           2016
          ],
          [
           "Damon Harrison",
           2016
          ],
          [
           "Geno Atkins",
           2016
          ],
          [
           "Calais Campbell",
           2016
          ],
          [
           "Ndamukong Suh",
           2016
          ],
          [
           "Gerald McCoy",
           2016
          ],
          [
           "Aaron Donald",
           2017
          ],
          [
           "Fletcher Cox",
           2017
          ],
          [
           "Geno Atkins",
           2017
          ],
          [
           "Cameron Heyward",
           2017
          ],
          [
           "Malik Jackson",
           2017
          ],
          [
           "Ndamukong Suh",
           2017
          ],
          [
           "Kawann Short",
           2017
          ],
          [
           "Fletcher Cox",
           2018
          ],
          [
           "Aaron Donald",
           2018
          ],
          [
           "Chris Jones",
           2018
          ],
          [
           "Geno Atkins",
           2018
          ],
          [
           "Akiem Hicks",
           2018
          ],
          [
           "Aaron Donald",
           2019
          ],
          [
           "Cameron Heyward",
           2019
          ],
          [
           "Grady Jarrett",
           2019
          ],
          [
           "Chris Jones",
           2019
          ],
          [
           "D.J. Reader",
           2019
          ],
          [
           "DeForest Buckner",
           2019
          ],
          [
           "Aaron Donald",
           2020
          ],
          [
           "Chris Jones",
           2020
          ],
          [
           "DeForest Buckner",
           2020
          ],
          [
           "Fletcher Cox",
           2020
          ],
          [
           "Cameron Heyward",
           2020
          ],
          [
           "Jeffery Simmons",
           2021
          ],
          [
           "Christian Wilkins",
           2021
          ],
          [
           "Aaron Donald",
           2021
          ],
          [
           "Cameron Heyward",
           2021
          ],
          [
           "Chris Jones",
           2021
          ],
          [
           "Jonathan Allen",
           2021
          ],
          [
           "Aaron Donald",
           2022
          ],
          [
           "Jeffery Simmons",
           2022
          ],
          [
           "Cameron Heyward",
           2022
          ],
          [
           "Chris Jones",
           2022
          ],
          [
           "Dexter Lawrence",
           2022
          ],
          [
           "Quinnen Williams",
           2022
          ],
          [
           "Javon Hargrave",
           2022
          ],
          [
           "Daron Payne",
           2022
          ],
          [
           "Derrick Brown",
           2023
          ],
          [
           "Nnamdi Madubuike",
           2023
          ],
          [
           "Aaron Donald",
           2023
          ],
          [
           "Chris Jones",
           2023
          ],
          [
           "Dexter Lawrence",
           2023
          ],
          [
           "Quinnen Williams",
           2023
          ],
          [
           "Zach Allen",
           2024
          ],
          [
           "Chris Jones",
           2024
          ],
          [
           "Cameron Heyward",
           2024
          ],
          [
           "Dexter Lawrence",
           2024
          ],
          [
           "Jalen Carter",
           2024
          ],
          [
           "Leonard Williams",
           2024
          ]
         ],
         "hovertemplate": "Player: %{customdata[0]}<br>Year: %{customdata[1]}<br>Age: %{x}<br>Yrs: %{y}<extra></extra>",
         "marker": {
          "opacity": 0.7,
          "size": 6
         },
         "mode": "markers",
         "name": "DT",
         "type": "scatter",
         "x": [
          29,
          28,
          26,
          27,
          25,
          33,
          26,
          29,
          28,
          29,
          34,
          23,
          24,
          30,
          28,
          24,
          24,
          29,
          25,
          28,
          25,
          24,
          28,
          26,
          29,
          29,
          27,
          22,
          26,
          30,
          27,
          23,
          27,
          27,
          26,
          26,
          35,
          27,
          28,
          29,
          27,
          24,
          29,
          25,
          28,
          28,
          28,
          28,
          33,
          28,
          26,
          23,
          27,
          29,
          24,
          31,
          30,
          32,
          27,
          23,
          24,
          28,
          30,
          30,
          32,
          27,
          32,
          24,
          31,
          33,
          24,
          23,
          25,
          28,
          25,
          26,
          30,
          24,
          23,
          24,
          34,
          23,
          27,
          24,
          26,
          23,
          24,
          31,
          25,
          22,
          24,
          27,
          28,
          26,
          25,
          27,
          27,
          25,
          28,
          28,
          30,
          29,
          28,
          26,
          27,
          29,
          28,
          27,
          30,
          28,
          28,
          27,
          24,
          30,
          29,
          28,
          30,
          26,
          25,
          25,
          25,
          29,
          26,
          26,
          30,
          31,
          24,
          26,
          30,
          32,
          27,
          26,
          31,
          25,
          33,
          28,
          25,
          25,
          29,
          25,
          25,
          26,
          32,
          29,
          26,
          26,
          27,
          30,
          35,
          27,
          23,
          30
         ],
         "xaxis": "x3",
         "y": [
          8,
          5,
          4,
          6,
          3,
          10,
          4,
          6,
          7,
          7,
          11,
          1,
          2,
          7,
          6,
          2,
          2,
          7,
          2,
          6,
          3,
          1,
          5,
          3,
          7,
          6,
          4,
          1,
          3,
          8,
          5,
          2,
          4,
          4,
          5,
          3,
          10,
          6,
          5,
          7,
          3,
          2,
          6,
          3,
          4,
          5,
          4,
          5,
          10,
          7,
          4,
          null,
          4,
          6,
          1,
          7,
          7,
          10,
          5,
          1,
          1,
          5,
          7,
          6,
          10,
          4,
          6,
          2,
          8,
          11,
          2,
          1,
          2,
          6,
          3,
          3,
          7,
          2,
          1,
          2,
          12,
          2,
          4,
          3,
          4,
          null,
          1,
          8,
          3,
          1,
          1,
          5,
          5,
          2,
          3,
          5,
          3,
          2,
          4,
          6,
          8,
          6,
          6,
          3,
          5,
          7,
          6,
          5,
          7,
          4,
          6,
          4,
          2,
          8,
          6,
          5,
          8,
          4,
          3,
          3,
          3,
          6,
          4,
          4,
          8,
          9,
          2,
          2,
          7,
          10,
          5,
          4,
          8,
          3,
          11,
          6,
          3,
          3,
          6,
          4,
          3,
          3,
          9,
          7,
          4,
          4,
          5,
          8,
          13,
          5,
          1,
          9
         ],
         "yaxis": "y3"
        },
        {
         "customdata": [
          [
           "Rob Burnett",
           2000
          ],
          [
           "Jessie Armstead",
           2000
          ],
          [
           "Jason Taylor",
           2000
          ],
          [
           "Hugh Douglas",
           2000
          ],
          [
           "Mo Lewis",
           2000
          ],
          [
           "Trace Armstrong",
           2000
          ],
          [
           "Joe Johnson",
           2000
          ],
          [
           "Jason Taylor",
           2001
          ],
          [
           "John Abraham",
           2001
          ],
          [
           "Michael Strahan",
           2001
          ],
          [
           "Jason Gildon",
           2001
          ],
          [
           "Marcellus Wiley",
           2001
          ],
          [
           "Robert Porcher",
           2001
          ],
          [
           "Michael Strahan",
           2002
          ],
          [
           "Julian Peterson",
           2002
          ],
          [
           "Jason Taylor",
           2002
          ],
          [
           "Simeon Rice",
           2002
          ],
          [
           "Joey Porter",
           2002
          ],
          [
           "Hugh Douglas",
           2002
          ],
          [
           "John Abraham",
           2002
          ],
          [
           "Richard Seymour",
           2002
          ],
          [
           "Gary Walker",
           2002
          ],
          [
           "Simeon Rice",
           2003
          ],
          [
           "Derrick Brooks",
           2003
          ],
          [
           "Michael Strahan",
           2003
          ],
          [
           "Leonard Little",
           2003
          ],
          [
           "Dwight Freeney",
           2003
          ],
          [
           "Adalius Thomas",
           2003
          ],
          [
           "Adewale Ogunleye",
           2003
          ],
          [
           "Patrick Kerney",
           2004
          ],
          [
           "Julius Peppers",
           2004
          ],
          [
           "Richard Seymour",
           2004
          ],
          [
           "Dwight Freeney",
           2004
          ],
          [
           "Bertrand Berry",
           2004
          ],
          [
           "Joey Porter",
           2004
          ],
          [
           "Jason Taylor",
           2004
          ],
          [
           "Dwight Freeney",
           2005
          ],
          [
           "Osi Umenyiora",
           2005
          ],
          [
           "Richard Seymour",
           2005
          ],
          [
           "Michael Strahan",
           2005
          ],
          [
           "Shawne Merriman",
           2005
          ],
          [
           "Joey Porter",
           2005
          ],
          [
           "Derrick Burgess",
           2005
          ],
          [
           "Jason Taylor",
           2006
          ],
          [
           "Julius Peppers",
           2006
          ],
          [
           "Aaron Kampman",
           2006
          ],
          [
           "Aaron Schobel",
           2006
          ],
          [
           "Shawne Merriman",
           2006
          ],
          [
           "Adalius Thomas",
           2006
          ],
          [
           "Lance Briggs",
           2006
          ],
          [
           "DeMarcus Ware",
           2006
          ],
          [
           "Jared Allen",
           2007
          ],
          [
           "Patrick Kerney",
           2007
          ],
          [
           "Mario Williams",
           2007
          ],
          [
           "Aaron Kampman",
           2007
          ],
          [
           "Kyle Vanden Bosch",
           2007
          ],
          [
           "DeMarcus Ware",
           2007
          ],
          [
           "Mike Vrabel",
           2007
          ],
          [
           "James Harrison",
           2007
          ],
          [
           "Julian Peterson",
           2007
          ],
          [
           "Shawne Merriman",
           2007
          ],
          [
           "Ty Warren",
           2007
          ],
          [
           "Justin Tuck",
           2008
          ],
          [
           "John Abraham",
           2008
          ],
          [
           "Mario Williams",
           2008
          ],
          [
           "Julius Peppers",
           2008
          ],
          [
           "Jared Allen",
           2008
          ],
          [
           "Robert Mathis",
           2008
          ],
          [
           "James Harrison",
           2008
          ],
          [
           "DeMarcus Ware",
           2008
          ],
          [
           "Joey Porter",
           2008
          ],
          [
           "Lance Briggs",
           2008
          ],
          [
           "Terrell Suggs",
           2008
          ],
          [
           "Dwight Freeney",
           2009
          ],
          [
           "Jared Allen",
           2009
          ],
          [
           "Justin Smith",
           2009
          ],
          [
           "Trent Cole",
           2009
          ],
          [
           "Mario Williams",
           2009
          ],
          [
           "Julius Peppers",
           2009
          ],
          [
           "Robert Mathis",
           2009
          ],
          [
           "DeMarcus Ware",
           2009
          ],
          [
           "Elvis Dumervil",
           2009
          ],
          [
           "LaMarr Woodley",
           2009
          ],
          [
           "Lance Briggs",
           2009
          ],
          [
           "Brian Cushing",
           2009
          ],
          [
           "James Harrison",
           2009
          ],
          [
           "Anthony Spencer",
           2009
          ],
          [
           "Daryl Smith",
           2009
          ],
          [
           "Julius Peppers",
           2010
          ],
          [
           "John Abraham",
           2010
          ],
          [
           "Justin Tuck",
           2010
          ],
          [
           "Trent Cole",
           2010
          ],
          [
           "Justin Smith",
           2010
          ],
          [
           "Dwight Freeney",
           2010
          ],
          [
           "Robert Mathis",
           2010
          ],
          [
           "Osi Umenyiora",
           2010
          ],
          [
           "Charles Johnson",
           2010
          ],
          [
           "James Harrison",
           2010
          ],
          [
           "Clay Matthews",
           2010
          ],
          [
           "Cameron Wake",
           2010
          ],
          [
           "Tamba Hali",
           2010
          ],
          [
           "DeMarcus Ware",
           2010
          ],
          [
           "Jared Allen",
           2011
          ],
          [
           "Jason Pierre-Paul",
           2011
          ],
          [
           "Jason Babin",
           2011
          ],
          [
           "Ray McDonald",
           2011
          ],
          [
           "Andre Carter",
           2011
          ],
          [
           "Elvis Dumervil",
           2011
          ],
          [
           "J.J. Watt",
           2011
          ],
          [
           "Trent Cole",
           2011
          ],
          [
           "Calais Campbell",
           2011
          ],
          [
           "DeMarcus Ware",
           2011
          ],
          [
           "Terrell Suggs",
           2011
          ],
          [
           "Von Miller",
           2011
          ],
          [
           "Cameron Wake",
           2011
          ],
          [
           "Daryl Smith",
           2011
          ],
          [
           "Clay Matthews",
           2011
          ],
          [
           "Tamba Hali",
           2011
          ],
          [
           "Erin Henderson",
           2011
          ],
          [
           "Sean Weatherspoon",
           2011
          ],
          [
           "J.J. Watt",
           2012
          ],
          [
           "Cameron Wake",
           2012
          ],
          [
           "Julius Peppers",
           2012
          ],
          [
           "Jared Allen",
           2012
          ],
          [
           "Von Miller",
           2012
          ],
          [
           "Aldon Smith",
           2012
          ],
          [
           "Jerod Mayo",
           2012
          ],
          [
           "DeMarcus Ware",
           2012
          ],
          [
           "Clay Matthews",
           2012
          ],
          [
           "Kevin Burnett",
           2012
          ],
          [
           "Ahmad Brooks",
           2012
          ],
          [
           "Chad Greenway",
           2012
          ],
          [
           "J.J. Watt",
           2013
          ],
          [
           "Robert Quinn",
           2013
          ],
          [
           "Greg Hardy",
           2013
          ],
          [
           "Cameron Wake",
           2013
          ],
          [
           "Mario Williams",
           2013
          ],
          [
           "Robert Mathis",
           2013
          ],
          [
           "Lavonte David",
           2013
          ],
          [
           "Ahmad Brooks",
           2013
          ],
          [
           "Justin Houston",
           2013
          ],
          [
           "Tamba Hali",
           2013
          ],
          [
           "J.J. Watt",
           2014
          ],
          [
           "Mario Williams",
           2014
          ],
          [
           "Robert Quinn",
           2014
          ],
          [
           "Calais Campbell",
           2014
          ],
          [
           "Fletcher Cox",
           2014
          ],
          [
           "Cameron Wake",
           2014
          ],
          [
           "Justin Houston",
           2014
          ],
          [
           "Von Miller",
           2014
          ],
          [
           "Elvis Dumervil",
           2014
          ],
          [
           "DeAndre Levy",
           2014
          ],
          [
           "Connor Barwin",
           2014
          ],
          [
           "Khalil Mack",
           2015
          ],
          [
           "J.J. Watt",
           2015
          ],
          [
           "Olivier Vernon",
           2015
          ],
          [
           "Ezekiel Ansah",
           2015
          ],
          [
           "Michael Bennett",
           2015
          ],
          [
           "Muhammad Wilkerson",
           2015
          ],
          [
           "Cameron Jordan",
           2015
          ],
          [
           "Von Miller",
           2015
          ],
          [
           "Thomas Davis",
           2015
          ],
          [
           "Justin Houston",
           2015
          ],
          [
           "Lavonte David",
           2015
          ],
          [
           "Jamie Collins",
           2015
          ],
          [
           "Khalil Mack",
           2016
          ],
          [
           "Jadeveon Clowney",
           2016
          ],
          [
           "Brandon Graham",
           2016
          ],
          [
           "Cliff Avril",
           2016
          ],
          [
           "Von Miller",
           2016
          ],
          [
           "Vic Beasley",
           2016
          ],
          [
           "Lorenzo Alexander",
           2016
          ],
          [
           "Ryan Kerrigan",
           2016
          ],
          [
           "Cameron Jordan",
           2016
          ],
          [
           "Cameron Wake",
           2016
          ],
          [
           "Olivier Vernon",
           2016
          ],
          [
           "Cameron Jordan",
           2017
          ],
          [
           "Calais Campbell",
           2017
          ],
          [
           "Everson Griffen",
           2017
          ],
          [
           "DeMarcus Lawrence",
           2017
          ],
          [
           "Joey Bosa",
           2017
          ],
          [
           "Chandler Jones",
           2017
          ],
          [
           "Von Miller",
           2017
          ],
          [
           "Jadeveon Clowney",
           2017
          ],
          [
           "Ryan Kerrigan",
           2017
          ],
          [
           "J.J. Watt",
           2018
          ],
          [
           "Danielle Hunter",
           2018
          ],
          [
           "Cameron Jordan",
           2018
          ],
          [
           "Myles Garrett",
           2018
          ],
          [
           "DeMarcus Lawrence",
           2018
          ],
          [
           "Trey Flowers",
           2018
          ],
          [
           "Khalil Mack",
           2018
          ],
          [
           "Von Miller",
           2018
          ],
          [
           "Shaquille Leonard",
           2018
          ],
          [
           "Ryan Kerrigan",
           2018
          ],
          [
           "Cameron Jordan",
           2019
          ],
          [
           "Joey Bosa",
           2019
          ],
          [
           "Danielle Hunter",
           2019
          ],
          [
           "Za'Darius Smith",
           2019
          ],
          [
           "Calais Campbell",
           2019
          ],
          [
           "T.J. Watt",
           2019
          ],
          [
           "Chandler Jones",
           2019
          ],
          [
           "Shaquil Barrett",
           2019
          ],
          [
           "Matt Judon",
           2019
          ],
          [
           "Myles Garrett",
           2020
          ],
          [
           "Joey Bosa",
           2020
          ],
          [
           "Trey Hendrickson",
           2020
          ],
          [
           "Cameron Jordan",
           2020
          ],
          [
           "Chase Young",
           2020
          ],
          [
           "DeMarcus Lawrence",
           2020
          ],
          [
           "T.J. Watt",
           2020
          ],
          [
           "Khalil Mack",
           2020
          ],
          [
           "Za'Darius Smith",
           2020
          ],
          [
           "Bradley Chubb",
           2020
          ],
          [
           "Myles Garrett",
           2021
          ],
          [
           "Nick Bosa",
           2021
          ],
          [
           "Maxx Crosby",
           2021
          ],
          [
           "Cameron Jordan",
           2021
          ],
          [
           "Micah Parsons",
           2021
          ],
          [
           "T.J. Watt",
           2021
          ],
          [
           "Robert Quinn",
           2021
          ],
          [
           "Matt Judon",
           2021
          ],
          [
           "Nick Bosa",
           2022
          ],
          [
           "Myles Garrett",
           2022
          ],
          [
           "Maxx Crosby",
           2022
          ],
          [
           "Brian Burns",
           2022
          ],
          [
           "Micah Parsons",
           2022
          ],
          [
           "Haason Reddick",
           2022
          ],
          [
           "Matt Judon",
           2022
          ],
          [
           "Matt Milano",
           2022
          ],
          [
           "Alex Highsmith",
           2022
          ],
          [
           "Myles Garrett",
           2023
          ],
          [
           "Maxx Crosby",
           2023
          ],
          [
           "Trey Hendrickson",
           2023
          ],
          [
           "Nick Bosa",
           2023
          ],
          [
           "Aidan Hutchinson",
           2023
          ],
          [
           "Micah Parsons",
           2023
          ],
          [
           "T.J. Watt",
           2023
          ],
          [
           "Danielle Hunter",
           2023
          ],
          [
           "Josh Hines-Allen",
           2023
          ],
          [
           "Myles Garrett",
           2024
          ],
          [
           "Trey Hendrickson",
           2024
          ],
          [
           "Micah Parsons",
           2024
          ],
          [
           "Nick Bosa",
           2024
          ],
          [
           "T.J. Watt",
           2024
          ],
          [
           "Nik Bonitto",
           2024
          ],
          [
           "Andrew Van Ginkel",
           2024
          ],
          [
           "Jonathan Greenard",
           2024
          ]
         ],
         "hovertemplate": "Player: %{customdata[0]}<br>Year: %{customdata[1]}<br>Age: %{x}<br>Yrs: %{y}<extra></extra>",
         "marker": {
          "opacity": 0.7,
          "size": 6
         },
         "mode": "markers",
         "name": "EDGE",
         "type": "scatter",
         "x": [
          33,
          30,
          26,
          29,
          31,
          35,
          28,
          27,
          23,
          30,
          29,
          27,
          32,
          31,
          24,
          28,
          28,
          25,
          31,
          24,
          23,
          29,
          29,
          30,
          32,
          29,
          23,
          26,
          26,
          28,
          24,
          25,
          24,
          29,
          27,
          30,
          25,
          24,
          26,
          34,
          21,
          28,
          27,
          32,
          26,
          27,
          29,
          22,
          29,
          26,
          24,
          25,
          31,
          22,
          28,
          29,
          25,
          32,
          29,
          29,
          23,
          26,
          25,
          30,
          23,
          28,
          26,
          27,
          30,
          26,
          31,
          28,
          26,
          29,
          27,
          30,
          27,
          24,
          29,
          28,
          27,
          25,
          25,
          29,
          22,
          31,
          25,
          27,
          30,
          32,
          27,
          28,
          31,
          30,
          29,
          29,
          24,
          32,
          24,
          28,
          27,
          28,
          29,
          22,
          31,
          27,
          32,
          27,
          22,
          29,
          25,
          29,
          29,
          22,
          29,
          29,
          25,
          28,
          25,
          24,
          23,
          30,
          32,
          30,
          23,
          23,
          26,
          30,
          26,
          30,
          28,
          29,
          24,
          23,
          25,
          31,
          28,
          32,
          23,
          29,
          24,
          30,
          25,
          29,
          24,
          28,
          24,
          32,
          25,
          25,
          30,
          27,
          28,
          24,
          26,
          25,
          26,
          30,
          26,
          26,
          26,
          32,
          26,
          25,
          26,
          25,
          23,
          28,
          30,
          27,
          24,
          33,
          28,
          27,
          34,
          26,
          28,
          31,
          30,
          25,
          22,
          27,
          28,
          24,
          29,
          29,
          24,
          29,
          23,
          26,
          25,
          27,
          29,
          23,
          30,
          30,
          24,
          25,
          27,
          33,
          25,
          29,
          27,
          27,
          25,
          25,
          26,
          31,
          21,
          28,
          26,
          29,
          28,
          24,
          26,
          24,
          24,
          32,
          22,
          27,
          31,
          29,
          25,
          27,
          25,
          24,
          23,
          28,
          30,
          28,
          25,
          28,
          26,
          29,
          26,
          23,
          24,
          29,
          29,
          26,
          29,
          30,
          25,
          27,
          30,
          25,
          29,
          27
         ],
         "xaxis": "x4",
         "y": [
          10,
          7,
          3,
          5,
          9,
          11,
          6,
          4,
          1,
          8,
          7,
          4,
          9,
          9,
          2,
          5,
          6,
          3,
          7,
          2,
          1,
          7,
          7,
          8,
          10,
          5,
          1,
          3,
          2,
          5,
          2,
          3,
          2,
          7,
          5,
          7,
          3,
          2,
          4,
          12,
          null,
          6,
          4,
          9,
          4,
          4,
          5,
          1,
          6,
          3,
          1,
          3,
          8,
          1,
          5,
          6,
          2,
          10,
          5,
          7,
          2,
          4,
          3,
          8,
          2,
          6,
          4,
          5,
          6,
          3,
          9,
          5,
          5,
          7,
          5,
          8,
          4,
          3,
          7,
          6,
          4,
          3,
          2,
          6,
          null,
          7,
          2,
          5,
          8,
          10,
          5,
          5,
          9,
          8,
          7,
          7,
          3,
          8,
          1,
          1,
          4,
          5,
          7,
          1,
          7,
          4,
          10,
          5,
          null,
          6,
          3,
          6,
          8,
          null,
          2,
          7,
          2,
          5,
          3,
          1,
          1,
          3,
          10,
          8,
          1,
          1,
          4,
          7,
          3,
          7,
          6,
          5,
          2,
          2,
          3,
          4,
          7,
          10,
          1,
          7,
          2,
          7,
          3,
          8,
          3,
          6,
          2,
          5,
          3,
          3,
          8,
          5,
          5,
          1,
          4,
          3,
          2,
          6,
          4,
          4,
          4,
          10,
          4,
          3,
          2,
          2,
          2,
          6,
          8,
          5,
          1,
          9,
          5,
          5,
          7,
          4,
          6,
          9,
          7,
          3,
          1,
          5,
          6,
          3,
          6,
          7,
          3,
          7,
          1,
          4,
          3,
          4,
          7,
          null,
          7,
          8,
          3,
          4,
          4,
          11,
          2,
          7,
          4,
          3,
          3,
          4,
          3,
          9,
          null,
          6,
          3,
          6,
          5,
          2,
          4,
          2,
          2,
          10,
          null,
          4,
          10,
          5,
          3,
          5,
          3,
          3,
          1,
          5,
          6,
          5,
          2,
          6,
          4,
          6,
          4,
          1,
          2,
          6,
          8,
          4,
          7,
          7,
          3,
          5,
          7,
          2,
          5,
          4
         ],
         "yaxis": "y4"
        },
        {
         "customdata": [
          [
           "William Henderson",
           2004
          ],
          [
           "Tony Richardson",
           2004
          ],
          [
           "Mack Strong",
           2005
          ],
          [
           "Lorenzo Neal",
           2005
          ],
          [
           "Lorenzo Neal",
           2006
          ],
          [
           "Ovie Mughelli",
           2006
          ],
          [
           "Mike Karney",
           2006
          ],
          [
           "Lorenzo Neal",
           2007
          ],
          [
           "Tony Richardson",
           2007
          ],
          [
           "Le'Ron McClain",
           2008
          ],
          [
           "Madison Hedgecock",
           2008
          ],
          [
           "Leonard Weaver",
           2009
          ],
          [
           "Lousaka Polite",
           2009
          ],
          [
           "Le'Ron McClain",
           2009
          ],
          [
           "Ovie Mughelli",
           2010
          ],
          [
           "Vonta Leach",
           2010
          ],
          [
           "Greg Jones",
           2010
          ],
          [
           "Vonta Leach",
           2011
          ],
          [
           "John Kuhn",
           2011
          ],
          [
           "Jed Collins",
           2011
          ],
          [
           "Vonta Leach",
           2012
          ],
          [
           "Marcel Reece",
           2012
          ],
          [
           "Jerome Felton",
           2012
          ],
          [
           "Mike Tolbert",
           2013
          ],
          [
           "Anthony Sherman",
           2013
          ],
          [
           "Marcel Reece",
           2013
          ],
          [
           "Anthony Sherman",
           2014
          ],
          [
           "John Kuhn",
           2014
          ],
          [
           "Bruce Miller",
           2014
          ],
          [
           "Patrick DiMarco",
           2015
          ],
          [
           "Mike Tolbert",
           2015
          ],
          [
           "Kyle Juszczyk",
           2016
          ],
          [
           "James Develin",
           2016
          ],
          [
           "Kyle Juszczyk",
           2022
          ],
          [
           "Kyle Juszczyk",
           2023
          ],
          [
           "Michael Burton",
           2023
          ],
          [
           "Patrick Ricard",
           2023
          ],
          [
           "Hunter Luepke",
           2023
          ],
          [
           "Kyle Juszczyk",
           2024
          ],
          [
           "Patrick Ricard",
           2024
          ]
         ],
         "hovertemplate": "Player: %{customdata[0]}<br>Year: %{customdata[1]}<br>Age: %{x}<br>Yrs: %{y}<extra></extra>",
         "marker": {
          "opacity": 0.7,
          "size": 6
         },
         "mode": "markers",
         "name": "FB",
         "type": "scatter",
         "x": [
          33,
          33,
          34,
          35,
          36,
          26,
          25,
          37,
          36,
          24,
          27,
          27,
          28,
          25,
          30,
          29,
          29,
          30,
          29,
          25,
          31,
          27,
          26,
          28,
          25,
          28,
          26,
          32,
          27,
          26,
          30,
          25,
          28,
          31,
          32,
          31,
          29,
          23,
          33,
          30
         ],
         "xaxis": "x5",
         "y": [
          9,
          9,
          11,
          12,
          13,
          3,
          2,
          14,
          12,
          1,
          3,
          4,
          5,
          2,
          7,
          6,
          6,
          7,
          5,
          null,
          8,
          3,
          4,
          5,
          2,
          4,
          3,
          8,
          3,
          3,
          7,
          3,
          4,
          9,
          10,
          8,
          6,
          null,
          11,
          7
         ],
         "yaxis": "y5"
        },
        {
         "customdata": [
          [
           "Ruben Brown",
           2000
          ],
          [
           "Bruce Matthews",
           2000
          ],
          [
           "Larry Allen",
           2000
          ],
          [
           "Steve Wisniewski",
           2000
          ],
          [
           "Ron Stone",
           2000
          ],
          [
           "Adam Timmerman",
           2001
          ],
          [
           "Alan Faneca",
           2001
          ],
          [
           "Larry Allen",
           2001
          ],
          [
           "Ray Brown",
           2001
          ],
          [
           "Will Shields",
           2001
          ],
          [
           "Ruben Brown",
           2002
          ],
          [
           "Will Shields",
           2002
          ],
          [
           "Alan Faneca",
           2002
          ],
          [
           "Jermane Mayberry",
           2002
          ],
          [
           "Ron Stone",
           2002
          ],
          [
           "Will Shields",
           2003
          ],
          [
           "Steve Hutchinson",
           2003
          ],
          [
           "Marco Rivera",
           2003
          ],
          [
           "Alan Faneca",
           2003
          ],
          [
           "Brian Waters",
           2004
          ],
          [
           "Alan Faneca",
           2004
          ],
          [
           "Will Shields",
           2004
          ],
          [
           "Steve Hutchinson",
           2004
          ],
          [
           "Marco Rivera",
           2004
          ],
          [
           "Brian Waters",
           2005
          ],
          [
           "Steve Hutchinson",
           2005
          ],
          [
           "Alan Faneca",
           2005
          ],
          [
           "Will Shields",
           2005
          ],
          [
           "Mike Wahle",
           2005
          ],
          [
           "Steve Hutchinson",
           2006
          ],
          [
           "Shawn Andrews",
           2006
          ],
          [
           "Alan Faneca",
           2006
          ],
          [
           "Will Shields",
           2006
          ],
          [
           "Steve Hutchinson",
           2007
          ],
          [
           "Logan Mankins",
           2007
          ],
          [
           "Alan Faneca",
           2007
          ],
          [
           "Shawn Andrews",
           2007
          ],
          [
           "Leonard Davis",
           2007
          ],
          [
           "Steve Hutchinson",
           2008
          ],
          [
           "Chris Snee",
           2008
          ],
          [
           "Alan Faneca",
           2008
          ],
          [
           "Kris Dielman",
           2008
          ],
          [
           "Carl Nicks",
           2009
          ],
          [
           "Jahri Evans",
           2009
          ],
          [
           "Steve Hutchinson",
           2009
          ],
          [
           "Logan Mankins",
           2009
          ],
          [
           "Alan Faneca",
           2009
          ],
          [
           "Kris Dielman",
           2009
          ],
          [
           "Steve Neal",
           2009
          ],
          [
           "Chris Snee",
           2009
          ],
          [
           "Wade Smith",
           2010
          ],
          [
           "Jahri Evans",
           2010
          ],
          [
           "Chris Snee",
           2010
          ],
          [
           "Carl Nicks",
           2010
          ],
          [
           "Logan Mankins",
           2010
          ],
          [
           "Kris Dielman",
           2010
          ],
          [
           "Brian Waters",
           2010
          ],
          [
           "Josh Sitton",
           2010
          ],
          [
           "Harvey Dahl",
           2010
          ],
          [
           "Evan Mathis",
           2011
          ],
          [
           "Carl Nicks",
           2011
          ],
          [
           "Jahri Evans",
           2011
          ],
          [
           "Marshal Yanda",
           2011
          ],
          [
           "Brian Waters",
           2011
          ],
          [
           "Logan Mankins",
           2011
          ],
          [
           "Josh Sitton",
           2011
          ],
          [
           "Evan Mathis",
           2012
          ],
          [
           "Mike Iupati",
           2012
          ],
          [
           "Marshal Yanda",
           2012
          ],
          [
           "Jahri Evans",
           2012
          ],
          [
           "Logan Mankins",
           2012
          ],
          [
           "Alex Boone",
           2012
          ],
          [
           "Evan Mathis",
           2013
          ],
          [
           "Louis Vasquez",
           2013
          ],
          [
           "Logan Mankins",
           2013
          ],
          [
           "Marshal Yanda",
           2013
          ],
          [
           "Josh Sitton",
           2013
          ],
          [
           "Jahri Evans",
           2013
          ],
          [
           "Larry Warford",
           2013
          ],
          [
           "Kelechi Osemele",
           2014
          ],
          [
           "Marshal Yanda",
           2014
          ],
          [
           "Josh Sitton",
           2014
          ],
          [
           "Joel Bitonio",
           2014
          ],
          [
           "Zack Martin",
           2014
          ],
          [
           "Kyle Long",
           2014
          ],
          [
           "T.J. Lang",
           2014
          ],
          [
           "Richie Incognito",
           2015
          ],
          [
           "Marshal Yanda",
           2015
          ],
          [
           "Zack Martin",
           2015
          ],
          [
           "David DeCastro",
           2015
          ],
          [
           "Josh Sitton",
           2015
          ],
          [
           "Mike Iupati",
           2015
          ],
          [
           "Kelechi Osemele",
           2016
          ],
          [
           "Zack Martin",
           2016
          ],
          [
           "Marshal Yanda",
           2016
          ],
          [
           "T.J. Lang",
           2016
          ],
          [
           "Kevin Zeitler",
           2016
          ],
          [
           "David DeCastro",
           2016
          ],
          [
           "Andrew Norwell",
           2017
          ],
          [
           "Joel Bitonio",
           2017
          ],
          [
           "Rodger Saffold",
           2017
          ],
          [
           "David DeCastro",
           2017
          ],
          [
           "Zack Martin",
           2017
          ],
          [
           "Brandon Brooks",
           2017
          ],
          [
           "Kelechi Osemele",
           2017
          ],
          [
           "Joel Bitonio",
           2018
          ],
          [
           "Quenton Nelson",
           2018
          ],
          [
           "Zack Martin",
           2018
          ],
          [
           "Marshal Yanda",
           2018
          ],
          [
           "Brandon Brooks",
           2018
          ],
          [
           "Shaq Mason",
           2018
          ],
          [
           "Joe Thuney",
           2019
          ],
          [
           "Joel Bitonio",
           2019
          ],
          [
           "Quenton Nelson",
           2019
          ],
          [
           "Zack Martin",
           2019
          ],
          [
           "Marshal Yanda",
           2019
          ],
          [
           "Brandon Brooks",
           2019
          ],
          [
           "Quenton Nelson",
           2020
          ],
          [
           "Joel Bitonio",
           2020
          ],
          [
           "Brandon Scherff",
           2020
          ],
          [
           "Ali Marpet",
           2020
          ],
          [
           "Wyatt Teller",
           2020
          ],
          [
           "Joel Bitonio",
           2021
          ],
          [
           "Zack Martin",
           2021
          ],
          [
           "Ali Marpet",
           2021
          ],
          [
           "Quenton Nelson",
           2021
          ],
          [
           "Shaq Mason",
           2021
          ],
          [
           "Wyatt Teller",
           2021
          ],
          [
           "Joel Bitonio",
           2022
          ],
          [
           "Zack Martin",
           2022
          ],
          [
           "Chris Lindstrom",
           2022
          ],
          [
           "Joe Thuney",
           2022
          ],
          [
           "Michael Onwenu",
           2022
          ],
          [
           "Tyler Smith",
           2023
          ],
          [
           "Joe Thuney",
           2023
          ],
          [
           "Zack Martin",
           2023
          ],
          [
           "Chris Lindstrom",
           2023
          ],
          [
           "Joel Bitonio",
           2023
          ],
          [
           "Kevin Dotson",
           2023
          ],
          [
           "Quenton Nelson",
           2024
          ],
          [
           "Joe Thuney",
           2024
          ],
          [
           "Chris Lindstrom",
           2024
          ],
          [
           "Quinn Meinerz",
           2024
          ],
          [
           "Landon Dickerson",
           2024
          ]
         ],
         "hovertemplate": "Player: %{customdata[0]}<br>Year: %{customdata[1]}<br>Age: %{x}<br>Yrs: %{y}<extra></extra>",
         "marker": {
          "opacity": 0.7,
          "size": 6
         },
         "mode": "markers",
         "name": "G",
         "type": "scatter",
         "x": [
          28,
          39,
          29,
          33,
          29,
          30,
          25,
          30,
          39,
          30,
          30,
          31,
          26,
          29,
          31,
          32,
          26,
          31,
          27,
          27,
          28,
          33,
          27,
          32,
          28,
          28,
          29,
          34,
          28,
          29,
          24,
          30,
          35,
          30,
          25,
          31,
          25,
          29,
          31,
          26,
          32,
          27,
          24,
          26,
          32,
          27,
          33,
          28,
          33,
          27,
          29,
          27,
          28,
          25,
          28,
          29,
          33,
          24,
          29,
          30,
          26,
          28,
          27,
          34,
          29,
          25,
          31,
          25,
          28,
          29,
          30,
          25,
          32,
          26,
          31,
          29,
          27,
          30,
          22,
          25,
          30,
          28,
          23,
          24,
          26,
          27,
          32,
          31,
          25,
          25,
          29,
          28,
          27,
          26,
          32,
          29,
          26,
          26,
          26,
          26,
          29,
          27,
          27,
          28,
          28,
          27,
          22,
          28,
          34,
          29,
          25,
          27,
          28,
          23,
          29,
          35,
          30,
          24,
          29,
          29,
          27,
          26,
          30,
          31,
          28,
          25,
          28,
          27,
          31,
          32,
          25,
          30,
          25,
          22,
          31,
          33,
          26,
          32,
          27,
          28,
          32,
          27,
          26,
          26
         ],
         "xaxis": "x6",
         "y": [
          5,
          17,
          6,
          11,
          6,
          6,
          3,
          7,
          15,
          8,
          7,
          9,
          4,
          6,
          8,
          10,
          2,
          6,
          5,
          4,
          6,
          11,
          3,
          7,
          5,
          4,
          7,
          12,
          7,
          5,
          2,
          8,
          13,
          6,
          2,
          9,
          3,
          6,
          7,
          4,
          10,
          5,
          1,
          3,
          8,
          4,
          11,
          6,
          7,
          5,
          7,
          4,
          6,
          2,
          5,
          7,
          10,
          2,
          4,
          6,
          3,
          5,
          4,
          11,
          6,
          3,
          7,
          2,
          5,
          6,
          7,
          2,
          8,
          4,
          8,
          6,
          5,
          7,
          null,
          2,
          7,
          6,
          null,
          null,
          1,
          5,
          9,
          8,
          1,
          3,
          7,
          5,
          4,
          2,
          9,
          7,
          4,
          4,
          3,
          3,
          7,
          5,
          3,
          5,
          5,
          4,
          null,
          4,
          11,
          6,
          3,
          3,
          5,
          1,
          5,
          12,
          7,
          2,
          6,
          5,
          5,
          2,
          7,
          7,
          6,
          3,
          6,
          3,
          8,
          8,
          3,
          6,
          2,
          1,
          7,
          9,
          4,
          9,
          3,
          6,
          8,
          5,
          3,
          3
         ],
         "yaxis": "y6"
        },
        {
         "customdata": [
          [
           "Matt Stover",
           2000
          ],
          [
           "Martin Gramatica",
           2000
          ],
          [
           "David Akers",
           2001
          ],
          [
           "Jason Elam",
           2001
          ],
          [
           "Adam Vinatieri",
           2002
          ],
          [
           "David Akers",
           2002
          ],
          [
           "Mike Vanderjagt",
           2003
          ],
          [
           "Jeff Wilkins",
           2003
          ],
          [
           "Adam Vinatieri",
           2004
          ],
          [
           "David Akers",
           2004
          ],
          [
           "Neil Rackers",
           2005
          ],
          [
           "Shayne Graham",
           2005
          ],
          [
           "Matt Stover",
           2006
          ],
          [
           "Robbie Gould",
           2006
          ],
          [
           "Nate Kaeding",
           2006
          ],
          [
           "Phil Dawson",
           2007
          ],
          [
           "Rob Bironas",
           2007
          ],
          [
           "Kris Brown",
           2007
          ],
          [
           "Nick Folk",
           2007
          ],
          [
           "Stephen Gostkowski",
           2008
          ],
          [
           "John Carney",
           2008
          ],
          [
           "Sebastian Janikowski",
           2009
          ],
          [
           "Rob Bironas",
           2009
          ],
          [
           "Nate Kaeding",
           2009
          ],
          [
           "David Akers",
           2009
          ],
          [
           "David Akers",
           2010
          ],
          [
           "Rob Bironas",
           2010
          ],
          [
           "Billy Cundiff",
           2010
          ],
          [
           "Matt Bryant",
           2010
          ],
          [
           "David Akers",
           2011
          ],
          [
           "Sebastian Janikowski",
           2011
          ],
          [
           "Blair Walsh",
           2012
          ],
          [
           "Phil Dawson",
           2012
          ],
          [
           "Nick Folk",
           2013
          ],
          [
           "Matt Prater",
           2013
          ],
          [
           "Justin Tucker",
           2013
          ],
          [
           "Stephen Hauschka",
           2013
          ],
          [
           "Matt Bryant",
           2014
          ],
          [
           "Stephen Gostkowski",
           2014
          ],
          [
           "Adam Vinatieri",
           2014
          ],
          [
           "Dan Bailey",
           2014
          ],
          [
           "Stephen Gostkowski",
           2015
          ],
          [
           "Dan Bailey",
           2015
          ],
          [
           "Justin Tucker",
           2016
          ],
          [
           "Matt Bryant",
           2016
          ],
          [
           "Matt Prater",
           2017
          ],
          [
           "Robbie Gould",
           2017
          ],
          [
           "Greg Zuerlein",
           2017
          ],
          [
           "Justin Tucker",
           2017
          ],
          [
           "Wil Lutz",
           2018
          ],
          [
           "Aldrick Rosas",
           2018
          ],
          [
           "Justin Tucker",
           2018
          ],
          [
           "Josh Lambo",
           2019
          ],
          [
           "Justin Tucker",
           2019
          ],
          [
           "Wil Lutz",
           2019
          ],
          [
           "Jason Sanders",
           2020
          ],
          [
           "Justin Tucker",
           2020
          ],
          [
           "Younghoe Koo",
           2020
          ],
          [
           "Jake Elliott",
           2021
          ],
          [
           "Daniel Carlson",
           2021
          ],
          [
           "Justin Tucker",
           2021
          ],
          [
           "Matt Gay",
           2021
          ],
          [
           "Daniel Carlson",
           2022
          ],
          [
           "Jason Myers",
           2022
          ],
          [
           "Justin Tucker",
           2022
          ],
          [
           "Brandon Aubrey",
           2023
          ],
          [
           "Chase McLaughlin",
           2023
          ],
          [
           "Justin Tucker",
           2023
          ],
          [
           "Jake Elliott",
           2023
          ],
          [
           "Chris Boswell",
           2024
          ],
          [
           "Brandon Aubrey",
           2024
          ]
         ],
         "hovertemplate": "Player: %{customdata[0]}<br>Year: %{customdata[1]}<br>Age: %{x}<br>Yrs: %{y}<extra></extra>",
         "marker": {
          "opacity": 0.7,
          "size": 6
         },
         "mode": "markers",
         "name": "K",
         "type": "scatter",
         "x": [
          32,
          25,
          27,
          31,
          30,
          28,
          33,
          31,
          32,
          30,
          29,
          28,
          38,
          24,
          24,
          32,
          29,
          31,
          23,
          24,
          44,
          31,
          31,
          27,
          35,
          36,
          32,
          30,
          35,
          37,
          33,
          22,
          37,
          29,
          29,
          24,
          28,
          39,
          30,
          42,
          26,
          31,
          27,
          27,
          41,
          33,
          35,
          30,
          28,
          24,
          24,
          29,
          29,
          30,
          25,
          25,
          31,
          26,
          26,
          26,
          32,
          27,
          27,
          31,
          33,
          28,
          27,
          34,
          28,
          33,
          29
         ],
         "xaxis": "x7",
         "y": [
          9,
          1,
          3,
          8,
          6,
          4,
          5,
          9,
          8,
          6,
          5,
          4,
          15,
          1,
          2,
          8,
          2,
          8,
          null,
          2,
          20,
          9,
          4,
          5,
          11,
          12,
          5,
          8,
          8,
          13,
          11,
          null,
          13,
          6,
          6,
          1,
          5,
          12,
          8,
          18,
          3,
          9,
          4,
          4,
          14,
          10,
          12,
          5,
          5,
          2,
          1,
          6,
          4,
          7,
          3,
          2,
          8,
          3,
          4,
          3,
          9,
          2,
          4,
          7,
          10,
          null,
          4,
          11,
          6,
          9,
          1
         ],
         "yaxis": "y7"
        },
        {
         "customdata": [
          [
           "Randall Godfrey",
           2000
          ],
          [
           "Stephen Boyd",
           2000
          ],
          [
           "Sam Cowart",
           2000
          ],
          [
           "Junior Seau",
           2000
          ],
          [
           "Ray Lewis",
           2000
          ],
          [
           "Derrick Brooks",
           2000
          ],
          [
           "Jeremiah Trotter",
           2000
          ],
          [
           "Keith Mitchell",
           2000
          ],
          [
           "Larry Izzo",
           2000
          ],
          [
           "Kendrell Bell",
           2001
          ],
          [
           "Zach Thomas",
           2001
          ],
          [
           "Jeremiah Trotter",
           2001
          ],
          [
           "Jamir Miller",
           2001
          ],
          [
           "Brian Urlacher",
           2001
          ],
          [
           "Ray Lewis",
           2001
          ],
          [
           "LaVar Arrington",
           2001
          ],
          [
           "Derrick Brooks",
           2001
          ],
          [
           "Ian Gold",
           2001
          ],
          [
           "Donnie Edwards",
           2002
          ],
          [
           "Keith Brooking",
           2002
          ],
          [
           "Brian Urlacher",
           2002
          ],
          [
           "Derrick Brooks",
           2002
          ],
          [
           "Zach Thomas",
           2002
          ],
          [
           "Keith Bulluck",
           2002
          ],
          [
           "LaVar Arrington",
           2002
          ],
          [
           "Larry Izzo",
           2002
          ],
          [
           "Zach Thomas",
           2003
          ],
          [
           "Tedy Bruschi",
           2003
          ],
          [
           "Julian Peterson",
           2003
          ],
          [
           "Ray Lewis",
           2003
          ],
          [
           "Keith Bulluck",
           2003
          ],
          [
           "LaVar Arrington",
           2003
          ],
          [
           "Dat Nguyen",
           2003
          ],
          [
           "Takeo Spikes",
           2003
          ],
          [
           "Ray Lewis",
           2004
          ],
          [
           "Tedy Bruschi",
           2004
          ],
          [
           "Donnie Edwards",
           2004
          ],
          [
           "Takeo Spikes",
           2004
          ],
          [
           "James Farrior",
           2004
          ],
          [
           "Derrick Brooks",
           2004
          ],
          [
           "Larry Izzo",
           2004
          ],
          [
           "Keith Brooking",
           2004
          ],
          [
           "Dan Morgan",
           2004
          ],
          [
           "Ike Reese",
           2004
          ],
          [
           "Zach Thomas",
           2005
          ],
          [
           "Mike Peterson",
           2005
          ],
          [
           "Brian Urlacher",
           2005
          ],
          [
           "Lance Briggs",
           2005
          ],
          [
           "Al Wilson",
           2005
          ],
          [
           "Cato June",
           2005
          ],
          [
           "Derrick Brooks",
           2005
          ],
          [
           "Al Wilson",
           2006
          ],
          [
           "Bart Scott",
           2006
          ],
          [
           "Brian Urlacher",
           2006
          ],
          [
           "Zach Thomas",
           2006
          ],
          [
           "Lofa Tatupu",
           2007
          ],
          [
           "Nick Barnett",
           2007
          ],
          [
           "Patrick Willis",
           2007
          ],
          [
           "DeMeco Ryans",
           2007
          ],
          [
           "Keith Bulluck",
           2007
          ],
          [
           "Jon Beason",
           2008
          ],
          [
           "James Farrior",
           2008
          ],
          [
           "Ray Lewis",
           2008
          ],
          [
           "Patrick Willis",
           2008
          ],
          [
           "Jon Beason",
           2009
          ],
          [
           "David Harris",
           2009
          ],
          [
           "Patrick Willis",
           2009
          ],
          [
           "Ray Lewis",
           2009
          ],
          [
           "Patrick Willis",
           2010
          ],
          [
           "Lawrence Timmons",
           2010
          ],
          [
           "Ray Lewis",
           2010
          ],
          [
           "Jerod Mayo",
           2010
          ],
          [
           "Brian Urlacher",
           2010
          ],
          [
           "NaVorro Bowman",
           2011
          ],
          [
           "Derrick Johnson",
           2011
          ],
          [
           "Ray Lewis",
           2011
          ],
          [
           "Stephen Tulloch",
           2011
          ],
          [
           "London Fletcher",
           2011
          ],
          [
           "Patrick Willis",
           2011
          ],
          [
           "Brian Cushing",
           2011
          ],
          [
           "NaVorro Bowman",
           2012
          ],
          [
           "Daryl Washington",
           2012
          ],
          [
           "London Fletcher",
           2012
          ],
          [
           "Bobby Wagner",
           2012
          ],
          [
           "Patrick Willis",
           2012
          ],
          [
           "Derrick Johnson",
           2012
          ],
          [
           "NaVorro Bowman",
           2013
          ],
          [
           "Karlos Dansby",
           2013
          ],
          [
           "Luke Kuechly",
           2013
          ],
          [
           "Vontaze Burfict",
           2013
          ],
          [
           "Patrick Willis",
           2013
          ],
          [
           "Thomas Davis",
           2013
          ],
          [
           "Bobby Wagner",
           2014
          ],
          [
           "C.J. Mosley",
           2014
          ],
          [
           "Lawrence Timmons",
           2014
          ],
          [
           "Luke Kuechly",
           2014
          ],
          [
           "C.J. Mosley",
           2014
          ],
          [
           "Dont'a Hightower",
           2014
          ],
          [
           "Jamie Collins",
           2014
          ],
          [
           "NaVorro Bowman",
           2015
          ],
          [
           "Bobby Wagner",
           2015
          ],
          [
           "Luke Kuechly",
           2015
          ],
          [
           "Derrick Johnson",
           2015
          ],
          [
           "Anthony Barr",
           2015
          ],
          [
           "K.J. Wright",
           2015
          ],
          [
           "Bobby Wagner",
           2016
          ],
          [
           "Dont'a Hightower",
           2016
          ],
          [
           "Luke Kuechly",
           2016
          ],
          [
           "Sean Lee",
           2016
          ],
          [
           "K.J. Wright",
           2016
          ],
          [
           "Paul Posluszny",
           2016
          ],
          [
           "Zach Brown",
           2016
          ],
          [
           "Zach Orr",
           2016
          ],
          [
           "Alec Ogletree",
           2016
          ],
          [
           "Lavonte David",
           2016
          ],
          [
           "C.J. Mosley",
           2016
          ],
          [
           "Whitney Mercilus",
           2016
          ],
          [
           "Benardrick McKinney",
           2016
          ],
          [
           "Luke Kuechly",
           2017
          ],
          [
           "Ryan Shazier",
           2017
          ],
          [
           "Bobby Wagner",
           2017
          ],
          [
           "Deion Jones",
           2017
          ],
          [
           "Lavonte David",
           2017
          ],
          [
           "Telvin Smith",
           2017
          ],
          [
           "C.J. Mosley",
           2017
          ],
          [
           "Bobby Wagner",
           2018
          ],
          [
           "C.J. Mosley",
           2018
          ],
          [
           "Luke Kuechly",
           2018
          ],
          [
           "Leighton Vander Esch",
           2018
          ],
          [
           "Zach Brown",
           2018
          ],
          [
           "Bobby Wagner",
           2019
          ],
          [
           "Shaquille Leonard",
           2019
          ],
          [
           "Eric Kendricks",
           2019
          ],
          [
           "Demario Davis",
           2019
          ],
          [
           "Luke Kuechly",
           2019
          ],
          [
           "Lavonte David",
           2019
          ],
          [
           "Fred Warner",
           2020
          ],
          [
           "Shaquille Leonard",
           2020
          ],
          [
           "Bobby Wagner",
           2020
          ],
          [
           "Roquan Smith",
           2020
          ],
          [
           "Lavonte David",
           2020
          ],
          [
           "Devin White",
           2020
          ],
          [
           "Myles Jack",
           2020
          ],
          [
           "Eric Kendricks",
           2020
          ],
          [
           "Demario Davis",
           2020
          ],
          [
           "De'Vondre Campbell",
           2021
          ],
          [
           "Shaquille Leonard",
           2021
          ],
          [
           "Demario Davis",
           2021
          ],
          [
           "Roquan Smith",
           2021
          ],
          [
           "Bobby Wagner",
           2021
          ],
          [
           "Lavonte David",
           2021
          ],
          [
           "Fred Warner",
           2022
          ],
          [
           "Roquan Smith",
           2022
          ],
          [
           "Bobby Wagner",
           2022
          ],
          [
           "T.J. Edwards",
           2022
          ],
          [
           "C.J. Mosley",
           2022
          ],
          [
           "Lavonte David",
           2022
          ],
          [
           "Demario Davis",
           2022
          ],
          [
           "Fred Warner",
           2023
          ],
          [
           "Roquan Smith",
           2023
          ],
          [
           "Demario Davis",
           2023
          ],
          [
           "Quincy Williams",
           2023
          ],
          [
           "Bobby Wagner",
           2023
          ],
          [
           "Patrick Queen",
           2023
          ],
          [
           "C.J. Mosley",
           2023
          ],
          [
           "Fred Warner",
           2024
          ],
          [
           "Roquan Smith",
           2024
          ],
          [
           "Zack Baun",
           2024
          ],
          [
           "Bobby Wagner",
           2024
          ],
          [
           "Zaire Franklin",
           2024
          ],
          [
           "Frankie Luvu",
           2024
          ],
          [
           "Jack Campbell",
           2024
          ]
         ],
         "hovertemplate": "Player: %{customdata[0]}<br>Year: %{customdata[1]}<br>Age: %{x}<br>Yrs: %{y}<extra></extra>",
         "marker": {
          "opacity": 0.7,
          "size": 6
         },
         "mode": "markers",
         "name": "LB",
         "type": "scatter",
         "x": [
          27,
          28,
          25,
          31,
          25,
          27,
          23,
          26,
          26,
          23,
          28,
          24,
          28,
          23,
          26,
          23,
          28,
          23,
          29,
          27,
          24,
          29,
          29,
          25,
          24,
          28,
          30,
          30,
          25,
          28,
          26,
          25,
          28,
          27,
          29,
          31,
          31,
          28,
          29,
          31,
          30,
          29,
          26,
          31,
          32,
          29,
          27,
          25,
          28,
          26,
          32,
          29,
          26,
          28,
          33,
          25,
          26,
          22,
          23,
          30,
          23,
          33,
          33,
          23,
          24,
          25,
          24,
          34,
          25,
          24,
          35,
          24,
          32,
          23,
          29,
          36,
          26,
          36,
          26,
          24,
          24,
          26,
          37,
          22,
          27,
          30,
          25,
          32,
          22,
          23,
          28,
          30,
          24,
          22,
          28,
          23,
          31,
          24,
          25,
          27,
          25,
          24,
          33,
          23,
          26,
          26,
          26,
          25,
          30,
          27,
          32,
          27,
          24,
          25,
          26,
          24,
          26,
          24,
          26,
          25,
          27,
          23,
          27,
          26,
          25,
          28,
          26,
          27,
          21,
          29,
          29,
          24,
          27,
          30,
          28,
          29,
          24,
          25,
          30,
          23,
          30,
          22,
          25,
          28,
          31,
          28,
          26,
          32,
          24,
          31,
          31,
          26,
          25,
          32,
          26,
          30,
          32,
          33,
          27,
          26,
          34,
          27,
          33,
          24,
          31,
          28,
          27,
          28,
          34,
          28,
          28,
          24
         ],
         "xaxis": "x8",
         "y": [
          4,
          5,
          2,
          10,
          4,
          5,
          2,
          3,
          4,
          null,
          5,
          3,
          7,
          1,
          5,
          1,
          6,
          1,
          6,
          4,
          2,
          7,
          6,
          2,
          2,
          6,
          7,
          7,
          3,
          7,
          3,
          3,
          4,
          5,
          8,
          8,
          8,
          6,
          7,
          9,
          8,
          6,
          3,
          6,
          9,
          6,
          5,
          2,
          6,
          2,
          10,
          7,
          4,
          6,
          10,
          2,
          4,
          null,
          1,
          7,
          1,
          11,
          12,
          1,
          2,
          2,
          2,
          13,
          3,
          3,
          14,
          2,
          10,
          1,
          6,
          15,
          5,
          13,
          4,
          2,
          2,
          2,
          14,
          null,
          5,
          7,
          3,
          9,
          1,
          1,
          6,
          8,
          2,
          null,
          7,
          2,
          9,
          2,
          1,
          5,
          3,
          3,
          10,
          1,
          4,
          4,
          4,
          4,
          6,
          5,
          9,
          4,
          2,
          3,
          4,
          2,
          4,
          1,
          5,
          3,
          5,
          1,
          5,
          3,
          3,
          6,
          4,
          6,
          null,
          6,
          7,
          1,
          4,
          7,
          7,
          7,
          2,
          2,
          8,
          2,
          8,
          1,
          4,
          5,
          8,
          5,
          3,
          9,
          3,
          9,
          9,
          4,
          4,
          10,
          3,
          8,
          10,
          10,
          5,
          5,
          11,
          4,
          11,
          3,
          9,
          6,
          6,
          4,
          12,
          6,
          6,
          1
         ],
         "yaxis": "y8"
        },
        {
         "customdata": [
          [
           "Peyton Manning",
           2000
          ],
          [
           "Rich Gannon",
           2000
          ],
          [
           "Daunte Culpepper",
           2000
          ],
          [
           "Brett Favre",
           2001
          ],
          [
           "Kurt Warner",
           2001
          ],
          [
           "Rich Gannon",
           2001
          ],
          [
           "Rich Gannon",
           2002
          ],
          [
           "Brett Favre",
           2002
          ],
          [
           "Steve McNair",
           2003
          ],
          [
           "Peyton Manning",
           2003
          ],
          [
           "Brett Favre",
           2003
          ],
          [
           "Peyton Manning",
           2004
          ],
          [
           "Daunte Culpepper",
           2004
          ],
          [
           "Tom Brady",
           2005
          ],
          [
           "Peyton Manning",
           2005
          ],
          [
           "Matt Hasselbeck",
           2005
          ],
          [
           "Drew Brees",
           2006
          ],
          [
           "Peyton Manning",
           2006
          ],
          [
           "Tom Brady",
           2007
          ],
          [
           "Brett Favre",
           2007
          ],
          [
           "Peyton Manning",
           2008
          ],
          [
           "Drew Brees",
           2008
          ],
          [
           "Peyton Manning",
           2009
          ],
          [
           "Drew Brees",
           2009
          ],
          [
           "Philip Rivers",
           2009
          ],
          [
           "Tom Brady",
           2010
          ],
          [
           "Matt Ryan",
           2010
          ],
          [
           "Michael Vick",
           2010
          ],
          [
           "Aaron Rodgers",
           2010
          ],
          [
           "Aaron Rodgers",
           2011
          ],
          [
           "Tom Brady",
           2011
          ],
          [
           "Drew Brees",
           2011
          ],
          [
           "Peyton Manning",
           2012
          ],
          [
           "Tom Brady",
           2012
          ],
          [
           "Aaron Rodgers",
           2012
          ],
          [
           "Peyton Manning",
           2013
          ],
          [
           "Drew Brees",
           2013
          ],
          [
           "Philip Rivers",
           2013
          ],
          [
           "Aaron Rodgers",
           2014
          ],
          [
           "Tom Brady",
           2014
          ],
          [
           "Tony Romo",
           2014
          ],
          [
           "Ben Roethlisberger",
           2014
          ],
          [
           "Cam Newton",
           2015
          ],
          [
           "Carson Palmer",
           2015
          ],
          [
           "Tom Brady",
           2015
          ],
          [
           "Matt Ryan",
           2016
          ],
          [
           "Tom Brady",
           2016
          ],
          [
           "Tom Brady",
           2017
          ],
          [
           "Carson Wentz",
           2017
          ],
          [
           "Matt Ryan",
           2017
          ],
          [
           "Patrick Mahomes",
           2018
          ],
          [
           "Drew Brees",
           2018
          ],
          [
           "Lamar Jackson",
           2019
          ],
          [
           "Russell Wilson",
           2019
          ],
          [
           "Aaron Rodgers",
           2020
          ],
          [
           "Patrick Mahomes",
           2020
          ],
          [
           "Josh Allen",
           2020
          ],
          [
           "Aaron Rodgers",
           2021
          ],
          [
           "Tom Brady",
           2021
          ],
          [
           "Joe Burrow",
           2021
          ],
          [
           "Patrick Mahomes",
           2022
          ],
          [
           "Jalen Hurts",
           2022
          ],
          [
           "Joe Burrow",
           2022
          ],
          [
           "Lamar Jackson",
           2023
          ],
          [
           "Dak Prescott",
           2023
          ],
          [
           "Josh Allen",
           2023
          ],
          [
           "Lamar Jackson",
           2024
          ],
          [
           "Jared Goff",
           2024
          ],
          [
           "Josh Allen",
           2024
          ],
          [
           "Joe Burrow",
           2024
          ]
         ],
         "hovertemplate": "Player: %{customdata[0]}<br>Year: %{customdata[1]}<br>Age: %{x}<br>Yrs: %{y}<extra></extra>",
         "marker": {
          "opacity": 0.7,
          "size": 6
         },
         "mode": "markers",
         "name": "QB",
         "type": "scatter",
         "x": [
          24,
          35,
          23,
          32,
          30,
          36,
          37,
          33,
          30,
          27,
          34,
          28,
          27,
          28,
          29,
          30,
          27,
          30,
          30,
          38,
          32,
          29,
          33,
          30,
          28,
          33,
          25,
          30,
          27,
          28,
          34,
          32,
          36,
          35,
          29,
          37,
          34,
          32,
          31,
          37,
          34,
          32,
          26,
          36,
          38,
          31,
          39,
          40,
          25,
          32,
          23,
          39,
          22,
          31,
          37,
          25,
          24,
          38,
          44,
          25,
          27,
          24,
          26,
          26,
          30,
          27,
          27,
          30,
          28,
          28
         ],
         "xaxis": "x9",
         "y": [
          2,
          13,
          1,
          10,
          3,
          14,
          15,
          11,
          8,
          5,
          12,
          6,
          5,
          5,
          7,
          6,
          5,
          8,
          7,
          16,
          10,
          7,
          11,
          8,
          5,
          10,
          2,
          9,
          5,
          6,
          11,
          10,
          14,
          12,
          7,
          15,
          12,
          9,
          9,
          14,
          10,
          10,
          4,
          11,
          15,
          8,
          16,
          17,
          1,
          9,
          1,
          17,
          1,
          7,
          15,
          3,
          2,
          16,
          21,
          1,
          5,
          2,
          2,
          5,
          7,
          5,
          6,
          8,
          6,
          4
         ],
         "yaxis": "y9"
        },
        {
         "customdata": [
          [
           "Marshall Faulk",
           2000
          ],
          [
           "Eddie George",
           2000
          ],
          [
           "Edgerrin James",
           2000
          ],
          [
           "Michael Bates",
           2000
          ],
          [
           "Robert Smith",
           2000
          ],
          [
           "Marshall Faulk",
           2001
          ],
          [
           "Curtis Martin",
           2001
          ],
          [
           "Priest Holmes",
           2001
          ],
          [
           "Ahman Green",
           2001
          ],
          [
           "LaDainian Tomlinson",
           2002
          ],
          [
           "Fred Beasley",
           2002
          ],
          [
           "Ricky Williams",
           2002
          ],
          [
           "Priest Holmes",
           2002
          ],
          [
           "Fred McAfee",
           2002
          ],
          [
           "Tiki Barber",
           2002
          ],
          [
           "Chad Morton",
           2002
          ],
          [
           "Deuce McAllister",
           2002
          ],
          [
           "LaDainian Tomlinson",
           2003
          ],
          [
           "Fred Beasley",
           2003
          ],
          [
           "Jamal Lewis",
           2003
          ],
          [
           "Priest Holmes",
           2003
          ],
          [
           "Brian Westbrook",
           2003
          ],
          [
           "Ahman Green",
           2003
          ],
          [
           "Deuce McAllister",
           2003
          ],
          [
           "LaDainian Tomlinson",
           2004
          ],
          [
           "Curtis Martin",
           2004
          ],
          [
           "Shaun Alexander",
           2004
          ],
          [
           "Edgerrin James",
           2004
          ],
          [
           "Tiki Barber",
           2004
          ],
          [
           "B.J. Sams",
           2004
          ],
          [
           "LaDainian Tomlinson",
           2005
          ],
          [
           "Shaun Alexander",
           2005
          ],
          [
           "Tiki Barber",
           2005
          ],
          [
           "B.J. Sams",
           2005
          ],
          [
           "Larry Johnson",
           2005
          ],
          [
           "Edgerrin James",
           2005
          ],
          [
           "Reno Mahe",
           2005
          ],
          [
           "Larry Johnson",
           2006
          ],
          [
           "LaDainian Tomlinson",
           2006
          ],
          [
           "Steven Jackson",
           2006
          ],
          [
           "Frank Gore",
           2006
          ],
          [
           "LaDainian Tomlinson",
           2007
          ],
          [
           "Brian Westbrook",
           2007
          ],
          [
           "Adrian Peterson",
           2007
          ],
          [
           "Willie Parker",
           2007
          ],
          [
           "Fred Taylor",
           2007
          ],
          [
           "Leon Washington",
           2007
          ],
          [
           "Michael Turner",
           2008
          ],
          [
           "Adrian Peterson",
           2008
          ],
          [
           "Chris Johnson",
           2008
          ],
          [
           "Thomas Jones",
           2008
          ],
          [
           "DeAngelo Williams",
           2008
          ],
          [
           "Clinton Portis",
           2008
          ],
          [
           "Reggie Bush",
           2008
          ],
          [
           "Chris Johnson",
           2009
          ],
          [
           "Adrian Peterson",
           2009
          ],
          [
           "Steven Jackson",
           2009
          ],
          [
           "Maurice Jones-Drew",
           2009
          ],
          [
           "Ray Rice",
           2009
          ],
          [
           "Jamaal Charles",
           2010
          ],
          [
           "Arian Foster",
           2010
          ],
          [
           "Maurice Jones-Drew",
           2010
          ],
          [
           "Adrian Peterson",
           2010
          ],
          [
           "Michael Turner",
           2010
          ],
          [
           "Maurice Jones-Drew",
           2011
          ],
          [
           "LeSean McCoy",
           2011
          ],
          [
           "Ray Rice",
           2011
          ],
          [
           "Marshawn Lynch",
           2011
          ],
          [
           "Arian Foster",
           2011
          ],
          [
           "Adrian Peterson",
           2012
          ],
          [
           "Marshawn Lynch",
           2012
          ],
          [
           "Arian Foster",
           2012
          ],
          [
           "Jamaal Charles",
           2012
          ],
          [
           "C.J. Spiller",
           2012
          ],
          [
           "Alfred Morris",
           2012
          ],
          [
           "LeSean McCoy",
           2013
          ],
          [
           "Jamaal Charles",
           2013
          ],
          [
           "Ryan Mathews",
           2013
          ],
          [
           "Matt Forte",
           2013
          ],
          [
           "Eddie Lacy",
           2013
          ],
          [
           "Adrian Peterson",
           2013
          ],
          [
           "Le'Veon Bell",
           2014
          ],
          [
           "DeMarco Murray",
           2014
          ],
          [
           "Marshawn Lynch",
           2014
          ],
          [
           "Justin Forsett",
           2014
          ],
          [
           "Doug Martin",
           2015
          ],
          [
           "Adrian Peterson",
           2015
          ],
          [
           "Latavius Murray",
           2015
          ],
          [
           "Chris Ivory",
           2015
          ],
          [
           "Devonta Freeman",
           2015
          ],
          [
           "Todd Gurley",
           2015
          ],
          [
           "Jonathan Stewart",
           2015
          ],
          [
           "Ezekiel Elliott",
           2016
          ],
          [
           "David Johnson",
           2016
          ],
          [
           "Le'Veon Bell",
           2016
          ],
          [
           "DeMarco Murray",
           2016
          ],
          [
           "Jay Ajayi",
           2016
          ],
          [
           "Todd Gurley",
           2017
          ],
          [
           "Le'Veon Bell",
           2017
          ],
          [
           "Alvin Kamara",
           2017
          ],
          [
           "Kareem Hunt",
           2017
          ],
          [
           "Todd Gurley",
           2018
          ],
          [
           "Saquon Barkley",
           2018
          ],
          [
           "Ezekiel Elliott",
           2018
          ],
          [
           "Phillip Lindsay",
           2018
          ],
          [
           "Derrick Henry",
           2018
          ],
          [
           "Christian McCaffrey",
           2018
          ],
          [
           "Alvin Kamara",
           2018
          ],
          [
           "Christian McCaffrey",
           2019
          ],
          [
           "Derrick Henry",
           2019
          ],
          [
           "Dalvin Cook",
           2019
          ],
          [
           "Nick Chubb",
           2019
          ],
          [
           "Austin Ekeler",
           2019
          ],
          [
           "Derrick Henry",
           2020
          ],
          [
           "Dalvin Cook",
           2020
          ],
          [
           "Alvin Kamara",
           2020
          ],
          [
           "Nick Chubb",
           2020
          ],
          [
           "Jonathan Taylor",
           2021
          ],
          [
           "Nick Chubb",
           2021
          ],
          [
           "Joe Mixon",
           2021
          ],
          [
           "Antonio Gibson",
           2021
          ],
          [
           "Dalvin Cook",
           2021
          ],
          [
           "Cordarrelle Patterson",
           2021
          ],
          [
           "Josh Jacobs",
           2022
          ],
          [
           "Nick Chubb",
           2022
          ],
          [
           "Saquon Barkley",
           2022
          ],
          [
           "Derrick Henry",
           2022
          ],
          [
           "Christian McCaffrey",
           2022
          ],
          [
           "Christian McCaffrey",
           2023
          ],
          [
           "Kyren Williams",
           2023
          ],
          [
           "Raheem Mostert",
           2023
          ],
          [
           "Derrick Henry",
           2023
          ],
          [
           "Saquon Barkley",
           2024
          ],
          [
           "Derrick Henry",
           2024
          ],
          [
           "Jahmyr Gibbs",
           2024
          ]
         ],
         "hovertemplate": "Player: %{customdata[0]}<br>Year: %{customdata[1]}<br>Age: %{x}<br>Yrs: %{y}<extra></extra>",
         "marker": {
          "opacity": 0.7,
          "size": 6
         },
         "mode": "markers",
         "name": "RB",
         "type": "scatter",
         "x": [
          27,
          27,
          22,
          31,
          28,
          28,
          28,
          28,
          24,
          23,
          28,
          25,
          29,
          34,
          27,
          25,
          24,
          24,
          29,
          24,
          30,
          24,
          26,
          25,
          25,
          31,
          27,
          26,
          29,
          24,
          26,
          28,
          30,
          25,
          26,
          27,
          25,
          27,
          27,
          23,
          23,
          28,
          28,
          22,
          27,
          31,
          25,
          26,
          23,
          23,
          30,
          25,
          27,
          23,
          24,
          24,
          26,
          24,
          22,
          24,
          24,
          25,
          25,
          28,
          26,
          23,
          24,
          25,
          25,
          27,
          26,
          26,
          26,
          25,
          24,
          25,
          27,
          26,
          28,
          23,
          28,
          22,
          26,
          28,
          29,
          26,
          30,
          25,
          27,
          23,
          21,
          28,
          21,
          25,
          24,
          28,
          23,
          23,
          25,
          22,
          22,
          24,
          21,
          23,
          24,
          24,
          22,
          23,
          23,
          25,
          24,
          24,
          24,
          26,
          25,
          25,
          25,
          22,
          26,
          25,
          23,
          26,
          30,
          24,
          27,
          25,
          28,
          26,
          27,
          23,
          31,
          29,
          27,
          30,
          22
         ],
         "xaxis": "x10",
         "y": [
          6,
          4,
          1,
          7,
          7,
          7,
          6,
          4,
          3,
          1,
          4,
          3,
          5,
          11,
          5,
          2,
          1,
          2,
          5,
          3,
          6,
          1,
          5,
          2,
          3,
          9,
          4,
          5,
          7,
          null,
          4,
          5,
          8,
          1,
          2,
          6,
          2,
          3,
          5,
          2,
          1,
          6,
          5,
          null,
          3,
          9,
          1,
          4,
          1,
          null,
          8,
          2,
          6,
          2,
          1,
          2,
          5,
          3,
          1,
          2,
          1,
          4,
          3,
          6,
          5,
          2,
          3,
          4,
          2,
          5,
          5,
          3,
          4,
          2,
          null,
          4,
          5,
          3,
          5,
          null,
          6,
          1,
          3,
          7,
          6,
          3,
          8,
          1,
          5,
          1,
          null,
          7,
          null,
          1,
          3,
          5,
          1,
          2,
          4,
          null,
          null,
          3,
          null,
          2,
          null,
          2,
          1,
          1,
          2,
          3,
          2,
          1,
          2,
          4,
          3,
          3,
          2,
          1,
          3,
          4,
          1,
          4,
          8,
          3,
          4,
          4,
          6,
          5,
          6,
          1,
          8,
          7,
          6,
          8,
          1
         ],
         "yaxis": "y10"
        },
        {
         "customdata": [
          [
           "Dante Hall",
           2002
          ],
          [
           "Terrence McGee",
           2005
          ],
          [
           "Adam Jones",
           2006
          ],
          [
           "Devin Hester",
           2006
          ],
          [
           "Justin Miller",
           2006
          ],
          [
           "Roscoe Parrish",
           2007
          ],
          [
           "Devin Hester",
           2007
          ],
          [
           "Josh Cribbs",
           2007
          ],
          [
           "Johnnie Lee Higgins",
           2008
          ],
          [
           "Clifton Smith",
           2008
          ],
          [
           "Danieal Manning",
           2008
          ],
          [
           "Leodis McKelvin",
           2008
          ],
          [
           "Leon Washington",
           2008
          ],
          [
           "DeSean Jackson",
           2009
          ],
          [
           "Josh Cribbs",
           2009
          ],
          [
           "Percy Harvin",
           2009
          ],
          [
           "Stefan Logan",
           2009
          ],
          [
           "Devin Hester",
           2010
          ],
          [
           "Marc Mariani",
           2010
          ],
          [
           "Leon Washington",
           2010
          ],
          [
           "Brad Smith",
           2010
          ],
          [
           "Patrick Peterson",
           2011
          ],
          [
           "Josh Cribbs",
           2011
          ],
          [
           "Joe McKnight",
           2011
          ],
          [
           "Darren Sproles",
           2011
          ],
          [
           "Devin Hester",
           2011
          ],
          [
           "Leodis McKelvin",
           2012
          ],
          [
           "Dwayne Harris",
           2012
          ],
          [
           "Jacoby Jones",
           2012
          ],
          [
           "Leon Washington",
           2012
          ],
          [
           "David Wilson",
           2012
          ],
          [
           "Dexter McCluster",
           2013
          ],
          [
           "Golden Tate",
           2013
          ],
          [
           "Cordarrelle Patterson",
           2013
          ],
          [
           "Quintin Demps",
           2013
          ],
          [
           "Darren Sproles",
           2014
          ],
          [
           "De'Anthony Thomas",
           2014
          ],
          [
           "Adam Jones",
           2014
          ],
          [
           "Jacoby Jones",
           2014
          ],
          [
           "Devin Hester",
           2014
          ],
          [
           "Darren Sproles",
           2015
          ],
          [
           "Jarvis Landry",
           2015
          ],
          [
           "Cordarrelle Patterson",
           2015
          ],
          [
           "Tyler Lockett",
           2015
          ],
          [
           "Taiwan Jones",
           2015
          ],
          [
           "Benny Cunningham",
           2015
          ],
          [
           "Marcus Sherels",
           2016
          ],
          [
           "Jamison Crowder",
           2016
          ],
          [
           "Tyreek Hill",
           2016
          ],
          [
           "Cordarrelle Patterson",
           2016
          ],
          [
           "Tyler Lockett",
           2016
          ],
          [
           "Alex Erickson",
           2016
          ],
          [
           "Jamal Agnew",
           2017
          ],
          [
           "Michael Campanaro",
           2017
          ],
          [
           "Pharoh Cooper",
           2017
          ],
          [
           "Dion Lewis",
           2017
          ],
          [
           "Tyler Lockett",
           2017
          ],
          [
           "Tarik Cohen",
           2018
          ],
          [
           "Andre Roberts",
           2018
          ],
          [
           "Richie James",
           2018
          ],
          [
           "Tremon Smith",
           2018
          ],
          [
           "Cordarrelle Patterson",
           2018
          ],
          [
           "Deonte Harty",
           2019
          ],
          [
           "Diontae Johnson",
           2019
          ],
          [
           "Cordarrelle Patterson",
           2019
          ],
          [
           "Mecole Hardman",
           2019
          ],
          [
           "Andre Roberts",
           2019
          ],
          [
           "Gunner Olszewski",
           2020
          ],
          [
           "Jamal Agnew",
           2020
          ],
          [
           "Jakeem Grant",
           2020
          ],
          [
           "Cordarrelle Patterson",
           2020
          ],
          [
           "Andre Roberts",
           2020
          ],
          [
           "Ray-Ray McCloud",
           2020
          ],
          [
           "Devin Duvernay",
           2021
          ],
          [
           "Jakeem Grant",
           2021
          ],
          [
           "Braxton Berrios",
           2021
          ],
          [
           "Kene Nwangwu",
           2021
          ],
          [
           "Andre Roberts",
           2021
          ],
          [
           "Marcus Jones",
           2022
          ],
          [
           "KaVontae Turpin",
           2022
          ],
          [
           "Kalif Raymond",
           2022
          ],
          [
           "Keisean Nixon",
           2022
          ],
          [
           "Kene Nwangwu",
           2022
          ],
          [
           "Cordarrelle Patterson",
           2022
          ],
          [
           "Nyheim Hines",
           2022
          ],
          [
           "Derius Davis",
           2023
          ],
          [
           "Rashid Shaheed",
           2023
          ],
          [
           "Keisean Nixon",
           2023
          ],
          [
           "Marvin Mims",
           2023
          ],
          [
           "KaVontae Turpin",
           2023
          ],
          [
           "Ihmir Smith-Marsette",
           2023
          ],
          [
           "Marvin Mims",
           2024
          ],
          [
           "Kalif Raymond",
           2024
          ],
          [
           "KaVontae Turpin",
           2024
          ],
          [
           "Derius Davis",
           2024
          ],
          [
           "Austin Ekeler",
           2024
          ]
         ],
         "hovertemplate": "Player: %{customdata[0]}<br>Year: %{customdata[1]}<br>Age: %{x}<br>Yrs: %{y}<extra></extra>",
         "marker": {
          "opacity": 0.7,
          "size": 6
         },
         "mode": "markers",
         "name": "RET",
         "type": "scatter",
         "x": [
          24,
          25,
          23,
          24,
          22,
          25,
          25,
          24,
          25,
          23,
          26,
          23,
          26,
          23,
          26,
          21,
          28,
          28,
          23,
          28,
          27,
          21,
          28,
          23,
          28,
          29,
          27,
          25,
          28,
          30,
          21,
          24,
          25,
          22,
          28,
          31,
          21,
          31,
          30,
          32,
          32,
          23,
          24,
          23,
          27,
          25,
          29,
          23,
          22,
          25,
          24,
          24,
          22,
          26,
          22,
          27,
          25,
          23,
          30,
          23,
          22,
          27,
          22,
          23,
          28,
          21,
          31,
          24,
          25,
          28,
          29,
          32,
          24,
          24,
          29,
          26,
          23,
          33,
          24,
          26,
          28,
          25,
          24,
          31,
          26,
          23,
          25,
          26,
          21,
          27,
          24,
          22,
          30,
          28,
          24,
          29
         ],
         "xaxis": "x11",
         "y": [
          2,
          2,
          1,
          null,
          1,
          2,
          1,
          2,
          1,
          null,
          2,
          null,
          2,
          1,
          4,
          null,
          null,
          4,
          null,
          4,
          4,
          null,
          6,
          1,
          6,
          5,
          4,
          1,
          5,
          6,
          null,
          3,
          3,
          null,
          5,
          9,
          null,
          9,
          7,
          8,
          10,
          1,
          2,
          null,
          4,
          2,
          6,
          1,
          null,
          3,
          1,
          null,
          null,
          3,
          1,
          6,
          2,
          1,
          8,
          null,
          null,
          5,
          null,
          null,
          6,
          null,
          9,
          1,
          3,
          4,
          7,
          10,
          2,
          1,
          5,
          2,
          null,
          11,
          null,
          null,
          6,
          3,
          1,
          9,
          4,
          null,
          1,
          4,
          null,
          1,
          2,
          1,
          8,
          2,
          1,
          7
         ],
         "yaxis": "y11"
        },
        {
         "customdata": [
          [
           "Blaine Bishop",
           2000
          ],
          [
           "Darren Sharper",
           2000
          ],
          [
           "John Lynch",
           2000
          ],
          [
           "Rod Woodson",
           2000
          ],
          [
           "Brock Marion",
           2000
          ],
          [
           "Mike Brown",
           2001
          ],
          [
           "Sammy Knight",
           2001
          ],
          [
           "Brian Dawkins",
           2001
          ],
          [
           "John Lynch",
           2001
          ],
          [
           "Rodney Harrison",
           2001
          ],
          [
           "Lawyer Milloy",
           2001
          ],
          [
           "John Lynch",
           2002
          ],
          [
           "Brian Dawkins",
           2002
          ],
          [
           "Rod Woodson",
           2002
          ],
          [
           "Darren Sharper",
           2002
          ],
          [
           "Lance Schulters",
           2002
          ],
          [
           "Roy Williams",
           2003
          ],
          [
           "Ed Reed",
           2003
          ],
          [
           "Rodney Harrison",
           2003
          ],
          [
           "Tony Parrish",
           2003
          ],
          [
           "Rodney Harrison",
           2004
          ],
          [
           "Ed Reed",
           2004
          ],
          [
           "Brian Dawkins",
           2004
          ],
          [
           "Troy Polamalu",
           2004
          ],
          [
           "Michael Lewis",
           2004
          ],
          [
           "Troy Polamalu",
           2005
          ],
          [
           "Darren Sharper",
           2005
          ],
          [
           "Bob Sanders",
           2005
          ],
          [
           "Mike Brown",
           2005
          ],
          [
           "Ed Reed",
           2006
          ],
          [
           "Adrian Wilson",
           2006
          ],
          [
           "Brian Dawkins",
           2006
          ],
          [
           "Kerry Rhodes",
           2006
          ],
          [
           "Bob Sanders",
           2007
          ],
          [
           "Ed Reed",
           2007
          ],
          [
           "Darren Sharper",
           2007
          ],
          [
           "Jermaine Phillips",
           2007
          ],
          [
           "Troy Polamalu",
           2007
          ],
          [
           "Sean Taylor",
           2007
          ],
          [
           "Ed Reed",
           2008
          ],
          [
           "Troy Polamalu",
           2008
          ],
          [
           "Adrian Wilson",
           2008
          ],
          [
           "Nick Collins",
           2008
          ],
          [
           "Quintin Mikell",
           2008
          ],
          [
           "George Wilson",
           2009
          ],
          [
           "Reed Doughty",
           2009
          ],
          [
           "Darren Sharper",
           2009
          ],
          [
           "Adrian Wilson",
           2009
          ],
          [
           "Brian Dawkins",
           2009
          ],
          [
           "Ed Reed",
           2009
          ],
          [
           "Jairus Byrd",
           2009
          ],
          [
           "Nick Collins",
           2009
          ],
          [
           "Troy Polamalu",
           2010
          ],
          [
           "Ed Reed",
           2010
          ],
          [
           "Michael Huff",
           2010
          ],
          [
           "Quintin Mikell",
           2010
          ],
          [
           "Nick Collins",
           2010
          ],
          [
           "Antrel Rolle",
           2010
          ],
          [
           "Eric Weddle",
           2010
          ],
          [
           "Michael Griffin",
           2010
          ],
          [
           "Chris Harris",
           2010
          ],
          [
           "Malcolm Jenkins",
           2010
          ],
          [
           "Darren Sharper",
           2010
          ],
          [
           "Adrian Wilson",
           2011
          ],
          [
           "Jairus Byrd",
           2011
          ],
          [
           "Troy Polamalu",
           2011
          ],
          [
           "Eric Weddle",
           2011
          ],
          [
           "Earl Thomas",
           2011
          ],
          [
           "Ed Reed",
           2011
          ],
          [
           "Dashon Goldson",
           2011
          ],
          [
           "Reshad Jones",
           2012
          ],
          [
           "Devin McCourty",
           2012
          ],
          [
           "Earl Thomas",
           2012
          ],
          [
           "Jairus Byrd",
           2012
          ],
          [
           "Eric Weddle",
           2012
          ],
          [
           "Dashon Goldson",
           2012
          ],
          [
           "Eric Berry",
           2013
          ],
          [
           "Earl Thomas",
           2013
          ],
          [
           "Devin McCourty",
           2013
          ],
          [
           "Donte Whitner",
           2013
          ],
          [
           "Eric Weddle",
           2013
          ],
          [
           "T.J. Ward",
           2013
          ],
          [
           "Antrel Rolle",
           2013
          ],
          [
           "Kam Chancellor",
           2013
          ],
          [
           "Jairus Byrd",
           2013
          ],
          [
           "Eric Weddle",
           2014
          ],
          [
           "Earl Thomas",
           2014
          ],
          [
           "Harrison Smith",
           2014
          ],
          [
           "Glover Quin",
           2014
          ],
          [
           "Devin McCourty",
           2014
          ],
          [
           "Kam Chancellor",
           2014
          ],
          [
           "Tyrann Mathieu",
           2015
          ],
          [
           "Eric Berry",
           2015
          ],
          [
           "Earl Thomas",
           2015
          ],
          [
           "Harrison Smith",
           2015
          ],
          [
           "Malcolm Jenkins",
           2015
          ],
          [
           "Reggie Nelson",
           2015
          ],
          [
           "Charles Woodson",
           2015
          ],
          [
           "Landon Collins",
           2016
          ],
          [
           "Eric Berry",
           2016
          ],
          [
           "Eric Weddle",
           2016
          ],
          [
           "Devin McCourty",
           2016
          ],
          [
           "Ha Ha Clinton-Dix",
           2016
          ],
          [
           "Kam Chancellor",
           2016
          ],
          [
           "Harrison Smith",
           2017
          ],
          [
           "Kevin Byard",
           2017
          ],
          [
           "Earl Thomas",
           2017
          ],
          [
           "Adrian Amos",
           2017
          ],
          [
           "Eric Weddle",
           2017
          ],
          [
           "Glover Quin",
           2017
          ],
          [
           "Micah Hyde",
           2017
          ],
          [
           "Lamarcus Joyner",
           2017
          ],
          [
           "Eddie Jackson",
           2018
          ],
          [
           "Derwin James",
           2018
          ],
          [
           "Jamal Adams",
           2018
          ],
          [
           "Harrison Smith",
           2018
          ],
          [
           "Kevin Byard",
           2018
          ],
          [
           "Jamal Adams",
           2019
          ],
          [
           "Minkah Fitzpatrick",
           2019
          ],
          [
           "Anthony Harris",
           2019
          ],
          [
           "Justin Simmons",
           2019
          ],
          [
           "Harrison Smith",
           2019
          ],
          [
           "Tyrann Mathieu",
           2020
          ],
          [
           "Minkah Fitzpatrick",
           2020
          ],
          [
           "Budda Baker",
           2020
          ],
          [
           "Jessie Bates III",
           2020
          ],
          [
           "Adrian Amos",
           2020
          ],
          [
           "Jamal Adams",
           2020
          ],
          [
           "Justin Simmons",
           2020
          ],
          [
           "John Johnson",
           2020
          ],
          [
           "Kevin Byard",
           2021
          ],
          [
           "Jordan Poyer",
           2021
          ],
          [
           "Derwin James",
           2021
          ],
          [
           "Antoine Winfield Jr.",
           2021
          ],
          [
           "Budda Baker",
           2021
          ],
          [
           "Quandre Diggs",
           2021
          ],
          [
           "Micah Hyde",
           2021
          ],
          [
           "Marcus Williams",
           2021
          ],
          [
           "Justin Simmons",
           2021
          ],
          [
           "Jevon Holland",
           2021
          ],
          [
           "Minkah Fitzpatrick",
           2022
          ],
          [
           "Derwin James",
           2022
          ],
          [
           "Talanoa Hufanga",
           2022
          ],
          [
           "Ryan Neal",
           2022
          ],
          [
           "C.J. Gardner-Johnson",
           2022
          ],
          [
           "Justin Simmons",
           2022
          ],
          [
           "Tyrann Mathieu",
           2022
          ],
          [
           "Kamren Curl",
           2022
          ],
          [
           "Jessie Bates III",
           2023
          ],
          [
           "Kyle Hamilton",
           2023
          ],
          [
           "Antoine Winfield Jr.",
           2023
          ],
          [
           "Jevon Holland",
           2023
          ],
          [
           "Justin Simmons",
           2023
          ],
          [
           "Xavier McKinney",
           2024
          ],
          [
           "Kyle Hamilton",
           2024
          ],
          [
           "Kerby Joseph",
           2024
          ],
          [
           "Brian Branch",
           2024
          ],
          [
           "Derwin James",
           2024
          ],
          [
           "Brandon Jones",
           2024
          ],
          [
           "Budda Baker",
           2024
          ]
         ],
         "hovertemplate": "Player: %{customdata[0]}<br>Year: %{customdata[1]}<br>Age: %{x}<br>Yrs: %{y}<extra></extra>",
         "marker": {
          "opacity": 0.7,
          "size": 6
         },
         "mode": "markers",
         "name": "S",
         "type": "scatter",
         "x": [
          30,
          25,
          29,
          35,
          30,
          23,
          26,
          28,
          30,
          29,
          28,
          31,
          29,
          37,
          27,
          27,
          23,
          25,
          31,
          28,
          32,
          26,
          31,
          23,
          24,
          24,
          30,
          24,
          27,
          28,
          27,
          33,
          24,
          26,
          29,
          32,
          28,
          26,
          24,
          30,
          27,
          29,
          25,
          28,
          28,
          27,
          34,
          30,
          36,
          31,
          23,
          26,
          29,
          32,
          27,
          30,
          27,
          28,
          25,
          25,
          28,
          23,
          35,
          32,
          25,
          30,
          26,
          22,
          33,
          27,
          24,
          25,
          23,
          26,
          27,
          28,
          25,
          24,
          26,
          28,
          28,
          27,
          31,
          25,
          27,
          29,
          25,
          25,
          28,
          27,
          26,
          23,
          27,
          26,
          26,
          28,
          32,
          39,
          22,
          28,
          31,
          29,
          24,
          28,
          28,
          24,
          28,
          24,
          32,
          31,
          27,
          27,
          25,
          22,
          23,
          29,
          25,
          24,
          23,
          28,
          26,
          30,
          28,
          24,
          24,
          23,
          27,
          25,
          27,
          25,
          28,
          30,
          25,
          23,
          25,
          28,
          31,
          25,
          28,
          21,
          26,
          26,
          23,
          27,
          25,
          29,
          30,
          23,
          26,
          22,
          25,
          23,
          30,
          26,
          23,
          24,
          23,
          28,
          26,
          28
         ],
         "xaxis": "x12",
         "y": [
          7,
          3,
          7,
          13,
          7,
          1,
          4,
          5,
          8,
          7,
          5,
          9,
          6,
          15,
          5,
          4,
          1,
          1,
          9,
          5,
          10,
          2,
          8,
          1,
          2,
          2,
          8,
          1,
          5,
          4,
          5,
          10,
          1,
          3,
          5,
          10,
          5,
          4,
          3,
          6,
          5,
          7,
          3,
          5,
          4,
          3,
          12,
          8,
          13,
          7,
          null,
          4,
          7,
          8,
          4,
          7,
          5,
          5,
          3,
          3,
          5,
          1,
          13,
          10,
          2,
          8,
          4,
          1,
          9,
          4,
          2,
          2,
          2,
          3,
          5,
          5,
          3,
          3,
          3,
          7,
          6,
          3,
          8,
          3,
          4,
          7,
          4,
          2,
          5,
          4,
          4,
          2,
          5,
          5,
          3,
          6,
          8,
          17,
          1,
          6,
          9,
          6,
          2,
          6,
          5,
          1,
          7,
          2,
          10,
          8,
          4,
          3,
          1,
          null,
          1,
          6,
          2,
          2,
          1,
          4,
          3,
          7,
          7,
          2,
          3,
          2,
          5,
          3,
          4,
          3,
          5,
          8,
          3,
          1,
          4,
          6,
          8,
          4,
          5,
          null,
          4,
          4,
          1,
          4,
          3,
          6,
          9,
          2,
          5,
          1,
          3,
          2,
          7,
          4,
          2,
          2,
          1,
          6,
          4,
          7
         ],
         "yaxis": "y12"
        },
        {
         "customdata": [
          [
           "Brendon Ayanbadejo",
           2006
          ],
          [
           "Kassim Osgood",
           2006
          ],
          [
           "Kassim Osgood",
           2007
          ],
          [
           "Brendon Ayanbadejo",
           2007
          ],
          [
           "Brendon Ayanbadejo",
           2008
          ],
          [
           "Sean Morey",
           2008
          ],
          [
           "Kassim Osgood",
           2009
          ],
          [
           "Tim Shaw",
           2009
          ],
          [
           "Heath Farwell",
           2009
          ],
          [
           "Kroy Biermann",
           2009
          ],
          [
           "Eric Weems",
           2010
          ],
          [
           "Corey Graham",
           2010
          ],
          [
           "Montell Owens",
           2010
          ],
          [
           "T.J. Ward",
           2010
          ],
          [
           "Matthew Slater",
           2011
          ],
          [
           "Heath Farwell",
           2011
          ],
          [
           "Corey Graham",
           2011
          ],
          [
           "Matthew Slater",
           2012
          ],
          [
           "Ashlee Palmer",
           2012
          ],
          [
           "Lorenzo Alexander",
           2012
          ],
          [
           "Johnson Bademosi",
           2012
          ],
          [
           "Justin Bethel",
           2013
          ],
          [
           "Matthew Slater",
           2013
          ],
          [
           "Jeremy Lane",
           2013
          ],
          [
           "Matthew Slater",
           2014
          ],
          [
           "Justin Bethel",
           2014
          ],
          [
           "Emmanuel Acho",
           2014
          ],
          [
           "Nick Bellore",
           2014
          ],
          [
           "Nat Berhe",
           2014
          ],
          [
           "Bryan Braman",
           2014
          ],
          [
           "Morgan Burnett",
           2014
          ],
          [
           "Trey Burton",
           2014
          ],
          [
           "Marcus Easley",
           2014
          ],
          [
           "Cory Harkey",
           2014
          ],
          [
           "Andrew Jackson",
           2014
          ],
          [
           "Steven Johnson",
           2014
          ],
          [
           "Devon Kennard",
           2014
          ],
          [
           "Karl Klug",
           2014
          ],
          [
           "Danieal Manning",
           2014
          ],
          [
           "Josh Martin",
           2014
          ],
          [
           "Albert McClellan",
           2014
          ],
          [
           "Kelcie McCray",
           2014
          ],
          [
           "Jordan Poyer",
           2014
          ],
          [
           "Chase Reynolds",
           2014
          ],
          [
           "Adam Thielen",
           2014
          ],
          [
           "Michael Thomas",
           2014
          ],
          [
           "Jason Williams",
           2014
          ],
          [
           "Tourek Williams",
           2014
          ],
          [
           "Justin Bethel",
           2015
          ],
          [
           "Michael Thomas",
           2015
          ],
          [
           "Matthew Slater",
           2015
          ],
          [
           "Matthew Slater",
           2016
          ],
          [
           "Eric Murray",
           2016
          ],
          [
           "Dwayne Harris",
           2016
          ],
          [
           "Nate Ebner",
           2016
          ],
          [
           "Cody Davis",
           2016
          ],
          [
           "Budda Baker",
           2017
          ],
          [
           "Michael Thomas",
           2017
          ],
          [
           "Matthew Slater",
           2017
          ],
          [
           "Adrian Phillips",
           2018
          ],
          [
           "Albert McClellan",
           2018
          ],
          [
           "Cory Littleton",
           2018
          ],
          [
           "Matthew Slater",
           2019
          ],
          [
           "J.T. Gray",
           2019
          ],
          [
           "George Odum",
           2020
          ],
          [
           "Nick Bellore",
           2020
          ],
          [
           "Cody Davis",
           2020
          ],
          [
           "Matthew Slater",
           2020
          ],
          [
           "J.T. Gray",
           2021
          ],
          [
           "Matthew Adams",
           2021
          ],
          [
           "Matthew Slater",
           2021
          ],
          [
           "Ashton Dulin",
           2021
          ],
          [
           "Jeremy Reaves",
           2022
          ],
          [
           "Justin Hardee",
           2022
          ],
          [
           "George Odum",
           2022
          ],
          [
           "Miles Killebrew",
           2023
          ],
          [
           "Jalen Reeves-Maybin",
           2023
          ],
          [
           "Matthew Adams",
           2023
          ],
          [
           "Brenden Schooler",
           2023
          ],
          [
           "J.T. Gray",
           2023
          ],
          [
           "Brenden Schooler",
           2024
          ],
          [
           "J.T. Gray",
           2024
          ],
          [
           "Miles Killebrew",
           2024
          ]
         ],
         "hovertemplate": "Player: %{customdata[0]}<br>Year: %{customdata[1]}<br>Age: %{x}<br>Yrs: %{y}<extra></extra>",
         "marker": {
          "opacity": 0.7,
          "size": 6
         },
         "mode": "markers",
         "name": "ST",
         "type": "scatter",
         "x": [
          30,
          26,
          27,
          31,
          32,
          32,
          29,
          25,
          28,
          24,
          25,
          25,
          26,
          24,
          26,
          30,
          26,
          27,
          26,
          29,
          22,
          23,
          28,
          23,
          29,
          24,
          24,
          25,
          23,
          27,
          25,
          23,
          27,
          24,
          22,
          26,
          23,
          26,
          32,
          23,
          28,
          26,
          23,
          27,
          24,
          24,
          28,
          23,
          25,
          25,
          30,
          31,
          22,
          29,
          28,
          27,
          21,
          27,
          32,
          26,
          32,
          25,
          34,
          23,
          27,
          31,
          31,
          35,
          25,
          26,
          36,
          24,
          26,
          28,
          29,
          30,
          28,
          28,
          26,
          27,
          27,
          28,
          31
         ],
         "xaxis": "x13",
         "y": [
          3,
          3,
          4,
          4,
          5,
          9,
          6,
          2,
          4,
          1,
          3,
          3,
          4,
          null,
          3,
          6,
          4,
          4,
          3,
          5,
          null,
          1,
          5,
          1,
          6,
          2,
          1,
          3,
          null,
          3,
          4,
          null,
          2,
          2,
          null,
          2,
          null,
          3,
          8,
          1,
          3,
          1,
          1,
          1,
          null,
          1,
          5,
          1,
          3,
          2,
          7,
          8,
          null,
          5,
          4,
          3,
          null,
          4,
          9,
          4,
          7,
          2,
          11,
          1,
          2,
          9,
          7,
          12,
          3,
          3,
          13,
          2,
          4,
          5,
          4,
          7,
          6,
          5,
          1,
          5,
          2,
          6,
          8
         ],
         "yaxis": "y13"
        },
        {
         "customdata": [
          [
           "Kyle Turley",
           2000
          ],
          [
           "Jonathan Ogden",
           2000
          ],
          [
           "Orlando Pace",
           2000
          ],
          [
           "Willie Roaf",
           2000
          ],
          [
           "Brad Hopkins",
           2000
          ],
          [
           "James Williams",
           2001
          ],
          [
           "Lincoln Kennedy",
           2001
          ],
          [
           "Orlando Pace",
           2001
          ],
          [
           "Jonathan Ogden",
           2001
          ],
          [
           "Walter Jones",
           2001
          ],
          [
           "Chris Samuels",
           2001
          ],
          [
           "Willie Roaf",
           2002
          ],
          [
           "Jonathan Ogden",
           2002
          ],
          [
           "Tra Thomas",
           2002
          ],
          [
           "Lincoln Kennedy",
           2002
          ],
          [
           "Walter Jones",
           2002
          ],
          [
           "Willie Anderson",
           2003
          ],
          [
           "Jonathan Ogden",
           2003
          ],
          [
           "Willie Roaf",
           2003
          ],
          [
           "Orlando Pace",
           2003
          ],
          [
           "Walter Jones",
           2003
          ],
          [
           "Willie Anderson",
           2004
          ],
          [
           "Walter Jones",
           2004
          ],
          [
           "Willie Roaf",
           2004
          ],
          [
           "Orlando Pace",
           2004
          ],
          [
           "Jonathan Ogden",
           2004
          ],
          [
           "Tra Thomas",
           2004
          ],
          [
           "Jon Jansen",
           2005
          ],
          [
           "Walter Jones",
           2005
          ],
          [
           "Willie Anderson",
           2005
          ],
          [
           "Willie Roaf",
           2005
          ],
          [
           "Orlando Pace",
           2005
          ],
          [
           "Walter Jones",
           2006
          ],
          [
           "Jammal Brown",
           2006
          ],
          [
           "Jonathan Ogden",
           2006
          ],
          [
           "Willie Anderson",
           2006
          ],
          [
           "Walter Jones",
           2007
          ],
          [
           "Matt Light",
           2007
          ],
          [
           "Jason Peters",
           2007
          ],
          [
           "Flozell Adams",
           2007
          ],
          [
           "Jordan Gross",
           2008
          ],
          [
           "Michael Roos",
           2008
          ],
          [
           "David Diehl",
           2008
          ],
          [
           "Ryan Clady",
           2008
          ],
          [
           "David Stewart",
           2008
          ],
          [
           "Jason Peters",
           2008
          ],
          [
           "Joe Thomas",
           2008
          ],
          [
           "Walter Jones",
           2008
          ],
          [
           "Joe Thomas",
           2009
          ],
          [
           "Ryan Clady",
           2009
          ],
          [
           "Jake Long",
           2009
          ],
          [
           "Jason Peters",
           2009
          ],
          [
           "Jon Stinchcomb",
           2009
          ],
          [
           "Michael Roos",
           2009
          ],
          [
           "Damien Woody",
           2009
          ],
          [
           "David Stewart",
           2009
          ],
          [
           "Andrew Whitworth",
           2010
          ],
          [
           "Jake Long",
           2010
          ],
          [
           "Joe Thomas",
           2010
          ],
          [
           "Jason Peters",
           2010
          ],
          [
           "Jordan Gross",
           2010
          ],
          [
           "Sebastian Vollmer",
           2010
          ],
          [
           "Kareem McKenzie",
           2010
          ],
          [
           "Marshal Yanda",
           2010
          ],
          [
           "Jason Peters",
           2011
          ],
          [
           "Joe Thomas",
           2011
          ],
          [
           "Michael Roos",
           2011
          ],
          [
           "Duane Brown",
           2011
          ],
          [
           "Joe Staley",
           2011
          ],
          [
           "Tyron Smith",
           2011
          ],
          [
           "Bryan Bulaga",
           2011
          ],
          [
           "Ryan Clady",
           2012
          ],
          [
           "Duane Brown",
           2012
          ],
          [
           "Joe Thomas",
           2012
          ],
          [
           "Joe Staley",
           2012
          ],
          [
           "Russell Okung",
           2012
          ],
          [
           "Andre Smith",
           2012
          ],
          [
           "Sebastian Vollmer",
           2012
          ],
          [
           "Trent Williams",
           2013
          ],
          [
           "Joe Thomas",
           2013
          ],
          [
           "Joe Staley",
           2013
          ],
          [
           "Jason Peters",
           2013
          ],
          [
           "Tyron Smith",
           2013
          ],
          [
           "Branden Albert",
           2013
          ],
          [
           "Phil Loadholt",
           2013
          ],
          [
           "Zach Strief",
           2013
          ],
          [
           "Tyron Smith",
           2014
          ],
          [
           "Jason Peters",
           2014
          ],
          [
           "Joe Thomas",
           2014
          ],
          [
           "Andrew Whitworth",
           2014
          ],
          [
           "Lane Johnson",
           2014
          ],
          [
           "Sebastian Vollmer",
           2014
          ],
          [
           "Joe Thomas",
           2015
          ],
          [
           "Tyron Smith",
           2015
          ],
          [
           "Andrew Whitworth",
           2015
          ],
          [
           "Trent Williams",
           2015
          ],
          [
           "Ryan Schraeder",
           2015
          ],
          [
           "Mitchell Schwartz",
           2015
          ],
          [
           "David Bakhtiari",
           2016
          ],
          [
           "Tyron Smith",
           2016
          ],
          [
           "Trent Williams",
           2016
          ],
          [
           "Joe Thomas",
           2016
          ],
          [
           "Donald Penn",
           2016
          ],
          [
           "Jack Conklin",
           2016
          ],
          [
           "Marcus Cannon",
           2016
          ],
          [
           "Mitchell Schwartz",
           2016
          ],
          [
           "David Bakhtiari",
           2017
          ],
          [
           "Joe Staley",
           2017
          ],
          [
           "Trent Williams",
           2017
          ],
          [
           "Andrew Whitworth",
           2017
          ],
          [
           "Lane Johnson",
           2017
          ],
          [
           "Taylor Lewan",
           2017
          ],
          [
           "Mitchell Schwartz",
           2017
          ],
          [
           "Alejandro Villanueva",
           2017
          ],
          [
           "Daryl Williams",
           2017
          ],
          [
           "Demar Dotson",
           2017
          ],
          [
           "Duane Brown",
           2018
          ],
          [
           "Tyron Smith",
           2018
          ],
          [
           "Mitchell Schwartz",
           2018
          ],
          [
           "David Bakhtiari",
           2018
          ],
          [
           "Terron Armstead",
           2018
          ],
          [
           "Taylor Lewan",
           2018
          ],
          [
           "Ryan Ramczyk",
           2018
          ],
          [
           "Anthony Castonzo",
           2019
          ],
          [
           "Laremy Tunsil",
           2019
          ],
          [
           "Ronnie Stanley",
           2019
          ],
          [
           "Ryan Ramczyk",
           2019
          ],
          [
           "David Bakhtiari",
           2019
          ],
          [
           "Mitchell Schwartz",
           2019
          ],
          [
           "Jack Conklin",
           2020
          ],
          [
           "David Bakhtiari",
           2020
          ],
          [
           "Trent Williams",
           2020
          ],
          [
           "Garett Bolles",
           2020
          ],
          [
           "Tristan Wirfs",
           2020
          ],
          [
           "Ryan Ramczyk",
           2020
          ],
          [
           "Jordan Mailata",
           2021
          ],
          [
           "Tristan Wirfs",
           2021
          ],
          [
           "Trent Williams",
           2021
          ],
          [
           "Rashawn Slater",
           2021
          ],
          [
           "Kolton Miller",
           2021
          ],
          [
           "Lane Johnson",
           2021
          ],
          [
           "Andrew Thomas",
           2022
          ],
          [
           "Lane Johnson",
           2022
          ],
          [
           "Trent Williams",
           2022
          ],
          [
           "Laremy Tunsil",
           2022
          ],
          [
           "Terron Armstead",
           2022
          ],
          [
           "Tristan Wirfs",
           2022
          ],
          [
           "Tyron Smith",
           2023
          ],
          [
           "Jordan Mailata",
           2023
          ],
          [
           "Trent Williams",
           2023
          ],
          [
           "Penei Sewell",
           2023
          ],
          [
           "Dion Dawkins",
           2023
          ],
          [
           "Laremy Tunsil",
           2023
          ],
          [
           "Lane Johnson",
           2023
          ],
          [
           "Tristan Wirfs",
           2024
          ],
          [
           "Jordan Mailata",
           2024
          ],
          [
           "Penei Sewell",
           2024
          ],
          [
           "Lane Johnson",
           2024
          ],
          [
           "Rashawn Slater",
           2024
          ],
          [
           "Dion Dawkins",
           2024
          ],
          [
           "Zach Tom",
           2024
          ]
         ],
         "hovertemplate": "Player: %{customdata[0]}<br>Year: %{customdata[1]}<br>Age: %{x}<br>Yrs: %{y}<extra></extra>",
         "marker": {
          "opacity": 0.7,
          "size": 6
         },
         "mode": "markers",
         "name": "T",
         "type": "scatter",
         "x": [
          25,
          26,
          25,
          30,
          30,
          33,
          30,
          26,
          27,
          27,
          24,
          32,
          28,
          28,
          31,
          28,
          28,
          29,
          33,
          28,
          29,
          29,
          30,
          34,
          29,
          30,
          30,
          29,
          31,
          30,
          35,
          30,
          32,
          25,
          32,
          31,
          33,
          29,
          25,
          32,
          28,
          26,
          28,
          22,
          26,
          26,
          24,
          34,
          25,
          23,
          24,
          27,
          30,
          27,
          32,
          27,
          29,
          25,
          26,
          28,
          30,
          26,
          31,
          26,
          29,
          27,
          29,
          26,
          27,
          21,
          22,
          26,
          27,
          28,
          28,
          24,
          25,
          28,
          25,
          29,
          29,
          31,
          23,
          29,
          27,
          30,
          24,
          32,
          30,
          33,
          24,
          30,
          31,
          25,
          34,
          27,
          27,
          26,
          25,
          26,
          28,
          32,
          33,
          22,
          28,
          27,
          26,
          33,
          29,
          36,
          27,
          26,
          28,
          29,
          25,
          32,
          33,
          28,
          29,
          27,
          27,
          27,
          24,
          31,
          25,
          25,
          25,
          28,
          30,
          26,
          29,
          32,
          28,
          21,
          26,
          24,
          22,
          33,
          22,
          26,
          31,
          23,
          32,
          34,
          28,
          31,
          23,
          33,
          26,
          35,
          23,
          29,
          29,
          33,
          25,
          27,
          24,
          34,
          25,
          30,
          25
         ],
         "xaxis": "x14",
         "y": [
          2,
          4,
          3,
          7,
          7,
          10,
          8,
          4,
          5,
          4,
          1,
          9,
          6,
          4,
          9,
          5,
          7,
          7,
          10,
          6,
          6,
          8,
          7,
          11,
          7,
          8,
          6,
          6,
          8,
          9,
          12,
          8,
          9,
          1,
          10,
          10,
          10,
          6,
          3,
          9,
          5,
          3,
          5,
          null,
          2,
          4,
          1,
          11,
          2,
          1,
          1,
          5,
          6,
          4,
          10,
          3,
          4,
          2,
          3,
          6,
          7,
          1,
          9,
          3,
          7,
          4,
          6,
          3,
          4,
          null,
          1,
          4,
          4,
          5,
          5,
          2,
          3,
          3,
          3,
          6,
          6,
          9,
          2,
          5,
          4,
          7,
          3,
          10,
          7,
          8,
          1,
          5,
          8,
          4,
          9,
          5,
          2,
          3,
          3,
          5,
          6,
          9,
          9,
          null,
          5,
          4,
          4,
          10,
          7,
          11,
          4,
          3,
          5,
          2,
          2,
          8,
          10,
          7,
          6,
          5,
          5,
          4,
          1,
          8,
          3,
          3,
          2,
          6,
          7,
          4,
          7,
          10,
          3,
          null,
          3,
          1,
          1,
          11,
          null,
          3,
          8,
          2,
          9,
          12,
          6,
          9,
          2,
          12,
          3,
          13,
          2,
          6,
          7,
          10,
          4,
          4,
          3,
          11,
          3,
          7,
          2
         ],
         "yaxis": "y14"
        },
        {
         "customdata": [
          [
           "Frank Wycheck",
           2000
          ],
          [
           "Tony Gonzalez",
           2000
          ],
          [
           "Chad Lewis",
           2000
          ],
          [
           "Ernie Conwell",
           2001
          ],
          [
           "Tony Gonzalez",
           2001
          ],
          [
           "Wesley Walls",
           2001
          ],
          [
           "Tony Gonzalez",
           2002
          ],
          [
           "Jeremy Shockey",
           2002
          ],
          [
           "Todd Heap",
           2003
          ],
          [
           "Tony Gonzalez",
           2003
          ],
          [
           "Alge Crumpler",
           2003
          ],
          [
           "Tony Gonzalez",
           2004
          ],
          [
           "Antonio Gates",
           2004
          ],
          [
           "Jason Witten",
           2004
          ],
          [
           "Antonio Gates",
           2005
          ],
          [
           "Chris Cooley",
           2005
          ],
          [
           "Antonio Gates",
           2006
          ],
          [
           "Alge Crumpler",
           2006
          ],
          [
           "Tony Gonzalez",
           2006
          ],
          [
           "Jason Witten",
           2007
          ],
          [
           "Antonio Gates",
           2007
          ],
          [
           "Tony Gonzalez",
           2007
          ],
          [
           "Tony Gonzalez",
           2008
          ],
          [
           "Jason Witten",
           2008
          ],
          [
           "Dallas Clark",
           2009
          ],
          [
           "Jason Witten",
           2009
          ],
          [
           "Vernon Davis",
           2009
          ],
          [
           "Antonio Gates",
           2009
          ],
          [
           "Jason Witten",
           2010
          ],
          [
           "Antonio Gates",
           2010
          ],
          [
           "Marcedes Lewis",
           2010
          ],
          [
           "Rob Gronkowski",
           2011
          ],
          [
           "Jimmy Graham",
           2011
          ],
          [
           "Rob Gronkowski",
           2012
          ],
          [
           "Jason Witten",
           2012
          ],
          [
           "Tony Gonzalez",
           2012
          ],
          [
           "Jimmy Graham",
           2013
          ],
          [
           "Jordan Cameron",
           2013
          ],
          [
           "Vernon Davis",
           2013
          ],
          [
           "Rob Gronkowski",
           2014
          ],
          [
           "Greg Olsen",
           2014
          ],
          [
           "Rob Gronkowski",
           2015
          ],
          [
           "Greg Olsen",
           2015
          ],
          [
           "Delanie Walker",
           2015
          ],
          [
           "Travis Kelce",
           2016
          ],
          [
           "Greg Olsen",
           2016
          ],
          [
           "Rob Gronkowski",
           2017
          ],
          [
           "Travis Kelce",
           2017
          ],
          [
           "Zach Ertz",
           2017
          ],
          [
           "Hunter Henry",
           2017
          ],
          [
           "Travis Kelce",
           2018
          ],
          [
           "George Kittle",
           2018
          ],
          [
           "Zach Ertz",
           2018
          ],
          [
           "George Kittle",
           2019
          ],
          [
           "Travis Kelce",
           2019
          ],
          [
           "Travis Kelce",
           2020
          ],
          [
           "T.J. Hockenson",
           2020
          ],
          [
           "Darren Waller",
           2020
          ],
          [
           "Mark Andrews",
           2021
          ],
          [
           "Travis Kelce",
           2021
          ],
          [
           "George Kittle",
           2021
          ],
          [
           "Travis Kelce",
           2022
          ],
          [
           "George Kittle",
           2022
          ],
          [
           "George Kittle",
           2023
          ],
          [
           "Travis Kelce",
           2023
          ],
          [
           "T.J. Hockenson",
           2023
          ],
          [
           "Sam LaPorta",
           2023
          ],
          [
           "Brock Bowers",
           2024
          ],
          [
           "George Kittle",
           2024
          ]
         ],
         "hovertemplate": "Player: %{customdata[0]}<br>Year: %{customdata[1]}<br>Age: %{x}<br>Yrs: %{y}<extra></extra>",
         "marker": {
          "opacity": 0.7,
          "size": 6
         },
         "mode": "markers",
         "name": "TE",
         "type": "scatter",
         "x": [
          29,
          24,
          29,
          29,
          25,
          35,
          26,
          22,
          23,
          27,
          26,
          28,
          24,
          22,
          25,
          23,
          26,
          29,
          30,
          25,
          27,
          31,
          32,
          26,
          30,
          27,
          25,
          29,
          28,
          30,
          26,
          22,
          25,
          23,
          30,
          36,
          27,
          25,
          29,
          25,
          29,
          26,
          30,
          31,
          27,
          31,
          28,
          28,
          27,
          23,
          29,
          25,
          28,
          26,
          30,
          31,
          23,
          28,
          26,
          32,
          28,
          33,
          29,
          30,
          34,
          26,
          22,
          22,
          31
         ],
         "xaxis": "x15",
         "y": [
          7,
          3,
          3,
          5,
          4,
          12,
          5,
          null,
          2,
          6,
          2,
          7,
          1,
          1,
          2,
          1,
          3,
          5,
          9,
          4,
          4,
          10,
          11,
          5,
          6,
          6,
          3,
          6,
          7,
          7,
          4,
          1,
          1,
          2,
          9,
          15,
          3,
          2,
          7,
          4,
          7,
          5,
          8,
          9,
          3,
          9,
          7,
          4,
          4,
          1,
          5,
          1,
          5,
          2,
          6,
          7,
          1,
          5,
          3,
          8,
          4,
          9,
          5,
          6,
          10,
          4,
          null,
          null,
          7
         ],
         "yaxis": "y15"
        },
        {
         "customdata": [
          [
           "Derrick Mason",
           2000
          ],
          [
           "Randy Moss",
           2000
          ],
          [
           "Marvin Harrison",
           2000
          ],
          [
           "Az-Zahir Hakim",
           2000
          ],
          [
           "Terrell Owens",
           2000
          ],
          [
           "Rod Smith",
           2000
          ],
          [
           "Desmond Howard",
           2000
          ],
          [
           "Steve Smith Sr.",
           2001
          ],
          [
           "Terrell Owens",
           2001
          ],
          [
           "David Boston",
           2001
          ],
          [
           "Jermaine Lewis",
           2001
          ],
          [
           "Troy Brown",
           2001
          ],
          [
           "Marvin Harrison",
           2001
          ],
          [
           "Rod Smith",
           2001
          ],
          [
           "Eric Moulds",
           2002
          ],
          [
           "Jerry Rice",
           2002
          ],
          [
           "Terrell Owens",
           2002
          ],
          [
           "Michael Lewis",
           2002
          ],
          [
           "Marvin Harrison",
           2002
          ],
          [
           "Santana Moss",
           2002
          ],
          [
           "Hines Ward",
           2002
          ],
          [
           "Randy Moss",
           2002
          ],
          [
           "Hines Ward",
           2003
          ],
          [
           "Torry Holt",
           2003
          ],
          [
           "Dante Hall",
           2003
          ],
          [
           "Randy Moss",
           2003
          ],
          [
           "Marvin Harrison",
           2003
          ],
          [
           "Alex Bannister",
           2003
          ],
          [
           "Chad Johnson",
           2003
          ],
          [
           "Hines Ward",
           2004
          ],
          [
           "Terrell Owens",
           2004
          ],
          [
           "Eddie Drummond",
           2004
          ],
          [
           "Muhsin Muhammad",
           2004
          ],
          [
           "Marvin Harrison",
           2004
          ],
          [
           "Chad Johnson",
           2004
          ],
          [
           "Chad Johnson",
           2005
          ],
          [
           "Jerome Mathis",
           2005
          ],
          [
           "Steve Smith Sr.",
           2005
          ],
          [
           "Antwaan Randle El",
           2005
          ],
          [
           "David Tyree",
           2005
          ],
          [
           "Santana Moss",
           2005
          ],
          [
           "Marvin Harrison",
           2005
          ],
          [
           "Koren Robinson",
           2005
          ],
          [
           "Chad Johnson",
           2006
          ],
          [
           "Marvin Harrison",
           2006
          ],
          [
           "Torry Holt",
           2006
          ],
          [
           "Donald Driver",
           2006
          ],
          [
           "Andre Johnson",
           2006
          ],
          [
           "Randy Moss",
           2007
          ],
          [
           "Terrell Owens",
           2007
          ],
          [
           "Braylon Edwards",
           2007
          ],
          [
           "Reggie Wayne",
           2007
          ],
          [
           "Larry Fitzgerald",
           2007
          ],
          [
           "Wes Welker",
           2007
          ],
          [
           "Andre Johnson",
           2008
          ],
          [
           "Larry Fitzgerald",
           2008
          ],
          [
           "Wes Welker",
           2008
          ],
          [
           "Roddy White",
           2008
          ],
          [
           "Steve Smith Sr.",
           2008
          ],
          [
           "Andre Johnson",
           2009
          ],
          [
           "Wes Welker",
           2009
          ],
          [
           "Larry Fitzgerald",
           2009
          ],
          [
           "Reggie Wayne",
           2009
          ],
          [
           "Vincent Jackson",
           2009
          ],
          [
           "Sidney Rice",
           2009
          ],
          [
           "Patrick Crayton",
           2009
          ],
          [
           "Brandon Marshall",
           2009
          ],
          [
           "Roddy White",
           2010
          ],
          [
           "Andre Johnson",
           2010
          ],
          [
           "Reggie Wayne",
           2010
          ],
          [
           "Brandon Lloyd",
           2010
          ],
          [
           "Calvin Johnson",
           2010
          ],
          [
           "Dwayne Bowe",
           2010
          ],
          [
           "Wes Welker",
           2011
          ],
          [
           "Calvin Johnson",
           2011
          ],
          [
           "Larry Fitzgerald",
           2011
          ],
          [
           "Victor Cruz",
           2011
          ],
          [
           "Mike Wallace",
           2011
          ],
          [
           "Jordy Nelson",
           2011
          ],
          [
           "Steve Smith Sr.",
           2011
          ],
          [
           "Calvin Johnson",
           2012
          ],
          [
           "Brandon Marshall",
           2012
          ],
          [
           "Andre Johnson",
           2012
          ],
          [
           "Reggie Wayne",
           2012
          ],
          [
           "A.J. Green",
           2012
          ],
          [
           "Vincent Jackson",
           2012
          ],
          [
           "Calvin Johnson",
           2013
          ],
          [
           "Josh Gordon",
           2013
          ],
          [
           "Antonio Brown",
           2013
          ],
          [
           "Brandon Marshall",
           2013
          ],
          [
           "Jordy Nelson",
           2013
          ],
          [
           "Demaryius Thomas",
           2013
          ],
          [
           "Anquan Boldin",
           2013
          ],
          [
           "Andre Johnson",
           2013
          ],
          [
           "A.J. Green",
           2013
          ],
          [
           "Antonio Brown",
           2014
          ],
          [
           "Dez Bryant",
           2014
          ],
          [
           "Jordy Nelson",
           2014
          ],
          [
           "Odell Beckham Jr.",
           2014
          ],
          [
           "Emmanuel Sanders",
           2014
          ],
          [
           "Julio Jones",
           2014
          ],
          [
           "Demaryius Thomas",
           2014
          ],
          [
           "Randall Cobb",
           2014
          ],
          [
           "Antonio Brown",
           2015
          ],
          [
           "Julio Jones",
           2015
          ],
          [
           "Larry Fitzgerald",
           2015
          ],
          [
           "DeAndre Hopkins",
           2015
          ],
          [
           "Odell Beckham Jr.",
           2015
          ],
          [
           "Brandon Marshall",
           2015
          ],
          [
           "Doug Baldwin",
           2015
          ],
          [
           "A.J. Green",
           2015
          ],
          [
           "Julio Jones",
           2016
          ],
          [
           "Antonio Brown",
           2016
          ],
          [
           "Mike Evans",
           2016
          ],
          [
           "Odell Beckham Jr.",
           2016
          ],
          [
           "T.Y. Hilton",
           2016
          ],
          [
           "Antonio Brown",
           2017
          ],
          [
           "DeAndre Hopkins",
           2017
          ],
          [
           "Julio Jones",
           2017
          ],
          [
           "Michael Thomas",
           2017
          ],
          [
           "Adam Thielen",
           2017
          ],
          [
           "Keenan Allen",
           2017
          ],
          [
           "DeAndre Hopkins",
           2018
          ],
          [
           "Michael Thomas",
           2018
          ],
          [
           "Tyreek Hill",
           2018
          ],
          [
           "Julio Jones",
           2018
          ],
          [
           "Keenan Allen",
           2018
          ],
          [
           "Michael Thomas",
           2019
          ],
          [
           "Julio Jones",
           2019
          ],
          [
           "DeAndre Hopkins",
           2019
          ],
          [
           "Chris Godwin",
           2019
          ],
          [
           "Keenan Allen",
           2019
          ],
          [
           "Mike Evans",
           2019
          ],
          [
           "Davante Adams",
           2020
          ],
          [
           "Stefon Diggs",
           2020
          ],
          [
           "Tyreek Hill",
           2020
          ],
          [
           "DeAndre Hopkins",
           2020
          ],
          [
           "Justin Jefferson",
           2020
          ],
          [
           "D.K. Metcalf",
           2020
          ],
          [
           "A.J. Brown",
           2020
          ],
          [
           "Calvin Ridley",
           2020
          ],
          [
           "Cole Beasley",
           2020
          ],
          [
           "Allen Robinson",
           2020
          ],
          [
           "Davante Adams",
           2021
          ],
          [
           "Cooper Kupp",
           2021
          ],
          [
           "Deebo Samuel",
           2021
          ],
          [
           "Ja'Marr Chase",
           2021
          ],
          [
           "Tyreek Hill",
           2021
          ],
          [
           "Justin Jefferson",
           2021
          ],
          [
           "Justin Jefferson",
           2022
          ],
          [
           "Davante Adams",
           2022
          ],
          [
           "Tyreek Hill",
           2022
          ],
          [
           "A.J. Brown",
           2022
          ],
          [
           "Stefon Diggs",
           2022
          ],
          [
           "CeeDee Lamb",
           2022
          ],
          [
           "Amon-Ra St. Brown",
           2022
          ],
          [
           "CeeDee Lamb",
           2023
          ],
          [
           "Tyreek Hill",
           2023
          ],
          [
           "Amon-Ra St. Brown",
           2023
          ],
          [
           "Brandon Aiyuk",
           2023
          ],
          [
           "Nico Collins",
           2023
          ],
          [
           "A.J. Brown",
           2023
          ],
          [
           "Puka Nacua",
           2023
          ],
          [
           "D.J. Moore",
           2023
          ],
          [
           "Mike Evans",
           2023
          ],
          [
           "Justin Jefferson",
           2024
          ],
          [
           "Ja'Marr Chase",
           2024
          ],
          [
           "Amon-Ra St. Brown",
           2024
          ],
          [
           "Brian Thomas",
           2024
          ],
          [
           "A.J. Brown",
           2024
          ],
          [
           "Nico Collins",
           2024
          ],
          [
           "CeeDee Lamb",
           2024
          ],
          [
           "Terry McLaurin",
           2024
          ],
          [
           "Puka Nacua",
           2024
          ],
          [
           "Drake London",
           2024
          ]
         ],
         "hovertemplate": "Player: %{customdata[0]}<br>Year: %{customdata[1]}<br>Age: %{x}<br>Yrs: %{y}<extra></extra>",
         "marker": {
          "opacity": 0.7,
          "size": 6
         },
         "mode": "markers",
         "name": "WR",
         "type": "scatter",
         "x": [
          26,
          23,
          28,
          23,
          27,
          30,
          30,
          22,
          28,
          23,
          27,
          30,
          29,
          31,
          29,
          40,
          29,
          31,
          30,
          23,
          26,
          25,
          27,
          27,
          25,
          26,
          31,
          24,
          25,
          28,
          31,
          24,
          31,
          32,
          26,
          27,
          22,
          26,
          26,
          25,
          26,
          33,
          25,
          28,
          34,
          30,
          31,
          25,
          30,
          34,
          24,
          29,
          24,
          26,
          27,
          25,
          27,
          27,
          29,
          28,
          28,
          26,
          31,
          26,
          23,
          30,
          25,
          29,
          29,
          32,
          29,
          25,
          26,
          30,
          26,
          28,
          25,
          25,
          26,
          32,
          27,
          28,
          31,
          34,
          24,
          29,
          28,
          22,
          25,
          29,
          28,
          26,
          33,
          32,
          25,
          26,
          26,
          29,
          22,
          27,
          25,
          27,
          24,
          27,
          26,
          32,
          23,
          23,
          31,
          27,
          27,
          27,
          28,
          23,
          24,
          27,
          29,
          25,
          28,
          24,
          27,
          25,
          26,
          25,
          24,
          29,
          26,
          26,
          30,
          27,
          23,
          27,
          26,
          28,
          27,
          26,
          28,
          21,
          23,
          23,
          26,
          31,
          27,
          29,
          28,
          25,
          21,
          27,
          22,
          23,
          30,
          28,
          25,
          29,
          23,
          23,
          24,
          29,
          24,
          25,
          24,
          26,
          22,
          26,
          30,
          25,
          24,
          25,
          22,
          27,
          25,
          25,
          29,
          23,
          23
         ],
         "xaxis": "x16",
         "y": [
          3,
          2,
          4,
          2,
          4,
          5,
          8,
          null,
          5,
          2,
          5,
          8,
          5,
          6,
          6,
          17,
          6,
          1,
          6,
          1,
          4,
          4,
          5,
          4,
          3,
          5,
          7,
          2,
          2,
          6,
          8,
          2,
          8,
          8,
          3,
          4,
          null,
          4,
          3,
          2,
          4,
          9,
          4,
          5,
          10,
          7,
          7,
          3,
          9,
          11,
          2,
          6,
          3,
          3,
          5,
          4,
          4,
          3,
          7,
          6,
          5,
          5,
          8,
          4,
          2,
          5,
          3,
          5,
          7,
          9,
          7,
          3,
          3,
          7,
          4,
          7,
          1,
          2,
          3,
          10,
          5,
          6,
          9,
          11,
          1,
          7,
          6,
          1,
          3,
          7,
          5,
          3,
          10,
          10,
          2,
          4,
          4,
          6,
          null,
          4,
          3,
          4,
          3,
          5,
          4,
          11,
          2,
          1,
          9,
          4,
          4,
          5,
          6,
          2,
          2,
          4,
          7,
          4,
          6,
          1,
          3,
          4,
          5,
          2,
          2,
          7,
          5,
          3,
          8,
          6,
          2,
          6,
          5,
          6,
          5,
          4,
          7,
          null,
          1,
          1,
          2,
          8,
          6,
          7,
          4,
          2,
          null,
          5,
          1,
          2,
          8,
          6,
          3,
          7,
          2,
          1,
          3,
          7,
          2,
          3,
          2,
          4,
          null,
          5,
          9,
          4,
          3,
          3,
          null,
          5,
          3,
          4,
          5,
          1,
          2
         ],
         "yaxis": "y16"
        }
       ],
       "layout": {
        "annotations": [
         {
          "font": {
           "size": 16
          },
          "showarrow": false,
          "text": "C",
          "x": 0.10625,
          "xanchor": "center",
          "xref": "paper",
          "y": 1,
          "yanchor": "bottom",
          "yref": "paper"
         },
         {
          "font": {
           "size": 16
          },
          "showarrow": false,
          "text": "CB",
          "x": 0.36875,
          "xanchor": "center",
          "xref": "paper",
          "y": 1,
          "yanchor": "bottom",
          "yref": "paper"
         },
         {
          "font": {
           "size": 16
          },
          "showarrow": false,
          "text": "DT",
          "x": 0.6312500000000001,
          "xanchor": "center",
          "xref": "paper",
          "y": 1,
          "yanchor": "bottom",
          "yref": "paper"
         },
         {
          "font": {
           "size": 16
          },
          "showarrow": false,
          "text": "EDGE",
          "x": 0.89375,
          "xanchor": "center",
          "xref": "paper",
          "y": 1,
          "yanchor": "bottom",
          "yref": "paper"
         },
         {
          "font": {
           "size": 16
          },
          "showarrow": false,
          "text": "FB",
          "x": 0.10625,
          "xanchor": "center",
          "xref": "paper",
          "y": 0.71875,
          "yanchor": "bottom",
          "yref": "paper"
         },
         {
          "font": {
           "size": 16
          },
          "showarrow": false,
          "text": "G",
          "x": 0.36875,
          "xanchor": "center",
          "xref": "paper",
          "y": 0.71875,
          "yanchor": "bottom",
          "yref": "paper"
         },
         {
          "font": {
           "size": 16
          },
          "showarrow": false,
          "text": "K",
          "x": 0.6312500000000001,
          "xanchor": "center",
          "xref": "paper",
          "y": 0.71875,
          "yanchor": "bottom",
          "yref": "paper"
         },
         {
          "font": {
           "size": 16
          },
          "showarrow": false,
          "text": "LB",
          "x": 0.89375,
          "xanchor": "center",
          "xref": "paper",
          "y": 0.71875,
          "yanchor": "bottom",
          "yref": "paper"
         },
         {
          "font": {
           "size": 16
          },
          "showarrow": false,
          "text": "QB",
          "x": 0.10625,
          "xanchor": "center",
          "xref": "paper",
          "y": 0.4375,
          "yanchor": "bottom",
          "yref": "paper"
         },
         {
          "font": {
           "size": 16
          },
          "showarrow": false,
          "text": "RB",
          "x": 0.36875,
          "xanchor": "center",
          "xref": "paper",
          "y": 0.4375,
          "yanchor": "bottom",
          "yref": "paper"
         },
         {
          "font": {
           "size": 16
          },
          "showarrow": false,
          "text": "RET",
          "x": 0.6312500000000001,
          "xanchor": "center",
          "xref": "paper",
          "y": 0.4375,
          "yanchor": "bottom",
          "yref": "paper"
         },
         {
          "font": {
           "size": 16
          },
          "showarrow": false,
          "text": "S",
          "x": 0.89375,
          "xanchor": "center",
          "xref": "paper",
          "y": 0.4375,
          "yanchor": "bottom",
          "yref": "paper"
         },
         {
          "font": {
           "size": 16
          },
          "showarrow": false,
          "text": "ST",
          "x": 0.10625,
          "xanchor": "center",
          "xref": "paper",
          "y": 0.15625,
          "yanchor": "bottom",
          "yref": "paper"
         },
         {
          "font": {
           "size": 16
          },
          "showarrow": false,
          "text": "T",
          "x": 0.36875,
          "xanchor": "center",
          "xref": "paper",
          "y": 0.15625,
          "yanchor": "bottom",
          "yref": "paper"
         },
         {
          "font": {
           "size": 16
          },
          "showarrow": false,
          "text": "TE",
          "x": 0.6312500000000001,
          "xanchor": "center",
          "xref": "paper",
          "y": 0.15625,
          "yanchor": "bottom",
          "yref": "paper"
         },
         {
          "font": {
           "size": 16
          },
          "showarrow": false,
          "text": "WR",
          "x": 0.89375,
          "xanchor": "center",
          "xref": "paper",
          "y": 0.15625,
          "yanchor": "bottom",
          "yref": "paper"
         }
        ],
        "height": 900,
        "margin": {
         "t": 80
        },
        "showlegend": false,
        "template": {
         "data": {
          "bar": [
           {
            "error_x": {
             "color": "#2a3f5f"
            },
            "error_y": {
             "color": "#2a3f5f"
            },
            "marker": {
             "line": {
              "color": "#E5ECF6",
              "width": 0.5
             },
             "pattern": {
              "fillmode": "overlay",
              "size": 10,
              "solidity": 0.2
             }
            },
            "type": "bar"
           }
          ],
          "barpolar": [
           {
            "marker": {
             "line": {
              "color": "#E5ECF6",
              "width": 0.5
             },
             "pattern": {
              "fillmode": "overlay",
              "size": 10,
              "solidity": 0.2
             }
            },
            "type": "barpolar"
           }
          ],
          "carpet": [
           {
            "aaxis": {
             "endlinecolor": "#2a3f5f",
             "gridcolor": "white",
             "linecolor": "white",
             "minorgridcolor": "white",
             "startlinecolor": "#2a3f5f"
            },
            "baxis": {
             "endlinecolor": "#2a3f5f",
             "gridcolor": "white",
             "linecolor": "white",
             "minorgridcolor": "white",
             "startlinecolor": "#2a3f5f"
            },
            "type": "carpet"
           }
          ],
          "choropleth": [
           {
            "colorbar": {
             "outlinewidth": 0,
             "ticks": ""
            },
            "type": "choropleth"
           }
          ],
          "contour": [
           {
            "colorbar": {
             "outlinewidth": 0,
             "ticks": ""
            },
            "colorscale": [
             [
              0,
              "#0d0887"
             ],
             [
              0.1111111111111111,
              "#46039f"
             ],
             [
              0.2222222222222222,
              "#7201a8"
             ],
             [
              0.3333333333333333,
              "#9c179e"
             ],
             [
              0.4444444444444444,
              "#bd3786"
             ],
             [
              0.5555555555555556,
              "#d8576b"
             ],
             [
              0.6666666666666666,
              "#ed7953"
             ],
             [
              0.7777777777777778,
              "#fb9f3a"
             ],
             [
              0.8888888888888888,
              "#fdca26"
             ],
             [
              1,
              "#f0f921"
             ]
            ],
            "type": "contour"
           }
          ],
          "contourcarpet": [
           {
            "colorbar": {
             "outlinewidth": 0,
             "ticks": ""
            },
            "type": "contourcarpet"
           }
          ],
          "heatmap": [
           {
            "colorbar": {
             "outlinewidth": 0,
             "ticks": ""
            },
            "colorscale": [
             [
              0,
              "#0d0887"
             ],
             [
              0.1111111111111111,
              "#46039f"
             ],
             [
              0.2222222222222222,
              "#7201a8"
             ],
             [
              0.3333333333333333,
              "#9c179e"
             ],
             [
              0.4444444444444444,
              "#bd3786"
             ],
             [
              0.5555555555555556,
              "#d8576b"
             ],
             [
              0.6666666666666666,
              "#ed7953"
             ],
             [
              0.7777777777777778,
              "#fb9f3a"
             ],
             [
              0.8888888888888888,
              "#fdca26"
             ],
             [
              1,
              "#f0f921"
             ]
            ],
            "type": "heatmap"
           }
          ],
          "heatmapgl": [
           {
            "colorbar": {
             "outlinewidth": 0,
             "ticks": ""
            },
            "colorscale": [
             [
              0,
              "#0d0887"
             ],
             [
              0.1111111111111111,
              "#46039f"
             ],
             [
              0.2222222222222222,
              "#7201a8"
             ],
             [
              0.3333333333333333,
              "#9c179e"
             ],
             [
              0.4444444444444444,
              "#bd3786"
             ],
             [
              0.5555555555555556,
              "#d8576b"
             ],
             [
              0.6666666666666666,
              "#ed7953"
             ],
             [
              0.7777777777777778,
              "#fb9f3a"
             ],
             [
              0.8888888888888888,
              "#fdca26"
             ],
             [
              1,
              "#f0f921"
             ]
            ],
            "type": "heatmapgl"
           }
          ],
          "histogram": [
           {
            "marker": {
             "pattern": {
              "fillmode": "overlay",
              "size": 10,
              "solidity": 0.2
             }
            },
            "type": "histogram"
           }
          ],
          "histogram2d": [
           {
            "colorbar": {
             "outlinewidth": 0,
             "ticks": ""
            },
            "colorscale": [
             [
              0,
              "#0d0887"
             ],
             [
              0.1111111111111111,
              "#46039f"
             ],
             [
              0.2222222222222222,
              "#7201a8"
             ],
             [
              0.3333333333333333,
              "#9c179e"
             ],
             [
              0.4444444444444444,
              "#bd3786"
             ],
             [
              0.5555555555555556,
              "#d8576b"
             ],
             [
              0.6666666666666666,
              "#ed7953"
             ],
             [
              0.7777777777777778,
              "#fb9f3a"
             ],
             [
              0.8888888888888888,
              "#fdca26"
             ],
             [
              1,
              "#f0f921"
             ]
            ],
            "type": "histogram2d"
           }
          ],
          "histogram2dcontour": [
           {
            "colorbar": {
             "outlinewidth": 0,
             "ticks": ""
            },
            "colorscale": [
             [
              0,
              "#0d0887"
             ],
             [
              0.1111111111111111,
              "#46039f"
             ],
             [
              0.2222222222222222,
              "#7201a8"
             ],
             [
              0.3333333333333333,
              "#9c179e"
             ],
             [
              0.4444444444444444,
              "#bd3786"
             ],
             [
              0.5555555555555556,
              "#d8576b"
             ],
             [
              0.6666666666666666,
              "#ed7953"
             ],
             [
              0.7777777777777778,
              "#fb9f3a"
             ],
             [
              0.8888888888888888,
              "#fdca26"
             ],
             [
              1,
              "#f0f921"
             ]
            ],
            "type": "histogram2dcontour"
           }
          ],
          "mesh3d": [
           {
            "colorbar": {
             "outlinewidth": 0,
             "ticks": ""
            },
            "type": "mesh3d"
           }
          ],
          "parcoords": [
           {
            "line": {
             "colorbar": {
              "outlinewidth": 0,
              "ticks": ""
             }
            },
            "type": "parcoords"
           }
          ],
          "pie": [
           {
            "automargin": true,
            "type": "pie"
           }
          ],
          "scatter": [
           {
            "fillpattern": {
             "fillmode": "overlay",
             "size": 10,
             "solidity": 0.2
            },
            "type": "scatter"
           }
          ],
          "scatter3d": [
           {
            "line": {
             "colorbar": {
              "outlinewidth": 0,
              "ticks": ""
             }
            },
            "marker": {
             "colorbar": {
              "outlinewidth": 0,
              "ticks": ""
             }
            },
            "type": "scatter3d"
           }
          ],
          "scattercarpet": [
           {
            "marker": {
             "colorbar": {
              "outlinewidth": 0,
              "ticks": ""
             }
            },
            "type": "scattercarpet"
           }
          ],
          "scattergeo": [
           {
            "marker": {
             "colorbar": {
              "outlinewidth": 0,
              "ticks": ""
             }
            },
            "type": "scattergeo"
           }
          ],
          "scattergl": [
           {
            "marker": {
             "colorbar": {
              "outlinewidth": 0,
              "ticks": ""
             }
            },
            "type": "scattergl"
           }
          ],
          "scattermapbox": [
           {
            "marker": {
             "colorbar": {
              "outlinewidth": 0,
              "ticks": ""
             }
            },
            "type": "scattermapbox"
           }
          ],
          "scatterpolar": [
           {
            "marker": {
             "colorbar": {
              "outlinewidth": 0,
              "ticks": ""
             }
            },
            "type": "scatterpolar"
           }
          ],
          "scatterpolargl": [
           {
            "marker": {
             "colorbar": {
              "outlinewidth": 0,
              "ticks": ""
             }
            },
            "type": "scatterpolargl"
           }
          ],
          "scatterternary": [
           {
            "marker": {
             "colorbar": {
              "outlinewidth": 0,
              "ticks": ""
             }
            },
            "type": "scatterternary"
           }
          ],
          "surface": [
           {
            "colorbar": {
             "outlinewidth": 0,
             "ticks": ""
            },
            "colorscale": [
             [
              0,
              "#0d0887"
             ],
             [
              0.1111111111111111,
              "#46039f"
             ],
             [
              0.2222222222222222,
              "#7201a8"
             ],
             [
              0.3333333333333333,
              "#9c179e"
             ],
             [
              0.4444444444444444,
              "#bd3786"
             ],
             [
              0.5555555555555556,
              "#d8576b"
             ],
             [
              0.6666666666666666,
              "#ed7953"
             ],
             [
              0.7777777777777778,
              "#fb9f3a"
             ],
             [
              0.8888888888888888,
              "#fdca26"
             ],
             [
              1,
              "#f0f921"
             ]
            ],
            "type": "surface"
           }
          ],
          "table": [
           {
            "cells": {
             "fill": {
              "color": "#EBF0F8"
             },
             "line": {
              "color": "white"
             }
            },
            "header": {
             "fill": {
              "color": "#C8D4E3"
             },
             "line": {
              "color": "white"
             }
            },
            "type": "table"
           }
          ]
         },
         "layout": {
          "annotationdefaults": {
           "arrowcolor": "#2a3f5f",
           "arrowhead": 0,
           "arrowwidth": 1
          },
          "autotypenumbers": "strict",
          "coloraxis": {
           "colorbar": {
            "outlinewidth": 0,
            "ticks": ""
           }
          },
          "colorscale": {
           "diverging": [
            [
             0,
             "#8e0152"
            ],
            [
             0.1,
             "#c51b7d"
            ],
            [
             0.2,
             "#de77ae"
            ],
            [
             0.3,
             "#f1b6da"
            ],
            [
             0.4,
             "#fde0ef"
            ],
            [
             0.5,
             "#f7f7f7"
            ],
            [
             0.6,
             "#e6f5d0"
            ],
            [
             0.7,
             "#b8e186"
            ],
            [
             0.8,
             "#7fbc41"
            ],
            [
             0.9,
             "#4d9221"
            ],
            [
             1,
             "#276419"
            ]
           ],
           "sequential": [
            [
             0,
             "#0d0887"
            ],
            [
             0.1111111111111111,
             "#46039f"
            ],
            [
             0.2222222222222222,
             "#7201a8"
            ],
            [
             0.3333333333333333,
             "#9c179e"
            ],
            [
             0.4444444444444444,
             "#bd3786"
            ],
            [
             0.5555555555555556,
             "#d8576b"
            ],
            [
             0.6666666666666666,
             "#ed7953"
            ],
            [
             0.7777777777777778,
             "#fb9f3a"
            ],
            [
             0.8888888888888888,
             "#fdca26"
            ],
            [
             1,
             "#f0f921"
            ]
           ],
           "sequentialminus": [
            [
             0,
             "#0d0887"
            ],
            [
             0.1111111111111111,
             "#46039f"
            ],
            [
             0.2222222222222222,
             "#7201a8"
            ],
            [
             0.3333333333333333,
             "#9c179e"
            ],
            [
             0.4444444444444444,
             "#bd3786"
            ],
            [
             0.5555555555555556,
             "#d8576b"
            ],
            [
             0.6666666666666666,
             "#ed7953"
            ],
            [
             0.7777777777777778,
             "#fb9f3a"
            ],
            [
             0.8888888888888888,
             "#fdca26"
            ],
            [
             1,
             "#f0f921"
            ]
           ]
          },
          "colorway": [
           "#636efa",
           "#EF553B",
           "#00cc96",
           "#ab63fa",
           "#FFA15A",
           "#19d3f3",
           "#FF6692",
           "#B6E880",
           "#FF97FF",
           "#FECB52"
          ],
          "font": {
           "color": "#2a3f5f"
          },
          "geo": {
           "bgcolor": "white",
           "lakecolor": "white",
           "landcolor": "#E5ECF6",
           "showlakes": true,
           "showland": true,
           "subunitcolor": "white"
          },
          "hoverlabel": {
           "align": "left"
          },
          "hovermode": "closest",
          "mapbox": {
           "style": "light"
          },
          "paper_bgcolor": "white",
          "plot_bgcolor": "#E5ECF6",
          "polar": {
           "angularaxis": {
            "gridcolor": "white",
            "linecolor": "white",
            "ticks": ""
           },
           "bgcolor": "#E5ECF6",
           "radialaxis": {
            "gridcolor": "white",
            "linecolor": "white",
            "ticks": ""
           }
          },
          "scene": {
           "xaxis": {
            "backgroundcolor": "#E5ECF6",
            "gridcolor": "white",
            "gridwidth": 2,
            "linecolor": "white",
            "showbackground": true,
            "ticks": "",
            "zerolinecolor": "white"
           },
           "yaxis": {
            "backgroundcolor": "#E5ECF6",
            "gridcolor": "white",
            "gridwidth": 2,
            "linecolor": "white",
            "showbackground": true,
            "ticks": "",
            "zerolinecolor": "white"
           },
           "zaxis": {
            "backgroundcolor": "#E5ECF6",
            "gridcolor": "white",
            "gridwidth": 2,
            "linecolor": "white",
            "showbackground": true,
            "ticks": "",
            "zerolinecolor": "white"
           }
          },
          "shapedefaults": {
           "line": {
            "color": "#2a3f5f"
           }
          },
          "ternary": {
           "aaxis": {
            "gridcolor": "white",
            "linecolor": "white",
            "ticks": ""
           },
           "baxis": {
            "gridcolor": "white",
            "linecolor": "white",
            "ticks": ""
           },
           "bgcolor": "#E5ECF6",
           "caxis": {
            "gridcolor": "white",
            "linecolor": "white",
            "ticks": ""
           }
          },
          "title": {
           "x": 0.05
          },
          "xaxis": {
           "automargin": true,
           "gridcolor": "white",
           "linecolor": "white",
           "ticks": "",
           "title": {
            "standoff": 15
           },
           "zerolinecolor": "white",
           "zerolinewidth": 2
          },
          "yaxis": {
           "automargin": true,
           "gridcolor": "white",
           "linecolor": "white",
           "ticks": "",
           "title": {
            "standoff": 15
           },
           "zerolinecolor": "white",
           "zerolinewidth": 2
          }
         }
        },
        "title": {
         "text": "Age vs. Years of Experience by Position (Excluding ST and P)"
        },
        "width": 900,
        "xaxis": {
         "anchor": "y",
         "domain": [
          0,
          0.2125
         ]
        },
        "xaxis10": {
         "anchor": "y10",
         "domain": [
          0.2625,
          0.475
         ]
        },
        "xaxis11": {
         "anchor": "y11",
         "domain": [
          0.525,
          0.7375
         ]
        },
        "xaxis12": {
         "anchor": "y12",
         "domain": [
          0.7875,
          1
         ]
        },
        "xaxis13": {
         "anchor": "y13",
         "domain": [
          0,
          0.2125
         ]
        },
        "xaxis14": {
         "anchor": "y14",
         "domain": [
          0.2625,
          0.475
         ]
        },
        "xaxis15": {
         "anchor": "y15",
         "domain": [
          0.525,
          0.7375
         ]
        },
        "xaxis16": {
         "anchor": "y16",
         "domain": [
          0.7875,
          1
         ]
        },
        "xaxis2": {
         "anchor": "y2",
         "domain": [
          0.2625,
          0.475
         ]
        },
        "xaxis3": {
         "anchor": "y3",
         "domain": [
          0.525,
          0.7375
         ]
        },
        "xaxis4": {
         "anchor": "y4",
         "domain": [
          0.7875,
          1
         ]
        },
        "xaxis5": {
         "anchor": "y5",
         "domain": [
          0,
          0.2125
         ]
        },
        "xaxis6": {
         "anchor": "y6",
         "domain": [
          0.2625,
          0.475
         ]
        },
        "xaxis7": {
         "anchor": "y7",
         "domain": [
          0.525,
          0.7375
         ]
        },
        "xaxis8": {
         "anchor": "y8",
         "domain": [
          0.7875,
          1
         ]
        },
        "xaxis9": {
         "anchor": "y9",
         "domain": [
          0,
          0.2125
         ]
        },
        "yaxis": {
         "anchor": "x",
         "domain": [
          0.84375,
          1
         ]
        },
        "yaxis10": {
         "anchor": "x10",
         "domain": [
          0.28125,
          0.4375
         ]
        },
        "yaxis11": {
         "anchor": "x11",
         "domain": [
          0.28125,
          0.4375
         ]
        },
        "yaxis12": {
         "anchor": "x12",
         "domain": [
          0.28125,
          0.4375
         ]
        },
        "yaxis13": {
         "anchor": "x13",
         "domain": [
          0,
          0.15625
         ]
        },
        "yaxis14": {
         "anchor": "x14",
         "domain": [
          0,
          0.15625
         ]
        },
        "yaxis15": {
         "anchor": "x15",
         "domain": [
          0,
          0.15625
         ]
        },
        "yaxis16": {
         "anchor": "x16",
         "domain": [
          0,
          0.15625
         ]
        },
        "yaxis2": {
         "anchor": "x2",
         "domain": [
          0.84375,
          1
         ]
        },
        "yaxis3": {
         "anchor": "x3",
         "domain": [
          0.84375,
          1
         ]
        },
        "yaxis4": {
         "anchor": "x4",
         "domain": [
          0.84375,
          1
         ]
        },
        "yaxis5": {
         "anchor": "x5",
         "domain": [
          0.5625,
          0.71875
         ]
        },
        "yaxis6": {
         "anchor": "x6",
         "domain": [
          0.5625,
          0.71875
         ]
        },
        "yaxis7": {
         "anchor": "x7",
         "domain": [
          0.5625,
          0.71875
         ]
        },
        "yaxis8": {
         "anchor": "x8",
         "domain": [
          0.5625,
          0.71875
         ]
        },
        "yaxis9": {
         "anchor": "x9",
         "domain": [
          0.28125,
          0.4375
         ]
        }
       }
      }
     },
     "metadata": {},
     "output_type": "display_data"
    }
   ],
   "source": [
    "fig = make_subplots(rows=rows, cols=cols, subplot_titles=positions)\n",
    "\n",
    "# Add scatterplots\n",
    "for i, pos in enumerate(positions):\n",
    "    row = i // cols + 1\n",
    "    col = i % cols + 1\n",
    "    subset = df1[df1['Pos'] == pos]\n",
    "\n",
    "    fig.add_trace(\n",
    "        go.Scatter(\n",
    "            x=subset['Age'],\n",
    "            y=subset['Yrs'],\n",
    "            mode='markers',\n",
    "            marker=dict(size=6, opacity=0.7),\n",
    "            name=pos,\n",
    "            hovertemplate=(\n",
    "                \"Player: %{customdata[0]}<br>\"\n",
    "                \"Year: %{customdata[1]}<br>\"\n",
    "                \"Age: %{x}<br>\"\n",
    "                \"Yrs: %{y}<extra></extra>\"\n",
    "            ),\n",
    "            customdata=subset[['Player', 'Year']].values\n",
    "        ),\n",
    "        row=row,\n",
    "        col=col\n",
    "    )\n",
    "\n",
    "# Layout\n",
    "fig.update_layout(\n",
    "    height=900,\n",
    "    width=900,\n",
    "    title_text=\"Age vs. Years of Experience by Position\",\n",
    "    margin=dict(t=80),\n",
    "    showlegend=False\n",
    ")\n",
    "\n",
    "# Show plot\n",
    "fig.show()"
   ]
  },
  {
   "cell_type": "code",
   "execution_count": null,
   "metadata": {},
   "outputs": [],
   "source": []
  }
 ],
 "metadata": {
  "kernelspec": {
   "display_name": "Python 3.9.12 ('base')",
   "language": "python",
   "name": "python3"
  },
  "language_info": {
   "codemirror_mode": {
    "name": "ipython",
    "version": 3
   },
   "file_extension": ".py",
   "mimetype": "text/x-python",
   "name": "python",
   "nbconvert_exporter": "python",
   "pygments_lexer": "ipython3",
   "version": "3.9.12"
  },
  "orig_nbformat": 4,
  "vscode": {
   "interpreter": {
    "hash": "0dec2d63b7814454e75af1cdd1da16dfbf6538085e18c478c68b217dc309d1fa"
   }
  }
 },
 "nbformat": 4,
 "nbformat_minor": 2
}
